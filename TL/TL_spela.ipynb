{
 "cells": [
  {
   "cell_type": "code",
   "execution_count": 1,
   "metadata": {},
   "outputs": [],
   "source": [
    "import sys\n",
    "sys.path.insert(0, './../../Models')\n",
    "# from CIFAR10_densenet import get_densenet\n",
    "from sphere_points import generate_points\n",
    "\n",
    "import torch\n",
    "import torch.nn as nn\n",
    "from torch.optim import Adam\n",
    "from torch.utils.data import DataLoader\n",
    "from torch.nn.functional import normalize, one_hot\n",
    "from sklearn.model_selection import train_test_split\n",
    "from torch.utils.data.dataloader import default_collate\n",
    "\n",
    "import tracemalloc\n",
    "import numpy as np\n",
    "from tqdm import tqdm\n",
    "import matplotlib.pyplot as plt\n",
    "# from deepspeed.profiling.flops_profiler import get_model_profile"
   ]
  },
  {
   "cell_type": "code",
   "execution_count": 2,
   "metadata": {},
   "outputs": [
    {
     "name": "stdout",
     "output_type": "stream",
     "text": [
      "cuda\n"
     ]
    }
   ],
   "source": [
    "# device = torch.device(\"cuda\" if torch.cuda.is_available() else \"mps\" if torch.backends.mps.is_available() else \"cpu\")\n",
    "# device = torch.device(\"cpu\")\n",
    "# print(device)\n",
    "\n",
    "device = torch.device(\"cuda\" if torch.cuda.is_available() else \"cpu\")\n",
    "print(device)"
   ]
  },
  {
   "cell_type": "code",
   "execution_count": null,
   "metadata": {},
   "outputs": [],
   "source": [
    "model_loss = nn.CrossEntropyLoss()"
   ]
  },
  {
   "cell_type": "code",
   "execution_count": null,
   "metadata": {},
   "outputs": [],
   "source": [
    "def classifier_head(inp_embedding, classifier_weights, labels, num_classes):\n",
    "    inp_embedding = normalize(inp_embedding, p=2, dim=-1)\n",
    "    classifier_output = torch.mm(inp_embedding, classifier_weights)\n",
    "    classifier_output = torch.softmax(classifier_output, dim=-1)\n",
    "    loss = model_loss(classifier_output, one_hot(labels, num_classes = num_classes).type(torch.float32))\n",
    "    return torch.argmax(classifier_output, dim=1).tolist(), loss"
   ]
  },
  {
   "cell_type": "code",
   "execution_count": 3,
   "metadata": {},
   "outputs": [],
   "source": [
    "def plot_losses(losses):\n",
    "    n_dims = len(losses)\n",
    "    plt.figure(figsize = (12, n_dims * 5))\n",
    "    for l, loss in enumerate(losses):\n",
    "        epochs = len(loss)\n",
    "        plt.subplot(n_dims, 1, l + 1)\n",
    "        plt.plot(1 + np.arange(epochs), loss)\n",
    "        plt.title(f\"Layer {l + 1} Loss\")\n",
    "        plt.xlabel(\"Epochs\")\n",
    "        plt.ylabel(\"Loss\")\n",
    "    plt.tight_layout()\n",
    "    plt.show()"
   ]
  },
  {
   "cell_type": "code",
   "execution_count": 4,
   "metadata": {},
   "outputs": [],
   "source": [
    "theta = 1\n",
    "cos_similarity = nn.CosineSimilarity(dim = 1, eps = 1e-6)\n",
    "mse_loss = nn.MSELoss()\n",
    "num_classes = 10\n",
    "\n",
    "def loss_layer(vec1, vec2):\n",
    "    return torch.mean(torch.log(2 - (theta * cos_similarity(vec1, vec2))), dim = 0)\n",
    "\n",
    "initial = None\n",
    "\n",
    "# Data dimension\n",
    "# (num_data, num_features) => no dimension for batch size please\n",
    "class Layer(nn.Linear):\n",
    "    def __init__(self, in_features, out_features, bias, device, lr, symm_points):\n",
    "        super().__init__(in_features, out_features, bias, device)\n",
    "        self.out_features = out_features\n",
    "        self.bias_flag = bias\n",
    "        self.lr = lr\n",
    "        self.num_classes = num_classes\n",
    "        self.dimension = out_features\n",
    "        self.non_linear = nn.LeakyReLU(negative_slope = 0.001)\n",
    "        self.opt = Adam(self.parameters(), lr = self.lr)\n",
    "        nn.init.kaiming_normal_(self.weight, mode='fan_in')\n",
    "        global initial\n",
    "        self.directions = symm_points\n",
    "    \n",
    "    def forward(self, x):\n",
    "        '''\n",
    "        x_direction = normalize(x, p = 2, dim = 1)\n",
    "        '''\n",
    "        x_direction = x\n",
    "        if self.bias_flag:\n",
    "            return self.non_linear(torch.mm(x_direction, self.weight.T) + self.bias.unsqueeze(0))\n",
    "        else:\n",
    "            return self.non_linear(torch.mm(x_direction, self.weight.T))\n",
    "\n",
    "    def train(self, x, label):\n",
    "        y = self.forward(x) # shape: (num_data, out_features)\n",
    "        '''\n",
    "        y = normalize(y, p = 2, dim = 1)\n",
    "        '''\n",
    "        directions = torch.zeros_like(y)\n",
    "        for i in range(y.shape[0]):\n",
    "            directions[i, :] = self.directions[label[i]]\n",
    "        \n",
    "        loss = loss_layer(y, directions)\n",
    "        self.opt.zero_grad()\n",
    "        loss.backward(retain_graph = True)\n",
    "        self.opt.step()\n",
    "\n",
    "        return loss.item(), y\n",
    "    \n",
    "    def test(self, x, top_k):\n",
    "        with torch.no_grad():\n",
    "            y = self.forward(x)\n",
    "        max_idx_list =[]\n",
    "        for dat in range(y.shape[0]):\n",
    "            max = -np.inf\n",
    "            max_idx = 0\n",
    "            cos_sim_list = []\n",
    "\n",
    "            for i in range(self.num_classes):\n",
    "                cos_sim = cos_similarity(y[dat, :].unsqueeze(0), self.directions[i].reshape(1, -1).to(device))\n",
    "                if top_k == 1:\n",
    "                    if cos_sim > max:\n",
    "                        max = cos_sim\n",
    "                        max_idx = i\n",
    "                else:\n",
    "                    cos_sim_list.append(cos_sim)\n",
    "            \n",
    "            if top_k == 1:\n",
    "                max_idx_list.append(max_idx)\n",
    "            \n",
    "            else:\n",
    "                top_k_idx = torch.topk(torch.tensor(cos_sim_list), top_k).indices\n",
    "                max_idx_list.append(top_k_idx)\n",
    "        \n",
    "        if top_k == 1:\n",
    "            return torch.tensor(max_idx_list), y\n",
    "        return max_idx_list, y"
   ]
  },
  {
   "cell_type": "code",
   "execution_count": 5,
   "metadata": {},
   "outputs": [],
   "source": [
    "class Net(nn.Module):\n",
    "    def __init__(self, dims_list, bias, epochs, lr, device, symm_points_list):\n",
    "        super(Net, self).__init__()\n",
    "        self.dims_list = dims_list\n",
    "        self.bias = bias\n",
    "        self.epochs = epochs\n",
    "        self.lr = lr\n",
    "        self.device = device\n",
    "        self.mem = -np.inf\n",
    "        self.layers = []\n",
    "        self.sigmoid = nn.Sigmoid()\n",
    "        global initial\n",
    "        for d in range(len(self.dims_list) - 1):\n",
    "            print(f\"Initialization {d + 1} / {len(self.dims_list) - 1}\")\n",
    "            self.layers += [Layer(self.dims_list[d], self.dims_list[d + 1], self.bias, self.device, self.lr, symm_points_list[d])]\n",
    "            print(\"Complete\\n\")\n",
    "\n",
    "    def train(self, data_loader):\n",
    "        layer_loss_list = []\n",
    "        for i in range(len(self.layers)):\n",
    "            layer_loss_list.append([])\n",
    "        pbar = tqdm(total = self.epochs[0] * len(data_loader) * len(self.layers), desc = f\"Training\", position = 0, leave = True)\n",
    "        for epoch in range(self.epochs[0]):\n",
    "            loss_agg = [0] * len(self.layers)\n",
    "            for dat in data_loader:\n",
    "                x, label = dat\n",
    "                for i in range(len(self.layers)):\n",
    "                    tracemalloc.start()\n",
    "                    loss, x = self.layers[i].train(x, label)\n",
    "                    _, peak = tracemalloc.get_traced_memory()\n",
    "                    tracemalloc.stop()\n",
    "                    self.mem = max(self.mem, peak / 10 ** 6)\n",
    "                    loss_agg[i] += loss / len(data_loader)\n",
    "                    pbar.update(1)\n",
    "            pbar.set_postfix(epoch = epoch + 1, loss = loss_agg)\n",
    "            print(self.mem)\n",
    "            for i in range(len(self.layers)):\n",
    "                layer_loss_list[i].append(loss_agg[i])\n",
    "        pbar.close()\n",
    "        return layer_loss_list\n",
    "    \n",
    "    def test(self, data_loader, top_k = 1):\n",
    "        correct = 0\n",
    "        total = 0\n",
    "        for dat in data_loader:\n",
    "            x, label = dat\n",
    "            num = label\n",
    "            preds = []\n",
    "            for i in range(len(self.layers)):\n",
    "                pred, x = self.layers[i].test(x, top_k = top_k)\n",
    "                preds.append(pred)\n",
    "            \n",
    "            if top_k == 1:\n",
    "                correct += (preds[-1].to(device) == num).sum().item()\n",
    "            else:\n",
    "                for i in range(num.shape[0]):\n",
    "                    if num[i].tolist() in preds[-1][i]:\n",
    "                        correct += 1\n",
    "            total += num.shape[0]\n",
    "        return correct / total"
   ]
  },
  {
   "cell_type": "code",
   "execution_count": 6,
   "metadata": {},
   "outputs": [],
   "source": [
    "datas = []\n",
    "labels = []\n",
    "data_dir = \"./../../Data/\"\n",
    "\n",
    "remove = \"\"\n",
    "\n",
    "# load the features and labels from resnet folder\n",
    "datas.append(np.load(data_dir + \"aircraft100_features_resnet50_pretrained_imagenet\" + remove + \".npy\"))\n",
    "labels.append(np.load(data_dir + \"aircraft100_labels_resnet50_pretrained_imagenet\" + remove + \".npy\").astype(np.int64))\n",
    "\n",
    "datas.append(np.load(data_dir + \"cifar10_features_resnet50_pretrained_imagenet\" + remove + \".npy\"))\n",
    "labels.append(np.load(data_dir + \"cifar10_labels_resnet50_pretrained_imagenet\" + remove + \".npy\").astype(np.int64))\n",
    "\n",
    "datas.append(np.load(data_dir + \"cifar100_features_resnet50_pretrained_imagenet\" + remove + \".npy\"))\n",
    "labels.append(np.load(data_dir + \"cifar100_labels_resnet50_pretrained_imagenet\" + remove + \".npy\").astype(np.int64))\n",
    "\n",
    "datas.append(np.load(data_dir + \"flowers102_features_resnet50_pretrained_imagenet\" + remove + \".npy\"))\n",
    "labels.append(np.load(data_dir + \"flowers102_labels_resnet50_pretrained_imagenet\" + remove + \".npy\").astype(np.int64))\n",
    "\n",
    "datas.append(np.load(data_dir + \"food101_features_resnet50_pretrained_imagenet\" + remove + \".npy\"))\n",
    "labels.append(np.load(data_dir + \"food101_labels_resnet50_pretrained_imagenet\" + remove + \".npy\").astype(np.int64))\n",
    "\n",
    "datas.append(np.load(data_dir + \"pets37_features_resnet50_pretrained_imagenet\" + remove + \".npy\"))\n",
    "labels.append(np.load(data_dir + \"pets37_labels_resnet50_pretrained_imagenet\" + remove + \".npy\").astype(np.int64))\n",
    "\n",
    "datas_name = ['aircraft100', 'cifar10', 'cifar100', 'flowers102', 'food101', 'pets37']\n",
    "#  datas_name = ['food101']\n",
    "# datas_name = ['aircraft100']"
   ]
  },
  {
   "cell_type": "code",
   "execution_count": 7,
   "metadata": {},
   "outputs": [],
   "source": [
    "def generate_symm_points(layer_dims, num_classes):\n",
    "    vecs = []\n",
    "    for k in layer_dims:\n",
    "        directions = generate_points(num_classes, k, steps = 10000, initial_points = None)\n",
    "        directions = [torch.tensor(t, dtype = torch.float32) for t in directions]\n",
    "        vecs.append(directions)\n",
    "    return vecs"
   ]
  },
  {
   "cell_type": "code",
   "execution_count": 8,
   "metadata": {},
   "outputs": [
    {
     "name": "stdout",
     "output_type": "stream",
     "text": [
      "Dataset: food101\n",
      "Test to train ratio:  0.1\n",
      "Train Loader: 188\n",
      "Test Loader: 21\n",
      "Network Size: 2048\n",
      "Initialization 1 / 2\n",
      "Complete\n",
      "\n",
      "Initialization 2 / 2\n",
      "Complete\n",
      "\n"
     ]
    },
    {
     "name": "stderr",
     "output_type": "stream",
     "text": [
      "Training:   2%|██                                                                                              | 393/18800 [00:03<02:33, 120.26it/s, epoch=1, loss=[0.6833077123824589, 0.6901023321329278]]"
     ]
    },
    {
     "name": "stdout",
     "output_type": "stream",
     "text": [
      "0.028797\n"
     ]
    },
    {
     "name": "stderr",
     "output_type": "stream",
     "text": [
      "Training:   4%|███▉                                                                                            | 772/18800 [00:06<02:32, 118.24it/s, epoch=2, loss=[0.6619427980894739, 0.6467623082881278]]"
     ]
    },
    {
     "name": "stdout",
     "output_type": "stream",
     "text": [
      "0.028797\n"
     ]
    },
    {
     "name": "stderr",
     "output_type": "stream",
     "text": [
      "Training:   6%|█████▊                                                                                         | 1145/18800 [00:09<02:37, 112.38it/s, epoch=3, loss=[0.6560066741831758, 0.6219130881289219]]"
     ]
    },
    {
     "name": "stdout",
     "output_type": "stream",
     "text": [
      "0.028797\n"
     ]
    },
    {
     "name": "stderr",
     "output_type": "stream",
     "text": [
      "Training:   8%|███████▊                                                                                         | 1523/18800 [00:13<02:34, 111.49it/s, epoch=4, loss=[0.6523247281921678, 0.60590649919307]]"
     ]
    },
    {
     "name": "stdout",
     "output_type": "stream",
     "text": [
      "0.028797\n"
     ]
    },
    {
     "name": "stderr",
     "output_type": "stream",
     "text": [
      "Training:  10%|█████████▌                                                                                     | 1896/18800 [00:16<02:29, 112.86it/s, epoch=5, loss=[0.6489485131299242, 0.5928557350280436]]"
     ]
    },
    {
     "name": "stdout",
     "output_type": "stream",
     "text": [
      "0.028797\n"
     ]
    },
    {
     "name": "stderr",
     "output_type": "stream",
     "text": [
      "Training:  12%|███████████▌                                                                                    | 2269/18800 [00:20<02:30, 109.89it/s, epoch=6, loss=[0.6461612667809142, 0.582299869111244]]"
     ]
    },
    {
     "name": "stdout",
     "output_type": "stream",
     "text": [
      "0.028797\n"
     ]
    },
    {
     "name": "stderr",
     "output_type": "stream",
     "text": [
      "Training:  14%|█████████████▍                                                                                 | 2651/18800 [00:23<02:23, 112.44it/s, epoch=7, loss=[0.6448410039252426, 0.5742302156509238]]"
     ]
    },
    {
     "name": "stdout",
     "output_type": "stream",
     "text": [
      "0.028797\n"
     ]
    },
    {
     "name": "stderr",
     "output_type": "stream",
     "text": [
      "Training:  16%|███████████████▎                                                                               | 3029/18800 [00:26<02:21, 111.70it/s, epoch=8, loss=[0.6428205811596932, 0.5662053227424617]]"
     ]
    },
    {
     "name": "stdout",
     "output_type": "stream",
     "text": [
      "0.028797\n"
     ]
    },
    {
     "name": "stderr",
     "output_type": "stream",
     "text": [
      "Training:  18%|█████████████████▏                                                                             | 3398/18800 [00:30<02:18, 111.10it/s, epoch=9, loss=[0.6411221674148072, 0.5590371831934502]]"
     ]
    },
    {
     "name": "stdout",
     "output_type": "stream",
     "text": [
      "0.028797\n"
     ]
    },
    {
     "name": "stderr",
     "output_type": "stream",
     "text": [
      "Training:  20%|███████████████████                                                                            | 3777/18800 [00:33<02:15, 111.02it/s, epoch=10, loss=[0.6399563373403349, 0.553822842367152]]"
     ]
    },
    {
     "name": "stdout",
     "output_type": "stream",
     "text": [
      "0.028797\n"
     ]
    },
    {
     "name": "stderr",
     "output_type": "stream",
     "text": [
      "Training:  22%|████████████████████▊                                                                         | 4158/18800 [00:37<02:11, 111.56it/s, epoch=11, loss=[0.6387354604741359, 0.5481095535958066]]"
     ]
    },
    {
     "name": "stdout",
     "output_type": "stream",
     "text": [
      "0.028797\n"
     ]
    },
    {
     "name": "stderr",
     "output_type": "stream",
     "text": [
      "Training:  24%|██████████████████████▋                                                                       | 4525/18800 [00:40<02:08, 111.25it/s, epoch=12, loss=[0.6372142313642707, 0.5425174657968767]]"
     ]
    },
    {
     "name": "stdout",
     "output_type": "stream",
     "text": [
      "0.028797\n"
     ]
    },
    {
     "name": "stderr",
     "output_type": "stream",
     "text": [
      "Training:  26%|████████████████████████▌                                                                     | 4900/18800 [00:44<02:05, 111.19it/s, epoch=13, loss=[0.6361470447575793, 0.5384459631874206]]"
     ]
    },
    {
     "name": "stdout",
     "output_type": "stream",
     "text": [
      "0.028797\n"
     ]
    },
    {
     "name": "stderr",
     "output_type": "stream",
     "text": [
      "Training:  28%|██████████████████████████▍                                                                   | 5283/18800 [00:47<02:01, 111.07it/s, epoch=14, loss=[0.6352118802197433, 0.5346870748920646]]"
     ]
    },
    {
     "name": "stdout",
     "output_type": "stream",
     "text": [
      "0.028797\n"
     ]
    },
    {
     "name": "stderr",
     "output_type": "stream",
     "text": [
      "Training:  30%|████████████████████████████▌                                                                  | 5651/18800 [00:50<01:55, 113.41it/s, epoch=15, loss=[0.634365420709265, 0.5318375136306945]]"
     ]
    },
    {
     "name": "stdout",
     "output_type": "stream",
     "text": [
      "0.028797\n"
     ]
    },
    {
     "name": "stderr",
     "output_type": "stream",
     "text": [
      "Training:  32%|██████████████████████████████▏                                                               | 6028/18800 [00:54<01:55, 110.23it/s, epoch=16, loss=[0.6338826731798496, 0.5288564055523973]]"
     ]
    },
    {
     "name": "stdout",
     "output_type": "stream",
     "text": [
      "0.028797\n"
     ]
    },
    {
     "name": "stderr",
     "output_type": "stream",
     "text": [
      "Training:  34%|████████████████████████████████                                                              | 6404/18800 [00:57<01:50, 112.67it/s, epoch=17, loss=[0.6329198425754586, 0.5254043608586839]]"
     ]
    },
    {
     "name": "stdout",
     "output_type": "stream",
     "text": [
      "0.028797\n"
     ]
    },
    {
     "name": "stderr",
     "output_type": "stream",
     "text": [
      "Training:  36%|█████████████████████████████████▉                                                            | 6788/18800 [01:01<01:48, 111.09it/s, epoch=18, loss=[0.6322234095411096, 0.5224725439193401]]"
     ]
    },
    {
     "name": "stdout",
     "output_type": "stream",
     "text": [
      "0.028797\n"
     ]
    },
    {
     "name": "stderr",
     "output_type": "stream",
     "text": [
      "Training:  38%|███████████████████████████████████▊                                                          | 7165/18800 [01:04<01:44, 111.30it/s, epoch=19, loss=[0.6317684523602746, 0.5208950343918294]]"
     ]
    },
    {
     "name": "stdout",
     "output_type": "stream",
     "text": [
      "0.028797\n"
     ]
    },
    {
     "name": "stderr",
     "output_type": "stream",
     "text": [
      "Training:  40%|█████████████████████████████████████▋                                                        | 7533/18800 [01:08<01:41, 110.90it/s, epoch=20, loss=[0.6313756764569177, 0.5196140387907943]]"
     ]
    },
    {
     "name": "stdout",
     "output_type": "stream",
     "text": [
      "0.028797\n"
     ]
    },
    {
     "name": "stderr",
     "output_type": "stream",
     "text": [
      "Training:  42%|███████████████████████████████████████▌                                                      | 7906/18800 [01:11<01:37, 112.17it/s, epoch=21, loss=[0.6303540227260994, 0.5161694213747976]]"
     ]
    },
    {
     "name": "stdout",
     "output_type": "stream",
     "text": [
      "0.028797\n"
     ]
    },
    {
     "name": "stderr",
     "output_type": "stream",
     "text": [
      "Training:  44%|█████████████████████████████████████████▍                                                    | 8290/18800 [01:14<01:35, 110.56it/s, epoch=22, loss=[0.6296677839882829, 0.5139886820886997]]"
     ]
    },
    {
     "name": "stdout",
     "output_type": "stream",
     "text": [
      "0.028797\n"
     ]
    },
    {
     "name": "stderr",
     "output_type": "stream",
     "text": [
      "Training:  46%|███████████████████████████████████████████▎                                                  | 8661/18800 [01:18<01:29, 113.22it/s, epoch=23, loss=[0.6292757835794003, 0.5132322492117578]]"
     ]
    },
    {
     "name": "stdout",
     "output_type": "stream",
     "text": [
      "0.028797\n"
     ]
    },
    {
     "name": "stderr",
     "output_type": "stream",
     "text": [
      "Training:  48%|█████████████████████████████████████████████▏                                                | 9040/18800 [01:21<01:27, 111.01it/s, epoch=24, loss=[0.6286222988620714, 0.5102803386906358]]"
     ]
    },
    {
     "name": "stdout",
     "output_type": "stream",
     "text": [
      "0.028797\n"
     ]
    },
    {
     "name": "stderr",
     "output_type": "stream",
     "text": [
      "Training:  50%|███████████████████████████████████████████████                                               | 9421/18800 [01:25<01:22, 113.83it/s, epoch=25, loss=[0.6282862843351165, 0.5093351581946333]]"
     ]
    },
    {
     "name": "stdout",
     "output_type": "stream",
     "text": [
      "0.028797\n"
     ]
    },
    {
     "name": "stderr",
     "output_type": "stream",
     "text": [
      "Training:  52%|█████████████████████████████████████████████████▍                                             | 9794/18800 [01:28<01:19, 113.59it/s, epoch=26, loss=[0.627698372336144, 0.5083792187432024]]"
     ]
    },
    {
     "name": "stdout",
     "output_type": "stream",
     "text": [
      "0.028797\n"
     ]
    },
    {
     "name": "stderr",
     "output_type": "stream",
     "text": [
      "Training:  54%|██████████████████████████████████████████████████▎                                          | 10166/18800 [01:31<01:16, 112.96it/s, epoch=27, loss=[0.6265040604358021, 0.5040723890700238]]"
     ]
    },
    {
     "name": "stdout",
     "output_type": "stream",
     "text": [
      "0.028797\n"
     ]
    },
    {
     "name": "stderr",
     "output_type": "stream",
     "text": [
      "Training:  56%|████████████████████████████████████████████████████▏                                        | 10550/18800 [01:35<01:12, 113.54it/s, epoch=28, loss=[0.6258944000335454, 0.5028007821516789]]"
     ]
    },
    {
     "name": "stdout",
     "output_type": "stream",
     "text": [
      "0.028797\n"
     ]
    },
    {
     "name": "stderr",
     "output_type": "stream",
     "text": [
      "Training:  58%|██████████████████████████████████████████████████████                                       | 10923/18800 [01:38<01:09, 113.20it/s, epoch=29, loss=[0.6254175977504002, 0.5012616638807541]]"
     ]
    },
    {
     "name": "stdout",
     "output_type": "stream",
     "text": [
      "0.028797\n"
     ]
    },
    {
     "name": "stderr",
     "output_type": "stream",
     "text": [
      "Training:  60%|███████████████████████████████████████████████████████▎                                    | 11296/18800 [01:41<01:05, 113.85it/s, epoch=30, loss=[0.6246319276855348, 0.49922987105364497]]"
     ]
    },
    {
     "name": "stdout",
     "output_type": "stream",
     "text": [
      "0.028797\n"
     ]
    },
    {
     "name": "stderr",
     "output_type": "stream",
     "text": [
      "Training:  62%|█████████████████████████████████████████████████████████▋                                   | 11668/18800 [01:45<01:03, 112.96it/s, epoch=31, loss=[0.6243382099461049, 0.4981099124601545]]"
     ]
    },
    {
     "name": "stdout",
     "output_type": "stream",
     "text": [
      "0.028797\n"
     ]
    },
    {
     "name": "stderr",
     "output_type": "stream",
     "text": [
      "Training:  64%|███████████████████████████████████████████████████████████▌                                 | 12047/18800 [01:48<01:00, 111.15it/s, epoch=32, loss=[0.6238772685223442, 0.4961792254384528]]"
     ]
    },
    {
     "name": "stdout",
     "output_type": "stream",
     "text": [
      "0.028797\n"
     ]
    },
    {
     "name": "stderr",
     "output_type": "stream",
     "text": [
      "Training:  66%|████████████████████████████████████████████████████████████▊                               | 12425/18800 [01:51<00:57, 110.94it/s, epoch=33, loss=[0.6233737535299136, 0.49504145583573805]]"
     ]
    },
    {
     "name": "stdout",
     "output_type": "stream",
     "text": [
      "0.028797\n"
     ]
    },
    {
     "name": "stderr",
     "output_type": "stream",
     "text": [
      "Training:  68%|███████████████████████████████████████████████████████████████▎                             | 12801/18800 [01:55<00:54, 111.05it/s, epoch=34, loss=[0.623691970997668, 0.49508702644008273]]"
     ]
    },
    {
     "name": "stdout",
     "output_type": "stream",
     "text": [
      "0.028797\n"
     ]
    },
    {
     "name": "stderr",
     "output_type": "stream",
     "text": [
      "Training:  70%|████████████████████████████████████████████████████████████████▍                           | 13178/18800 [01:58<00:50, 111.39it/s, epoch=35, loss=[0.6234890729823008, 0.49407766125303615]]"
     ]
    },
    {
     "name": "stdout",
     "output_type": "stream",
     "text": [
      "0.028797\n"
     ]
    },
    {
     "name": "stderr",
     "output_type": "stream",
     "text": [
      "Training:  72%|██████████████████████████████████████████████████████████████████▎                         | 13557/18800 [02:02<00:47, 110.92it/s, epoch=36, loss=[0.6228015223082075, 0.49273938083268215]]"
     ]
    },
    {
     "name": "stdout",
     "output_type": "stream",
     "text": [
      "0.028797\n"
     ]
    },
    {
     "name": "stderr",
     "output_type": "stream",
     "text": [
      "Training:  74%|████████████████████████████████████████████████████████████████████▏                       | 13929/18800 [02:05<00:43, 111.11it/s, epoch=37, loss=[0.6224734142739718, 0.49128707609278094]]"
     ]
    },
    {
     "name": "stdout",
     "output_type": "stream",
     "text": [
      "0.028797\n"
     ]
    },
    {
     "name": "stderr",
     "output_type": "stream",
     "text": [
      "Training:  76%|█████████████████████████████████████████████████████████████████████▉                      | 14299/18800 [02:09<00:40, 111.22it/s, epoch=38, loss=[0.6219574006948068, 0.48966280418507596]]"
     ]
    },
    {
     "name": "stdout",
     "output_type": "stream",
     "text": [
      "0.028797\n"
     ]
    },
    {
     "name": "stderr",
     "output_type": "stream",
     "text": [
      "Training:  78%|█████████████████████████████████████████████████████████████████████████▍                    | 14685/18800 [02:12<00:36, 111.22it/s, epoch=39, loss=[0.6214684396982192, 0.488410274399088]]"
     ]
    },
    {
     "name": "stdout",
     "output_type": "stream",
     "text": [
      "0.028797\n"
     ]
    },
    {
     "name": "stderr",
     "output_type": "stream",
     "text": [
      "Training:  80%|█████████████████████████████████████████████████████████████████████████▋                  | 15053/18800 [02:15<00:33, 110.97it/s, epoch=40, loss=[0.6212611223788973, 0.48748629857250997]]"
     ]
    },
    {
     "name": "stdout",
     "output_type": "stream",
     "text": [
      "0.028797\n"
     ]
    },
    {
     "name": "stderr",
     "output_type": "stream",
     "text": [
      "Training:  82%|█████████████████████████████████████████████████████████████████████████████▏                | 15430/18800 [02:19<00:30, 110.78it/s, epoch=41, loss=[0.620835234827184, 0.4865271606026812]]"
     ]
    },
    {
     "name": "stdout",
     "output_type": "stream",
     "text": [
      "0.028797\n"
     ]
    },
    {
     "name": "stderr",
     "output_type": "stream",
     "text": [
      "Training:  84%|█████████████████████████████████████████████████████████████████████████████▎              | 15807/18800 [02:22<00:26, 111.34it/s, epoch=42, loss=[0.6202618229262373, 0.48460179377109436]]"
     ]
    },
    {
     "name": "stdout",
     "output_type": "stream",
     "text": [
      "0.028797\n"
     ]
    },
    {
     "name": "stderr",
     "output_type": "stream",
     "text": [
      "Training:  86%|████████████████████████████████████████████████████████████████████████████████             | 16185/18800 [02:26<00:23, 110.97it/s, epoch=43, loss=[0.6196277525196684, 0.4826785072367241]]"
     ]
    },
    {
     "name": "stdout",
     "output_type": "stream",
     "text": [
      "0.028797\n"
     ]
    },
    {
     "name": "stderr",
     "output_type": "stream",
     "text": [
      "Training:  88%|█████████████████████████████████████████████████████████████████████████████████           | 16561/18800 [02:29<00:20, 111.16it/s, epoch=44, loss=[0.6195482928702172, 0.48219726488311243]]"
     ]
    },
    {
     "name": "stdout",
     "output_type": "stream",
     "text": [
      "0.028797\n"
     ]
    },
    {
     "name": "stderr",
     "output_type": "stream",
     "text": [
      "Training:  90%|██████████████████████████████████████████████████████████████████████████████████▉         | 16938/18800 [02:33<00:16, 110.57it/s, epoch=45, loss=[0.6195162617145704, 0.48150178045034425]]"
     ]
    },
    {
     "name": "stdout",
     "output_type": "stream",
     "text": [
      "0.028797\n"
     ]
    },
    {
     "name": "stderr",
     "output_type": "stream",
     "text": [
      "Training:  92%|████████████████████████████████████████████████████████████████████████████████████▋       | 17312/18800 [02:36<00:13, 110.51it/s, epoch=46, loss=[0.6188449437947982, 0.47920825047061794]]"
     ]
    },
    {
     "name": "stdout",
     "output_type": "stream",
     "text": [
      "0.028797\n"
     ]
    },
    {
     "name": "stderr",
     "output_type": "stream",
     "text": [
      "Training:  94%|███████████████████████████████████████████████████████████████████████████████████████▌     | 17690/18800 [02:40<00:09, 111.81it/s, epoch=47, loss=[0.6184168515053194, 0.4779884206487778]]"
     ]
    },
    {
     "name": "stdout",
     "output_type": "stream",
     "text": [
      "0.028797\n"
     ]
    },
    {
     "name": "stderr",
     "output_type": "stream",
     "text": [
      "Training:  96%|████████████████████████████████████████████████████████████████████████████████████████▍   | 18066/18800 [02:43<00:06, 110.78it/s, epoch=48, loss=[0.6185931414365771, 0.47903793431977015]]"
     ]
    },
    {
     "name": "stdout",
     "output_type": "stream",
     "text": [
      "0.028797\n"
     ]
    },
    {
     "name": "stderr",
     "output_type": "stream",
     "text": [
      "Training:  98%|██████████████████████████████████████████████████████████████████████████████████████████▎ | 18443/18800 [02:46<00:03, 111.12it/s, epoch=49, loss=[0.6177739659522437, 0.47569376119273776]]"
     ]
    },
    {
     "name": "stdout",
     "output_type": "stream",
     "text": [
      "0.028797\n"
     ]
    },
    {
     "name": "stderr",
     "output_type": "stream",
     "text": [
      "Training: 100%|█████████████████████████████████████████████████████████████████████████████████████████████| 18800/18800 [02:50<00:00, 110.49it/s, epoch=50, loss=[0.6168998676411653, 0.4728720863448816]]\n"
     ]
    },
    {
     "name": "stdout",
     "output_type": "stream",
     "text": [
      "0.028797\n",
      "Training Accuracy: 93.98333333333333%\n",
      "Testing Accuracy: 34.78260869565217%\n",
      "Top 5 Training Accuracy: 99.56666666666666%\n",
      "Top 5 Testing Accuracy: 58.17091454272864%\n",
      "Test to train ratio:  0.2\n",
      "Train Loader: 167\n",
      "Test Loader: 42\n",
      "Network Size: 2048\n",
      "Initialization 1 / 2\n",
      "Complete\n",
      "\n",
      "Initialization 2 / 2\n",
      "Complete\n",
      "\n"
     ]
    },
    {
     "name": "stderr",
     "output_type": "stream",
     "text": [
      "Training:   2%|██▏                                                                                                    | 350/16700 [00:02<02:06, 129.60it/s, epoch=1, loss=[0.6838862274935145, 0.6905719637870789]]"
     ]
    },
    {
     "name": "stdout",
     "output_type": "stream",
     "text": [
      "0.005562\n"
     ]
    },
    {
     "name": "stderr",
     "output_type": "stream",
     "text": [
      "Training:   4%|████▎                                                                                                   | 684/16700 [00:05<02:05, 127.93it/s, epoch=2, loss=[0.659799259936738, 0.6519145951299611]]"
     ]
    },
    {
     "name": "stdout",
     "output_type": "stream",
     "text": [
      "0.005562\n"
     ]
    },
    {
     "name": "stderr",
     "output_type": "stream",
     "text": [
      "Training:   6%|██████▎                                                                                               | 1025/16700 [00:07<02:01, 129.26it/s, epoch=3, loss=[0.6538343147603338, 0.6240310112159404]]"
     ]
    },
    {
     "name": "stdout",
     "output_type": "stream",
     "text": [
      "0.005562\n"
     ]
    },
    {
     "name": "stderr",
     "output_type": "stream",
     "text": [
      "Training:   8%|████████▎                                                                                              | 1349/16700 [00:10<01:56, 131.60it/s, epoch=4, loss=[0.6495817853305154, 0.607186215723346]]"
     ]
    },
    {
     "name": "stdout",
     "output_type": "stream",
     "text": [
      "0.005562\n"
     ]
    },
    {
     "name": "stderr",
     "output_type": "stream",
     "text": [
      "Training:  10%|██████████▎                                                                                           | 1686/16700 [00:13<01:51, 135.15it/s, epoch=5, loss=[0.6454033783809863, 0.5925195506232942]]"
     ]
    },
    {
     "name": "stdout",
     "output_type": "stream",
     "text": [
      "0.005562\n"
     ]
    },
    {
     "name": "stderr",
     "output_type": "stream",
     "text": [
      "Training:  12%|████████████▍                                                                                         | 2029/16700 [00:15<01:53, 129.08it/s, epoch=6, loss=[0.6433654941484601, 0.5818872658792372]]"
     ]
    },
    {
     "name": "stdout",
     "output_type": "stream",
     "text": [
      "0.005562\n"
     ]
    },
    {
     "name": "stderr",
     "output_type": "stream",
     "text": [
      "Training:  14%|██████████████▌                                                                                        | 2359/16700 [00:18<01:49, 130.85it/s, epoch=7, loss=[0.640762813790829, 0.5715996979953288]]"
     ]
    },
    {
     "name": "stdout",
     "output_type": "stream",
     "text": [
      "0.005702\n"
     ]
    },
    {
     "name": "stderr",
     "output_type": "stream",
     "text": [
      "Training:  16%|████████████████▍                                                                                     | 2695/16700 [00:20<01:46, 131.89it/s, epoch=8, loss=[0.6389411388043158, 0.5631148808016748]]"
     ]
    },
    {
     "name": "stdout",
     "output_type": "stream",
     "text": [
      "0.005702\n"
     ]
    },
    {
     "name": "stderr",
     "output_type": "stream",
     "text": [
      "Training:  18%|██████████████████▋                                                                                    | 3032/16700 [00:23<01:44, 131.36it/s, epoch=9, loss=[0.6373602241099238, 0.556241423783902]]"
     ]
    },
    {
     "name": "stdout",
     "output_type": "stream",
     "text": [
      "0.005702\n"
     ]
    },
    {
     "name": "stderr",
     "output_type": "stream",
     "text": [
      "Training:  20%|████████████████████▎                                                                                | 3355/16700 [00:25<01:42, 130.01it/s, epoch=10, loss=[0.6364652036192888, 0.5508988224817606]]"
     ]
    },
    {
     "name": "stdout",
     "output_type": "stream",
     "text": [
      "0.005702\n"
     ]
    },
    {
     "name": "stderr",
     "output_type": "stream",
     "text": [
      "Training:  22%|██████████████████████▎                                                                              | 3692/16700 [00:28<01:40, 129.94it/s, epoch=11, loss=[0.6352355776432748, 0.5450751881399557]]"
     ]
    },
    {
     "name": "stdout",
     "output_type": "stream",
     "text": [
      "0.008034\n"
     ]
    },
    {
     "name": "stderr",
     "output_type": "stream",
     "text": [
      "Training:  24%|████████████████████████▎                                                                            | 4028/16700 [00:31<01:36, 131.05it/s, epoch=12, loss=[0.6337021860533845, 0.5388120905367915]]"
     ]
    },
    {
     "name": "stdout",
     "output_type": "stream",
     "text": [
      "0.008034\n"
     ]
    },
    {
     "name": "stderr",
     "output_type": "stream",
     "text": [
      "Training:  26%|██████████████████████████▋                                                                           | 4364/16700 [00:33<01:33, 132.55it/s, epoch=13, loss=[0.6328531011135994, 0.534351110815288]]"
     ]
    },
    {
     "name": "stdout",
     "output_type": "stream",
     "text": [
      "0.008034\n"
     ]
    },
    {
     "name": "stderr",
     "output_type": "stream",
     "text": [
      "Training:  28%|████████████████████████████▍                                                                        | 4700/16700 [00:36<01:30, 133.03it/s, epoch=14, loss=[0.6317557578315277, 0.5301476128087071]]"
     ]
    },
    {
     "name": "stdout",
     "output_type": "stream",
     "text": [
      "0.008034\n"
     ]
    },
    {
     "name": "stderr",
     "output_type": "stream",
     "text": [
      "Training:  30%|██████████████████████████████▍                                                                      | 5023/16700 [00:38<01:26, 134.80it/s, epoch=15, loss=[0.6309178150342611, 0.5268273291116699]]"
     ]
    },
    {
     "name": "stdout",
     "output_type": "stream",
     "text": [
      "0.008034\n"
     ]
    },
    {
     "name": "stderr",
     "output_type": "stream",
     "text": [
      "Training:  32%|████████████████████████████████▍                                                                    | 5368/16700 [00:41<01:28, 127.71it/s, epoch=16, loss=[0.6299546218203927, 0.5229489085916988]]"
     ]
    },
    {
     "name": "stdout",
     "output_type": "stream",
     "text": [
      "0.008034\n"
     ]
    },
    {
     "name": "stderr",
     "output_type": "stream",
     "text": [
      "Training:  34%|██████████████████████████████████▊                                                                   | 5694/16700 [00:43<01:25, 128.43it/s, epoch=17, loss=[0.628835012098986, 0.5190325636349753]]"
     ]
    },
    {
     "name": "stdout",
     "output_type": "stream",
     "text": [
      "0.008034\n"
     ]
    },
    {
     "name": "stderr",
     "output_type": "stream",
     "text": [
      "Training:  36%|████████████████████████████████████▍                                                                | 6028/16700 [00:46<01:22, 128.81it/s, epoch=18, loss=[0.6278441890984949, 0.5160917298879453]]"
     ]
    },
    {
     "name": "stdout",
     "output_type": "stream",
     "text": [
      "0.008034\n"
     ]
    },
    {
     "name": "stderr",
     "output_type": "stream",
     "text": [
      "Training:  38%|███████████████████████████████████████▏                                                               | 6359/16700 [00:48<01:19, 129.57it/s, epoch=19, loss=[0.627078080605604, 0.512768329617506]]"
     ]
    },
    {
     "name": "stdout",
     "output_type": "stream",
     "text": [
      "0.008034\n"
     ]
    },
    {
     "name": "stderr",
     "output_type": "stream",
     "text": [
      "Training:  40%|████████████████████████████████████████▍                                                            | 6695/16700 [00:51<01:17, 128.95it/s, epoch=20, loss=[0.6261227416421126, 0.5095076741215712]]"
     ]
    },
    {
     "name": "stdout",
     "output_type": "stream",
     "text": [
      "0.008034\n"
     ]
    },
    {
     "name": "stderr",
     "output_type": "stream",
     "text": [
      "Training:  42%|██████████████████████████████████████████▌                                                          | 7033/16700 [00:54<01:13, 131.79it/s, epoch=21, loss=[0.6256754773105689, 0.5082940776904901]]"
     ]
    },
    {
     "name": "stdout",
     "output_type": "stream",
     "text": [
      "0.008034\n"
     ]
    },
    {
     "name": "stderr",
     "output_type": "stream",
     "text": [
      "Training:  44%|████████████████████████████████████████████▌                                                        | 7369/16700 [00:56<01:12, 129.11it/s, epoch=22, loss=[0.6250554615865925, 0.5056962028235018]]"
     ]
    },
    {
     "name": "stdout",
     "output_type": "stream",
     "text": [
      "0.008034\n"
     ]
    },
    {
     "name": "stderr",
     "output_type": "stream",
     "text": [
      "Training:  46%|██████████████████████████████████████████████▌                                                      | 7706/16700 [00:59<01:10, 128.08it/s, epoch=23, loss=[0.6248125972862019, 0.5043266851031137]]"
     ]
    },
    {
     "name": "stdout",
     "output_type": "stream",
     "text": [
      "0.008034\n"
     ]
    },
    {
     "name": "stderr",
     "output_type": "stream",
     "text": [
      "Training:  48%|████████████████████████████████████████████████▌                                                    | 8037/16700 [01:01<01:06, 129.48it/s, epoch=24, loss=[0.6237372666775822, 0.5014929032611275]]"
     ]
    },
    {
     "name": "stdout",
     "output_type": "stream",
     "text": [
      "0.008034\n"
     ]
    },
    {
     "name": "stderr",
     "output_type": "stream",
     "text": [
      "Training:  50%|███████████████████████████████████████████████████                                                   | 8364/16700 [01:04<01:04, 129.29it/s, epoch=25, loss=[0.6233495491707396, 0.500150345578165]]"
     ]
    },
    {
     "name": "stdout",
     "output_type": "stream",
     "text": [
      "0.008034\n"
     ]
    },
    {
     "name": "stderr",
     "output_type": "stream",
     "text": [
      "Training:  52%|████████████████████████████████████████████████████▏                                               | 8705/16700 [01:07<01:03, 126.86it/s, epoch=26, loss=[0.6222877634499604, 0.49668318693509367]]"
     ]
    },
    {
     "name": "stdout",
     "output_type": "stream",
     "text": [
      "0.008055\n"
     ]
    },
    {
     "name": "stderr",
     "output_type": "stream",
     "text": [
      "Training:  54%|██████████████████████████████████████████████████████▋                                              | 9037/16700 [01:09<00:58, 131.52it/s, epoch=27, loss=[0.6221309711119376, 0.4961977904428266]]"
     ]
    },
    {
     "name": "stdout",
     "output_type": "stream",
     "text": [
      "0.008055\n"
     ]
    },
    {
     "name": "stderr",
     "output_type": "stream",
     "text": [
      "Training:  56%|████████████████████████████████████████████████████████▋                                            | 9375/16700 [01:12<00:56, 130.42it/s, epoch=28, loss=[0.6217078423785596, 0.4949181315427768]]"
     ]
    },
    {
     "name": "stdout",
     "output_type": "stream",
     "text": [
      "0.008055\n"
     ]
    },
    {
     "name": "stderr",
     "output_type": "stream",
     "text": [
      "Training:  58%|██████████████████████████████████████████████████████████▋                                          | 9703/16700 [01:14<00:54, 128.70it/s, epoch=29, loss=[0.6211363933757396, 0.4926078198198785]]"
     ]
    },
    {
     "name": "stdout",
     "output_type": "stream",
     "text": [
      "0.008055\n"
     ]
    },
    {
     "name": "stderr",
     "output_type": "stream",
     "text": [
      "Training:  60%|████████████████████████████████████████████████████████████▏                                       | 10043/16700 [01:17<00:51, 128.89it/s, epoch=30, loss=[0.6201060853318541, 0.4896463600104441]]"
     ]
    },
    {
     "name": "stdout",
     "output_type": "stream",
     "text": [
      "0.008055\n"
     ]
    },
    {
     "name": "stderr",
     "output_type": "stream",
     "text": [
      "Training:  62%|█████████████████████████████████████████████████████████████▍                                     | 10374/16700 [01:20<00:48, 131.25it/s, epoch=31, loss=[0.6194064274519503, 0.48830650666516723]]"
     ]
    },
    {
     "name": "stdout",
     "output_type": "stream",
     "text": [
      "0.008055\n"
     ]
    },
    {
     "name": "stderr",
     "output_type": "stream",
     "text": [
      "Training:  64%|███████████████████████████████████████████████████████████████▍                                   | 10702/16700 [01:22<00:46, 128.98it/s, epoch=32, loss=[0.6195962382647806, 0.48766641541869343]]"
     ]
    },
    {
     "name": "stdout",
     "output_type": "stream",
     "text": [
      "0.008055\n"
     ]
    },
    {
     "name": "stderr",
     "output_type": "stream",
     "text": [
      "Training:  66%|█████████████████████████████████████████████████████████████████▍                                 | 11043/16700 [01:25<00:43, 129.17it/s, epoch=33, loss=[0.6186686515094275, 0.48491627120686165]]"
     ]
    },
    {
     "name": "stdout",
     "output_type": "stream",
     "text": [
      "0.008055\n"
     ]
    },
    {
     "name": "stderr",
     "output_type": "stream",
     "text": [
      "Training:  68%|███████████████████████████████████████████████████████████████████▍                               | 11372/16700 [01:27<00:40, 131.76it/s, epoch=34, loss=[0.6181052419953718, 0.48294526677645605]]"
     ]
    },
    {
     "name": "stdout",
     "output_type": "stream",
     "text": [
      "0.008055\n"
     ]
    },
    {
     "name": "stderr",
     "output_type": "stream",
     "text": [
      "Training:  70%|██████████████████████████████████████████████████████████████████████▏                             | 11713/16700 [01:30<00:37, 132.46it/s, epoch=35, loss=[0.6172534277339178, 0.4807001916234365]]"
     ]
    },
    {
     "name": "stdout",
     "output_type": "stream",
     "text": [
      "0.008055\n"
     ]
    },
    {
     "name": "stderr",
     "output_type": "stream",
     "text": [
      "Training:  72%|████████████████████████████████████████████████████████████████████████▏                           | 12047/16700 [01:33<00:35, 130.01it/s, epoch=36, loss=[0.6177316572137939, 0.4816190570057509]]"
     ]
    },
    {
     "name": "stdout",
     "output_type": "stream",
     "text": [
      "0.008055\n"
     ]
    },
    {
     "name": "stderr",
     "output_type": "stream",
     "text": [
      "Training:  74%|██████████████████████████████████████████████████████████████████████████▏                         | 12383/16700 [01:35<00:32, 131.01it/s, epoch=37, loss=[0.6175545739556502, 0.4807456308853126]]"
     ]
    },
    {
     "name": "stdout",
     "output_type": "stream",
     "text": [
      "0.008055\n"
     ]
    },
    {
     "name": "stderr",
     "output_type": "stream",
     "text": [
      "Training:  76%|████████████████████████████████████████████████████████████████████████████                        | 12707/16700 [01:38<00:29, 135.14it/s, epoch=38, loss=[0.6168022551936304, 0.4787848006465478]]"
     ]
    },
    {
     "name": "stdout",
     "output_type": "stream",
     "text": [
      "0.008055\n"
     ]
    },
    {
     "name": "stderr",
     "output_type": "stream",
     "text": [
      "Training:  78%|█████████████████████████████████████████████████████████████████████████████▎                     | 13044/16700 [01:40<00:28, 126.39it/s, epoch=39, loss=[0.6166143199640832, 0.47798002622798524]]"
     ]
    },
    {
     "name": "stdout",
     "output_type": "stream",
     "text": [
      "0.008055\n"
     ]
    },
    {
     "name": "stderr",
     "output_type": "stream",
     "text": [
      "Training:  80%|████████████████████████████████████████████████████████████████████████████████                    | 13379/16700 [01:43<00:25, 130.75it/s, epoch=40, loss=[0.6163967515894035, 0.4768801228015009]]"
     ]
    },
    {
     "name": "stdout",
     "output_type": "stream",
     "text": [
      "0.008055\n"
     ]
    },
    {
     "name": "stderr",
     "output_type": "stream",
     "text": [
      "Training:  82%|█████████████████████████████████████████████████████████████████████████████████▎                 | 13715/16700 [01:46<00:23, 129.06it/s, epoch=41, loss=[0.6158762520658758, 0.47518251363388797]]"
     ]
    },
    {
     "name": "stdout",
     "output_type": "stream",
     "text": [
      "0.008055\n"
     ]
    },
    {
     "name": "stderr",
     "output_type": "stream",
     "text": [
      "Training:  84%|████████████████████████████████████████████████████████████████████████████████████                | 14047/16700 [01:48<00:20, 128.82it/s, epoch=42, loss=[0.6151646489868617, 0.4731092096088892]]"
     ]
    },
    {
     "name": "stdout",
     "output_type": "stream",
     "text": [
      "0.008055\n"
     ]
    },
    {
     "name": "stderr",
     "output_type": "stream",
     "text": [
      "Training:  86%|█████████████████████████████████████████████████████████████████████████████████████▏             | 14378/16700 [01:51<00:18, 128.05it/s, epoch=43, loss=[0.6145118132322848, 0.47142541658378584]]"
     ]
    },
    {
     "name": "stdout",
     "output_type": "stream",
     "text": [
      "0.008055\n"
     ]
    },
    {
     "name": "stderr",
     "output_type": "stream",
     "text": [
      "Training:  88%|████████████████████████████████████████████████████████████████████████████████████████▏           | 14718/16700 [01:53<00:15, 126.83it/s, epoch=44, loss=[0.6135953968156597, 0.4690338901416985]]"
     ]
    },
    {
     "name": "stdout",
     "output_type": "stream",
     "text": [
      "0.008055\n"
     ]
    },
    {
     "name": "stderr",
     "output_type": "stream",
     "text": [
      "Training:  90%|█████████████████████████████████████████████████████████████████████████████████████████▏         | 15049/16700 [01:56<00:13, 118.06it/s, epoch=45, loss=[0.6130807410457175, 0.46732488363802793]]"
     ]
    },
    {
     "name": "stdout",
     "output_type": "stream",
     "text": [
      "0.008055\n"
     ]
    },
    {
     "name": "stderr",
     "output_type": "stream",
     "text": [
      "Training:  92%|████████████████████████████████████████████████████████████████████████████████████████████▏       | 15386/16700 [01:59<00:11, 119.29it/s, epoch=46, loss=[0.6129979865993568, 0.4672024366027579]]"
     ]
    },
    {
     "name": "stdout",
     "output_type": "stream",
     "text": [
      "0.008055\n"
     ]
    },
    {
     "name": "stderr",
     "output_type": "stream",
     "text": [
      "Training:  94%|███████████████████████████████████████████████████████████████████████████████████████████████      | 15713/16700 [02:02<00:08, 121.38it/s, epoch=47, loss=[0.612715553737686, 0.4663543274659597]]"
     ]
    },
    {
     "name": "stdout",
     "output_type": "stream",
     "text": [
      "0.008055\n"
     ]
    },
    {
     "name": "stderr",
     "output_type": "stream",
     "text": [
      "Training:  96%|█████████████████████████████████████████████████████████████████████████████████████████████████    | 16047/16700 [02:04<00:05, 121.66it/s, epoch=48, loss=[0.6121939706231307, 0.464142629843272]]"
     ]
    },
    {
     "name": "stdout",
     "output_type": "stream",
     "text": [
      "0.008055\n"
     ]
    },
    {
     "name": "stderr",
     "output_type": "stream",
     "text": [
      "Training:  98%|█████████████████████████████████████████████████████████████████████████████████████████████████  | 16383/16700 [02:07<00:02, 119.17it/s, epoch=49, loss=[0.6117560474458569, 0.46248946414736186]]"
     ]
    },
    {
     "name": "stdout",
     "output_type": "stream",
     "text": [
      "0.008055\n"
     ]
    },
    {
     "name": "stderr",
     "output_type": "stream",
     "text": [
      "Training: 100%|████████████████████████████████████████████████████████████████████████████████████████████████████| 16700/16700 [02:10<00:00, 128.06it/s, epoch=50, loss=[0.6115020088806834, 0.4612288369746979]]\n"
     ]
    },
    {
     "name": "stdout",
     "output_type": "stream",
     "text": [
      "0.008055\n",
      "Training Accuracy: 96.32477029814363%\n",
      "Testing Accuracy: 33.13343328335832%\n",
      "Top 5 Training Accuracy: 99.88749296831053%\n",
      "Top 5 Testing Accuracy: 58.17091454272864%\n",
      "Test to train ratio:  0.3\n",
      "Train Loader: 146\n",
      "Test Loader: 63\n",
      "Network Size: 2048\n",
      "Initialization 1 / 2\n",
      "Complete\n",
      "\n",
      "Initialization 2 / 2\n",
      "Complete\n",
      "\n"
     ]
    },
    {
     "name": "stderr",
     "output_type": "stream",
     "text": [
      "Training:   2%|██▏                                                                                                    | 313/14600 [00:02<01:51, 127.84it/s, epoch=1, loss=[0.6875477600587561, 0.6931623718509935]]"
     ]
    },
    {
     "name": "stdout",
     "output_type": "stream",
     "text": [
      "0.005385\n"
     ]
    },
    {
     "name": "stderr",
     "output_type": "stream",
     "text": [
      "Training:   4%|████▏                                                                                                  | 599/14600 [00:04<01:49, 127.57it/s, epoch=2, loss=[0.6638830267403227, 0.6608277024471599]]"
     ]
    },
    {
     "name": "stdout",
     "output_type": "stream",
     "text": [
      "0.005385\n"
     ]
    },
    {
     "name": "stderr",
     "output_type": "stream",
     "text": [
      "Training:   6%|██████▎                                                                                                | 893/14600 [00:06<01:47, 126.95it/s, epoch=3, loss=[0.6564491268706648, 0.6315109897149754]]"
     ]
    },
    {
     "name": "stdout",
     "output_type": "stream",
     "text": [
      "0.005385\n"
     ]
    },
    {
     "name": "stderr",
     "output_type": "stream",
     "text": [
      "Training:   8%|████████▎                                                                                             | 1182/14600 [00:09<01:45, 126.91it/s, epoch=4, loss=[0.6536282680622519, 0.6150151597310415]]"
     ]
    },
    {
     "name": "stdout",
     "output_type": "stream",
     "text": [
      "0.005385\n"
     ]
    },
    {
     "name": "stderr",
     "output_type": "stream",
     "text": [
      "Training:  10%|██████████▍                                                                                            | 1483/14600 [00:11<01:42, 128.49it/s, epoch=5, loss=[0.651364021921811, 0.6017748697163308]]"
     ]
    },
    {
     "name": "stdout",
     "output_type": "stream",
     "text": [
      "0.008205\n"
     ]
    },
    {
     "name": "stderr",
     "output_type": "stream",
     "text": [
      "Training:  12%|████████████▌                                                                                          | 1774/14600 [00:13<01:39, 128.88it/s, epoch=6, loss=[0.649249395687286, 0.5906249260249201]]"
     ]
    },
    {
     "name": "stdout",
     "output_type": "stream",
     "text": [
      "0.008205\n"
     ]
    },
    {
     "name": "stderr",
     "output_type": "stream",
     "text": [
      "Training:  14%|██████████████▎                                                                                       | 2057/14600 [00:15<01:37, 129.02it/s, epoch=7, loss=[0.6468757076622688, 0.5804262549093324]]"
     ]
    },
    {
     "name": "stdout",
     "output_type": "stream",
     "text": [
      "0.008205\n"
     ]
    },
    {
     "name": "stderr",
     "output_type": "stream",
     "text": [
      "Training:  16%|████████████████▌                                                                                     | 2362/14600 [00:18<01:34, 129.90it/s, epoch=8, loss=[0.6454337026974928, 0.5720381532629877]]"
     ]
    },
    {
     "name": "stdout",
     "output_type": "stream",
     "text": [
      "0.008205\n"
     ]
    },
    {
     "name": "stderr",
     "output_type": "stream",
     "text": [
      "Training:  18%|██████████████████▌                                                                                   | 2650/14600 [00:20<01:33, 127.50it/s, epoch=9, loss=[0.6444540689252828, 0.5663433597512442]]"
     ]
    },
    {
     "name": "stdout",
     "output_type": "stream",
     "text": [
      "0.008205\n"
     ]
    },
    {
     "name": "stderr",
     "output_type": "stream",
     "text": [
      "Training:  20%|████████████████████▎                                                                                | 2939/14600 [00:22<01:29, 130.62it/s, epoch=10, loss=[0.6426590811716368, 0.5584686500568915]]"
     ]
    },
    {
     "name": "stdout",
     "output_type": "stream",
     "text": [
      "0.008205\n"
     ]
    },
    {
     "name": "stderr",
     "output_type": "stream",
     "text": [
      "Training:  22%|██████████████████████▎                                                                              | 3233/14600 [00:25<01:27, 129.55it/s, epoch=11, loss=[0.6410675171303425, 0.5521098060967169]]"
     ]
    },
    {
     "name": "stdout",
     "output_type": "stream",
     "text": [
      "0.008205\n"
     ]
    },
    {
     "name": "stderr",
     "output_type": "stream",
     "text": [
      "Training:  24%|████████████████████████▍                                                                            | 3525/14600 [00:27<01:21, 136.28it/s, epoch=12, loss=[0.6390721205979177, 0.5454245928215655]]"
     ]
    },
    {
     "name": "stdout",
     "output_type": "stream",
     "text": [
      "0.008205\n"
     ]
    },
    {
     "name": "stderr",
     "output_type": "stream",
     "text": [
      "Training:  26%|██████████████████████████▍                                                                          | 3815/14600 [00:29<01:25, 125.50it/s, epoch=13, loss=[0.6385144942427331, 0.5408010462375537]]"
     ]
    },
    {
     "name": "stdout",
     "output_type": "stream",
     "text": [
      "0.008205\n"
     ]
    },
    {
     "name": "stderr",
     "output_type": "stream",
     "text": [
      "Training:  28%|████████████████████████████▍                                                                        | 4107/14600 [00:31<01:23, 126.36it/s, epoch=14, loss=[0.6375622545203117, 0.5375866355144815]]"
     ]
    },
    {
     "name": "stdout",
     "output_type": "stream",
     "text": [
      "0.008205\n"
     ]
    },
    {
     "name": "stderr",
     "output_type": "stream",
     "text": [
      "Training:  30%|██████████████████████████████▍                                                                      | 4396/14600 [00:34<01:17, 132.20it/s, epoch=15, loss=[0.6357865423372348, 0.5315043669040886]]"
     ]
    },
    {
     "name": "stdout",
     "output_type": "stream",
     "text": [
      "0.008205\n"
     ]
    },
    {
     "name": "stderr",
     "output_type": "stream",
     "text": [
      "Training:  32%|████████████████████████████████▍                                                                    | 4690/14600 [00:36<01:15, 131.45it/s, epoch=16, loss=[0.6350747371373109, 0.5285766528893826]]"
     ]
    },
    {
     "name": "stdout",
     "output_type": "stream",
     "text": [
      "0.008205\n"
     ]
    },
    {
     "name": "stderr",
     "output_type": "stream",
     "text": [
      "Training:  34%|██████████████████████████████████▍                                                                  | 4984/14600 [00:38<01:13, 131.36it/s, epoch=17, loss=[0.6337218754095576, 0.5243638361970037]]"
     ]
    },
    {
     "name": "stdout",
     "output_type": "stream",
     "text": [
      "0.008205\n"
     ]
    },
    {
     "name": "stderr",
     "output_type": "stream",
     "text": [
      "Training:  36%|████████████████████████████████████▉                                                                 | 5279/14600 [00:40<01:10, 132.35it/s, epoch=18, loss=[0.633506663858074, 0.5221111382523624]]"
     ]
    },
    {
     "name": "stdout",
     "output_type": "stream",
     "text": [
      "0.008205\n"
     ]
    },
    {
     "name": "stderr",
     "output_type": "stream",
     "text": [
      "Training:  38%|██████████████████████████████████████▍                                                              | 5562/14600 [00:42<01:08, 132.08it/s, epoch=19, loss=[0.6324235458080085, 0.5187763232890873]]"
     ]
    },
    {
     "name": "stdout",
     "output_type": "stream",
     "text": [
      "0.008205\n"
     ]
    },
    {
     "name": "stderr",
     "output_type": "stream",
     "text": [
      "Training:  40%|████████████████████████████████████████▌                                                            | 5856/14600 [00:45<01:07, 130.03it/s, epoch=20, loss=[0.6319770106714064, 0.5166806356139378]]"
     ]
    },
    {
     "name": "stdout",
     "output_type": "stream",
     "text": [
      "0.008205\n"
     ]
    },
    {
     "name": "stderr",
     "output_type": "stream",
     "text": [
      "Training:  42%|██████████████████████████████████████████▌                                                          | 6148/14600 [00:47<01:03, 132.63it/s, epoch=21, loss=[0.6310657038264077, 0.5132957511160471]]"
     ]
    },
    {
     "name": "stdout",
     "output_type": "stream",
     "text": [
      "0.008205\n"
     ]
    },
    {
     "name": "stderr",
     "output_type": "stream",
     "text": [
      "Training:  44%|████████████████████████████████████████████▌                                                        | 6440/14600 [00:49<01:02, 129.74it/s, epoch=22, loss=[0.6301314630737043, 0.5104816535564318]]"
     ]
    },
    {
     "name": "stdout",
     "output_type": "stream",
     "text": [
      "0.008205\n"
     ]
    },
    {
     "name": "stderr",
     "output_type": "stream",
     "text": [
      "Training:  46%|██████████████████████████████████████████████▌                                                      | 6731/14600 [00:51<01:00, 131.06it/s, epoch=23, loss=[0.6294852482945953, 0.5085838955559141]]"
     ]
    },
    {
     "name": "stdout",
     "output_type": "stream",
     "text": [
      "0.008205\n"
     ]
    },
    {
     "name": "stderr",
     "output_type": "stream",
     "text": [
      "Training:  48%|████████████████████████████████████████████████▋                                                    | 7030/14600 [00:54<00:59, 127.07it/s, epoch=24, loss=[0.6291235701678548, 0.5062612178799226]]"
     ]
    },
    {
     "name": "stdout",
     "output_type": "stream",
     "text": [
      "0.008205\n"
     ]
    },
    {
     "name": "stderr",
     "output_type": "stream",
     "text": [
      "Training:  50%|██████████████████████████████████████████████████▌                                                  | 7318/14600 [00:56<00:56, 128.86it/s, epoch=25, loss=[0.6281445548958975, 0.5039623494017614]]"
     ]
    },
    {
     "name": "stdout",
     "output_type": "stream",
     "text": [
      "0.008205\n"
     ]
    },
    {
     "name": "stderr",
     "output_type": "stream",
     "text": [
      "Training:  52%|█████████████████████████████████████████████████████▏                                                | 7615/14600 [00:58<00:52, 133.99it/s, epoch=26, loss=[0.6273763832980643, 0.501641430266916]]"
     ]
    },
    {
     "name": "stdout",
     "output_type": "stream",
     "text": [
      "0.008205\n"
     ]
    },
    {
     "name": "stderr",
     "output_type": "stream",
     "text": [
      "Training:  54%|██████████████████████████████████████████████████████▋                                              | 7905/14600 [01:01<00:52, 128.68it/s, epoch=27, loss=[0.6273732311921578, 0.5016639381647112]]"
     ]
    },
    {
     "name": "stdout",
     "output_type": "stream",
     "text": [
      "0.008205\n"
     ]
    },
    {
     "name": "stderr",
     "output_type": "stream",
     "text": [
      "Training:  56%|████████████████████████████████████████████████████████                                            | 8191/14600 [01:03<00:50, 126.99it/s, epoch=28, loss=[0.6260181326572207, 0.49746072720991436]]"
     ]
    },
    {
     "name": "stdout",
     "output_type": "stream",
     "text": [
      "0.008205\n"
     ]
    },
    {
     "name": "stderr",
     "output_type": "stream",
     "text": [
      "Training:  58%|███████████████████████████████████████████████████████████▊                                           | 8486/14600 [01:05<00:46, 132.85it/s, epoch=29, loss=[0.6257600886364506, 0.49699995431998]]"
     ]
    },
    {
     "name": "stdout",
     "output_type": "stream",
     "text": [
      "0.008205\n"
     ]
    },
    {
     "name": "stderr",
     "output_type": "stream",
     "text": [
      "Training:  60%|████████████████████████████████████████████████████████████▏                                       | 8781/14600 [01:07<00:44, 130.75it/s, epoch=30, loss=[0.6257050123116737, 0.49691610446531465]]"
     ]
    },
    {
     "name": "stdout",
     "output_type": "stream",
     "text": [
      "0.008205\n"
     ]
    },
    {
     "name": "stderr",
     "output_type": "stream",
     "text": [
      "Training:  62%|██████████████████████████████████████████████████████████████▊                                      | 9075/14600 [01:10<00:42, 129.54it/s, epoch=31, loss=[0.6252266029789023, 0.4944701825510966]]"
     ]
    },
    {
     "name": "stdout",
     "output_type": "stream",
     "text": [
      "0.008205\n"
     ]
    },
    {
     "name": "stderr",
     "output_type": "stream",
     "text": [
      "Training:  64%|████████████████████████████████████████████████████████████████▊                                    | 9369/14600 [01:12<00:40, 127.85it/s, epoch=32, loss=[0.6246453139879931, 0.4928786368810967]]"
     ]
    },
    {
     "name": "stdout",
     "output_type": "stream",
     "text": [
      "0.008205\n"
     ]
    },
    {
     "name": "stderr",
     "output_type": "stream",
     "text": [
      "Training:  66%|██████████████████████████████████████████████████████████████████▊                                  | 9656/14600 [01:14<00:38, 128.11it/s, epoch=33, loss=[0.624124100355253, 0.49130989794861785]]"
     ]
    },
    {
     "name": "stdout",
     "output_type": "stream",
     "text": [
      "0.008205\n"
     ]
    },
    {
     "name": "stderr",
     "output_type": "stream",
     "text": [
      "Training:  68%|████████████████████████████████████████████████████████████████████▏                               | 9948/14600 [01:17<00:35, 129.59it/s, epoch=34, loss=[0.6236075893656847, 0.48914740163169484]]"
     ]
    },
    {
     "name": "stdout",
     "output_type": "stream",
     "text": [
      "0.008205\n"
     ]
    },
    {
     "name": "stderr",
     "output_type": "stream",
     "text": [
      "Training:  70%|██████████████████████████████████████████████████████████████████████▊                              | 10236/14600 [01:19<00:34, 127.62it/s, epoch=35, loss=[0.623512561190618, 0.4884868737769456]]"
     ]
    },
    {
     "name": "stdout",
     "output_type": "stream",
     "text": [
      "0.008205\n"
     ]
    },
    {
     "name": "stderr",
     "output_type": "stream",
     "text": [
      "Training:  72%|████████████████████████████████████████████████████████████████████████                            | 10525/14600 [01:21<00:31, 128.46it/s, epoch=36, loss=[0.6241295594875127, 0.4900742532455757]]"
     ]
    },
    {
     "name": "stdout",
     "output_type": "stream",
     "text": [
      "0.008205\n"
     ]
    },
    {
     "name": "stderr",
     "output_type": "stream",
     "text": [
      "Training:  74%|█████████████████████████████████████████████████████████████████████████▍                         | 10826/14600 [01:23<00:29, 126.78it/s, epoch=37, loss=[0.6229037952749695, 0.48619787803251463]]"
     ]
    },
    {
     "name": "stdout",
     "output_type": "stream",
     "text": [
      "0.008205\n"
     ]
    },
    {
     "name": "stderr",
     "output_type": "stream",
     "text": [
      "Training:  76%|███████████████████████████████████████████████████████████████████████████▍                       | 11117/14600 [01:26<00:26, 131.81it/s, epoch=38, loss=[0.6217356859004664, 0.48332944206178996]]"
     ]
    },
    {
     "name": "stdout",
     "output_type": "stream",
     "text": [
      "0.008205\n"
     ]
    },
    {
     "name": "stderr",
     "output_type": "stream",
     "text": [
      "Training:  78%|██████████████████████████████████████████████████████████████████████████████▏                     | 11413/14600 [01:28<00:23, 133.03it/s, epoch=39, loss=[0.6216118013205592, 0.4827960427493266]]"
     ]
    },
    {
     "name": "stdout",
     "output_type": "stream",
     "text": [
      "0.008205\n"
     ]
    },
    {
     "name": "stderr",
     "output_type": "stream",
     "text": [
      "Training:  80%|████████████████████████████████████████████████████████████████████████████████▏                   | 11703/14600 [01:30<00:22, 129.65it/s, epoch=40, loss=[0.6214505356468564, 0.4821247170640996]]"
     ]
    },
    {
     "name": "stdout",
     "output_type": "stream",
     "text": [
      "0.008205\n"
     ]
    },
    {
     "name": "stderr",
     "output_type": "stream",
     "text": [
      "Training:  82%|██████████████████████████████████████████████████████████████████████████████████▏                 | 11995/14600 [01:32<00:19, 131.69it/s, epoch=41, loss=[0.6211182099499116, 0.4808176398685534]]"
     ]
    },
    {
     "name": "stdout",
     "output_type": "stream",
     "text": [
      "0.008205\n"
     ]
    },
    {
     "name": "stderr",
     "output_type": "stream",
     "text": [
      "Training:  84%|████████████████████████████████████████████████████████████████████████████████████▏               | 12285/14600 [01:35<00:17, 129.17it/s, epoch=42, loss=[0.6208379881022725, 0.4800621493630214]]"
     ]
    },
    {
     "name": "stdout",
     "output_type": "stream",
     "text": [
      "0.008205\n"
     ]
    },
    {
     "name": "stderr",
     "output_type": "stream",
     "text": [
      "Training:  86%|█████████████████████████████████████████████████████████████████████████████████████▎             | 12576/14600 [01:37<00:15, 129.57it/s, epoch=43, loss=[0.6206107870356681, 0.47965799129172576]]"
     ]
    },
    {
     "name": "stdout",
     "output_type": "stream",
     "text": [
      "0.008205\n"
     ]
    },
    {
     "name": "stderr",
     "output_type": "stream",
     "text": [
      "Training:  88%|████████████████████████████████████████████████████████████████████████████████████████▏           | 12868/14600 [01:39<00:13, 128.24it/s, epoch=44, loss=[0.6196105606751897, 0.4762996559681958]]"
     ]
    },
    {
     "name": "stdout",
     "output_type": "stream",
     "text": [
      "0.008205\n"
     ]
    },
    {
     "name": "stderr",
     "output_type": "stream",
     "text": [
      "Training:  90%|██████████████████████████████████████████████████████████████████████████████████████████▏         | 13163/14600 [01:41<00:11, 129.97it/s, epoch=45, loss=[0.6195292917832935, 0.4756756988290237]]"
     ]
    },
    {
     "name": "stdout",
     "output_type": "stream",
     "text": [
      "0.008205\n"
     ]
    },
    {
     "name": "stderr",
     "output_type": "stream",
     "text": [
      "Training:  92%|███████████████████████████████████████████████████████████████████████████████████████████▏       | 13446/14600 [01:44<00:08, 131.65it/s, epoch=46, loss=[0.6193352778480479, 0.47454628103399965]]"
     ]
    },
    {
     "name": "stdout",
     "output_type": "stream",
     "text": [
      "0.008205\n"
     ]
    },
    {
     "name": "stderr",
     "output_type": "stream",
     "text": [
      "Training:  94%|███████████████████████████████████████████████████████████████████████████████████████████████      | 13738/14600 [01:46<00:06, 129.20it/s, epoch=47, loss=[0.6198254194978168, 0.476168348364634]]"
     ]
    },
    {
     "name": "stdout",
     "output_type": "stream",
     "text": [
      "0.008205\n"
     ]
    },
    {
     "name": "stderr",
     "output_type": "stream",
     "text": [
      "Training:  96%|███████████████████████████████████████████████████████████████████████████████████████████████▏   | 14034/14600 [01:48<00:04, 127.96it/s, epoch=48, loss=[0.6186877897340956, 0.47232865103303584]]"
     ]
    },
    {
     "name": "stdout",
     "output_type": "stream",
     "text": [
      "0.008205\n"
     ]
    },
    {
     "name": "stderr",
     "output_type": "stream",
     "text": [
      "Training:  98%|██████████████████████████████████████████████████████████████████████████████████████████████████▏ | 14331/14600 [01:50<00:02, 131.79it/s, epoch=49, loss=[0.618462480502586, 0.47220148146152474]]"
     ]
    },
    {
     "name": "stdout",
     "output_type": "stream",
     "text": [
      "0.008205\n"
     ]
    },
    {
     "name": "stderr",
     "output_type": "stream",
     "text": [
      "Training: 100%|█████████████████████████████████████████████████████████████████████████████████████████████████████| 14600/14600 [01:52<00:00, 129.23it/s, epoch=50, loss=[0.6180496501596008, 0.470172577728964]]\n"
     ]
    },
    {
     "name": "stdout",
     "output_type": "stream",
     "text": [
      "0.008205\n",
      "Training Accuracy: 94.68495499357051%\n",
      "Testing Accuracy: 26.88655672163918%\n",
      "Top 5 Training Accuracy: 99.80711530218602%\n",
      "Top 5 Testing Accuracy: 52.973513243378314%\n",
      "Test to train ratio:  0.4\n",
      "Train Loader: 125\n",
      "Test Loader: 84\n",
      "Network Size: 2048\n",
      "Initialization 1 / 2\n",
      "Complete\n",
      "\n",
      "Initialization 2 / 2\n",
      "Complete\n",
      "\n"
     ]
    },
    {
     "name": "stderr",
     "output_type": "stream",
     "text": [
      "Training:   2%|██▏                                                                                                    | 267/12500 [00:02<01:33, 130.45it/s, epoch=1, loss=[0.6880584087371824, 0.6933163933753972]]"
     ]
    },
    {
     "name": "stdout",
     "output_type": "stream",
     "text": [
      "0.005326\n"
     ]
    },
    {
     "name": "stderr",
     "output_type": "stream",
     "text": [
      "Training:   4%|████▎                                                                                                  | 523/12500 [00:03<01:30, 132.54it/s, epoch=2, loss=[0.6612241864204407, 0.6649192848205565]]"
     ]
    },
    {
     "name": "stdout",
     "output_type": "stream",
     "text": [
      "0.005326\n"
     ]
    },
    {
     "name": "stderr",
     "output_type": "stream",
     "text": [
      "Training:   6%|██████▍                                                                                                | 776/12500 [00:05<01:28, 132.53it/s, epoch=3, loss=[0.6545860276222231, 0.6341262044906618]]"
     ]
    },
    {
     "name": "stdout",
     "output_type": "stream",
     "text": [
      "0.005326\n"
     ]
    },
    {
     "name": "stderr",
     "output_type": "stream",
     "text": [
      "Training:   8%|████████▎                                                                                              | 1014/12500 [00:07<01:29, 128.76it/s, epoch=4, loss=[0.6500551285743712, 0.615321063041687]]"
     ]
    },
    {
     "name": "stdout",
     "output_type": "stream",
     "text": [
      "0.005326\n"
     ]
    },
    {
     "name": "stderr",
     "output_type": "stream",
     "text": [
      "Training:  10%|██████████▍                                                                                           | 1272/12500 [00:09<01:27, 128.12it/s, epoch=5, loss=[0.6461699104309082, 0.6002227287292483]]"
     ]
    },
    {
     "name": "stdout",
     "output_type": "stream",
     "text": [
      "0.005326\n"
     ]
    },
    {
     "name": "stderr",
     "output_type": "stream",
     "text": [
      "Training:  12%|████████████▍                                                                                         | 1522/12500 [00:11<01:25, 128.94it/s, epoch=6, loss=[0.6432908759117123, 0.5885976090431212]]"
     ]
    },
    {
     "name": "stdout",
     "output_type": "stream",
     "text": [
      "0.005326\n"
     ]
    },
    {
     "name": "stderr",
     "output_type": "stream",
     "text": [
      "Training:  14%|██████████████▍                                                                                       | 1765/12500 [00:13<01:24, 127.53it/s, epoch=7, loss=[0.6403979902267458, 0.5765865302085876]]"
     ]
    },
    {
     "name": "stdout",
     "output_type": "stream",
     "text": [
      "0.005326\n"
     ]
    },
    {
     "name": "stderr",
     "output_type": "stream",
     "text": [
      "Training:  16%|████████████████▍                                                                                     | 2013/12500 [00:15<01:22, 127.39it/s, epoch=8, loss=[0.6391115245819095, 0.5687547173500063]]"
     ]
    },
    {
     "name": "stdout",
     "output_type": "stream",
     "text": [
      "0.005326\n"
     ]
    },
    {
     "name": "stderr",
     "output_type": "stream",
     "text": [
      "Training:  18%|██████████████████▋                                                                                    | 2264/12500 [00:17<01:18, 130.59it/s, epoch=9, loss=[0.637922134399414, 0.5606441340446476]]"
     ]
    },
    {
     "name": "stdout",
     "output_type": "stream",
     "text": [
      "0.005326\n"
     ]
    },
    {
     "name": "stderr",
     "output_type": "stream",
     "text": [
      "Training:  20%|████████████████████▍                                                                                | 2522/12500 [00:19<01:18, 126.55it/s, epoch=10, loss=[0.6359589862823487, 0.5523626542091369]]"
     ]
    },
    {
     "name": "stdout",
     "output_type": "stream",
     "text": [
      "0.005326\n"
     ]
    },
    {
     "name": "stderr",
     "output_type": "stream",
     "text": [
      "Training:  22%|██████████████████████▊                                                                                | 2772/12500 [00:21<01:17, 126.33it/s, epoch=11, loss=[0.634468077659607, 0.546870930671692]]"
     ]
    },
    {
     "name": "stdout",
     "output_type": "stream",
     "text": [
      "0.005326\n"
     ]
    },
    {
     "name": "stderr",
     "output_type": "stream",
     "text": [
      "Training:  24%|████████████████████████▍                                                                            | 3020/12500 [00:23<01:15, 126.22it/s, epoch=12, loss=[0.6331199207305911, 0.5402330718040468]]"
     ]
    },
    {
     "name": "stdout",
     "output_type": "stream",
     "text": [
      "0.005326\n"
     ]
    },
    {
     "name": "stderr",
     "output_type": "stream",
     "text": [
      "Training:  26%|██████████████████████████▎                                                                          | 3263/12500 [00:25<01:11, 128.62it/s, epoch=13, loss=[0.6317986164093018, 0.5349378848075867]]"
     ]
    },
    {
     "name": "stdout",
     "output_type": "stream",
     "text": [
      "0.005326\n"
     ]
    },
    {
     "name": "stderr",
     "output_type": "stream",
     "text": [
      "Training:  28%|████████████████████████████▍                                                                        | 3520/12500 [00:27<01:10, 127.82it/s, epoch=14, loss=[0.6305712780952454, 0.5291237289905546]]"
     ]
    },
    {
     "name": "stdout",
     "output_type": "stream",
     "text": [
      "0.005326\n"
     ]
    },
    {
     "name": "stderr",
     "output_type": "stream",
     "text": [
      "Training:  30%|██████████████████████████████▍                                                                      | 3771/12500 [00:29<01:07, 129.11it/s, epoch=15, loss=[0.6297011570930479, 0.5253212795257568]]"
     ]
    },
    {
     "name": "stdout",
     "output_type": "stream",
     "text": [
      "0.005326\n"
     ]
    },
    {
     "name": "stderr",
     "output_type": "stream",
     "text": [
      "Training:  32%|████████████████████████████████▍                                                                    | 4017/12500 [00:30<01:03, 133.58it/s, epoch=16, loss=[0.6294688591957092, 0.5230952506065369]]"
     ]
    },
    {
     "name": "stdout",
     "output_type": "stream",
     "text": [
      "0.005326\n"
     ]
    },
    {
     "name": "stderr",
     "output_type": "stream",
     "text": [
      "Training:  34%|██████████████████████████████████▊                                                                   | 4271/12500 [00:32<01:04, 128.26it/s, epoch=17, loss=[0.6287981352806093, 0.519833032608032]]"
     ]
    },
    {
     "name": "stdout",
     "output_type": "stream",
     "text": [
      "0.005326\n"
     ]
    },
    {
     "name": "stderr",
     "output_type": "stream",
     "text": [
      "Training:  36%|████████████████████████████████████▌                                                                | 4525/12500 [00:34<01:00, 131.16it/s, epoch=18, loss=[0.6283251118659972, 0.5165818188190459]]"
     ]
    },
    {
     "name": "stdout",
     "output_type": "stream",
     "text": [
      "0.005326\n"
     ]
    },
    {
     "name": "stderr",
     "output_type": "stream",
     "text": [
      "Training:  38%|██████████████████████████████████████▉                                                               | 4774/12500 [00:36<01:01, 126.21it/s, epoch=19, loss=[0.6273504800796507, 0.513287235021591]]"
     ]
    },
    {
     "name": "stdout",
     "output_type": "stream",
     "text": [
      "0.005326\n"
     ]
    },
    {
     "name": "stderr",
     "output_type": "stream",
     "text": [
      "Training:  40%|████████████████████████████████████████▌                                                            | 5013/12500 [00:38<00:58, 128.68it/s, epoch=20, loss=[0.6265649194717405, 0.5100641405582427]]"
     ]
    },
    {
     "name": "stdout",
     "output_type": "stream",
     "text": [
      "0.005326\n"
     ]
    },
    {
     "name": "stderr",
     "output_type": "stream",
     "text": [
      "Training:  42%|██████████████████████████████████████████▌                                                          | 5270/12500 [00:40<00:57, 126.24it/s, epoch=21, loss=[0.6255827598571778, 0.5065797989368436]]"
     ]
    },
    {
     "name": "stdout",
     "output_type": "stream",
     "text": [
      "0.005326\n"
     ]
    },
    {
     "name": "stderr",
     "output_type": "stream",
     "text": [
      "Training:  44%|████████████████████████████████████████████▌                                                        | 5519/12500 [00:42<00:55, 126.77it/s, epoch=22, loss=[0.6251546263694764, 0.5052979519367219]]"
     ]
    },
    {
     "name": "stdout",
     "output_type": "stream",
     "text": [
      "0.007975\n"
     ]
    },
    {
     "name": "stderr",
     "output_type": "stream",
     "text": [
      "Training:  46%|██████████████████████████████████████████████▌                                                      | 5768/12500 [00:44<00:52, 128.90it/s, epoch=23, loss=[0.6243806319236757, 0.5020234494209289]]"
     ]
    },
    {
     "name": "stdout",
     "output_type": "stream",
     "text": [
      "0.007975\n"
     ]
    },
    {
     "name": "stderr",
     "output_type": "stream",
     "text": [
      "Training:  48%|████████████████████████████████████████████████▋                                                    | 6018/12500 [00:46<00:51, 125.61it/s, epoch=24, loss=[0.6236924395561215, 0.4997202310562135]]"
     ]
    },
    {
     "name": "stdout",
     "output_type": "stream",
     "text": [
      "0.007975\n"
     ]
    },
    {
     "name": "stderr",
     "output_type": "stream",
     "text": [
      "Training:  50%|██████████████████████████████████████████████████▏                                                 | 6269/12500 [00:48<00:48, 128.93it/s, epoch=25, loss=[0.6233008337020876, 0.49734084606170664]]"
     ]
    },
    {
     "name": "stdout",
     "output_type": "stream",
     "text": [
      "0.007975\n"
     ]
    },
    {
     "name": "stderr",
     "output_type": "stream",
     "text": [
      "Training:  52%|████████████████████████████████████████████████████                                                | 6514/12500 [00:50<00:46, 128.95it/s, epoch=26, loss=[0.6228949561119077, 0.49680024814605717]]"
     ]
    },
    {
     "name": "stdout",
     "output_type": "stream",
     "text": [
      "0.007975\n"
     ]
    },
    {
     "name": "stderr",
     "output_type": "stream",
     "text": [
      "Training:  54%|██████████████████████████████████████████████████████▏                                             | 6776/12500 [00:52<00:43, 130.81it/s, epoch=27, loss=[0.6217735676765443, 0.49309485054016117]]"
     ]
    },
    {
     "name": "stdout",
     "output_type": "stream",
     "text": [
      "0.007975\n"
     ]
    },
    {
     "name": "stderr",
     "output_type": "stream",
     "text": [
      "Training:  56%|██████████████████████████████████████████████████████████▎                                             | 7014/12500 [00:54<00:42, 129.93it/s, epoch=28, loss=[0.6207688760757448, 0.4904386947155]]"
     ]
    },
    {
     "name": "stdout",
     "output_type": "stream",
     "text": [
      "0.007975\n"
     ]
    },
    {
     "name": "stderr",
     "output_type": "stream",
     "text": [
      "Training:  58%|██████████████████████████████████████████████████████████▋                                          | 7266/12500 [00:56<00:39, 131.07it/s, epoch=29, loss=[0.6200961451530458, 0.4877454986572265]]"
     ]
    },
    {
     "name": "stdout",
     "output_type": "stream",
     "text": [
      "0.007975\n"
     ]
    },
    {
     "name": "stderr",
     "output_type": "stream",
     "text": [
      "Training:  60%|████████████████████████████████████████████████████████████▏                                       | 7522/12500 [00:58<00:37, 131.23it/s, epoch=30, loss=[0.6190596008300782, 0.48663457560539236]]"
     ]
    },
    {
     "name": "stdout",
     "output_type": "stream",
     "text": [
      "0.007975\n"
     ]
    },
    {
     "name": "stderr",
     "output_type": "stream",
     "text": [
      "Training:  62%|██████████████████████████████████████████████████████████████▏                                     | 7774/12500 [01:00<00:35, 131.47it/s, epoch=31, loss=[0.6181640014648438, 0.48289731812477127]]"
     ]
    },
    {
     "name": "stdout",
     "output_type": "stream",
     "text": [
      "0.007975\n"
     ]
    },
    {
     "name": "stderr",
     "output_type": "stream",
     "text": [
      "Training:  64%|████████████████████████████████████████████████████████████████▊                                    | 8025/12500 [01:02<00:34, 128.24it/s, epoch=32, loss=[0.6171105890274051, 0.4803049409389495]]"
     ]
    },
    {
     "name": "stdout",
     "output_type": "stream",
     "text": [
      "0.007975\n"
     ]
    },
    {
     "name": "stderr",
     "output_type": "stream",
     "text": [
      "Training:  66%|███████████████████████████████████████████████████████████████████▍                                  | 8264/12500 [01:03<00:33, 127.91it/s, epoch=33, loss=[0.617162652015686, 0.4798374166488646]]"
     ]
    },
    {
     "name": "stdout",
     "output_type": "stream",
     "text": [
      "0.007975\n"
     ]
    },
    {
     "name": "stderr",
     "output_type": "stream",
     "text": [
      "Training:  68%|████████████████████████████████████████████████████████████████████                                | 8514/12500 [01:05<00:31, 128.24it/s, epoch=34, loss=[0.6164541420936586, 0.47763581657409687]]"
     ]
    },
    {
     "name": "stdout",
     "output_type": "stream",
     "text": [
      "0.007975\n"
     ]
    },
    {
     "name": "stderr",
     "output_type": "stream",
     "text": [
      "Training:  70%|██████████████████████████████████████████████████████████████████████▏                             | 8770/12500 [01:07<00:28, 129.92it/s, epoch=35, loss=[0.6155748205184937, 0.47475152158737177]]"
     ]
    },
    {
     "name": "stdout",
     "output_type": "stream",
     "text": [
      "0.007975\n"
     ]
    },
    {
     "name": "stderr",
     "output_type": "stream",
     "text": [
      "Training:  72%|█████████████████████████████████████████████████████████████████████████▌                            | 9017/12500 [01:09<00:27, 128.27it/s, epoch=36, loss=[0.6154053320884705, 0.474213666677475]]"
     ]
    },
    {
     "name": "stdout",
     "output_type": "stream",
     "text": [
      "0.007975\n"
     ]
    },
    {
     "name": "stderr",
     "output_type": "stream",
     "text": [
      "Training:  74%|██████████████████████████████████████████████████████████████████████████▏                         | 9268/12500 [01:11<00:25, 128.63it/s, epoch=37, loss=[0.6148440842628483, 0.47334398102760317]]"
     ]
    },
    {
     "name": "stdout",
     "output_type": "stream",
     "text": [
      "0.007975\n"
     ]
    },
    {
     "name": "stderr",
     "output_type": "stream",
     "text": [
      "Training:  76%|████████████████████████████████████████████████████████████████████████████▉                        | 9517/12500 [01:13<00:23, 126.14it/s, epoch=38, loss=[0.6138512792587284, 0.4693818600177766]]"
     ]
    },
    {
     "name": "stdout",
     "output_type": "stream",
     "text": [
      "0.007975\n"
     ]
    },
    {
     "name": "stderr",
     "output_type": "stream",
     "text": [
      "Training:  78%|██████████████████████████████████████████████████████████████████████████████                      | 9762/12500 [01:15<00:20, 130.52it/s, epoch=39, loss=[0.6137677268981933, 0.46972799754142747]]"
     ]
    },
    {
     "name": "stdout",
     "output_type": "stream",
     "text": [
      "0.007975\n"
     ]
    },
    {
     "name": "stderr",
     "output_type": "stream",
     "text": [
      "Training:  80%|████████████████████████████████████████████████████████████████████████████████                    | 10014/12500 [01:17<00:19, 128.37it/s, epoch=40, loss=[0.6133601279258729, 0.4680555593967439]]"
     ]
    },
    {
     "name": "stdout",
     "output_type": "stream",
     "text": [
      "0.007975\n"
     ]
    },
    {
     "name": "stderr",
     "output_type": "stream",
     "text": [
      "Training:  82%|██████████████████████████████████████████████████████████████████████████████████▉                  | 10263/12500 [01:19<00:17, 127.29it/s, epoch=41, loss=[0.612475179195404, 0.4647786514759062]]"
     ]
    },
    {
     "name": "stdout",
     "output_type": "stream",
     "text": [
      "0.007975\n"
     ]
    },
    {
     "name": "stderr",
     "output_type": "stream",
     "text": [
      "Training:  84%|█████████████████████████████████████████████████████████████████████████████████████                | 10524/12500 [01:21<00:15, 128.88it/s, epoch=42, loss=[0.612231458187103, 0.4641598460674285]]"
     ]
    },
    {
     "name": "stdout",
     "output_type": "stream",
     "text": [
      "0.007975\n"
     ]
    },
    {
     "name": "stderr",
     "output_type": "stream",
     "text": [
      "Training:  86%|██████████████████████████████████████████████████████████████████████████████████████▏             | 10767/12500 [01:23<00:13, 130.55it/s, epoch=43, loss=[0.6123507719039918, 0.4646210131645201]]"
     ]
    },
    {
     "name": "stdout",
     "output_type": "stream",
     "text": [
      "0.008295\n"
     ]
    },
    {
     "name": "stderr",
     "output_type": "stream",
     "text": [
      "Training:  88%|█████████████████████████████████████████████████████████████████████████████████████████            | 11019/12500 [01:25<00:11, 129.16it/s, epoch=44, loss=[0.611953423023224, 0.4635295557975769]]"
     ]
    },
    {
     "name": "stdout",
     "output_type": "stream",
     "text": [
      "0.008295\n"
     ]
    },
    {
     "name": "stderr",
     "output_type": "stream",
     "text": [
      "Training:  90%|██████████████████████████████████████████████████████████████████████████████████████████▏         | 11268/12500 [01:27<00:09, 127.99it/s, epoch=45, loss=[0.6114751977920532, 0.4614681332111358]]"
     ]
    },
    {
     "name": "stdout",
     "output_type": "stream",
     "text": [
      "0.008295\n"
     ]
    },
    {
     "name": "stderr",
     "output_type": "stream",
     "text": [
      "Training:  92%|███████████████████████████████████████████████████████████████████████████████████████████▎       | 11524/12500 [01:29<00:07, 129.63it/s, epoch=46, loss=[0.6121904468536378, 0.46363453555107137]]"
     ]
    },
    {
     "name": "stdout",
     "output_type": "stream",
     "text": [
      "0.008295\n"
     ]
    },
    {
     "name": "stderr",
     "output_type": "stream",
     "text": [
      "Training:  94%|██████████████████████████████████████████████████████████████████████████████████████████████▏     | 11773/12500 [01:31<00:05, 125.76it/s, epoch=47, loss=[0.6115919914245607, 0.4615980234146118]]"
     ]
    },
    {
     "name": "stdout",
     "output_type": "stream",
     "text": [
      "0.008295\n"
     ]
    },
    {
     "name": "stderr",
     "output_type": "stream",
     "text": [
      "Training:  96%|███████████████████████████████████████████████████████████████████████████████████████████████▏   | 12020/12500 [01:33<00:03, 126.58it/s, epoch=48, loss=[0.6104469280242921, 0.45854727315902705]]"
     ]
    },
    {
     "name": "stdout",
     "output_type": "stream",
     "text": [
      "0.008295\n"
     ]
    },
    {
     "name": "stderr",
     "output_type": "stream",
     "text": [
      "Training:  98%|█████████████████████████████████████████████████████████████████████████████████████████████████▏ | 12273/12500 [01:35<00:01, 127.33it/s, epoch=49, loss=[0.6098218970298768, 0.45655774879455563]]"
     ]
    },
    {
     "name": "stdout",
     "output_type": "stream",
     "text": [
      "0.008295\n"
     ]
    },
    {
     "name": "stderr",
     "output_type": "stream",
     "text": [
      "Training: 100%|████████████████████████████████████████████████████████████████████████████████████████████████████| 12500/12500 [01:36<00:00, 128.95it/s, epoch=50, loss=[0.6095308489799499, 0.4554915781021118]]\n"
     ]
    },
    {
     "name": "stdout",
     "output_type": "stream",
     "text": [
      "0.008295\n",
      "Training Accuracy: 98.1%\n",
      "Testing Accuracy: 29.658792650918635%\n",
      "Top 5 Training Accuracy: 100.0%\n",
      "Top 5 Testing Accuracy: 52.23097112860893%\n",
      "Test to train ratio:  0.5\n",
      "Train Loader: 105\n",
      "Test Loader: 105\n",
      "Network Size: 2048\n",
      "Initialization 1 / 2\n",
      "Complete\n",
      "\n",
      "Initialization 2 / 2\n",
      "Complete\n",
      "\n"
     ]
    },
    {
     "name": "stderr",
     "output_type": "stream",
     "text": [
      "Training:   2%|██▏                                                                                                     | 226/10500 [00:01<01:17, 132.67it/s, epoch=1, loss=[0.690158915519714, 0.6939717218989416]]"
     ]
    },
    {
     "name": "stdout",
     "output_type": "stream",
     "text": [
      "0.005444\n"
     ]
    },
    {
     "name": "stderr",
     "output_type": "stream",
     "text": [
      "Training:   4%|████▏                                                                                                  | 433/10500 [00:03<01:15, 132.85it/s, epoch=2, loss=[0.6653993799572897, 0.6746785538537163]]"
     ]
    },
    {
     "name": "stdout",
     "output_type": "stream",
     "text": [
      "0.005444\n"
     ]
    },
    {
     "name": "stderr",
     "output_type": "stream",
     "text": [
      "Training:   6%|██████▍                                                                                                | 653/10500 [00:05<01:15, 129.59it/s, epoch=3, loss=[0.6562933359827317, 0.6431180743944076]]"
     ]
    },
    {
     "name": "stdout",
     "output_type": "stream",
     "text": [
      "0.005444\n"
     ]
    },
    {
     "name": "stderr",
     "output_type": "stream",
     "text": [
      "Training:   8%|████████▍                                                                                               | 855/10500 [00:06<01:13, 131.05it/s, epoch=4, loss=[0.6519779795692086, 0.623853233882359]]"
     ]
    },
    {
     "name": "stdout",
     "output_type": "stream",
     "text": [
      "0.005444\n"
     ]
    },
    {
     "name": "stderr",
     "output_type": "stream",
     "text": [
      "Training:  10%|██████████▎                                                                                           | 1067/10500 [00:08<01:11, 132.01it/s, epoch=5, loss=[0.6492430323646182, 0.6092185457547504]]"
     ]
    },
    {
     "name": "stdout",
     "output_type": "stream",
     "text": [
      "0.005444\n"
     ]
    },
    {
     "name": "stderr",
     "output_type": "stream",
     "text": [
      "Training:  12%|████████████▍                                                                                         | 1275/10500 [00:09<01:08, 133.76it/s, epoch=6, loss=[0.6461025941939584, 0.5962878159114295]]"
     ]
    },
    {
     "name": "stdout",
     "output_type": "stream",
     "text": [
      "0.005444\n"
     ]
    },
    {
     "name": "stderr",
     "output_type": "stream",
     "text": [
      "Training:  14%|██████████████▍                                                                                       | 1492/10500 [00:11<01:08, 131.68it/s, epoch=7, loss=[0.6443467798687162, 0.5860631925719124]]"
     ]
    },
    {
     "name": "stdout",
     "output_type": "stream",
     "text": [
      "0.005444\n"
     ]
    },
    {
     "name": "stderr",
     "output_type": "stream",
     "text": [
      "Training:  16%|████████████████▋                                                                                      | 1697/10500 [00:13<01:08, 128.52it/s, epoch=8, loss=[0.6420425273123244, 0.576612631479899]]"
     ]
    },
    {
     "name": "stdout",
     "output_type": "stream",
     "text": [
      "0.005444\n"
     ]
    },
    {
     "name": "stderr",
     "output_type": "stream",
     "text": [
      "Training:  18%|██████████████████▋                                                                                    | 1908/10500 [00:14<01:06, 129.74it/s, epoch=9, loss=[0.640928892862229, 0.5674828818866187]]"
     ]
    },
    {
     "name": "stdout",
     "output_type": "stream",
     "text": [
      "0.005444\n"
     ]
    },
    {
     "name": "stderr",
     "output_type": "stream",
     "text": [
      "Training:  20%|████████████████████▊                                                                                  | 2125/10500 [00:16<01:03, 132.45it/s, epoch=10, loss=[0.638355413505009, 0.559351911431267]]"
     ]
    },
    {
     "name": "stdout",
     "output_type": "stream",
     "text": [
      "0.005444\n"
     ]
    },
    {
     "name": "stderr",
     "output_type": "stream",
     "text": [
      "Training:  22%|██████████████████████▌                                                                               | 2326/10500 [00:18<01:03, 129.49it/s, epoch=11, loss=[0.6368820684296742, 0.551951159182049]]"
     ]
    },
    {
     "name": "stdout",
     "output_type": "stream",
     "text": [
      "0.005444\n"
     ]
    },
    {
     "name": "stderr",
     "output_type": "stream",
     "text": [
      "Training:  24%|████████████████████████▋                                                                             | 2538/10500 [00:19<01:01, 130.46it/s, epoch=12, loss=[0.635611082826342, 0.5456486781438192]]"
     ]
    },
    {
     "name": "stdout",
     "output_type": "stream",
     "text": [
      "0.005444\n"
     ]
    },
    {
     "name": "stderr",
     "output_type": "stream",
     "text": [
      "Training:  26%|██████████████████████████▍                                                                          | 2749/10500 [00:21<01:00, 129.04it/s, epoch=13, loss=[0.6344379254749843, 0.5394386274474009]]"
     ]
    },
    {
     "name": "stdout",
     "output_type": "stream",
     "text": [
      "0.005444\n"
     ]
    },
    {
     "name": "stderr",
     "output_type": "stream",
     "text": [
      "Training:  28%|████████████████████████████▍                                                                        | 2960/10500 [00:22<00:58, 129.75it/s, epoch=14, loss=[0.6322381416956585, 0.5320010823862894]]"
     ]
    },
    {
     "name": "stdout",
     "output_type": "stream",
     "text": [
      "0.005444\n"
     ]
    },
    {
     "name": "stderr",
     "output_type": "stream",
     "text": [
      "Training:  30%|██████████████████████████████▌                                                                      | 3172/10500 [00:24<00:55, 131.06it/s, epoch=15, loss=[0.6312034493400935, 0.5283538562910898]]"
     ]
    },
    {
     "name": "stdout",
     "output_type": "stream",
     "text": [
      "0.005444\n"
     ]
    },
    {
     "name": "stderr",
     "output_type": "stream",
     "text": [
      "Training:  32%|████████████████████████████████▌                                                                    | 3385/10500 [00:26<00:55, 128.85it/s, epoch=16, loss=[0.6303616926783607, 0.5233531983125775]]"
     ]
    },
    {
     "name": "stdout",
     "output_type": "stream",
     "text": [
      "0.005444\n"
     ]
    },
    {
     "name": "stderr",
     "output_type": "stream",
     "text": [
      "Training:  34%|██████████████████████████████████▍                                                                  | 3585/10500 [00:27<00:52, 130.91it/s, epoch=17, loss=[0.6293927839824133, 0.5199813451085773]]"
     ]
    },
    {
     "name": "stdout",
     "output_type": "stream",
     "text": [
      "0.005444\n"
     ]
    },
    {
     "name": "stderr",
     "output_type": "stream",
     "text": [
      "Training:  36%|████████████████████████████████████▌                                                                | 3799/10500 [00:29<00:51, 129.59it/s, epoch=18, loss=[0.6290288147472202, 0.5177753641491846]]"
     ]
    },
    {
     "name": "stdout",
     "output_type": "stream",
     "text": [
      "0.005444\n"
     ]
    },
    {
     "name": "stderr",
     "output_type": "stream",
     "text": [
      "Training:  38%|██████████████████████████████████████▉                                                               | 4009/10500 [00:31<00:50, 127.99it/s, epoch=19, loss=[0.6291984961146398, 0.515359090907233]]"
     ]
    },
    {
     "name": "stdout",
     "output_type": "stream",
     "text": [
      "0.005444\n"
     ]
    },
    {
     "name": "stderr",
     "output_type": "stream",
     "text": [
      "Training:  40%|████████████████████████████████████████▌                                                            | 4222/10500 [00:32<00:47, 131.26it/s, epoch=20, loss=[0.6285961872055414, 0.5122422598657154]]"
     ]
    },
    {
     "name": "stdout",
     "output_type": "stream",
     "text": [
      "0.005444\n"
     ]
    },
    {
     "name": "stderr",
     "output_type": "stream",
     "text": [
      "Training:  42%|██████████████████████████████████████████▌                                                          | 4426/10500 [00:34<00:45, 132.54it/s, epoch=21, loss=[0.6284470989590597, 0.5102481368042175]]"
     ]
    },
    {
     "name": "stdout",
     "output_type": "stream",
     "text": [
      "0.005444\n"
     ]
    },
    {
     "name": "stderr",
     "output_type": "stream",
     "text": [
      "Training:  44%|████████████████████████████████████████████▌                                                        | 4636/10500 [00:35<00:44, 132.28it/s, epoch=22, loss=[0.6275180305753434, 0.5069617430369059]]"
     ]
    },
    {
     "name": "stdout",
     "output_type": "stream",
     "text": [
      "0.005444\n"
     ]
    },
    {
     "name": "stderr",
     "output_type": "stream",
     "text": [
      "Training:  46%|██████████████████████████████████████████████▌                                                      | 4845/10500 [00:37<00:42, 131.72it/s, epoch=23, loss=[0.6270156434604099, 0.5049399693806966]]"
     ]
    },
    {
     "name": "stdout",
     "output_type": "stream",
     "text": [
      "0.005444\n"
     ]
    },
    {
     "name": "stderr",
     "output_type": "stream",
     "text": [
      "Training:  48%|████████████████████████████████████████████████▋                                                    | 5057/10500 [00:39<00:42, 129.22it/s, epoch=24, loss=[0.6261754376547677, 0.5018965159143721]]"
     ]
    },
    {
     "name": "stdout",
     "output_type": "stream",
     "text": [
      "0.005444\n"
     ]
    },
    {
     "name": "stderr",
     "output_type": "stream",
     "text": [
      "Training:  50%|██████████████████████████████████████████████████▋                                                  | 5267/10500 [00:40<00:40, 129.66it/s, epoch=25, loss=[0.6255668747992745, 0.4994889353002821]]"
     ]
    },
    {
     "name": "stdout",
     "output_type": "stream",
     "text": [
      "0.005444\n"
     ]
    },
    {
     "name": "stderr",
     "output_type": "stream",
     "text": [
      "Training:  52%|████████████████████████████████████████████████████▋                                                | 5480/10500 [00:42<00:38, 129.94it/s, epoch=26, loss=[0.6246255505652658, 0.4962243270306361]]"
     ]
    },
    {
     "name": "stdout",
     "output_type": "stream",
     "text": [
      "0.006695\n"
     ]
    },
    {
     "name": "stderr",
     "output_type": "stream",
     "text": [
      "Training:  54%|██████████████████████████████████████████████████████▏                                             | 5693/10500 [00:44<00:37, 129.29it/s, epoch=27, loss=[0.6244788521812074, 0.49513930224236985]]"
     ]
    },
    {
     "name": "stdout",
     "output_type": "stream",
     "text": [
      "0.006695\n"
     ]
    },
    {
     "name": "stderr",
     "output_type": "stream",
     "text": [
      "Training:  56%|████████████████████████████████████████████████████████▏                                           | 5905/10500 [00:45<00:35, 128.92it/s, epoch=28, loss=[0.6240036124274843, 0.49386631108465656]]"
     ]
    },
    {
     "name": "stdout",
     "output_type": "stream",
     "text": [
      "0.006695\n"
     ]
    },
    {
     "name": "stderr",
     "output_type": "stream",
     "text": [
      "Training:  58%|███████████████████████████████████████████████████████████▎                                          | 6112/10500 [00:47<00:33, 131.96it/s, epoch=29, loss=[0.623656778676169, 0.4917330415475936]]"
     ]
    },
    {
     "name": "stdout",
     "output_type": "stream",
     "text": [
      "0.006695\n"
     ]
    },
    {
     "name": "stderr",
     "output_type": "stream",
     "text": [
      "Training:  60%|████████████████████████████████████████████████████████████▏                                       | 6325/10500 [00:49<00:31, 131.84it/s, epoch=30, loss=[0.6232627153396606, 0.49020251631736766]]"
     ]
    },
    {
     "name": "stdout",
     "output_type": "stream",
     "text": [
      "0.006695\n"
     ]
    },
    {
     "name": "stderr",
     "output_type": "stream",
     "text": [
      "Training:  62%|██████████████████████████████████████████████████████████████▏                                     | 6534/10500 [00:50<00:30, 131.53it/s, epoch=31, loss=[0.6227348707971121, 0.48812164862950636]]"
     ]
    },
    {
     "name": "stdout",
     "output_type": "stream",
     "text": [
      "0.006695\n"
     ]
    },
    {
     "name": "stderr",
     "output_type": "stream",
     "text": [
      "Training:  64%|████████████████████████████████████████████████████████████████▏                                   | 6736/10500 [00:52<00:28, 132.84it/s, epoch=32, loss=[0.6229647903215318, 0.48843884468078597]]"
     ]
    },
    {
     "name": "stdout",
     "output_type": "stream",
     "text": [
      "0.006695\n"
     ]
    },
    {
     "name": "stderr",
     "output_type": "stream",
     "text": [
      "Training:  66%|██████████████████████████████████████████████████████████████████▏                                 | 6956/10500 [00:53<00:26, 135.39it/s, epoch=33, loss=[0.6220819592475891, 0.48478932153610976]]"
     ]
    },
    {
     "name": "stdout",
     "output_type": "stream",
     "text": [
      "0.006695\n"
     ]
    },
    {
     "name": "stderr",
     "output_type": "stream",
     "text": [
      "Training:  68%|████████████████████████████████████████████████████████████████████▊                                | 7157/10500 [00:55<00:25, 129.96it/s, epoch=34, loss=[0.6211550922620865, 0.4822848961466834]]"
     ]
    },
    {
     "name": "stdout",
     "output_type": "stream",
     "text": [
      "0.006695\n"
     ]
    },
    {
     "name": "stderr",
     "output_type": "stream",
     "text": [
      "Training:  70%|██████████████████████████████████████████████████████████████████████▉                              | 7369/10500 [00:57<00:24, 130.00it/s, epoch=35, loss=[0.6207729407719202, 0.4805471326623644]]"
     ]
    },
    {
     "name": "stdout",
     "output_type": "stream",
     "text": [
      "0.006695\n"
     ]
    },
    {
     "name": "stderr",
     "output_type": "stream",
     "text": [
      "Training:  72%|████████████████████████████████████████████████████████████████████████▊                            | 7573/10500 [00:58<00:22, 131.12it/s, epoch=36, loss=[0.6198314876783462, 0.4783211052417752]]"
     ]
    },
    {
     "name": "stdout",
     "output_type": "stream",
     "text": [
      "0.006695\n"
     ]
    },
    {
     "name": "stderr",
     "output_type": "stream",
     "text": [
      "Training:  74%|██████████████████████████████████████████████████████████████████████████▉                          | 7789/10500 [01:00<00:20, 133.29it/s, epoch=37, loss=[0.6192980641410467, 0.4750702383972349]]"
     ]
    },
    {
     "name": "stdout",
     "output_type": "stream",
     "text": [
      "0.006695\n"
     ]
    },
    {
     "name": "stderr",
     "output_type": "stream",
     "text": [
      "Training:  76%|████████████████████████████████████████████████████████████████████████████▉                        | 7995/10500 [01:02<00:19, 129.59it/s, epoch=38, loss=[0.6199414287294662, 0.4781077887330737]]"
     ]
    },
    {
     "name": "stdout",
     "output_type": "stream",
     "text": [
      "0.006695\n"
     ]
    },
    {
     "name": "stderr",
     "output_type": "stream",
     "text": [
      "Training:  78%|██████████████████████████████████████████████████████████████████████████████▉                      | 8206/10500 [01:03<00:17, 128.81it/s, epoch=39, loss=[0.6190612997327536, 0.4748708438305631]]"
     ]
    },
    {
     "name": "stdout",
     "output_type": "stream",
     "text": [
      "0.006695\n"
     ]
    },
    {
     "name": "stderr",
     "output_type": "stream",
     "text": [
      "Training:  80%|██████████████████████████████████████████████████████████████████████████████████▌                    | 8419/10500 [01:05<00:16, 130.04it/s, epoch=40, loss=[0.61890112445468, 0.4732415114130293]]"
     ]
    },
    {
     "name": "stdout",
     "output_type": "stream",
     "text": [
      "0.006695\n"
     ]
    },
    {
     "name": "stderr",
     "output_type": "stream",
     "text": [
      "Training:  82%|███████████████████████████████████████████████████████████████████████████████████                  | 8630/10500 [01:07<00:14, 128.06it/s, epoch=41, loss=[0.6182645968028475, 0.4715417563915252]]"
     ]
    },
    {
     "name": "stdout",
     "output_type": "stream",
     "text": [
      "0.006695\n"
     ]
    },
    {
     "name": "stderr",
     "output_type": "stream",
     "text": [
      "Training:  84%|████████████████████████████████████████████████████████████████████████████████████▏               | 8841/10500 [01:08<00:12, 130.91it/s, epoch=42, loss=[0.6178473693983894, 0.46933808724085496]]"
     ]
    },
    {
     "name": "stdout",
     "output_type": "stream",
     "text": [
      "0.006695\n"
     ]
    },
    {
     "name": "stderr",
     "output_type": "stream",
     "text": [
      "Training:  86%|██████████████████████████████████████████████████████████████████████████████████████              | 9042/10500 [01:10<00:11, 131.10it/s, epoch=43, loss=[0.6185418492271787, 0.47189983895846777]]"
     ]
    },
    {
     "name": "stdout",
     "output_type": "stream",
     "text": [
      "0.006695\n"
     ]
    },
    {
     "name": "stderr",
     "output_type": "stream",
     "text": [
      "Training:  88%|█████████████████████████████████████████████████████████████████████████████████████████            | 9256/10500 [01:11<00:09, 129.69it/s, epoch=44, loss=[0.6186600492114113, 0.4715542359011514]]"
     ]
    },
    {
     "name": "stdout",
     "output_type": "stream",
     "text": [
      "0.006695\n"
     ]
    },
    {
     "name": "stderr",
     "output_type": "stream",
     "text": [
      "Training:  90%|███████████████████████████████████████████████████████████████████████████████████████████          | 9471/10500 [01:13<00:07, 133.80it/s, epoch=45, loss=[0.6187064363842918, 0.4714271278608414]]"
     ]
    },
    {
     "name": "stdout",
     "output_type": "stream",
     "text": [
      "0.006695\n"
     ]
    },
    {
     "name": "stderr",
     "output_type": "stream",
     "text": [
      "Training:  92%|█████████████████████████████████████████████████████████████████████████████████████████████        | 9672/10500 [01:15<00:06, 133.91it/s, epoch=46, loss=[0.6194578749792915, 0.4733832995096842]]"
     ]
    },
    {
     "name": "stdout",
     "output_type": "stream",
     "text": [
      "0.006695\n"
     ]
    },
    {
     "name": "stderr",
     "output_type": "stream",
     "text": [
      "Training:  94%|██████████████████████████████████████████████████████████████████████████████████████████████▏     | 9886/10500 [01:16<00:04, 129.25it/s, epoch=47, loss=[0.6180389597302393, 0.46928114436921614]]"
     ]
    },
    {
     "name": "stdout",
     "output_type": "stream",
     "text": [
      "0.006695\n"
     ]
    },
    {
     "name": "stderr",
     "output_type": "stream",
     "text": [
      "Training:  96%|███████████████████████████████████████████████████████████████████████████████████████████████▏   | 10097/10500 [01:18<00:03, 127.83it/s, epoch=48, loss=[0.6168836321149553, 0.46458240520386473]]"
     ]
    },
    {
     "name": "stdout",
     "output_type": "stream",
     "text": [
      "0.006695\n"
     ]
    },
    {
     "name": "stderr",
     "output_type": "stream",
     "text": [
      "Training:  98%|█████████████████████████████████████████████████████████████████████████████████████████████████▏ | 10308/10500 [01:20<00:01, 129.89it/s, epoch=49, loss=[0.6177945420855565, 0.46851327419280986]]"
     ]
    },
    {
     "name": "stdout",
     "output_type": "stream",
     "text": [
      "0.006695\n"
     ]
    },
    {
     "name": "stderr",
     "output_type": "stream",
     "text": [
      "Training: 100%|████████████████████████████████████████████████████████████████████████████████████████████████████| 10500/10500 [01:21<00:00, 128.75it/s, epoch=50, loss=[0.6174285179092769, 0.4666887073289779]]\n"
     ]
    },
    {
     "name": "stdout",
     "output_type": "stream",
     "text": [
      "0.006695\n",
      "Training Accuracy: 97.71977197719772%\n",
      "Testing Accuracy: 27.114577084583086%\n",
      "Top 5 Training Accuracy: 99.9099909990999%\n",
      "Top 5 Testing Accuracy: 49.22015596880624%\n",
      "Test to train ratio:  0.6\n",
      "Train Loader: 84\n",
      "Test Loader: 126\n",
      "Network Size: 2048\n",
      "Initialization 1 / 2\n",
      "Complete\n",
      "\n",
      "Initialization 2 / 2\n",
      "Complete\n",
      "\n"
     ]
    },
    {
     "name": "stderr",
     "output_type": "stream",
     "text": [
      "Training:   2%|██▍                                                                                                     | 194/8400 [00:01<01:01, 133.56it/s, epoch=1, loss=[0.6900402335893542, 0.6937476559763862]]"
     ]
    },
    {
     "name": "stdout",
     "output_type": "stream",
     "text": [
      "0.005326\n"
     ]
    },
    {
     "name": "stderr",
     "output_type": "stream",
     "text": [
      "Training:   4%|████▍                                                                                                   | 358/8400 [00:02<01:00, 132.55it/s, epoch=2, loss=[0.6664985418319702, 0.6804403400137313]]"
     ]
    },
    {
     "name": "stdout",
     "output_type": "stream",
     "text": [
      "0.005326\n"
     ]
    },
    {
     "name": "stderr",
     "output_type": "stream",
     "text": [
      "Training:   6%|██████▍                                                                                                 | 519/8400 [00:04<01:00, 130.07it/s, epoch=3, loss=[0.6539247206279208, 0.6492072350922087]]"
     ]
    },
    {
     "name": "stdout",
     "output_type": "stream",
     "text": [
      "0.005326\n"
     ]
    },
    {
     "name": "stderr",
     "output_type": "stream",
     "text": [
      "Training:   8%|████████▋                                                                                               | 697/8400 [00:05<00:58, 131.47it/s, epoch=4, loss=[0.6488904356956482, 0.6274958905719575]]"
     ]
    },
    {
     "name": "stdout",
     "output_type": "stream",
     "text": [
      "0.007565\n"
     ]
    },
    {
     "name": "stderr",
     "output_type": "stream",
     "text": [
      "Training:  10%|██████████▌                                                                                             | 858/8400 [00:06<00:57, 130.90it/s, epoch=5, loss=[0.6461815791470661, 0.6122761971893766]]"
     ]
    },
    {
     "name": "stdout",
     "output_type": "stream",
     "text": [
      "0.007565\n"
     ]
    },
    {
     "name": "stderr",
     "output_type": "stream",
     "text": [
      "Training:  12%|████████████▊                                                                                           | 1030/8400 [00:07<00:56, 129.37it/s, epoch=6, loss=[0.6432760372048332, 0.598771286152658]]"
     ]
    },
    {
     "name": "stdout",
     "output_type": "stream",
     "text": [
      "0.007565\n"
     ]
    },
    {
     "name": "stderr",
     "output_type": "stream",
     "text": [
      "Training:  14%|██████████████▋                                                                                         | 1191/8400 [00:09<00:55, 131.07it/s, epoch=7, loss=[0.6413269482907796, 0.587091904310953]]"
     ]
    },
    {
     "name": "stdout",
     "output_type": "stream",
     "text": [
      "0.007565\n"
     ]
    },
    {
     "name": "stderr",
     "output_type": "stream",
     "text": [
      "Training:  16%|████████████████▊                                                                                      | 1368/8400 [00:10<00:53, 130.95it/s, epoch=8, loss=[0.6386489101818631, 0.5762695982342675]]"
     ]
    },
    {
     "name": "stdout",
     "output_type": "stream",
     "text": [
      "0.007565\n"
     ]
    },
    {
     "name": "stderr",
     "output_type": "stream",
     "text": [
      "Training:  18%|██████████████████▊                                                                                    | 1535/8400 [00:11<00:51, 132.33it/s, epoch=9, loss=[0.6360285232464472, 0.5650408842733928]]"
     ]
    },
    {
     "name": "stdout",
     "output_type": "stream",
     "text": [
      "0.007565\n"
     ]
    },
    {
     "name": "stderr",
     "output_type": "stream",
     "text": [
      "Training:  20%|████████████████████▌                                                                                 | 1698/8400 [00:13<00:51, 130.91it/s, epoch=10, loss=[0.6337787359952927, 0.5553342813537233]]"
     ]
    },
    {
     "name": "stdout",
     "output_type": "stream",
     "text": [
      "0.007565\n"
     ]
    },
    {
     "name": "stderr",
     "output_type": "stream",
     "text": [
      "Training:  22%|██████████████████████▋                                                                               | 1873/8400 [00:14<00:49, 131.18it/s, epoch=11, loss=[0.6329769371520906, 0.5486553729999635]]"
     ]
    },
    {
     "name": "stdout",
     "output_type": "stream",
     "text": [
      "0.007565\n"
     ]
    },
    {
     "name": "stderr",
     "output_type": "stream",
     "text": [
      "Training:  24%|█████████████████████████                                                                              | 2041/8400 [00:15<00:48, 130.18it/s, epoch=12, loss=[0.6310780325106211, 0.541810659425599]]"
     ]
    },
    {
     "name": "stdout",
     "output_type": "stream",
     "text": [
      "0.007565\n"
     ]
    },
    {
     "name": "stderr",
     "output_type": "stream",
     "text": [
      "Training:  26%|██████████████████████████▊                                                                           | 2204/8400 [00:17<00:47, 131.10it/s, epoch=13, loss=[0.6296234670139488, 0.5346967570838473]]"
     ]
    },
    {
     "name": "stdout",
     "output_type": "stream",
     "text": [
      "0.007565\n"
     ]
    },
    {
     "name": "stderr",
     "output_type": "stream",
     "text": [
      "Training:  28%|████████████████████████████▊                                                                         | 2377/8400 [00:18<00:45, 131.99it/s, epoch=14, loss=[0.6285327736820494, 0.5279878079891207]]"
     ]
    },
    {
     "name": "stdout",
     "output_type": "stream",
     "text": [
      "0.007565\n"
     ]
    },
    {
     "name": "stderr",
     "output_type": "stream",
     "text": [
      "Training:  30%|██████████████████████████████▊                                                                       | 2534/8400 [00:19<00:44, 131.08it/s, epoch=15, loss=[0.6272817694005516, 0.5217713000518936]]"
     ]
    },
    {
     "name": "stdout",
     "output_type": "stream",
     "text": [
      "0.007565\n"
     ]
    },
    {
     "name": "stderr",
     "output_type": "stream",
     "text": [
      "Training:  32%|█████████████████████████████████▏                                                                     | 2708/8400 [00:20<00:43, 129.48it/s, epoch=16, loss=[0.6257547012397222, 0.515733629465103]]"
     ]
    },
    {
     "name": "stdout",
     "output_type": "stream",
     "text": [
      "0.007565\n"
     ]
    },
    {
     "name": "stderr",
     "output_type": "stream",
     "text": [
      "Training:  34%|██████████████████████████████████▊                                                                   | 2872/8400 [00:22<00:42, 130.26it/s, epoch=17, loss=[0.6252578291155043, 0.5126904181781269]]"
     ]
    },
    {
     "name": "stdout",
     "output_type": "stream",
     "text": [
      "0.007565\n"
     ]
    },
    {
     "name": "stderr",
     "output_type": "stream",
     "text": [
      "Training:  36%|████████████████████████████████████▉                                                                 | 3047/8400 [00:23<00:41, 130.32it/s, epoch=18, loss=[0.6242220486913407, 0.5079964111958232]]"
     ]
    },
    {
     "name": "stdout",
     "output_type": "stream",
     "text": [
      "0.007565\n"
     ]
    },
    {
     "name": "stderr",
     "output_type": "stream",
     "text": [
      "Training:  38%|██████████████████████████████████████▉                                                               | 3208/8400 [00:24<00:38, 134.11it/s, epoch=19, loss=[0.6229513181107381, 0.5022651702165603]]"
     ]
    },
    {
     "name": "stdout",
     "output_type": "stream",
     "text": [
      "0.007565\n"
     ]
    },
    {
     "name": "stderr",
     "output_type": "stream",
     "text": [
      "Training:  40%|████████████████████████████████████████▉                                                             | 3375/8400 [00:26<00:37, 132.43it/s, epoch=20, loss=[0.6223906328280765, 0.4989991212884587]]"
     ]
    },
    {
     "name": "stdout",
     "output_type": "stream",
     "text": [
      "0.007565\n"
     ]
    },
    {
     "name": "stderr",
     "output_type": "stream",
     "text": [
      "Training:  42%|██████████████████████████████████████████▋                                                          | 3548/8400 [00:27<00:37, 128.81it/s, epoch=21, loss=[0.6216420673188711, 0.49628911451214824]]"
     ]
    },
    {
     "name": "stdout",
     "output_type": "stream",
     "text": [
      "0.007565\n"
     ]
    },
    {
     "name": "stderr",
     "output_type": "stream",
     "text": [
      "Training:  44%|████████████████████████████████████████████▋                                                        | 3720/8400 [00:28<00:34, 134.16it/s, epoch=22, loss=[0.6206050720952806, 0.49232562276579106]]"
     ]
    },
    {
     "name": "stdout",
     "output_type": "stream",
     "text": [
      "0.007565\n"
     ]
    },
    {
     "name": "stderr",
     "output_type": "stream",
     "text": [
      "Training:  46%|███████████████████████████████████████████████▏                                                      | 3882/8400 [00:29<00:34, 129.53it/s, epoch=23, loss=[0.6200466106335322, 0.4896953059803873]]"
     ]
    },
    {
     "name": "stdout",
     "output_type": "stream",
     "text": [
      "0.007565\n"
     ]
    },
    {
     "name": "stderr",
     "output_type": "stream",
     "text": [
      "Training:  48%|████████████████████████████████████████████████▋                                                    | 4053/8400 [00:31<00:33, 129.59it/s, epoch=24, loss=[0.6188327421744662, 0.48548372480131324]]"
     ]
    },
    {
     "name": "stdout",
     "output_type": "stream",
     "text": [
      "0.007565\n"
     ]
    },
    {
     "name": "stderr",
     "output_type": "stream",
     "text": [
      "Training:  50%|███████████████████████████████████████████████████▏                                                  | 4212/8400 [00:32<00:32, 130.83it/s, epoch=25, loss=[0.6182846696603865, 0.4834820649453571]]"
     ]
    },
    {
     "name": "stdout",
     "output_type": "stream",
     "text": [
      "0.007565\n"
     ]
    },
    {
     "name": "stderr",
     "output_type": "stream",
     "text": [
      "Training:  52%|█████████████████████████████████████████████████████▏                                                | 4384/8400 [00:33<00:30, 130.53it/s, epoch=26, loss=[0.6179934470426468, 0.4819664351996921]]"
     ]
    },
    {
     "name": "stdout",
     "output_type": "stream",
     "text": [
      "0.007565\n"
     ]
    },
    {
     "name": "stderr",
     "output_type": "stream",
     "text": [
      "Training:  54%|███████████████████████████████████████████████████████▉                                               | 4557/8400 [00:35<00:29, 129.70it/s, epoch=27, loss=[0.6170114328463873, 0.478024320943015]]"
     ]
    },
    {
     "name": "stdout",
     "output_type": "stream",
     "text": [
      "0.007565\n"
     ]
    },
    {
     "name": "stderr",
     "output_type": "stream",
     "text": [
      "Training:  56%|█████████████████████████████████████████████████████████▍                                            | 4728/8400 [00:36<00:28, 128.67it/s, epoch=28, loss=[0.6166367850133351, 0.4758472222657432]]"
     ]
    },
    {
     "name": "stdout",
     "output_type": "stream",
     "text": [
      "0.007565\n"
     ]
    },
    {
     "name": "stderr",
     "output_type": "stream",
     "text": [
      "Training:  58%|███████████████████████████████████████████████████████████▉                                           | 4889/8400 [00:37<00:27, 125.93it/s, epoch=29, loss=[0.6161225537459055, 0.474555936952432]]"
     ]
    },
    {
     "name": "stdout",
     "output_type": "stream",
     "text": [
      "0.007565\n"
     ]
    },
    {
     "name": "stderr",
     "output_type": "stream",
     "text": [
      "Training:  60%|█████████████████████████████████████████████████████████████▍                                        | 5055/8400 [00:39<00:25, 133.06it/s, epoch=30, loss=[0.6152696836562384, 0.4707261760319985]]"
     ]
    },
    {
     "name": "stdout",
     "output_type": "stream",
     "text": [
      "0.007565\n"
     ]
    },
    {
     "name": "stderr",
     "output_type": "stream",
     "text": [
      "Training:  62%|███████████████████████████████████████████████████████████████▌                                      | 5231/8400 [00:40<00:24, 131.87it/s, epoch=31, loss=[0.6147192077977314, 0.4686739991108577]]"
     ]
    },
    {
     "name": "stdout",
     "output_type": "stream",
     "text": [
      "0.007565\n"
     ]
    },
    {
     "name": "stderr",
     "output_type": "stream",
     "text": [
      "Training:  64%|█████████████████████████████████████████████████████████████████▍                                    | 5390/8400 [00:41<00:23, 127.94it/s, epoch=32, loss=[0.6142767958697817, 0.4671312059674944]]"
     ]
    },
    {
     "name": "stdout",
     "output_type": "stream",
     "text": [
      "0.007565\n"
     ]
    },
    {
     "name": "stderr",
     "output_type": "stream",
     "text": [
      "Training:  66%|██████████████████████████████████████████████████████████████████▊                                  | 5557/8400 [00:42<00:21, 131.38it/s, epoch=33, loss=[0.6137824768111823, 0.46488998581965757]]"
     ]
    },
    {
     "name": "stdout",
     "output_type": "stream",
     "text": [
      "0.007565\n"
     ]
    },
    {
     "name": "stderr",
     "output_type": "stream",
     "text": [
      "Training:  68%|████████████████████████████████████████████████████████████████████▉                                | 5729/8400 [00:44<00:20, 129.60it/s, epoch=34, loss=[0.6128997554381688, 0.46257587593226207]]"
     ]
    },
    {
     "name": "stdout",
     "output_type": "stream",
     "text": [
      "0.008087\n"
     ]
    },
    {
     "name": "stderr",
     "output_type": "stream",
     "text": [
      "Training:  70%|███████████████████████████████████████████████████████████████████████                              | 5907/8400 [00:45<00:18, 136.55it/s, epoch=35, loss=[0.6128198731513249, 0.46195002751691017]]"
     ]
    },
    {
     "name": "stdout",
     "output_type": "stream",
     "text": [
      "0.008087\n"
     ]
    },
    {
     "name": "stderr",
     "output_type": "stream",
     "text": [
      "Training:  72%|█████████████████████████████████████████████████████████████████████████                            | 6072/8400 [00:46<00:18, 129.15it/s, epoch=36, loss=[0.6118451548474179, 0.45849932552803124]]"
     ]
    },
    {
     "name": "stdout",
     "output_type": "stream",
     "text": [
      "0.008087\n"
     ]
    },
    {
     "name": "stderr",
     "output_type": "stream",
     "text": [
      "Training:  74%|██████████████████████████████████████████████████████████████████████████▉                          | 6233/8400 [00:48<00:16, 130.31it/s, epoch=37, loss=[0.6116527219613395, 0.45777904064882374]]"
     ]
    },
    {
     "name": "stdout",
     "output_type": "stream",
     "text": [
      "0.008087\n"
     ]
    },
    {
     "name": "stderr",
     "output_type": "stream",
     "text": [
      "Training:  76%|████████████████████████████████████████████████████████████████████████████▉                        | 6398/8400 [00:49<00:15, 132.26it/s, epoch=38, loss=[0.6118801030374713, 0.45747535391932426]]"
     ]
    },
    {
     "name": "stdout",
     "output_type": "stream",
     "text": [
      "0.008087\n"
     ]
    },
    {
     "name": "stderr",
     "output_type": "stream",
     "text": [
      "Training:  78%|███████████████████████████████████████████████████████████████████████████████                      | 6577/8400 [00:50<00:13, 131.88it/s, epoch=39, loss=[0.6103880632491341, 0.45333700981878106]]"
     ]
    },
    {
     "name": "stdout",
     "output_type": "stream",
     "text": [
      "0.008087\n"
     ]
    },
    {
     "name": "stderr",
     "output_type": "stream",
     "text": [
      "Training:  80%|█████████████████████████████████████████████████████████████████████████████████▉                    | 6745/8400 [00:52<00:12, 132.09it/s, epoch=40, loss=[0.6091063980545318, 0.4499596027391298]]"
     ]
    },
    {
     "name": "stdout",
     "output_type": "stream",
     "text": [
      "0.008087\n"
     ]
    },
    {
     "name": "stderr",
     "output_type": "stream",
     "text": [
      "Training:  82%|███████████████████████████████████████████████████████████████████████████████████▏                 | 6914/8400 [00:53<00:11, 132.03it/s, epoch=41, loss=[0.6086148640939169, 0.44826868353855037]]"
     ]
    },
    {
     "name": "stdout",
     "output_type": "stream",
     "text": [
      "0.008087\n"
     ]
    },
    {
     "name": "stderr",
     "output_type": "stream",
     "text": [
      "Training:  84%|█████████████████████████████████████████████████████████████████████████████████████▉                | 7080/8400 [00:54<00:10, 129.64it/s, epoch=42, loss=[0.6091639584019068, 0.4496669063255899]]"
     ]
    },
    {
     "name": "stdout",
     "output_type": "stream",
     "text": [
      "0.008087\n"
     ]
    },
    {
     "name": "stderr",
     "output_type": "stream",
     "text": [
      "Training:  86%|███████████████████████████████████████████████████████████████████████████████████████              | 7240/8400 [00:55<00:08, 129.86it/s, epoch=43, loss=[0.6088871097280866, 0.44866777246906636]]"
     ]
    },
    {
     "name": "stdout",
     "output_type": "stream",
     "text": [
      "0.008087\n"
     ]
    },
    {
     "name": "stderr",
     "output_type": "stream",
     "text": [
      "Training:  88%|██████████████████████████████████████████████████████████████████████████████████████████            | 7415/8400 [00:57<00:07, 130.41it/s, epoch=44, loss=[0.6085216615881239, 0.4468492812344006]]"
     ]
    },
    {
     "name": "stdout",
     "output_type": "stream",
     "text": [
      "0.008087\n"
     ]
    },
    {
     "name": "stderr",
     "output_type": "stream",
     "text": [
      "Training:  90%|████████████████████████████████████████████████████████████████████████████████████████████          | 7581/8400 [00:58<00:06, 132.01it/s, epoch=45, loss=[0.6080762829099385, 0.4450493930351168]]"
     ]
    },
    {
     "name": "stdout",
     "output_type": "stream",
     "text": [
      "0.008087\n"
     ]
    },
    {
     "name": "stderr",
     "output_type": "stream",
     "text": [
      "Training:  92%|█████████████████████████████████████████████████████████████████████████████████████████████▏       | 7747/8400 [00:59<00:04, 132.23it/s, epoch=46, loss=[0.6079917599757514, 0.44517339659588673]]"
     ]
    },
    {
     "name": "stdout",
     "output_type": "stream",
     "text": [
      "0.008087\n"
     ]
    },
    {
     "name": "stderr",
     "output_type": "stream",
     "text": [
      "Training:  94%|███████████████████████████████████████████████████████████████████████████████████████████████      | 7911/8400 [01:01<00:03, 129.02it/s, epoch=47, loss=[0.6073031929277235, 0.44184058904647816]]"
     ]
    },
    {
     "name": "stdout",
     "output_type": "stream",
     "text": [
      "0.008263\n"
     ]
    },
    {
     "name": "stderr",
     "output_type": "stream",
     "text": [
      "Training:  96%|█████████████████████████████████████████████████████████████████████████████████████████████████▏   | 8082/8400 [01:02<00:02, 129.83it/s, epoch=48, loss=[0.6065043033588503, 0.43937636663516366]]"
     ]
    },
    {
     "name": "stdout",
     "output_type": "stream",
     "text": [
      "0.008263\n"
     ]
    },
    {
     "name": "stderr",
     "output_type": "stream",
     "text": [
      "Training:  98%|████████████████████████████████████████████████████████████████████████████████████████████████████▏ | 8252/8400 [01:03<00:01, 127.80it/s, epoch=49, loss=[0.6062901218732196, 0.4389073735191707]]"
     ]
    },
    {
     "name": "stdout",
     "output_type": "stream",
     "text": [
      "0.008263\n"
     ]
    },
    {
     "name": "stderr",
     "output_type": "stream",
     "text": [
      "Training: 100%|█████████████████████████████████████████████████████████████████████████████████████████████████████| 8400/8400 [01:04<00:00, 129.33it/s, epoch=50, loss=[0.6065113019375579, 0.44046523244608027]]\n"
     ]
    },
    {
     "name": "stdout",
     "output_type": "stream",
     "text": [
      "0.008263\n",
      "Training Accuracy: 99.4748687171793%\n",
      "Testing Accuracy: 25.968507873031744%\n",
      "Top 5 Training Accuracy: 100.0%\n",
      "Top 5 Testing Accuracy: 48.78780304923769%\n",
      "Test to train ratio:  0.7\n",
      "Train Loader: 63\n",
      "Test Loader: 146\n",
      "Network Size: 2048\n",
      "Initialization 1 / 2\n",
      "Complete\n",
      "\n",
      "Initialization 2 / 2\n",
      "Complete\n",
      "\n"
     ]
    },
    {
     "name": "stderr",
     "output_type": "stream",
     "text": [
      "Training:   2%|██▍                                                                                                     | 144/6300 [00:01<00:47, 130.10it/s, epoch=1, loss=[0.6907864506282501, 0.6933926921042186]]"
     ]
    },
    {
     "name": "stdout",
     "output_type": "stream",
     "text": [
      "0.005267\n"
     ]
    },
    {
     "name": "stderr",
     "output_type": "stream",
     "text": [
      "Training:   4%|████▍                                                                                                   | 268/6300 [00:02<00:46, 130.40it/s, epoch=2, loss=[0.6717655289740789, 0.6857536283750385]]"
     ]
    },
    {
     "name": "stdout",
     "output_type": "stream",
     "text": [
      "0.005267\n"
     ]
    },
    {
     "name": "stderr",
     "output_type": "stream",
     "text": [
      "Training:   6%|██████▌                                                                                                 | 401/6300 [00:03<00:45, 129.82it/s, epoch=3, loss=[0.6548765301704408, 0.6630390693270971]]"
     ]
    },
    {
     "name": "stdout",
     "output_type": "stream",
     "text": [
      "0.00536\n"
     ]
    },
    {
     "name": "stderr",
     "output_type": "stream",
     "text": [
      "Training:   8%|████████▋                                                                                                | 523/6300 [00:04<00:44, 129.33it/s, epoch=4, loss=[0.6489296943422351, 0.639066994190216]]"
     ]
    },
    {
     "name": "stdout",
     "output_type": "stream",
     "text": [
      "0.00536\n"
     ]
    },
    {
     "name": "stderr",
     "output_type": "stream",
     "text": [
      "Training:  10%|██████████▉                                                                                              | 654/6300 [00:05<00:43, 128.54it/s, epoch=5, loss=[0.6437606272243319, 0.620359664871579]]"
     ]
    },
    {
     "name": "stdout",
     "output_type": "stream",
     "text": [
      "0.00536\n"
     ]
    },
    {
     "name": "stderr",
     "output_type": "stream",
     "text": [
      "Training:  12%|████████████▊                                                                                           | 775/6300 [00:06<00:42, 131.49it/s, epoch=6, loss=[0.6391444944200063, 0.6043954368621585]]"
     ]
    },
    {
     "name": "stdout",
     "output_type": "stream",
     "text": [
      "0.00536\n"
     ]
    },
    {
     "name": "stderr",
     "output_type": "stream",
     "text": [
      "Training:  14%|██████████████▊                                                                                         | 898/6300 [00:06<00:41, 130.31it/s, epoch=7, loss=[0.6362940990735615, 0.5894852214389377]]"
     ]
    },
    {
     "name": "stdout",
     "output_type": "stream",
     "text": [
      "0.00536\n"
     ]
    },
    {
     "name": "stderr",
     "output_type": "stream",
     "text": [
      "Training:  16%|████████████████▋                                                                                      | 1021/6300 [00:07<00:39, 132.54it/s, epoch=8, loss=[0.6340403244608923, 0.5775303168902324]]"
     ]
    },
    {
     "name": "stdout",
     "output_type": "stream",
     "text": [
      "0.00536\n"
     ]
    },
    {
     "name": "stderr",
     "output_type": "stream",
     "text": [
      "Training:  18%|██████████████████▊                                                                                    | 1147/6300 [00:08<00:38, 134.38it/s, epoch=9, loss=[0.6321487388913596, 0.5680640869670444]]"
     ]
    },
    {
     "name": "stdout",
     "output_type": "stream",
     "text": [
      "0.00536\n"
     ]
    },
    {
     "name": "stderr",
     "output_type": "stream",
     "text": [
      "Training:  20%|████████████████████▋                                                                                 | 1274/6300 [00:09<00:38, 130.28it/s, epoch=10, loss=[0.6302437120013766, 0.5572336174192882]]"
     ]
    },
    {
     "name": "stdout",
     "output_type": "stream",
     "text": [
      "0.00536\n"
     ]
    },
    {
     "name": "stderr",
     "output_type": "stream",
     "text": [
      "Training:  22%|██████████████████████▊                                                                               | 1407/6300 [00:10<00:37, 129.90it/s, epoch=11, loss=[0.6295416941718452, 0.5478995224786183]]"
     ]
    },
    {
     "name": "stdout",
     "output_type": "stream",
     "text": [
      "0.00536\n"
     ]
    },
    {
     "name": "stderr",
     "output_type": "stream",
     "text": [
      "Training:  24%|████████████████████████▋                                                                             | 1527/6300 [00:11<00:36, 132.24it/s, epoch=12, loss=[0.6270379263257223, 0.5383032371127418]]"
     ]
    },
    {
     "name": "stdout",
     "output_type": "stream",
     "text": [
      "0.00536\n"
     ]
    },
    {
     "name": "stderr",
     "output_type": "stream",
     "text": [
      "Training:  26%|███████████████████████████                                                                            | 1653/6300 [00:12<00:34, 135.81it/s, epoch=13, loss=[0.625996464774722, 0.5315259099006653]]"
     ]
    },
    {
     "name": "stdout",
     "output_type": "stream",
     "text": [
      "0.00536\n"
     ]
    },
    {
     "name": "stderr",
     "output_type": "stream",
     "text": [
      "Training:  28%|████████████████████████████▊                                                                         | 1779/6300 [00:13<00:34, 130.15it/s, epoch=14, loss=[0.6243786584763299, 0.5233330868539356]]"
     ]
    },
    {
     "name": "stdout",
     "output_type": "stream",
     "text": [
      "0.00536\n"
     ]
    },
    {
     "name": "stderr",
     "output_type": "stream",
     "text": [
      "Training:  30%|██████████████████████████████▊                                                                       | 1902/6300 [00:14<00:33, 131.46it/s, epoch=15, loss=[0.6244009638589525, 0.5174160235457951]]"
     ]
    },
    {
     "name": "stdout",
     "output_type": "stream",
     "text": [
      "0.00536\n"
     ]
    },
    {
     "name": "stderr",
     "output_type": "stream",
     "text": [
      "Training:  32%|████████████████████████████████▉                                                                     | 2038/6300 [00:15<00:32, 129.32it/s, epoch=16, loss=[0.6233851890715343, 0.5113784722865576]]"
     ]
    },
    {
     "name": "stdout",
     "output_type": "stream",
     "text": [
      "0.005361\n"
     ]
    },
    {
     "name": "stderr",
     "output_type": "stream",
     "text": [
      "Training:  34%|███████████████████████████████████▏                                                                   | 2156/6300 [00:16<00:32, 128.78it/s, epoch=17, loss=[0.6231402262808782, 0.508229974243376]]"
     ]
    },
    {
     "name": "stdout",
     "output_type": "stream",
     "text": [
      "0.005361\n"
     ]
    },
    {
     "name": "stderr",
     "output_type": "stream",
     "text": [
      "Training:  36%|█████████████████████████████████████                                                                 | 2291/6300 [00:17<00:30, 131.66it/s, epoch=18, loss=[0.6227098135721115, 0.5048170061338515]]"
     ]
    },
    {
     "name": "stdout",
     "output_type": "stream",
     "text": [
      "0.00542\n"
     ]
    },
    {
     "name": "stderr",
     "output_type": "stream",
     "text": [
      "Training:  38%|███████████████████████████████████████                                                               | 2410/6300 [00:18<00:30, 128.98it/s, epoch=19, loss=[0.6207136795634316, 0.4974024262693192]]"
     ]
    },
    {
     "name": "stdout",
     "output_type": "stream",
     "text": [
      "0.00542\n"
     ]
    },
    {
     "name": "stderr",
     "output_type": "stream",
     "text": [
      "Training:  40%|████████████████████████████████████████▊                                                            | 2543/6300 [00:19<00:28, 132.59it/s, epoch=20, loss=[0.6190093490812514, 0.49097837673293226]]"
     ]
    },
    {
     "name": "stdout",
     "output_type": "stream",
     "text": [
      "0.00542\n"
     ]
    },
    {
     "name": "stderr",
     "output_type": "stream",
     "text": [
      "Training:  42%|██████████████████████████████████████████▊                                                          | 2669/6300 [00:20<00:27, 132.02it/s, epoch=21, loss=[0.6180469895166064, 0.48624262970591337]]"
     ]
    },
    {
     "name": "stdout",
     "output_type": "stream",
     "text": [
      "0.00542\n"
     ]
    },
    {
     "name": "stderr",
     "output_type": "stream",
     "text": [
      "Training:  44%|████████████████████████████████████████████▊                                                        | 2795/6300 [00:21<00:26, 133.64it/s, epoch=22, loss=[0.6176445588232979, 0.48282114901239903]]"
     ]
    },
    {
     "name": "stdout",
     "output_type": "stream",
     "text": [
      "0.00542\n"
     ]
    },
    {
     "name": "stderr",
     "output_type": "stream",
     "text": [
      "Training:  46%|███████████████████████████████████████████████▎                                                      | 2921/6300 [00:22<00:25, 131.99it/s, epoch=23, loss=[0.617044412900531, 0.48021732436286074]]"
     ]
    },
    {
     "name": "stdout",
     "output_type": "stream",
     "text": [
      "0.00542\n"
     ]
    },
    {
     "name": "stderr",
     "output_type": "stream",
     "text": [
      "Training:  48%|█████████████████████████████████████████████████▎                                                    | 3042/6300 [00:23<00:25, 130.11it/s, epoch=24, loss=[0.6163611364743068, 0.4779218993489705]]"
     ]
    },
    {
     "name": "stdout",
     "output_type": "stream",
     "text": [
      "0.00542\n"
     ]
    },
    {
     "name": "stderr",
     "output_type": "stream",
     "text": [
      "Training:  50%|███████████████████████████████████████████████████▏                                                  | 3162/6300 [00:24<00:23, 131.63it/s, epoch=25, loss=[0.6153140787094358, 0.4736542805792794]]"
     ]
    },
    {
     "name": "stdout",
     "output_type": "stream",
     "text": [
      "0.00542\n"
     ]
    },
    {
     "name": "stderr",
     "output_type": "stream",
     "text": [
      "Training:  52%|█████████████████████████████████████████████████████▍                                                | 3298/6300 [00:25<00:22, 131.66it/s, epoch=26, loss=[0.6147367216291882, 0.4710100515494271]]"
     ]
    },
    {
     "name": "stdout",
     "output_type": "stream",
     "text": [
      "0.00542\n"
     ]
    },
    {
     "name": "stderr",
     "output_type": "stream",
     "text": [
      "Training:  54%|███████████████████████████████████████████████████████▍                                              | 3422/6300 [00:26<00:22, 130.18it/s, epoch=27, loss=[0.6137668717475164, 0.4674528056666964]]"
     ]
    },
    {
     "name": "stdout",
     "output_type": "stream",
     "text": [
      "0.00542\n"
     ]
    },
    {
     "name": "stderr",
     "output_type": "stream",
     "text": [
      "Training:  56%|█████████████████████████████████████████████████████████▎                                            | 3543/6300 [00:27<00:21, 130.27it/s, epoch=28, loss=[0.6132220379889958, 0.4647073121297928]]"
     ]
    },
    {
     "name": "stdout",
     "output_type": "stream",
     "text": [
      "0.00542\n"
     ]
    },
    {
     "name": "stderr",
     "output_type": "stream",
     "text": [
      "Training:  58%|███████████████████████████████████████████████████████████▌                                          | 3675/6300 [00:28<00:20, 128.80it/s, epoch=29, loss=[0.6122340559959412, 0.4604223815221636]]"
     ]
    },
    {
     "name": "stdout",
     "output_type": "stream",
     "text": [
      "0.00542\n"
     ]
    },
    {
     "name": "stderr",
     "output_type": "stream",
     "text": [
      "Training:  60%|█████████████████████████████████████████████████████████████▍                                        | 3794/6300 [00:29<00:19, 127.44it/s, epoch=30, loss=[0.6114461355739169, 0.4576830263175662]]"
     ]
    },
    {
     "name": "stdout",
     "output_type": "stream",
     "text": [
      "0.00542\n"
     ]
    },
    {
     "name": "stderr",
     "output_type": "stream",
     "text": [
      "Training:  62%|███████████████████████████████████████████████████████████████▌                                      | 3929/6300 [00:30<00:18, 129.67it/s, epoch=31, loss=[0.6108437407584418, 0.4550298901777418]]"
     ]
    },
    {
     "name": "stdout",
     "output_type": "stream",
     "text": [
      "0.00542\n"
     ]
    },
    {
     "name": "stderr",
     "output_type": "stream",
     "text": [
      "Training:  64%|████████████████████████████████████████████████████████████████▉                                    | 4051/6300 [00:31<00:17, 129.46it/s, epoch=32, loss=[0.6109093314125426, 0.45476022078877393]]"
     ]
    },
    {
     "name": "stdout",
     "output_type": "stream",
     "text": [
      "0.00542\n"
     ]
    },
    {
     "name": "stderr",
     "output_type": "stream",
     "text": [
      "Training:  66%|███████████████████████████████████████████████████████████████████▋                                  | 4183/6300 [00:32<00:16, 128.24it/s, epoch=33, loss=[0.6105040614567107, 0.4530055830402979]]"
     ]
    },
    {
     "name": "stdout",
     "output_type": "stream",
     "text": [
      "0.00805\n"
     ]
    },
    {
     "name": "stderr",
     "output_type": "stream",
     "text": [
      "Training:  68%|████████████████████████████████████████████████████████████████████▉                                | 4303/6300 [00:33<00:15, 130.59it/s, epoch=34, loss=[0.6096305251121521, 0.44975654236854073]]"
     ]
    },
    {
     "name": "stdout",
     "output_type": "stream",
     "text": [
      "0.00805\n"
     ]
    },
    {
     "name": "stderr",
     "output_type": "stream",
     "text": [
      "Training:  70%|██████████████████████████████████████████████████████████████████████▉                              | 4428/6300 [00:34<00:14, 129.69it/s, epoch=35, loss=[0.6092324124442206, 0.44720489496276494]]"
     ]
    },
    {
     "name": "stdout",
     "output_type": "stream",
     "text": [
      "0.00805\n"
     ]
    },
    {
     "name": "stderr",
     "output_type": "stream",
     "text": [
      "Training:  72%|█████████████████████████████████████████████████████████████████████████▊                            | 4561/6300 [00:35<00:13, 132.77it/s, epoch=36, loss=[0.6084097273766045, 0.4446277258888123]]"
     ]
    },
    {
     "name": "stdout",
     "output_type": "stream",
     "text": [
      "0.00805\n"
     ]
    },
    {
     "name": "stderr",
     "output_type": "stream",
     "text": [
      "Training:  74%|███████████████████████████████████████████████████████████████████████████▊                          | 4686/6300 [00:36<00:12, 129.27it/s, epoch=37, loss=[0.6074879273535714, 0.4417616791195339]]"
     ]
    },
    {
     "name": "stdout",
     "output_type": "stream",
     "text": [
      "0.00805\n"
     ]
    },
    {
     "name": "stderr",
     "output_type": "stream",
     "text": [
      "Training:  76%|█████████████████████████████████████████████████████████████████████████████▊                        | 4805/6300 [00:37<00:11, 129.62it/s, epoch=38, loss=[0.6070511984446691, 0.4402228078198811]]"
     ]
    },
    {
     "name": "stdout",
     "output_type": "stream",
     "text": [
      "0.00805\n"
     ]
    },
    {
     "name": "stderr",
     "output_type": "stream",
     "text": [
      "Training:  78%|███████████████████████████████████████████████████████████████████████████████▉                      | 4938/6300 [00:38<00:10, 129.88it/s, epoch=39, loss=[0.6069346940706648, 0.4399719143670704]]"
     ]
    },
    {
     "name": "stdout",
     "output_type": "stream",
     "text": [
      "0.00805\n"
     ]
    },
    {
     "name": "stderr",
     "output_type": "stream",
     "text": [
      "Training:  80%|█████████████████████████████████████████████████████████████████████████████████▉                    | 5057/6300 [00:39<00:09, 129.27it/s, epoch=40, loss=[0.6067690433017793, 0.4385929495569259]]"
     ]
    },
    {
     "name": "stdout",
     "output_type": "stream",
     "text": [
      "0.00805\n"
     ]
    },
    {
     "name": "stderr",
     "output_type": "stream",
     "text": [
      "Training:  82%|███████████████████████████████████████████████████████████████████████████████████▉                  | 5188/6300 [00:40<00:08, 126.69it/s, epoch=41, loss=[0.6057410987596662, 0.4346885080375368]]"
     ]
    },
    {
     "name": "stdout",
     "output_type": "stream",
     "text": [
      "0.00805\n"
     ]
    },
    {
     "name": "stderr",
     "output_type": "stream",
     "text": [
      "Training:  84%|█████████████████████████████████████████████████████████████████████████████████████▉                | 5306/6300 [00:41<00:07, 127.70it/s, epoch=42, loss=[0.6053293328436594, 0.4340281808187091]]"
     ]
    },
    {
     "name": "stdout",
     "output_type": "stream",
     "text": [
      "0.00805\n"
     ]
    },
    {
     "name": "stderr",
     "output_type": "stream",
     "text": [
      "Training:  86%|███████████████████████████████████████████████████████████████████████████████████████▎             | 5443/6300 [00:42<00:06, 129.93it/s, epoch=43, loss=[0.6058551281217543, 0.43597878113625527]]"
     ]
    },
    {
     "name": "stdout",
     "output_type": "stream",
     "text": [
      "0.00805\n"
     ]
    },
    {
     "name": "stderr",
     "output_type": "stream",
     "text": [
      "Training:  88%|█████████████████████████████████████████████████████████████████████████████████████████▏           | 5560/6300 [00:43<00:05, 127.50it/s, epoch=44, loss=[0.6052712306143746, 0.43339998665310087]]"
     ]
    },
    {
     "name": "stdout",
     "output_type": "stream",
     "text": [
      "0.00805\n"
     ]
    },
    {
     "name": "stderr",
     "output_type": "stream",
     "text": [
      "Training:  90%|███████████████████████████████████████████████████████████████████████████████████████████          | 5684/6300 [00:44<00:04, 129.71it/s, epoch=45, loss=[0.6045478866213844, 0.43140319510111746]]"
     ]
    },
    {
     "name": "stdout",
     "output_type": "stream",
     "text": [
      "0.00805\n"
     ]
    },
    {
     "name": "stderr",
     "output_type": "stream",
     "text": [
      "Training:  92%|█████████████████████████████████████████████████████████████████████████████████████████████▎       | 5818/6300 [00:45<00:03, 130.02it/s, epoch=46, loss=[0.6038210174394032, 0.42869678707349873]]"
     ]
    },
    {
     "name": "stdout",
     "output_type": "stream",
     "text": [
      "0.00805\n"
     ]
    },
    {
     "name": "stderr",
     "output_type": "stream",
     "text": [
      "Training:  94%|███████████████████████████████████████████████████████████████████████████████████████████████▎     | 5944/6300 [00:46<00:02, 129.23it/s, epoch=47, loss=[0.6033125075082931, 0.42609797063327975]]"
     ]
    },
    {
     "name": "stdout",
     "output_type": "stream",
     "text": [
      "0.00805\n"
     ]
    },
    {
     "name": "stderr",
     "output_type": "stream",
     "text": [
      "Training:  96%|███████████████████████████████████████████████████████████████████████████████████████████████████▏   | 6063/6300 [00:46<00:01, 129.81it/s, epoch=48, loss=[0.6030844497302222, 0.425227170425748]]"
     ]
    },
    {
     "name": "stdout",
     "output_type": "stream",
     "text": [
      "0.00805\n"
     ]
    },
    {
     "name": "stderr",
     "output_type": "stream",
     "text": [
      "Training:  98%|███████████████████████████████████████████████████████████████████████████████████████████████████▍ | 6200/6300 [00:48<00:00, 133.20it/s, epoch=49, loss=[0.6027050746811761, 0.42381176210585103]]"
     ]
    },
    {
     "name": "stdout",
     "output_type": "stream",
     "text": [
      "0.00805\n"
     ]
    },
    {
     "name": "stderr",
     "output_type": "stream",
     "text": [
      "Training: 100%|█████████████████████████████████████████████████████████████████████████████████████████████████████| 6300/6300 [00:48<00:00, 129.19it/s, epoch=50, loss=[0.6022666276447357, 0.42248307949020736]]\n"
     ]
    },
    {
     "name": "stdout",
     "output_type": "stream",
     "text": [
      "0.00805\n",
      "Training Accuracy: 99.85000000000001%\n",
      "Testing Accuracy: 22.305549603599744%\n",
      "Top 5 Training Accuracy: 100.0%\n",
      "Top 5 Testing Accuracy: 43.92543389757874%\n",
      "Test to train ratio:  0.8\n",
      "Train Loader: 42\n",
      "Test Loader: 167\n",
      "Network Size: 2048\n",
      "Initialization 1 / 2\n",
      "Complete\n",
      "\n",
      "Initialization 2 / 2\n",
      "Complete\n",
      "\n"
     ]
    },
    {
     "name": "stderr",
     "output_type": "stream",
     "text": [
      "Training:   2%|██▌                                                                                                     | 104/4200 [00:00<00:36, 110.81it/s, epoch=1, loss=[0.6919318522725786, 0.6934693299588705]]"
     ]
    },
    {
     "name": "stdout",
     "output_type": "stream",
     "text": [
      "0.005562\n"
     ]
    },
    {
     "name": "stderr",
     "output_type": "stream",
     "text": [
      "Training:   4%|████▌                                                                                                   | 185/4200 [00:01<00:36, 110.65it/s, epoch=2, loss=[0.6800351440906526, 0.6875581627800352]]"
     ]
    },
    {
     "name": "stdout",
     "output_type": "stream",
     "text": [
      "0.005562\n"
     ]
    },
    {
     "name": "stderr",
     "output_type": "stream",
     "text": [
      "Training:   6%|██████▌                                                                                                 | 267/4200 [00:02<00:35, 110.63it/s, epoch=3, loss=[0.6592835783958436, 0.6800092458724976]]"
     ]
    },
    {
     "name": "stdout",
     "output_type": "stream",
     "text": [
      "0.005562\n"
     ]
    },
    {
     "name": "stderr",
     "output_type": "stream",
     "text": [
      "Training:   8%|████████▋                                                                                               | 351/4200 [00:03<00:34, 111.45it/s, epoch=4, loss=[0.6476817727088926, 0.6581298155444008]]"
     ]
    },
    {
     "name": "stdout",
     "output_type": "stream",
     "text": [
      "0.005562\n"
     ]
    },
    {
     "name": "stderr",
     "output_type": "stream",
     "text": [
      "Training:  10%|██████████▉                                                                                              | 435/4200 [00:03<00:33, 112.26it/s, epoch=5, loss=[0.642192793743951, 0.6364482868285405]]"
     ]
    },
    {
     "name": "stdout",
     "output_type": "stream",
     "text": [
      "0.005562\n"
     ]
    },
    {
     "name": "stderr",
     "output_type": "stream",
     "text": [
      "Training:  12%|████████████▊                                                                                           | 519/4200 [00:04<00:33, 111.51it/s, epoch=6, loss=[0.6379494965076448, 0.6178180461838131]]"
     ]
    },
    {
     "name": "stdout",
     "output_type": "stream",
     "text": [
      "0.005562\n"
     ]
    },
    {
     "name": "stderr",
     "output_type": "stream",
     "text": [
      "Training:  14%|██████████████▉                                                                                         | 601/4200 [00:05<00:32, 110.25it/s, epoch=7, loss=[0.6351025870868138, 0.6024617879163654]]"
     ]
    },
    {
     "name": "stdout",
     "output_type": "stream",
     "text": [
      "0.005562\n"
     ]
    },
    {
     "name": "stderr",
     "output_type": "stream",
     "text": [
      "Training:  16%|████████████████▉                                                                                       | 685/4200 [00:06<00:31, 111.16it/s, epoch=8, loss=[0.6318846259798324, 0.5870333242984046]]"
     ]
    },
    {
     "name": "stdout",
     "output_type": "stream",
     "text": [
      "0.005562\n"
     ]
    },
    {
     "name": "stderr",
     "output_type": "stream",
     "text": [
      "Training:  18%|███████████████████                                                                                     | 769/4200 [00:06<00:30, 111.09it/s, epoch=9, loss=[0.6290921980426424, 0.5734923709006539]]"
     ]
    },
    {
     "name": "stdout",
     "output_type": "stream",
     "text": [
      "0.005562\n"
     ]
    },
    {
     "name": "stderr",
     "output_type": "stream",
     "text": [
      "Training:  20%|████████████████████▉                                                                                  | 853/4200 [00:07<00:30, 111.26it/s, epoch=10, loss=[0.6259026811236427, 0.5613318071478889]]"
     ]
    },
    {
     "name": "stdout",
     "output_type": "stream",
     "text": [
      "0.005562\n"
     ]
    },
    {
     "name": "stderr",
     "output_type": "stream",
     "text": [
      "Training:  22%|██████████████████████▉                                                                                | 937/4200 [00:08<00:29, 111.64it/s, epoch=11, loss=[0.6234367064067297, 0.5481243303843906]]"
     ]
    },
    {
     "name": "stdout",
     "output_type": "stream",
     "text": [
      "0.005562\n"
     ]
    },
    {
     "name": "stderr",
     "output_type": "stream",
     "text": [
      "Training:  24%|████████████████████████▊                                                                             | 1020/4200 [00:09<00:28, 110.86it/s, epoch=12, loss=[0.6222346382481712, 0.5389374295870463]]"
     ]
    },
    {
     "name": "stdout",
     "output_type": "stream",
     "text": [
      "0.005562\n"
     ]
    },
    {
     "name": "stderr",
     "output_type": "stream",
     "text": [
      "Training:  26%|██████████████████████████▊                                                                           | 1104/4200 [00:09<00:27, 110.93it/s, epoch=13, loss=[0.6203634994370595, 0.5288689548061009]]"
     ]
    },
    {
     "name": "stdout",
     "output_type": "stream",
     "text": [
      "0.005562\n"
     ]
    },
    {
     "name": "stderr",
     "output_type": "stream",
     "text": [
      "Training:  28%|████████████████████████████▊                                                                         | 1188/4200 [00:10<00:27, 111.26it/s, epoch=14, loss=[0.6196247069608597, 0.5217327177524566]]"
     ]
    },
    {
     "name": "stdout",
     "output_type": "stream",
     "text": [
      "0.005562\n"
     ]
    },
    {
     "name": "stderr",
     "output_type": "stream",
     "text": [
      "Training:  30%|██████████████████████████████▊                                                                       | 1271/4200 [00:11<00:26, 111.45it/s, epoch=15, loss=[0.6183379618894486, 0.5134105767522539]]"
     ]
    },
    {
     "name": "stdout",
     "output_type": "stream",
     "text": [
      "0.005562\n"
     ]
    },
    {
     "name": "stderr",
     "output_type": "stream",
     "text": [
      "Training:  32%|█████████████████████████████████▏                                                                     | 1355/4200 [00:12<00:25, 110.91it/s, epoch=16, loss=[0.616604589280628, 0.5034466080722354]]"
     ]
    },
    {
     "name": "stdout",
     "output_type": "stream",
     "text": [
      "0.005562\n"
     ]
    },
    {
     "name": "stderr",
     "output_type": "stream",
     "text": [
      "Training:  34%|██████████████████████████████████▉                                                                   | 1438/4200 [00:13<00:24, 111.09it/s, epoch=17, loss=[0.6148018766017185, 0.4957555262815385]]"
     ]
    },
    {
     "name": "stdout",
     "output_type": "stream",
     "text": [
      "0.005562\n"
     ]
    },
    {
     "name": "stderr",
     "output_type": "stream",
     "text": [
      "Training:  36%|█████████████████████████████████████▏                                                                | 1532/4200 [00:13<00:24, 110.75it/s, epoch=18, loss=[0.614482302041281, 0.49036087024779534]]"
     ]
    },
    {
     "name": "stdout",
     "output_type": "stream",
     "text": [
      "0.006657\n"
     ]
    },
    {
     "name": "stderr",
     "output_type": "stream",
     "text": [
      "Training:  38%|██████████████████████████████████████▊                                                              | 1616/4200 [00:14<00:23, 110.58it/s, epoch=19, loss=[0.6141297888188136, 0.48590088600204095]]"
     ]
    },
    {
     "name": "stdout",
     "output_type": "stream",
     "text": [
      "0.006893\n"
     ]
    },
    {
     "name": "stderr",
     "output_type": "stream",
     "text": [
      "Training:  40%|████████████████████████████████████████▊                                                            | 1697/4200 [00:15<00:22, 110.08it/s, epoch=20, loss=[0.6126764359928313, 0.47798099333331695]]"
     ]
    },
    {
     "name": "stdout",
     "output_type": "stream",
     "text": [
      "0.006893\n"
     ]
    },
    {
     "name": "stderr",
     "output_type": "stream",
     "text": [
      "Training:  42%|███████████████████████████████████████████▏                                                          | 1779/4200 [00:16<00:21, 110.81it/s, epoch=21, loss=[0.6111680581456139, 0.4708186934391657]]"
     ]
    },
    {
     "name": "stdout",
     "output_type": "stream",
     "text": [
      "0.006893\n"
     ]
    },
    {
     "name": "stderr",
     "output_type": "stream",
     "text": [
      "Training:  44%|█████████████████████████████████████████████▏                                                        | 1861/4200 [00:16<00:21, 110.50it/s, epoch=22, loss=[0.610944221417109, 0.46837253229958664]]"
     ]
    },
    {
     "name": "stdout",
     "output_type": "stream",
     "text": [
      "0.006893\n"
     ]
    },
    {
     "name": "stderr",
     "output_type": "stream",
     "text": [
      "Training:  46%|███████████████████████████████████████████████▋                                                       | 1942/4200 [00:17<00:20, 111.38it/s, epoch=23, loss=[0.6102880764575231, 0.463695038642202]]"
     ]
    },
    {
     "name": "stdout",
     "output_type": "stream",
     "text": [
      "0.006893\n"
     ]
    },
    {
     "name": "stderr",
     "output_type": "stream",
     "text": [
      "Training:  48%|█████████████████████████████████████████████████▍                                                    | 2037/4200 [00:18<00:19, 110.64it/s, epoch=24, loss=[0.6088808462733314, 0.4575640757878621]]"
     ]
    },
    {
     "name": "stdout",
     "output_type": "stream",
     "text": [
      "0.006893\n"
     ]
    },
    {
     "name": "stderr",
     "output_type": "stream",
     "text": [
      "Training:  50%|█████████████████████████████████████████████████████                                                    | 2121/4200 [00:19<00:18, 111.27it/s, epoch=25, loss=[0.6082853050459, 0.4537560499849773]]"
     ]
    },
    {
     "name": "stdout",
     "output_type": "stream",
     "text": [
      "0.006893\n"
     ]
    },
    {
     "name": "stderr",
     "output_type": "stream",
     "text": [
      "Training:  52%|█████████████████████████████████████████████████████                                                | 2205/4200 [00:19<00:17, 110.87it/s, epoch=26, loss=[0.6079967958586557, 0.45149734758195426]]"
     ]
    },
    {
     "name": "stdout",
     "output_type": "stream",
     "text": [
      "0.006893\n"
     ]
    },
    {
     "name": "stderr",
     "output_type": "stream",
     "text": [
      "Training:  55%|███████████████████████████████████████████████████████                                              | 2289/4200 [00:20<00:17, 110.83it/s, epoch=27, loss=[0.6070623000462849, 0.44721922207446335]]"
     ]
    },
    {
     "name": "stdout",
     "output_type": "stream",
     "text": [
      "0.006893\n"
     ]
    },
    {
     "name": "stderr",
     "output_type": "stream",
     "text": [
      "Training:  56%|█████████████████████████████████████████████████████████                                            | 2373/4200 [00:21<00:16, 111.31it/s, epoch=28, loss=[0.6061427408740635, 0.44372682912009115]]"
     ]
    },
    {
     "name": "stdout",
     "output_type": "stream",
     "text": [
      "0.006893\n"
     ]
    },
    {
     "name": "stderr",
     "output_type": "stream",
     "text": [
      "Training:  58%|███████████████████████████████████████████████████████████▌                                          | 2455/4200 [00:22<00:15, 109.58it/s, epoch=29, loss=[0.6053893154575712, 0.4397131268467222]]"
     ]
    },
    {
     "name": "stdout",
     "output_type": "stream",
     "text": [
      "0.006893\n"
     ]
    },
    {
     "name": "stderr",
     "output_type": "stream",
     "text": [
      "Training:  60%|████████████████████████████████████████████████████████████▉                                        | 2534/4200 [00:22<00:15, 108.94it/s, epoch=30, loss=[0.6047887206077576, 0.43651454434508347]]"
     ]
    },
    {
     "name": "stdout",
     "output_type": "stream",
     "text": [
      "0.006893\n"
     ]
    },
    {
     "name": "stderr",
     "output_type": "stream",
     "text": [
      "Training:  62%|███████████████████████████████████████████████████████████████                                      | 2624/4200 [00:23<00:14, 108.61it/s, epoch=31, loss=[0.6046849744660513, 0.43528378293627784]]"
     ]
    },
    {
     "name": "stdout",
     "output_type": "stream",
     "text": [
      "0.006893\n"
     ]
    },
    {
     "name": "stderr",
     "output_type": "stream",
     "text": [
      "Training:  64%|█████████████████████████████████████████████████████████████████▋                                    | 2705/4200 [00:24<00:13, 109.42it/s, epoch=32, loss=[0.603310810668128, 0.43044629976862936]]"
     ]
    },
    {
     "name": "stdout",
     "output_type": "stream",
     "text": [
      "0.006893\n"
     ]
    },
    {
     "name": "stderr",
     "output_type": "stream",
     "text": [
      "Training:  66%|███████████████████████████████████████████████████████████████████▋                                  | 2786/4200 [00:25<00:12, 111.90it/s, epoch=33, loss=[0.6027618575663792, 0.4287004243759882]]"
     ]
    },
    {
     "name": "stdout",
     "output_type": "stream",
     "text": [
      "0.006893\n"
     ]
    },
    {
     "name": "stderr",
     "output_type": "stream",
     "text": [
      "Training:  68%|█████████████████████████████████████████████████████████████████████                                | 2870/4200 [00:26<00:11, 112.01it/s, epoch=34, loss=[0.6016447175116766, 0.42403063674767827]]"
     ]
    },
    {
     "name": "stdout",
     "output_type": "stream",
     "text": [
      "0.006893\n"
     ]
    },
    {
     "name": "stderr",
     "output_type": "stream",
     "text": [
      "Training:  70%|███████████████████████████████████████████████████████████████████████                              | 2954/4200 [00:26<00:11, 110.97it/s, epoch=35, loss=[0.6016425419421424, 0.42333721263068064]]"
     ]
    },
    {
     "name": "stdout",
     "output_type": "stream",
     "text": [
      "0.006893\n"
     ]
    },
    {
     "name": "stderr",
     "output_type": "stream",
     "text": [
      "Training:  72%|█████████████████████████████████████████████████████████████████████████                            | 3038/4200 [00:27<00:10, 111.58it/s, epoch=36, loss=[0.6010857352188657, 0.42177697732335045]]"
     ]
    },
    {
     "name": "stdout",
     "output_type": "stream",
     "text": [
      "0.006893\n"
     ]
    },
    {
     "name": "stderr",
     "output_type": "stream",
     "text": [
      "Training:  74%|███████████████████████████████████████████████████████████████████████████                          | 3122/4200 [00:28<00:09, 111.12it/s, epoch=37, loss=[0.6008883870783305, 0.42021347866171876]]"
     ]
    },
    {
     "name": "stdout",
     "output_type": "stream",
     "text": [
      "0.006893\n"
     ]
    },
    {
     "name": "stderr",
     "output_type": "stream",
     "text": [
      "Training:  76%|█████████████████████████████████████████████████████████████████████████████                        | 3205/4200 [00:29<00:08, 111.02it/s, epoch=38, loss=[0.6012284996963682, 0.42034655312697083]]"
     ]
    },
    {
     "name": "stdout",
     "output_type": "stream",
     "text": [
      "0.008034\n"
     ]
    },
    {
     "name": "stderr",
     "output_type": "stream",
     "text": [
      "Training:  78%|███████████████████████████████████████████████████████████████████████████████                      | 3289/4200 [00:29<00:08, 111.22it/s, epoch=39, loss=[0.6001306999297371, 0.41630226799419945]]"
     ]
    },
    {
     "name": "stdout",
     "output_type": "stream",
     "text": [
      "0.008322\n"
     ]
    },
    {
     "name": "stderr",
     "output_type": "stream",
     "text": [
      "Training:  80%|█████████████████████████████████████████████████████████████████████████████████▉                    | 3372/4200 [00:30<00:07, 110.82it/s, epoch=40, loss=[0.5993074136120932, 0.4131928973254704]]"
     ]
    },
    {
     "name": "stdout",
     "output_type": "stream",
     "text": [
      "0.008322\n"
     ]
    },
    {
     "name": "stderr",
     "output_type": "stream",
     "text": [
      "Training:  82%|███████████████████████████████████████████████████████████████████████████████████▉                  | 3456/4200 [00:31<00:06, 112.10it/s, epoch=41, loss=[0.5988937460240862, 0.4113998391798564]]"
     ]
    },
    {
     "name": "stdout",
     "output_type": "stream",
     "text": [
      "0.008322\n"
     ]
    },
    {
     "name": "stderr",
     "output_type": "stream",
     "text": [
      "Training:  84%|█████████████████████████████████████████████████████████████████████████████████████▉                | 3540/4200 [00:32<00:05, 111.82it/s, epoch=42, loss=[0.5979064546880267, 0.4077459410542533]]"
     ]
    },
    {
     "name": "stdout",
     "output_type": "stream",
     "text": [
      "0.008322\n"
     ]
    },
    {
     "name": "stderr",
     "output_type": "stream",
     "text": [
      "Training:  86%|███████████████████████████████████████████████████████████████████████████████████████▏             | 3624/4200 [00:32<00:05, 110.39it/s, epoch=43, loss=[0.5976654035704476, 0.40767312120823646]]"
     ]
    },
    {
     "name": "stdout",
     "output_type": "stream",
     "text": [
      "0.008322\n"
     ]
    },
    {
     "name": "stderr",
     "output_type": "stream",
     "text": [
      "Training:  88%|█████████████████████████████████████████████████████████████████████████████████████████            | 3706/4200 [00:33<00:04, 110.27it/s, epoch=44, loss=[0.5969409715561638, 0.40375330760365435]]"
     ]
    },
    {
     "name": "stdout",
     "output_type": "stream",
     "text": [
      "0.008322\n"
     ]
    },
    {
     "name": "stderr",
     "output_type": "stream",
     "text": [
      "Training:  90%|████████████████████████████████████████████████████████████████████████████████████████████▏         | 3797/4200 [00:34<00:03, 110.59it/s, epoch=45, loss=[0.596659765357063, 0.40223515388511477]]"
     ]
    },
    {
     "name": "stdout",
     "output_type": "stream",
     "text": [
      "0.008322\n"
     ]
    },
    {
     "name": "stderr",
     "output_type": "stream",
     "text": [
      "Training:  92%|█████████████████████████████████████████████████████████████████████████████████████████████▎       | 3878/4200 [00:35<00:02, 110.47it/s, epoch=46, loss=[0.5958052589779808, 0.39952322131111506]]"
     ]
    },
    {
     "name": "stdout",
     "output_type": "stream",
     "text": [
      "0.008322\n"
     ]
    },
    {
     "name": "stderr",
     "output_type": "stream",
     "text": [
      "Training:  94%|███████████████████████████████████████████████████████████████████████████████████████████████▎     | 3961/4200 [00:35<00:02, 110.50it/s, epoch=47, loss=[0.5959886411825818, 0.39914864656471066]]"
     ]
    },
    {
     "name": "stdout",
     "output_type": "stream",
     "text": [
      "0.008322\n"
     ]
    },
    {
     "name": "stderr",
     "output_type": "stream",
     "text": [
      "Training:  96%|██████████████████████████████████████████████████████████████████████████████████████████████████▏   | 4045/4200 [00:36<00:01, 111.35it/s, epoch=48, loss=[0.5954074206806367, 0.3974181591045288]]"
     ]
    },
    {
     "name": "stdout",
     "output_type": "stream",
     "text": [
      "0.008322\n"
     ]
    },
    {
     "name": "stderr",
     "output_type": "stream",
     "text": [
      "Training:  98%|████████████████████████████████████████████████████████████████████████████████████████████████████▏ | 4126/4200 [00:37<00:00, 110.85it/s, epoch=49, loss=[0.5956868387403942, 0.3991223020212993]]"
     ]
    },
    {
     "name": "stdout",
     "output_type": "stream",
     "text": [
      "0.008322\n"
     ]
    },
    {
     "name": "stderr",
     "output_type": "stream",
     "text": [
      "Training: 100%|█████████████████████████████████████████████████████████████████████████████████████████████████████| 4200/4200 [00:38<00:00, 110.28it/s, epoch=50, loss=[0.5946929809593018, 0.39479653608231324]]\n"
     ]
    },
    {
     "name": "stdout",
     "output_type": "stream",
     "text": [
      "0.008322\n",
      "Training Accuracy: 100.0%\n",
      "Testing Accuracy: 19.23509561304837%\n",
      "Top 5 Training Accuracy: 100.0%\n",
      "Top 5 Testing Accuracy: 38.69516310461192%\n",
      "Test to train ratio:  0.9\n",
      "Train Loader: 21\n",
      "Test Loader: 188\n",
      "Network Size: 2048\n",
      "Initialization 1 / 2\n",
      "Complete\n",
      "\n",
      "Initialization 2 / 2\n",
      "Complete\n",
      "\n"
     ]
    },
    {
     "name": "stderr",
     "output_type": "stream",
     "text": [
      "Training:   3%|███▎                                                                                                     | 65/2100 [00:00<00:16, 126.84it/s, epoch=1, loss=[0.6932916243871052, 0.6942458521752131]]"
     ]
    },
    {
     "name": "stdout",
     "output_type": "stream",
     "text": [
      "0.005927\n"
     ]
    },
    {
     "name": "stderr",
     "output_type": "stream",
     "text": [
      "Training:   5%|█████▏                                                                                                  | 104/2100 [00:00<00:15, 125.78it/s, epoch=2, loss=[0.6797690022559394, 0.6858083378700984]]"
     ]
    },
    {
     "name": "stdout",
     "output_type": "stream",
     "text": [
      "0.005927\n"
     ]
    },
    {
     "name": "stderr",
     "output_type": "stream",
     "text": [
      "Training:   7%|███████                                                                                                 | 143/2100 [00:01<00:15, 125.35it/s, epoch=3, loss=[0.6729161909648351, 0.6837322655178252]]"
     ]
    },
    {
     "name": "stdout",
     "output_type": "stream",
     "text": [
      "0.005927\n"
     ]
    },
    {
     "name": "stderr",
     "output_type": "stream",
     "text": [
      "Training:   9%|█████████                                                                                               | 183/2100 [00:01<00:15, 127.37it/s, epoch=4, loss=[0.6500602052325293, 0.6789920812561397]]"
     ]
    },
    {
     "name": "stdout",
     "output_type": "stream",
     "text": [
      "0.005927\n"
     ]
    },
    {
     "name": "stderr",
     "output_type": "stream",
     "text": [
      "Training:  11%|███████████                                                                                             | 224/2100 [00:01<00:14, 129.94it/s, epoch=5, loss=[0.6326890672956192, 0.6671055470194134]]"
     ]
    },
    {
     "name": "stdout",
     "output_type": "stream",
     "text": [
      "0.005927\n"
     ]
    },
    {
     "name": "stderr",
     "output_type": "stream",
     "text": [
      "Training:  13%|█████████████▏                                                                                          | 266/2100 [00:02<00:14, 130.96it/s, epoch=6, loss=[0.6233188935688564, 0.6464550892512003]]"
     ]
    },
    {
     "name": "stdout",
     "output_type": "stream",
     "text": [
      "0.008146\n"
     ]
    },
    {
     "name": "stderr",
     "output_type": "stream",
     "text": [
      "Training:  15%|███████████████▎                                                                                        | 308/2100 [00:02<00:13, 131.98it/s, epoch=7, loss=[0.6165971358617146, 0.6240468961851938]]"
     ]
    },
    {
     "name": "stdout",
     "output_type": "stream",
     "text": [
      "0.008146\n"
     ]
    },
    {
     "name": "stderr",
     "output_type": "stream",
     "text": [
      "Training:  17%|█████████████████▍                                                                                      | 351/2100 [00:02<00:13, 133.73it/s, epoch=8, loss=[0.6096572450229099, 0.6015758996918086]]"
     ]
    },
    {
     "name": "stdout",
     "output_type": "stream",
     "text": [
      "0.008146\n"
     ]
    },
    {
     "name": "stderr",
     "output_type": "stream",
     "text": [
      "Training:  19%|███████████████████▍                                                                                    | 393/2100 [00:03<00:12, 132.71it/s, epoch=9, loss=[0.6047786871592203, 0.5813861773127601]]"
     ]
    },
    {
     "name": "stdout",
     "output_type": "stream",
     "text": [
      "0.008146\n"
     ]
    },
    {
     "name": "stderr",
     "output_type": "stream",
     "text": [
      "Training:  21%|█████████████████████▌                                                                                  | 435/2100 [00:03<00:12, 131.83it/s, epoch=10, loss=[0.599379593417758, 0.5619891484578451]]"
     ]
    },
    {
     "name": "stdout",
     "output_type": "stream",
     "text": [
      "0.008146\n"
     ]
    },
    {
     "name": "stderr",
     "output_type": "stream",
     "text": [
      "Training:  23%|███████████████████████▍                                                                               | 477/2100 [00:03<00:12, 131.17it/s, epoch=11, loss=[0.5959263273647855, 0.5456169786907376]]"
     ]
    },
    {
     "name": "stdout",
     "output_type": "stream",
     "text": [
      "0.008146\n"
     ]
    },
    {
     "name": "stderr",
     "output_type": "stream",
     "text": [
      "Training:  25%|█████████████████████████▍                                                                             | 519/2100 [00:03<00:12, 131.26it/s, epoch=12, loss=[0.5945255472546532, 0.5319979219209581]]"
     ]
    },
    {
     "name": "stdout",
     "output_type": "stream",
     "text": [
      "0.008146\n"
     ]
    },
    {
     "name": "stderr",
     "output_type": "stream",
     "text": [
      "Training:  27%|███████████████████████████▌                                                                           | 561/2100 [00:04<00:11, 129.44it/s, epoch=13, loss=[0.5889739025206793, 0.5141861325218564]]"
     ]
    },
    {
     "name": "stdout",
     "output_type": "stream",
     "text": [
      "0.008146\n"
     ]
    },
    {
     "name": "stderr",
     "output_type": "stream",
     "text": [
      "Training:  29%|█████████████████████████████▏                                                                        | 602/2100 [00:04<00:11, 129.12it/s, epoch=14, loss=[0.5860707050278073, 0.49980805885224117]]"
     ]
    },
    {
     "name": "stdout",
     "output_type": "stream",
     "text": [
      "0.008146\n"
     ]
    },
    {
     "name": "stderr",
     "output_type": "stream",
     "text": [
      "Training:  31%|███████████████████████████████▊                                                                      | 655/2100 [00:05<00:11, 127.49it/s, epoch=15, loss=[0.5845649214017958, 0.48886182052748545]]"
     ]
    },
    {
     "name": "stdout",
     "output_type": "stream",
     "text": [
      "0.008146\n"
     ]
    },
    {
     "name": "stderr",
     "output_type": "stream",
     "text": [
      "Training:  33%|█████████████████████████████████▊                                                                    | 696/2100 [00:05<00:10, 129.01it/s, epoch=16, loss=[0.5814344684282939, 0.47608064044089554]]"
     ]
    },
    {
     "name": "stdout",
     "output_type": "stream",
     "text": [
      "0.008146\n"
     ]
    },
    {
     "name": "stderr",
     "output_type": "stream",
     "text": [
      "Training:  35%|███████████████████████████████████▊                                                                  | 737/2100 [00:05<00:10, 129.85it/s, epoch=17, loss=[0.5791673149381364, 0.46568187787419274]]"
     ]
    },
    {
     "name": "stdout",
     "output_type": "stream",
     "text": [
      "0.008146\n"
     ]
    },
    {
     "name": "stderr",
     "output_type": "stream",
     "text": [
      "Training:  37%|██████████████████████████████████████▏                                                                | 778/2100 [00:05<00:10, 128.94it/s, epoch=18, loss=[0.5766155804906572, 0.4547325869401295]]"
     ]
    },
    {
     "name": "stdout",
     "output_type": "stream",
     "text": [
      "0.008146\n"
     ]
    },
    {
     "name": "stderr",
     "output_type": "stream",
     "text": [
      "Training:  39%|█████████████████████████████████████████                                                                | 820/2100 [00:06<00:09, 130.50it/s, epoch=19, loss=[0.574091306754521, 0.444910759017581]]"
     ]
    },
    {
     "name": "stdout",
     "output_type": "stream",
     "text": [
      "0.008146\n"
     ]
    },
    {
     "name": "stderr",
     "output_type": "stream",
     "text": [
      "Training:  41%|██████████████████████████████████████████▎                                                            | 862/2100 [00:06<00:09, 131.69it/s, epoch=20, loss=[0.5726027488708497, 0.4382376088982537]]"
     ]
    },
    {
     "name": "stdout",
     "output_type": "stream",
     "text": [
      "0.008146\n"
     ]
    },
    {
     "name": "stderr",
     "output_type": "stream",
     "text": [
      "Training:  43%|████████████████████████████████████████████▎                                                          | 904/2100 [00:06<00:09, 130.09it/s, epoch=21, loss=[0.5707404329663232, 0.4292759341853005]]"
     ]
    },
    {
     "name": "stdout",
     "output_type": "stream",
     "text": [
      "0.008146\n"
     ]
    },
    {
     "name": "stderr",
     "output_type": "stream",
     "text": [
      "Training:  45%|██████████████████████████████████████████████▍                                                        | 946/2100 [00:07<00:08, 131.28it/s, epoch=22, loss=[0.5694696874845594, 0.4234337168080466]]"
     ]
    },
    {
     "name": "stdout",
     "output_type": "stream",
     "text": [
      "0.008146\n"
     ]
    },
    {
     "name": "stderr",
     "output_type": "stream",
     "text": [
      "Training:  47%|████████████████████████████████████████████████▍                                                      | 988/2100 [00:07<00:08, 131.25it/s, epoch=23, loss=[0.5670646656127202, 0.4147341364905947]]"
     ]
    },
    {
     "name": "stdout",
     "output_type": "stream",
     "text": [
      "0.008146\n"
     ]
    },
    {
     "name": "stderr",
     "output_type": "stream",
     "text": [
      "Training:  49%|██████████████████████████████████████████████████▌                                                    | 1030/2100 [00:07<00:08, 131.25it/s, epoch=24, loss=[0.565655257020678, 0.4089713607515609]]"
     ]
    },
    {
     "name": "stdout",
     "output_type": "stream",
     "text": [
      "0.008146\n"
     ]
    },
    {
     "name": "stderr",
     "output_type": "stream",
     "text": [
      "Training:  51%|███████████████████████████████████████████████████▌                                                 | 1072/2100 [00:08<00:07, 130.31it/s, epoch=25, loss=[0.5644795695940653, 0.40237017898332506]]"
     ]
    },
    {
     "name": "stdout",
     "output_type": "stream",
     "text": [
      "0.008146\n"
     ]
    },
    {
     "name": "stderr",
     "output_type": "stream",
     "text": [
      "Training:  53%|█████████████████████████████████████████████████████▍                                               | 1112/2100 [00:08<00:07, 128.32it/s, epoch=26, loss=[0.5629207832472665, 0.39630675315856934]]"
     ]
    },
    {
     "name": "stdout",
     "output_type": "stream",
     "text": [
      "0.008146\n"
     ]
    },
    {
     "name": "stderr",
     "output_type": "stream",
     "text": [
      "Training:  55%|███████████████████████████████████████████████████████▎                                             | 1151/2100 [00:08<00:07, 128.20it/s, epoch=27, loss=[0.5621413645290193, 0.39151011194501606]]"
     ]
    },
    {
     "name": "stdout",
     "output_type": "stream",
     "text": [
      "0.008146\n"
     ]
    },
    {
     "name": "stderr",
     "output_type": "stream",
     "text": [
      "Training:  57%|█████████████████████████████████████████████████████████▏                                           | 1190/2100 [00:09<00:07, 128.23it/s, epoch=28, loss=[0.5610568182809014, 0.38619671549115864]]"
     ]
    },
    {
     "name": "stdout",
     "output_type": "stream",
     "text": [
      "0.008146\n"
     ]
    },
    {
     "name": "stderr",
     "output_type": "stream",
     "text": [
      "Training:  59%|████████████████████████████████████████████████████████████▎                                         | 1242/2100 [00:09<00:06, 127.99it/s, epoch=29, loss=[0.5596021584102087, 0.3812215058576493]]"
     ]
    },
    {
     "name": "stdout",
     "output_type": "stream",
     "text": [
      "0.008146\n"
     ]
    },
    {
     "name": "stderr",
     "output_type": "stream",
     "text": [
      "Training:  61%|█████████████████████████████████████████████████████████████▋                                       | 1282/2100 [00:09<00:06, 128.41it/s, epoch=30, loss=[0.5576223617508297, 0.37570509882200337]]"
     ]
    },
    {
     "name": "stdout",
     "output_type": "stream",
     "text": [
      "0.008146\n"
     ]
    },
    {
     "name": "stderr",
     "output_type": "stream",
     "text": [
      "Training:  63%|████████████████████████████████████████████████████████████████▊                                      | 1321/2100 [00:10<00:06, 126.59it/s, epoch=31, loss=[0.557430312747047, 0.3720425111906869]]"
     ]
    },
    {
     "name": "stdout",
     "output_type": "stream",
     "text": [
      "0.008146\n"
     ]
    },
    {
     "name": "stderr",
     "output_type": "stream",
     "text": [
      "Training:  65%|██████████████████████████████████████████████████████████████████                                    | 1360/2100 [00:10<00:05, 127.13it/s, epoch=32, loss=[0.5565145640146165, 0.3674871183577037]]"
     ]
    },
    {
     "name": "stdout",
     "output_type": "stream",
     "text": [
      "0.008146\n"
     ]
    },
    {
     "name": "stderr",
     "output_type": "stream",
     "text": [
      "Training:  67%|████████████████████████████████████████████████████████████████████                                  | 1401/2100 [00:10<00:05, 129.16it/s, epoch=33, loss=[0.5565797062147231, 0.3658653895060221]]"
     ]
    },
    {
     "name": "stdout",
     "output_type": "stream",
     "text": [
      "0.008146\n"
     ]
    },
    {
     "name": "stderr",
     "output_type": "stream",
     "text": [
      "Training:  69%|██████████████████████████████████████████████████████████████████████▌                               | 1454/2100 [00:11<00:04, 129.34it/s, epoch=34, loss=[0.5556769569714864, 0.3615059384277889]]"
     ]
    },
    {
     "name": "stdout",
     "output_type": "stream",
     "text": [
      "0.008146\n"
     ]
    },
    {
     "name": "stderr",
     "output_type": "stream",
     "text": [
      "Training:  71%|████████████████████████████████████████████████████████████████████████▌                             | 1493/2100 [00:11<00:04, 126.98it/s, epoch=35, loss=[0.5544512867927551, 0.3579370691662743]]"
     ]
    },
    {
     "name": "stdout",
     "output_type": "stream",
     "text": [
      "0.008146\n"
     ]
    },
    {
     "name": "stderr",
     "output_type": "stream",
     "text": [
      "Training:  73%|█████████████████████████████████████████████████████████████████████████▋                           | 1532/2100 [00:11<00:04, 125.64it/s, epoch=36, loss=[0.5539765301204863, 0.35477133024306523]]"
     ]
    },
    {
     "name": "stdout",
     "output_type": "stream",
     "text": [
      "0.008146\n"
     ]
    },
    {
     "name": "stderr",
     "output_type": "stream",
     "text": [
      "Training:  75%|████████████████████████████████████████████████████████████████████████████▎                         | 1571/2100 [00:12<00:04, 125.43it/s, epoch=37, loss=[0.5538842905135383, 0.3531986389841353]]"
     ]
    },
    {
     "name": "stdout",
     "output_type": "stream",
     "text": [
      "0.008146\n"
     ]
    },
    {
     "name": "stderr",
     "output_type": "stream",
     "text": [
      "Training:  77%|██████████████████████████████████████████████████████████████████████████████▏                       | 1610/2100 [00:12<00:03, 126.37it/s, epoch=38, loss=[0.5534755729493641, 0.3507389369465056]]"
     ]
    },
    {
     "name": "stdout",
     "output_type": "stream",
     "text": [
      "0.008146\n"
     ]
    },
    {
     "name": "stderr",
     "output_type": "stream",
     "text": [
      "Training:  79%|███████████████████████████████████████████████████████████████████████████████▉                     | 1663/2100 [00:12<00:03, 127.93it/s, epoch=39, loss=[0.5531640166328067, 0.34880633581252324]]"
     ]
    },
    {
     "name": "stdout",
     "output_type": "stream",
     "text": [
      "0.008146\n"
     ]
    },
    {
     "name": "stderr",
     "output_type": "stream",
     "text": [
      "Training:  81%|██████████████████████████████████████████████████████████████████████████████████▊                   | 1704/2100 [00:13<00:03, 129.83it/s, epoch=40, loss=[0.5525602669942947, 0.3458301921685537]]"
     ]
    },
    {
     "name": "stdout",
     "output_type": "stream",
     "text": [
      "0.008146\n"
     ]
    },
    {
     "name": "stderr",
     "output_type": "stream",
     "text": [
      "Training:  83%|███████████████████████████████████████████████████████████████████████████████████▉                 | 1746/2100 [00:13<00:02, 130.86it/s, epoch=41, loss=[0.5518301924069723, 0.34244216056097126]]"
     ]
    },
    {
     "name": "stdout",
     "output_type": "stream",
     "text": [
      "0.008146\n"
     ]
    },
    {
     "name": "stderr",
     "output_type": "stream",
     "text": [
      "Training:  85%|██████████████████████████████████████████████████████████████████████████████████████▊               | 1788/2100 [00:13<00:02, 132.05it/s, epoch=42, loss=[0.5509712554159618, 0.3402928624834334]]"
     ]
    },
    {
     "name": "stdout",
     "output_type": "stream",
     "text": [
      "0.008146\n"
     ]
    },
    {
     "name": "stderr",
     "output_type": "stream",
     "text": [
      "Training:  87%|████████████████████████████████████████████████████████████████████████████████████████▉             | 1831/2100 [00:14<00:02, 133.11it/s, epoch=43, loss=[0.5503161748250326, 0.3372976510297684]]"
     ]
    },
    {
     "name": "stdout",
     "output_type": "stream",
     "text": [
      "0.008146\n"
     ]
    },
    {
     "name": "stderr",
     "output_type": "stream",
     "text": [
      "Training:  89%|██████████████████████████████████████████████████████████████████████████████████████████▏          | 1874/2100 [00:14<00:01, 133.79it/s, epoch=44, loss=[0.5500393992378597, 0.33582404255867004]]"
     ]
    },
    {
     "name": "stdout",
     "output_type": "stream",
     "text": [
      "0.008146\n"
     ]
    },
    {
     "name": "stderr",
     "output_type": "stream",
     "text": [
      "Training:  91%|███████████████████████████████████████████████████████████████████████████████████████████▍         | 1902/2100 [00:14<00:01, 132.19it/s, epoch=45, loss=[0.5498592456181844, 0.33490859326862155]]"
     ]
    },
    {
     "name": "stdout",
     "output_type": "stream",
     "text": [
      "0.008146\n"
     ]
    },
    {
     "name": "stderr",
     "output_type": "stream",
     "text": [
      "Training:  93%|██████████████████████████████████████████████████████████████████████████████████████████████▍       | 1945/2100 [00:15<00:01, 133.15it/s, epoch=46, loss=[0.5491043556304205, 0.3316826337859744]]"
     ]
    },
    {
     "name": "stdout",
     "output_type": "stream",
     "text": [
      "0.008146\n"
     ]
    },
    {
     "name": "stderr",
     "output_type": "stream",
     "text": [
      "Training:  95%|█████████████████████████████████████████████████████████████████████████████████████████████████▏    | 2000/2100 [00:15<00:00, 129.66it/s, epoch=47, loss=[0.5478298295111883, 0.3286699170158023]]"
     ]
    },
    {
     "name": "stdout",
     "output_type": "stream",
     "text": [
      "0.008146\n"
     ]
    },
    {
     "name": "stderr",
     "output_type": "stream",
     "text": [
      "Training:  97%|███████████████████████████████████████████████████████████████████████████████████████████████████   | 2039/2100 [00:15<00:00, 127.07it/s, epoch=48, loss=[0.5477754161471413, 0.3280211318106878]]"
     ]
    },
    {
     "name": "stdout",
     "output_type": "stream",
     "text": [
      "0.008146\n"
     ]
    },
    {
     "name": "stderr",
     "output_type": "stream",
     "text": [
      "Training:  99%|████████████████████████████████████████████████████████████████████████████████████████████████████▉ | 2078/2100 [00:16<00:00, 127.97it/s, epoch=49, loss=[0.5476315418879191, 0.3266834474745251]]"
     ]
    },
    {
     "name": "stdout",
     "output_type": "stream",
     "text": [
      "0.008146\n"
     ]
    },
    {
     "name": "stderr",
     "output_type": "stream",
     "text": [
      "Training: 100%|████████████████████████████████████████████████████████████████████████████████████████████████████████| 2100/2100 [00:16<00:00, 129.39it/s, epoch=50, loss=[0.547747464407058, 0.326391346397854]]\n"
     ]
    },
    {
     "name": "stdout",
     "output_type": "stream",
     "text": [
      "0.008146\n",
      "Training Accuracy: 100.0%\n",
      "Testing Accuracy: 15.730711548075321%\n",
      "Top 5 Training Accuracy: 100.0%\n",
      "Top 5 Testing Accuracy: 32.4112647892018%\n",
      "Test to train ratio:  0.95\n",
      "Train Loader: 11\n",
      "Test Loader: 198\n",
      "Network Size: 2048\n",
      "Initialization 1 / 2\n",
      "Complete\n",
      "\n",
      "Initialization 2 / 2\n",
      "Complete\n",
      "\n"
     ]
    },
    {
     "name": "stderr",
     "output_type": "stream",
     "text": [
      "Training:   2%|██                                                                                                       | 22/1100 [00:00<00:08, 125.23it/s, epoch=1, loss=[0.6916733059016141, 0.6919962601228196]]"
     ]
    },
    {
     "name": "stdout",
     "output_type": "stream",
     "text": [
      "0.005468\n"
     ]
    },
    {
     "name": "stderr",
     "output_type": "stream",
     "text": [
      "Training:   4%|████▏                                                                                                    | 44/1100 [00:00<00:08, 129.95it/s, epoch=2, loss=[0.6721559004350143, 0.6803345788608898]]"
     ]
    },
    {
     "name": "stdout",
     "output_type": "stream",
     "text": [
      "0.005468\n"
     ]
    },
    {
     "name": "stderr",
     "output_type": "stream",
     "text": [
      "Training:   6%|██████▋                                                                                                   | 69/1100 [00:00<00:07, 133.86it/s, epoch=3, loss=[0.6658656922253695, 0.678266557780179]]"
     ]
    },
    {
     "name": "stdout",
     "output_type": "stream",
     "text": [
      "0.005468\n"
     ]
    },
    {
     "name": "stderr",
     "output_type": "stream",
     "text": [
      "Training:   8%|████████▍                                                                                                | 88/1100 [00:00<00:07, 131.74it/s, epoch=4, loss=[0.6569405794143677, 0.6760158159516075]]"
     ]
    },
    {
     "name": "stdout",
     "output_type": "stream",
     "text": [
      "0.005468\n"
     ]
    },
    {
     "name": "stderr",
     "output_type": "stream",
     "text": [
      "Training:  10%|██████████▍                                                                                             | 111/1100 [00:00<00:07, 133.94it/s, epoch=5, loss=[0.6284064108675177, 0.6702984354712747]]"
     ]
    },
    {
     "name": "stdout",
     "output_type": "stream",
     "text": [
      "0.005468\n"
     ]
    },
    {
     "name": "stderr",
     "output_type": "stream",
     "text": [
      "Training:  12%|████████████▍                                                                                           | 132/1100 [00:00<00:07, 131.92it/s, epoch=6, loss=[0.6065552613951943, 0.6601532589305531]]"
     ]
    },
    {
     "name": "stdout",
     "output_type": "stream",
     "text": [
      "0.005468\n"
     ]
    },
    {
     "name": "stderr",
     "output_type": "stream",
     "text": [
      "Training:  14%|██████████████▌                                                                                         | 154/1100 [00:01<00:07, 131.99it/s, epoch=7, loss=[0.5946913957595825, 0.6457217877561396]]"
     ]
    },
    {
     "name": "stdout",
     "output_type": "stream",
     "text": [
      "0.005468\n"
     ]
    },
    {
     "name": "stderr",
     "output_type": "stream",
     "text": [
      "Training:  16%|████████████████▋                                                                                       | 176/1100 [00:01<00:07, 131.95it/s, epoch=8, loss=[0.5816448005762969, 0.6220009543678978]]"
     ]
    },
    {
     "name": "stdout",
     "output_type": "stream",
     "text": [
      "0.005468\n"
     ]
    },
    {
     "name": "stderr",
     "output_type": "stream",
     "text": [
      "Training:  18%|██████████████████▉                                                                                      | 198/1100 [00:01<00:06, 133.79it/s, epoch=9, loss=[0.574682885950262, 0.5988724719394336]]"
     ]
    },
    {
     "name": "stdout",
     "output_type": "stream",
     "text": [
      "0.005468\n"
     ]
    },
    {
     "name": "stderr",
     "output_type": "stream",
     "text": [
      "Training:  20%|████████████████████▉                                                                                  | 224/1100 [00:01<00:06, 135.03it/s, epoch=10, loss=[0.5668129379099066, 0.5778408429839395]]"
     ]
    },
    {
     "name": "stdout",
     "output_type": "stream",
     "text": [
      "0.005468\n"
     ]
    },
    {
     "name": "stderr",
     "output_type": "stream",
     "text": [
      "Training:  22%|██████████████████████▋                                                                                | 242/1100 [00:01<00:06, 132.34it/s, epoch=11, loss=[0.5599592978304082, 0.5572655146772211]]"
     ]
    },
    {
     "name": "stdout",
     "output_type": "stream",
     "text": [
      "0.005468\n"
     ]
    },
    {
     "name": "stderr",
     "output_type": "stream",
     "text": [
      "Training:  24%|████████████████████████▉                                                                              | 266/1100 [00:01<00:06, 134.26it/s, epoch=12, loss=[0.5530070933428678, 0.5347215262326327]]"
     ]
    },
    {
     "name": "stdout",
     "output_type": "stream",
     "text": [
      "0.005468\n"
     ]
    },
    {
     "name": "stderr",
     "output_type": "stream",
     "text": [
      "Training:  26%|██████████████████████████▊                                                                            | 286/1100 [00:02<00:06, 131.32it/s, epoch=13, loss=[0.5461844368414446, 0.5141805356199091]]"
     ]
    },
    {
     "name": "stdout",
     "output_type": "stream",
     "text": [
      "0.005468\n"
     ]
    },
    {
     "name": "stderr",
     "output_type": "stream",
     "text": [
      "Training:  28%|████████████████████████████▊                                                                          | 308/1100 [00:02<00:05, 133.16it/s, epoch=14, loss=[0.5413851737976074, 0.4962877847931602]]"
     ]
    },
    {
     "name": "stdout",
     "output_type": "stream",
     "text": [
      "0.005468\n"
     ]
    },
    {
     "name": "stderr",
     "output_type": "stream",
     "text": [
      "Training:  30%|██████████████████████████████▉                                                                        | 330/1100 [00:02<00:05, 132.23it/s, epoch=15, loss=[0.5367444862018932, 0.4803223338994113]]"
     ]
    },
    {
     "name": "stdout",
     "output_type": "stream",
     "text": [
      "0.005468\n"
     ]
    },
    {
     "name": "stderr",
     "output_type": "stream",
     "text": [
      "Training:  32%|████████████████████████████████▉                                                                      | 352/1100 [00:02<00:05, 136.54it/s, epoch=16, loss=[0.5310061628168279, 0.4656092497435483]]"
     ]
    },
    {
     "name": "stdout",
     "output_type": "stream",
     "text": [
      "0.005468\n"
     ]
    },
    {
     "name": "stderr",
     "output_type": "stream",
     "text": [
      "Training:  34%|███████████████████████████████████                                                                    | 374/1100 [00:02<00:05, 134.55it/s, epoch=17, loss=[0.5284716866233131, 0.4530041326176036]]"
     ]
    },
    {
     "name": "stdout",
     "output_type": "stream",
     "text": [
      "0.005468\n"
     ]
    },
    {
     "name": "stderr",
     "output_type": "stream",
     "text": [
      "Training:  36%|█████████████████████████████████████▍                                                                  | 396/1100 [00:02<00:05, 132.98it/s, epoch=18, loss=[0.5262061086567965, 0.442790768363259]]"
     ]
    },
    {
     "name": "stdout",
     "output_type": "stream",
     "text": [
      "0.005468\n"
     ]
    },
    {
     "name": "stderr",
     "output_type": "stream",
     "text": [
      "Training:  38%|███████████████████████████████████████▍                                                               | 421/1100 [00:03<00:05, 134.71it/s, epoch=19, loss=[0.5224439339204268, 0.4301264746622606]]"
     ]
    },
    {
     "name": "stdout",
     "output_type": "stream",
     "text": [
      "0.005468\n"
     ]
    },
    {
     "name": "stderr",
     "output_type": "stream",
     "text": [
      "Training:  40%|█████████████████████████████████████████▏                                                             | 440/1100 [00:03<00:04, 133.94it/s, epoch=20, loss=[0.5193303823471069, 0.4212508635087447]]"
     ]
    },
    {
     "name": "stdout",
     "output_type": "stream",
     "text": [
      "0.005468\n"
     ]
    },
    {
     "name": "stderr",
     "output_type": "stream",
     "text": [
      "Training:  42%|███████████████████████████████████████████▋                                                           | 467/1100 [00:03<00:04, 143.79it/s, epoch=21, loss=[0.5168780630285089, 0.4132615219463002]]"
     ]
    },
    {
     "name": "stdout",
     "output_type": "stream",
     "text": [
      "0.005468\n"
     ]
    },
    {
     "name": "stderr",
     "output_type": "stream",
     "text": [
      "Training:  44%|█████████████████████████████████████████████▎                                                         | 484/1100 [00:03<00:04, 142.37it/s, epoch=22, loss=[0.5144786184484309, 0.4034225669774143]]"
     ]
    },
    {
     "name": "stdout",
     "output_type": "stream",
     "text": [
      "0.005468\n"
     ]
    },
    {
     "name": "stderr",
     "output_type": "stream",
     "text": [
      "Training:  46%|██████████████████████████████████████████████▉                                                       | 506/1100 [00:03<00:04, 141.68it/s, epoch=23, loss=[0.5121730132536454, 0.39644562114368787]]"
     ]
    },
    {
     "name": "stdout",
     "output_type": "stream",
     "text": [
      "0.005468\n"
     ]
    },
    {
     "name": "stderr",
     "output_type": "stream",
     "text": [
      "Training:  48%|████████████████████████████████████████████████▉                                                     | 528/1100 [00:03<00:04, 139.24it/s, epoch=24, loss=[0.5094900564713911, 0.38872253082015296]]"
     ]
    },
    {
     "name": "stdout",
     "output_type": "stream",
     "text": [
      "0.005468\n"
     ]
    },
    {
     "name": "stderr",
     "output_type": "stream",
     "text": [
      "Training:  50%|███████████████████████████████████████████████████▌                                                   | 550/1100 [00:04<00:03, 137.72it/s, epoch=25, loss=[0.5077677152373574, 0.3828507282517173]]"
     ]
    },
    {
     "name": "stdout",
     "output_type": "stream",
     "text": [
      "0.005468\n"
     ]
    },
    {
     "name": "stderr",
     "output_type": "stream",
     "text": [
      "Training:  52%|█████████████████████████████████████████████████████▌                                                 | 572/1100 [00:04<00:03, 136.59it/s, epoch=26, loss=[0.5061131309379231, 0.3767924796451222]]"
     ]
    },
    {
     "name": "stdout",
     "output_type": "stream",
     "text": [
      "0.005468\n"
     ]
    },
    {
     "name": "stderr",
     "output_type": "stream",
     "text": [
      "Training:  54%|███████████████████████████████████████████████████████▌                                              | 599/1100 [00:04<00:03, 138.41it/s, epoch=27, loss=[0.5049522356553511, 0.37078930843960156]]"
     ]
    },
    {
     "name": "stdout",
     "output_type": "stream",
     "text": [
      "0.005468\n"
     ]
    },
    {
     "name": "stderr",
     "output_type": "stream",
     "text": [
      "Training:  56%|█████████████████████████████████████████████████████████▋                                             | 616/1100 [00:04<00:03, 135.91it/s, epoch=28, loss=[0.5034844387661327, 0.3660097284750505]]"
     ]
    },
    {
     "name": "stdout",
     "output_type": "stream",
     "text": [
      "0.005468\n"
     ]
    },
    {
     "name": "stderr",
     "output_type": "stream",
     "text": [
      "Training:  58%|███████████████████████████████████████████████████████████▍                                          | 641/1100 [00:04<00:03, 134.73it/s, epoch=29, loss=[0.5025241266597401, 0.36206445097923273]]"
     ]
    },
    {
     "name": "stdout",
     "output_type": "stream",
     "text": [
      "0.005468\n"
     ]
    },
    {
     "name": "stderr",
     "output_type": "stream",
     "text": [
      "Training:  60%|█████████████████████████████████████████████████████████████▏                                        | 660/1100 [00:04<00:03, 132.56it/s, epoch=30, loss=[0.5005285983735865, 0.35676647858186206]]"
     ]
    },
    {
     "name": "stdout",
     "output_type": "stream",
     "text": [
      "0.005468\n"
     ]
    },
    {
     "name": "stderr",
     "output_type": "stream",
     "text": [
      "Training:  62%|███████████████████████████████████████████████████████████████▎                                      | 683/1100 [00:05<00:03, 133.30it/s, epoch=31, loss=[0.49967986074360937, 0.3521733744577928]]"
     ]
    },
    {
     "name": "stdout",
     "output_type": "stream",
     "text": [
      "0.005468\n"
     ]
    },
    {
     "name": "stderr",
     "output_type": "stream",
     "text": [
      "Training:  64%|█████████████████████████████████████████████████████████████████▉                                     | 704/1100 [00:05<00:02, 133.87it/s, epoch=32, loss=[0.4989300207658248, 0.3484674556688829]]"
     ]
    },
    {
     "name": "stdout",
     "output_type": "stream",
     "text": [
      "0.005468\n"
     ]
    },
    {
     "name": "stderr",
     "output_type": "stream",
     "text": [
      "Training:  66%|███████████████████████████████████████████████████████████████████▉                                   | 726/1100 [00:05<00:02, 133.62it/s, epoch=33, loss=[0.4980600828474218, 0.3455040725794705]]"
     ]
    },
    {
     "name": "stdout",
     "output_type": "stream",
     "text": [
      "0.005468\n"
     ]
    },
    {
     "name": "stderr",
     "output_type": "stream",
     "text": [
      "Training:  68%|██████████████████████████████████████████████████████████████████████                                 | 748/1100 [00:05<00:02, 133.42it/s, epoch=34, loss=[0.4968338879671964, 0.3425402668389407]]"
     ]
    },
    {
     "name": "stdout",
     "output_type": "stream",
     "text": [
      "0.005468\n"
     ]
    },
    {
     "name": "stderr",
     "output_type": "stream",
     "text": [
      "Training:  70%|██████████████████████████████████████████████████████████████████████▋                              | 770/1100 [00:05<00:02, 133.37it/s, epoch=35, loss=[0.49616009809754114, 0.33936695889993146]]"
     ]
    },
    {
     "name": "stdout",
     "output_type": "stream",
     "text": [
      "0.005468\n"
     ]
    },
    {
     "name": "stderr",
     "output_type": "stream",
     "text": [
      "Training:  72%|█████████████████████████████████████████████████████████████████████████▋                            | 795/1100 [00:05<00:02, 135.24it/s, epoch=36, loss=[0.4949484467506409, 0.33709069002758374]]"
     ]
    },
    {
     "name": "stdout",
     "output_type": "stream",
     "text": [
      "0.005468\n"
     ]
    },
    {
     "name": "stderr",
     "output_type": "stream",
     "text": [
      "Training:  74%|████████████████████████████████████████████████████████████████████████████▉                           | 814/1100 [00:06<00:02, 133.33it/s, epoch=37, loss=[0.4943492250009016, 0.334015816450119]]"
     ]
    },
    {
     "name": "stdout",
     "output_type": "stream",
     "text": [
      "0.005468\n"
     ]
    },
    {
     "name": "stderr",
     "output_type": "stream",
     "text": [
      "Training:  76%|██████████████████████████████████████████████████████████████████████████████▎                        | 837/1100 [00:06<00:01, 135.66it/s, epoch=38, loss=[0.4932662492448634, 0.3316232507879084]]"
     ]
    },
    {
     "name": "stdout",
     "output_type": "stream",
     "text": [
      "0.005468\n"
     ]
    },
    {
     "name": "stderr",
     "output_type": "stream",
     "text": [
      "Training:  78%|██████████████████████████████████████████████████████████████████████████████▊                      | 858/1100 [00:06<00:01, 134.01it/s, epoch=39, loss=[0.49178891561248084, 0.32805109024047846]]"
     ]
    },
    {
     "name": "stdout",
     "output_type": "stream",
     "text": [
      "0.005468\n"
     ]
    },
    {
     "name": "stderr",
     "output_type": "stream",
     "text": [
      "Training:  80%|█████████████████████████████████████████████████████████████████████████████████▌                    | 880/1100 [00:06<00:01, 133.66it/s, epoch=40, loss=[0.4917531934651461, 0.32703444903547113]]"
     ]
    },
    {
     "name": "stdout",
     "output_type": "stream",
     "text": [
      "0.005468\n"
     ]
    },
    {
     "name": "stderr",
     "output_type": "stream",
     "text": [
      "Training:  82%|███████████████████████████████████████████████████████████████████████████████████▋                  | 902/1100 [00:06<00:01, 131.86it/s, epoch=41, loss=[0.4904157681898637, 0.32395795258608734]]"
     ]
    },
    {
     "name": "stdout",
     "output_type": "stream",
     "text": [
      "0.005468\n"
     ]
    },
    {
     "name": "stderr",
     "output_type": "stream",
     "text": [
      "Training:  84%|███████████████████████████████████████████████████████████████████████████████████████▎                | 924/1100 [00:06<00:01, 132.25it/s, epoch=42, loss=[0.4909822426059029, 0.323219432072206]]"
     ]
    },
    {
     "name": "stdout",
     "output_type": "stream",
     "text": [
      "0.005468\n"
     ]
    },
    {
     "name": "stderr",
     "output_type": "stream",
     "text": [
      "Training:  86%|███████████████████████████████████████████████████████████████████████████████████████▏             | 949/1100 [00:07<00:01, 132.25it/s, epoch=43, loss=[0.48957516659389844, 0.32120317220687866]]"
     ]
    },
    {
     "name": "stdout",
     "output_type": "stream",
     "text": [
      "0.005468\n"
     ]
    },
    {
     "name": "stderr",
     "output_type": "stream",
     "text": [
      "Training:  88%|█████████████████████████████████████████████████████████████████████████████████████████▊            | 968/1100 [00:07<00:01, 131.58it/s, epoch=44, loss=[0.4896377866918391, 0.31986855647780676]]"
     ]
    },
    {
     "name": "stdout",
     "output_type": "stream",
     "text": [
      "0.007661\n"
     ]
    },
    {
     "name": "stderr",
     "output_type": "stream",
     "text": [
      "Training:  90%|███████████████████████████████████████████████████████████████████████████████████████████▉          | 991/1100 [00:07<00:00, 134.73it/s, epoch=45, loss=[0.4892503890124234, 0.31803629073229706]]"
     ]
    },
    {
     "name": "stdout",
     "output_type": "stream",
     "text": [
      "0.007661\n"
     ]
    },
    {
     "name": "stderr",
     "output_type": "stream",
     "text": [
      "Training:  92%|█████████████████████████████████████████████████████████████████████████████████████████████▊        | 1012/1100 [00:07<00:00, 133.39it/s, epoch=46, loss=[0.4885671382600611, 0.3173680603504181]]"
     ]
    },
    {
     "name": "stdout",
     "output_type": "stream",
     "text": [
      "0.007661\n"
     ]
    },
    {
     "name": "stderr",
     "output_type": "stream",
     "text": [
      "Training:  94%|████████████████████████████████████████████████████████████████████████████████████████████████▊      | 1034/1100 [00:07<00:00, 133.39it/s, epoch=47, loss=[0.4882358014583588, 0.315768453207883]]"
     ]
    },
    {
     "name": "stdout",
     "output_type": "stream",
     "text": [
      "0.007661\n"
     ]
    },
    {
     "name": "stderr",
     "output_type": "stream",
     "text": [
      "Training:  96%|████████████████████████████████████████████████████████████████████████████████████████████████    | 1056/1100 [00:07<00:00, 131.45it/s, epoch=48, loss=[0.48825644633986737, 0.31425114653327246]]"
     ]
    },
    {
     "name": "stdout",
     "output_type": "stream",
     "text": [
      "0.007661\n"
     ]
    },
    {
     "name": "stderr",
     "output_type": "stream",
     "text": [
      "Training:  98%|████████████████████████████████████████████████████████████████████████████████████████████████████▉  | 1078/1100 [00:08<00:00, 131.15it/s, epoch=49, loss=[0.486948238177733, 0.3123560439456593]]"
     ]
    },
    {
     "name": "stdout",
     "output_type": "stream",
     "text": [
      "0.007661\n"
     ]
    },
    {
     "name": "stderr",
     "output_type": "stream",
     "text": [
      "Training: 100%|████████████████████████████████████████████████████████████████████████████████████████████████████| 1100/1100 [00:08<00:00, 134.43it/s, epoch=50, loss=[0.48700523918325256, 0.31173782727935095]]\n"
     ]
    },
    {
     "name": "stdout",
     "output_type": "stream",
     "text": [
      "0.007661\n",
      "Training Accuracy: 100.0%\n",
      "Testing Accuracy: 11.288285443637513%\n",
      "Top 5 Training Accuracy: 100.0%\n",
      "Top 5 Testing Accuracy: 25.860435743605937%\n",
      "Test to train ratio:  0.99\n",
      "Train Loader: 3\n",
      "Test Loader: 207\n",
      "Network Size: 2048\n",
      "Initialization 1 / 2\n",
      "Complete\n",
      "\n",
      "Initialization 2 / 2\n",
      "Complete\n",
      "\n"
     ]
    },
    {
     "name": "stderr",
     "output_type": "stream",
     "text": [
      "Training:  12%|████████████▋                                                                                             | 36/300 [00:00<00:01, 169.47it/s, epoch=6, loss=[0.6417478322982788, 0.6571512222290039]]"
     ]
    },
    {
     "name": "stdout",
     "output_type": "stream",
     "text": [
      "0.005173\n",
      "0.005173\n",
      "0.005173\n",
      "0.005173\n",
      "0.005173\n",
      "0.005173\n"
     ]
    },
    {
     "name": "stderr",
     "output_type": "stream",
     "text": [
      "Training:  14%|██████████████▊                                                                                           | 42/300 [00:00<00:01, 183.18it/s, epoch=7, loss=[0.6108073790868123, 0.6334368189175924]]"
     ]
    },
    {
     "name": "stdout",
     "output_type": "stream",
     "text": [
      "0.005173\n"
     ]
    },
    {
     "name": "stderr",
     "output_type": "stream",
     "text": [
      "Training:  25%|█████████████████████████▉                                                                               | 74/300 [00:00<00:01, 177.79it/s, epoch=12, loss=[0.6061634222666423, 0.6476300954818726]]"
     ]
    },
    {
     "name": "stdout",
     "output_type": "stream",
     "text": [
      "0.00527\n",
      "0.00527\n",
      "0.00527\n",
      "0.00527\n",
      "0.00527\n"
     ]
    },
    {
     "name": "stderr",
     "output_type": "stream",
     "text": [
      "Training:  26%|███████████████████████████▌                                                                              | 78/300 [00:00<00:01, 177.79it/s, epoch=13, loss=[0.5959297617276509, 0.641532282034556]]"
     ]
    },
    {
     "name": "stdout",
     "output_type": "stream",
     "text": [
      "0.007422\n"
     ]
    },
    {
     "name": "stderr",
     "output_type": "stream",
     "text": [
      "Training:  37%|██████████████████████████████████████▌                                                                  | 110/300 [00:00<00:01, 176.89it/s, epoch=18, loss=[0.5265503525733948, 0.604383369286855]]"
     ]
    },
    {
     "name": "stdout",
     "output_type": "stream",
     "text": [
      "0.007422\n",
      "0.007422\n",
      "0.007422\n",
      "0.007422\n",
      "0.007422\n"
     ]
    },
    {
     "name": "stderr",
     "output_type": "stream",
     "text": [
      "Training:  38%|███████████████████████████████████████▉                                                                 | 114/300 [00:00<00:01, 176.89it/s, epoch=19, loss=[0.5169586141904196, 0.601451853911082]]"
     ]
    },
    {
     "name": "stdout",
     "output_type": "stream",
     "text": [
      "0.007422\n"
     ]
    },
    {
     "name": "stderr",
     "output_type": "stream",
     "text": [
      "Training:  49%|███████████████████████████████████████████████████                                                      | 146/300 [00:00<00:00, 169.33it/s, epoch=24, loss=[0.4965288837750752, 0.568149745464325]]"
     ]
    },
    {
     "name": "stdout",
     "output_type": "stream",
     "text": [
      "0.007422\n",
      "0.007422\n",
      "0.007422\n",
      "0.007422\n",
      "0.007422\n"
     ]
    },
    {
     "name": "stderr",
     "output_type": "stream",
     "text": [
      "Training:  50%|███████████████████████████████████████████████████▌                                                   | 150/300 [00:00<00:00, 169.33it/s, epoch=25, loss=[0.48890338341395057, 0.5504522124926249]]"
     ]
    },
    {
     "name": "stdout",
     "output_type": "stream",
     "text": [
      "0.007422\n"
     ]
    },
    {
     "name": "stderr",
     "output_type": "stream",
     "text": [
      "Training:  60%|██████████████████████████████████████████████████████████████▋                                         | 181/300 [00:01<00:00, 167.72it/s, epoch=30, loss=[0.4765222867329916, 0.5048444072405497]]"
     ]
    },
    {
     "name": "stdout",
     "output_type": "stream",
     "text": [
      "0.007422\n",
      "0.007422\n",
      "0.007422\n",
      "0.007422\n",
      "0.007422\n"
     ]
    },
    {
     "name": "stderr",
     "output_type": "stream",
     "text": [
      "Training:  62%|███████████████████████████████████████████████████████████████▊                                       | 186/300 [00:01<00:00, 167.72it/s, epoch=31, loss=[0.4616817633310954, 0.48053207993507385]]"
     ]
    },
    {
     "name": "stdout",
     "output_type": "stream",
     "text": [
      "0.007422\n"
     ]
    },
    {
     "name": "stderr",
     "output_type": "stream",
     "text": [
      "Training:  72%|██████████████████████████████████████████████████████████████████████████▉                             | 216/300 [00:01<00:00, 163.73it/s, epoch=36, loss=[0.4624282519022624, 0.4697436590989431]]"
     ]
    },
    {
     "name": "stdout",
     "output_type": "stream",
     "text": [
      "0.007422\n",
      "0.007422\n",
      "0.007422\n",
      "0.007422\n",
      "0.007422\n"
     ]
    },
    {
     "name": "stderr",
     "output_type": "stream",
     "text": [
      "Training:  74%|████████████████████████████████████████████████████████████████████████████▏                          | 222/300 [00:01<00:00, 163.73it/s, epoch=37, loss=[0.45650346080462134, 0.4666376213232676]]"
     ]
    },
    {
     "name": "stdout",
     "output_type": "stream",
     "text": [
      "0.007422\n"
     ]
    },
    {
     "name": "stderr",
     "output_type": "stream",
     "text": [
      "Training:  84%|██████████████████████████████████████████████████████████████████████████████████████▌                | 252/300 [00:01<00:00, 165.67it/s, epoch=42, loss=[0.44379291931788123, 0.4304385781288147]]"
     ]
    },
    {
     "name": "stdout",
     "output_type": "stream",
     "text": [
      "0.007422\n",
      "0.007422\n",
      "0.007422\n",
      "0.007422\n",
      "0.007422\n"
     ]
    },
    {
     "name": "stderr",
     "output_type": "stream",
     "text": [
      "Training:  86%|█████████████████████████████████████████████████████████████████████████████████████████▍              | 258/300 [00:01<00:00, 165.67it/s, epoch=43, loss=[0.44460191329320276, 0.413788785537084]]"
     ]
    },
    {
     "name": "stdout",
     "output_type": "stream",
     "text": [
      "0.00842\n"
     ]
    },
    {
     "name": "stderr",
     "output_type": "stream",
     "text": [
      "Training:  96%|██████████████████████████████████████████████████████████████████████████████████████████████████▉    | 288/300 [00:01<00:00, 167.66it/s, epoch=48, loss=[0.4349329570929209, 0.40121081471443176]]"
     ]
    },
    {
     "name": "stdout",
     "output_type": "stream",
     "text": [
      "0.00842\n",
      "0.00842\n",
      "0.00842\n",
      "0.00842\n",
      "0.00842\n"
     ]
    },
    {
     "name": "stderr",
     "output_type": "stream",
     "text": [
      "Training:  98%|████████████████████████████████████████████████████████████████████████████████████████████████████▉  | 294/300 [00:01<00:00, 167.66it/s, epoch=49, loss=[0.4329627354939779, 0.38504936297734577]]"
     ]
    },
    {
     "name": "stdout",
     "output_type": "stream",
     "text": [
      "0.00842\n"
     ]
    },
    {
     "name": "stderr",
     "output_type": "stream",
     "text": [
      "Training: 100%|███████████████████████████████████████████████████████████████████████████████████████████████████████| 300/300 [00:01<00:00, 170.21it/s, epoch=50, loss=[0.43684637546539307, 0.3998793462912241]]\n"
     ]
    },
    {
     "name": "stdout",
     "output_type": "stream",
     "text": [
      "0.00842\n",
      "Training Accuracy: 100.0%\n",
      "Testing Accuracy: 5.938494167550371%\n",
      "Top 5 Training Accuracy: 100.0%\n",
      "Top 5 Testing Accuracy: 14.755340099984851%\n",
      "Dataset: food101\n",
      "Test to train ratio:  0.1\n",
      "Train Loader: 188\n",
      "Test Loader: 21\n",
      "Network Size: 2048\n",
      "Initialization 1 / 2\n",
      "Complete\n",
      "\n",
      "Initialization 2 / 2\n",
      "Complete\n",
      "\n"
     ]
    },
    {
     "name": "stderr",
     "output_type": "stream",
     "text": [
      "Training:   2%|██▏                                                                                                    | 398/18800 [00:03<02:18, 132.41it/s, epoch=1, loss=[0.6829853137122827, 0.6898123948497977]]"
     ]
    },
    {
     "name": "stdout",
     "output_type": "stream",
     "text": [
      "0.005468\n"
     ]
    },
    {
     "name": "stderr",
     "output_type": "stream",
     "text": [
      "Training:   4%|████▏                                                                                                  | 772/18800 [00:05<02:17, 130.94it/s, epoch=2, loss=[0.6612659401081976, 0.6476318753780204]]"
     ]
    },
    {
     "name": "stdout",
     "output_type": "stream",
     "text": [
      "0.005468\n"
     ]
    },
    {
     "name": "stderr",
     "output_type": "stream",
     "text": [
      "Training:   6%|██████▏                                                                                               | 1143/18800 [00:08<02:13, 132.06it/s, epoch=3, loss=[0.6549618773637934, 0.6218596297375697]]"
     ]
    },
    {
     "name": "stdout",
     "output_type": "stream",
     "text": [
      "0.005468\n"
     ]
    },
    {
     "name": "stderr",
     "output_type": "stream",
     "text": [
      "Training:   8%|████████▎                                                                                             | 1526/18800 [00:11<02:13, 129.58it/s, epoch=4, loss=[0.6511226492993375, 0.6050581050680037]]"
     ]
    },
    {
     "name": "stdout",
     "output_type": "stream",
     "text": [
      "0.005468\n"
     ]
    },
    {
     "name": "stderr",
     "output_type": "stream",
     "text": [
      "Training:  10%|██████████▎                                                                                           | 1896/18800 [00:14<02:00, 140.20it/s, epoch=5, loss=[0.6480212807655339, 0.5919882262006718]]"
     ]
    },
    {
     "name": "stdout",
     "output_type": "stream",
     "text": [
      "0.005468\n"
     ]
    },
    {
     "name": "stderr",
     "output_type": "stream",
     "text": [
      "Training:  12%|████████████▎                                                                                         | 2279/18800 [00:17<02:07, 129.22it/s, epoch=6, loss=[0.6456665669349915, 0.5813346289573832]]"
     ]
    },
    {
     "name": "stdout",
     "output_type": "stream",
     "text": [
      "0.005468\n"
     ]
    },
    {
     "name": "stderr",
     "output_type": "stream",
     "text": [
      "Training:  14%|██████████████▌                                                                                        | 2655/18800 [00:20<02:01, 132.79it/s, epoch=7, loss=[0.6440793123651058, 0.572904696172856]]"
     ]
    },
    {
     "name": "stdout",
     "output_type": "stream",
     "text": [
      "0.005468\n"
     ]
    },
    {
     "name": "stderr",
     "output_type": "stream",
     "text": [
      "Training:  16%|████████████████▍                                                                                     | 3020/18800 [00:23<02:03, 127.89it/s, epoch=8, loss=[0.6425496314434292, 0.5652191749912625]]"
     ]
    },
    {
     "name": "stdout",
     "output_type": "stream",
     "text": [
      "0.005468\n"
     ]
    },
    {
     "name": "stderr",
     "output_type": "stream",
     "text": [
      "Training:  18%|██████████████████▍                                                                                   | 3399/18800 [00:26<02:00, 127.84it/s, epoch=9, loss=[0.6409675624776389, 0.5583103140617942]]"
     ]
    },
    {
     "name": "stdout",
     "output_type": "stream",
     "text": [
      "0.005468\n"
     ]
    },
    {
     "name": "stderr",
     "output_type": "stream",
     "text": [
      "Training:  20%|████████████████████▎                                                                                | 3778/18800 [00:29<01:57, 128.11it/s, epoch=10, loss=[0.6395953094705621, 0.5526115637510381]]"
     ]
    },
    {
     "name": "stdout",
     "output_type": "stream",
     "text": [
      "0.005468\n"
     ]
    },
    {
     "name": "stderr",
     "output_type": "stream",
     "text": [
      "Training:  22%|██████████████████████▎                                                                              | 4161/18800 [00:32<01:52, 130.35it/s, epoch=11, loss=[0.6389369289291664, 0.5485768381585464]]"
     ]
    },
    {
     "name": "stdout",
     "output_type": "stream",
     "text": [
      "0.005468\n"
     ]
    },
    {
     "name": "stderr",
     "output_type": "stream",
     "text": [
      "Training:  24%|████████████████████████▎                                                                            | 4535/18800 [00:35<01:50, 128.66it/s, epoch=12, loss=[0.6374138048354616, 0.5428130594973869]]"
     ]
    },
    {
     "name": "stdout",
     "output_type": "stream",
     "text": [
      "0.005468\n"
     ]
    },
    {
     "name": "stderr",
     "output_type": "stream",
     "text": [
      "Training:  26%|██████████████████████████▎                                                                          | 4905/18800 [00:37<01:47, 128.69it/s, epoch=13, loss=[0.6362135914411948, 0.5384549175171148]]"
     ]
    },
    {
     "name": "stdout",
     "output_type": "stream",
     "text": [
      "0.005468\n"
     ]
    },
    {
     "name": "stderr",
     "output_type": "stream",
     "text": [
      "Training:  28%|████████████████████████████▋                                                                         | 5282/18800 [00:40<01:44, 129.22it/s, epoch=14, loss=[0.6353195794719332, 0.534743994157365]]"
     ]
    },
    {
     "name": "stdout",
     "output_type": "stream",
     "text": [
      "0.005468\n"
     ]
    },
    {
     "name": "stderr",
     "output_type": "stream",
     "text": [
      "Training:  30%|██████████████████████████████▍                                                                      | 5656/18800 [00:43<01:41, 129.81it/s, epoch=15, loss=[0.6345798823427646, 0.5312929112226408]]"
     ]
    },
    {
     "name": "stdout",
     "output_type": "stream",
     "text": [
      "0.005468\n"
     ]
    },
    {
     "name": "stderr",
     "output_type": "stream",
     "text": [
      "Training:  32%|████████████████████████████████▋                                                                     | 6033/18800 [00:46<01:40, 127.53it/s, epoch=16, loss=[0.6335203140339954, 0.528177406559599]]"
     ]
    },
    {
     "name": "stdout",
     "output_type": "stream",
     "text": [
      "0.005468\n"
     ]
    },
    {
     "name": "stderr",
     "output_type": "stream",
     "text": [
      "Training:  34%|██████████████████████████████████▍                                                                  | 6417/18800 [00:49<01:36, 127.72it/s, epoch=17, loss=[0.6328854979352745, 0.5254721081954365]]"
     ]
    },
    {
     "name": "stdout",
     "output_type": "stream",
     "text": [
      "0.005468\n"
     ]
    },
    {
     "name": "stderr",
     "output_type": "stream",
     "text": [
      "Training:  36%|████████████████████████████████████▍                                                                | 6788/18800 [00:52<01:32, 129.26it/s, epoch=18, loss=[0.6321411212073997, 0.5224705308358718]]"
     ]
    },
    {
     "name": "stdout",
     "output_type": "stream",
     "text": [
      "0.005525\n"
     ]
    },
    {
     "name": "stderr",
     "output_type": "stream",
     "text": [
      "Training:  38%|██████████████████████████████████████▍                                                              | 7166/18800 [00:55<01:29, 129.49it/s, epoch=19, loss=[0.6310525964549246, 0.5189810377803253]]"
     ]
    },
    {
     "name": "stdout",
     "output_type": "stream",
     "text": [
      "0.005525\n"
     ]
    },
    {
     "name": "stderr",
     "output_type": "stream",
     "text": [
      "Training:  40%|████████████████████████████████████████▉                                                             | 7535/18800 [00:58<01:25, 131.67it/s, epoch=20, loss=[0.630623164012077, 0.5171388671436209]]"
     ]
    },
    {
     "name": "stdout",
     "output_type": "stream",
     "text": [
      "0.005525\n"
     ]
    },
    {
     "name": "stderr",
     "output_type": "stream",
     "text": [
      "Training:  42%|██████████████████████████████████████████▌                                                          | 7916/18800 [01:01<01:24, 129.08it/s, epoch=21, loss=[0.6298729501506117, 0.5146398396885141]]"
     ]
    },
    {
     "name": "stdout",
     "output_type": "stream",
     "text": [
      "0.008242\n"
     ]
    },
    {
     "name": "stderr",
     "output_type": "stream",
     "text": [
      "Training:  44%|████████████████████████████████████████████▌                                                        | 8295/18800 [01:04<01:21, 128.44it/s, epoch=22, loss=[0.6291601848095019, 0.5128741319826309]]"
     ]
    },
    {
     "name": "stdout",
     "output_type": "stream",
     "text": [
      "0.008242\n"
     ]
    },
    {
     "name": "stderr",
     "output_type": "stream",
     "text": [
      "Training:  46%|██████████████████████████████████████████████▌                                                      | 8671/18800 [01:07<01:17, 130.67it/s, epoch=23, loss=[0.6292019889075704, 0.5124295364986078]]"
     ]
    },
    {
     "name": "stdout",
     "output_type": "stream",
     "text": [
      "0.008242\n"
     ]
    },
    {
     "name": "stderr",
     "output_type": "stream",
     "text": [
      "Training:  48%|████████████████████████████████████████████████▌                                                    | 9049/18800 [01:10<01:14, 131.09it/s, epoch=24, loss=[0.6282425925452657, 0.5097639983955848]]"
     ]
    },
    {
     "name": "stdout",
     "output_type": "stream",
     "text": [
      "0.008242\n"
     ]
    },
    {
     "name": "stderr",
     "output_type": "stream",
     "text": [
      "Training:  50%|██████████████████████████████████████████████████▌                                                  | 9413/18800 [01:13<01:11, 131.75it/s, epoch=25, loss=[0.6279219106790869, 0.5080251928339613]]"
     ]
    },
    {
     "name": "stdout",
     "output_type": "stream",
     "text": [
      "0.008242\n"
     ]
    },
    {
     "name": "stderr",
     "output_type": "stream",
     "text": [
      "Training:  52%|████████████████████████████████████████████████████▋                                                | 9801/18800 [01:15<01:10, 128.53it/s, epoch=26, loss=[0.6277058698395462, 0.5071963469715827]]"
     ]
    },
    {
     "name": "stdout",
     "output_type": "stream",
     "text": [
      "0.008242\n"
     ]
    },
    {
     "name": "stderr",
     "output_type": "stream",
     "text": [
      "Training:  54%|██████████████████████████████████████████████████████▌                                              | 10166/18800 [01:18<01:06, 130.81it/s, epoch=27, loss=[0.6267882835991841, 0.504281353760273]]"
     ]
    },
    {
     "name": "stdout",
     "output_type": "stream",
     "text": [
      "0.008242\n"
     ]
    },
    {
     "name": "stderr",
     "output_type": "stream",
     "text": [
      "Training:  56%|████████████████████████████████████████████████████████▋                                            | 10552/18800 [01:21<01:03, 129.10it/s, epoch=28, loss=[0.626299329577608, 0.5020431548039962]]"
     ]
    },
    {
     "name": "stdout",
     "output_type": "stream",
     "text": [
      "0.008242\n"
     ]
    },
    {
     "name": "stderr",
     "output_type": "stream",
     "text": [
      "Training:  58%|██████████████████████████████████████████████████████████▋                                          | 10919/18800 [01:24<01:01, 128.04it/s, epoch=29, loss=[0.6255272639558673, 0.500504009267117]]"
     ]
    },
    {
     "name": "stdout",
     "output_type": "stream",
     "text": [
      "0.008242\n"
     ]
    },
    {
     "name": "stderr",
     "output_type": "stream",
     "text": [
      "Training:  60%|███████████████████████████████████████████████████████████▍                                       | 11298/18800 [01:27<00:58, 128.64it/s, epoch=30, loss=[0.6248900440145044, 0.49839997037928163]]"
     ]
    },
    {
     "name": "stdout",
     "output_type": "stream",
     "text": [
      "0.008242\n"
     ]
    },
    {
     "name": "stderr",
     "output_type": "stream",
     "text": [
      "Training:  62%|█████████████████████████████████████████████████████████████▍                                     | 11676/18800 [01:30<00:55, 128.84it/s, epoch=31, loss=[0.6244750406513827, 0.49710308205574155]]"
     ]
    },
    {
     "name": "stdout",
     "output_type": "stream",
     "text": [
      "0.008242\n"
     ]
    },
    {
     "name": "stderr",
     "output_type": "stream",
     "text": [
      "Training:  64%|███████████████████████████████████████████████████████████████▍                                   | 12045/18800 [01:33<00:52, 129.02it/s, epoch=32, loss=[0.6239809099029989, 0.49575709630834314]]"
     ]
    },
    {
     "name": "stdout",
     "output_type": "stream",
     "text": [
      "0.008242\n"
     ]
    },
    {
     "name": "stderr",
     "output_type": "stream",
     "text": [
      "Training:  66%|██████████████████████████████████████████████████████████████████                                  | 12430/18800 [01:36<00:49, 129.75it/s, epoch=33, loss=[0.6233953494340818, 0.4935765320316273]]"
     ]
    },
    {
     "name": "stdout",
     "output_type": "stream",
     "text": [
      "0.008242\n"
     ]
    },
    {
     "name": "stderr",
     "output_type": "stream",
     "text": [
      "Training:  68%|████████████████████████████████████████████████████████████████████                                | 12796/18800 [01:39<00:46, 129.61it/s, epoch=34, loss=[0.6226691032977818, 0.4912255060799579]]"
     ]
    },
    {
     "name": "stdout",
     "output_type": "stream",
     "text": [
      "0.008242\n"
     ]
    },
    {
     "name": "stderr",
     "output_type": "stream",
     "text": [
      "Training:  70%|█████████████████████████████████████████████████████████████████████▍                             | 13182/18800 [01:42<00:43, 129.02it/s, epoch=35, loss=[0.6222335804016029, 0.48980512470006965]]"
     ]
    },
    {
     "name": "stdout",
     "output_type": "stream",
     "text": [
      "0.008242\n"
     ]
    },
    {
     "name": "stderr",
     "output_type": "stream",
     "text": [
      "Training:  72%|████████████████████████████████████████████████████████████████████████▏                           | 13561/18800 [01:45<00:40, 129.32it/s, epoch=36, loss=[0.6220690630217819, 0.4892726925776361]]"
     ]
    },
    {
     "name": "stdout",
     "output_type": "stream",
     "text": [
      "0.008242\n"
     ]
    },
    {
     "name": "stderr",
     "output_type": "stream",
     "text": [
      "Training:  74%|█████████████████████████████████████████████████████████████████████████▎                         | 13926/18800 [01:48<00:38, 127.35it/s, epoch=37, loss=[0.6220915165353326, 0.48889822417751283]]"
     ]
    },
    {
     "name": "stdout",
     "output_type": "stream",
     "text": [
      "0.008242\n"
     ]
    },
    {
     "name": "stderr",
     "output_type": "stream",
     "text": [
      "Training:  76%|████████████████████████████████████████████████████████████████████████████▊                        | 14302/18800 [01:51<00:34, 130.41it/s, epoch=38, loss=[0.621294614799479, 0.4865616756550811]]"
     ]
    },
    {
     "name": "stdout",
     "output_type": "stream",
     "text": [
      "0.008242\n"
     ]
    },
    {
     "name": "stderr",
     "output_type": "stream",
     "text": [
      "Training:  78%|██████████████████████████████████████████████████████████████████████████████                      | 14686/18800 [01:54<00:31, 128.93it/s, epoch=39, loss=[0.6213346545366532, 0.4859514288762779]]"
     ]
    },
    {
     "name": "stdout",
     "output_type": "stream",
     "text": [
      "0.008242\n"
     ]
    },
    {
     "name": "stderr",
     "output_type": "stream",
     "text": [
      "Training:  80%|███████████████████████████████████████████████████████████████████████████████▎                   | 15059/18800 [01:57<00:29, 128.26it/s, epoch=40, loss=[0.6212831409053602, 0.48618796340962656]]"
     ]
    },
    {
     "name": "stdout",
     "output_type": "stream",
     "text": [
      "0.008242\n"
     ]
    },
    {
     "name": "stderr",
     "output_type": "stream",
     "text": [
      "Training:  82%|██████████████████████████████████████████████████████████████████████████████████▉                  | 15439/18800 [01:59<00:25, 132.67it/s, epoch=41, loss=[0.620829546388159, 0.4844085116018643]]"
     ]
    },
    {
     "name": "stdout",
     "output_type": "stream",
     "text": [
      "0.008242\n"
     ]
    },
    {
     "name": "stderr",
     "output_type": "stream",
     "text": [
      "Training:  84%|███████████████████████████████████████████████████████████████████████████████████▏               | 15806/18800 [02:02<00:23, 128.35it/s, epoch=42, loss=[0.6202354107765442, 0.48190364653759843]]"
     ]
    },
    {
     "name": "stdout",
     "output_type": "stream",
     "text": [
      "0.008242\n"
     ]
    },
    {
     "name": "stderr",
     "output_type": "stream",
     "text": [
      "Training:  86%|█████████████████████████████████████████████████████████████████████████████████████▏             | 16185/18800 [02:05<00:20, 126.30it/s, epoch=43, loss=[0.6199763154095793, 0.48203741949289364]]"
     ]
    },
    {
     "name": "stdout",
     "output_type": "stream",
     "text": [
      "0.008242\n"
     ]
    },
    {
     "name": "stderr",
     "output_type": "stream",
     "text": [
      "Training:  88%|███████████████████████████████████████████████████████████████████████████████████████▏           | 16563/18800 [02:08<00:17, 128.43it/s, epoch=44, loss=[0.6187333309269963, 0.47743732339524175]]"
     ]
    },
    {
     "name": "stdout",
     "output_type": "stream",
     "text": [
      "0.008242\n"
     ]
    },
    {
     "name": "stderr",
     "output_type": "stream",
     "text": [
      "Training:  90%|█████████████████████████████████████████████████████████████████████████████████████████▏         | 16943/18800 [02:11<00:14, 128.53it/s, epoch=45, loss=[0.6181191025262184, 0.47636575600568304]]"
     ]
    },
    {
     "name": "stdout",
     "output_type": "stream",
     "text": [
      "0.008242\n"
     ]
    },
    {
     "name": "stderr",
     "output_type": "stream",
     "text": [
      "Training:  92%|████████████████████████████████████████████████████████████████████████████████████████████        | 17314/18800 [02:14<00:11, 132.02it/s, epoch=46, loss=[0.6180581938713157, 0.4760493694784791]]"
     ]
    },
    {
     "name": "stdout",
     "output_type": "stream",
     "text": [
      "0.008242\n"
     ]
    },
    {
     "name": "stderr",
     "output_type": "stream",
     "text": [
      "Training:  94%|███████████████████████████████████████████████████████████████████████████████████████████████      | 17685/18800 [02:17<00:08, 128.70it/s, epoch=47, loss=[0.617655717312022, 0.4752314574223883]]"
     ]
    },
    {
     "name": "stdout",
     "output_type": "stream",
     "text": [
      "0.008242\n"
     ]
    },
    {
     "name": "stderr",
     "output_type": "stream",
     "text": [
      "Training:  96%|████████████████████████████████████████████████████████████████████████████████████████████████    | 18069/18800 [02:20<00:05, 128.98it/s, epoch=48, loss=[0.6176517872100181, 0.4735211823531925]]"
     ]
    },
    {
     "name": "stdout",
     "output_type": "stream",
     "text": [
      "0.008242\n"
     ]
    },
    {
     "name": "stderr",
     "output_type": "stream",
     "text": [
      "Training:  98%|█████████████████████████████████████████████████████████████████████████████████████████████████▏ | 18449/18800 [02:23<00:02, 129.40it/s, epoch=49, loss=[0.6165955799057131, 0.47125719471814786]]"
     ]
    },
    {
     "name": "stdout",
     "output_type": "stream",
     "text": [
      "0.008242\n"
     ]
    },
    {
     "name": "stderr",
     "output_type": "stream",
     "text": [
      "Training: 100%|████████████████████████████████████████████████████████████████████████████████████████████████████| 18800/18800 [02:26<00:00, 128.56it/s, epoch=50, loss=[0.6162630056447173, 0.4694710351685258]]\n"
     ]
    },
    {
     "name": "stdout",
     "output_type": "stream",
     "text": [
      "0.008242\n",
      "Training Accuracy: 93.8%\n",
      "Testing Accuracy: 30.584707646176913%\n",
      "Top 5 Training Accuracy: 99.7%\n",
      "Top 5 Testing Accuracy: 56.07196401799101%\n",
      "Test to train ratio:  0.2\n",
      "Train Loader: 167\n",
      "Test Loader: 42\n",
      "Network Size: 2048\n",
      "Initialization 1 / 2\n",
      "Complete\n",
      "\n",
      "Initialization 2 / 2\n",
      "Complete\n",
      "\n"
     ]
    },
    {
     "name": "stderr",
     "output_type": "stream",
     "text": [
      "Training:   2%|██▏                                                                                                    | 357/16700 [00:02<02:06, 129.08it/s, epoch=1, loss=[0.6859512214889073, 0.6928735304021548]]"
     ]
    },
    {
     "name": "stdout",
     "output_type": "stream",
     "text": [
      "0.005267\n"
     ]
    },
    {
     "name": "stderr",
     "output_type": "stream",
     "text": [
      "Training:   4%|████▏                                                                                                  | 689/16700 [00:05<02:00, 132.76it/s, epoch=2, loss=[0.6614519204208235, 0.6529445227034794]]"
     ]
    },
    {
     "name": "stdout",
     "output_type": "stream",
     "text": [
      "0.005267\n"
     ]
    },
    {
     "name": "stderr",
     "output_type": "stream",
     "text": [
      "Training:   6%|██████▎                                                                                               | 1026/16700 [00:07<01:59, 131.10it/s, epoch=3, loss=[0.6551536346623997, 0.6248957971612852]]"
     ]
    },
    {
     "name": "stdout",
     "output_type": "stream",
     "text": [
      "0.005301\n"
     ]
    },
    {
     "name": "stderr",
     "output_type": "stream",
     "text": [
      "Training:   8%|████████▏                                                                                             | 1349/16700 [00:10<01:56, 131.73it/s, epoch=4, loss=[0.6506902853885812, 0.6077930388336412]]"
     ]
    },
    {
     "name": "stdout",
     "output_type": "stream",
     "text": [
      "0.005301\n"
     ]
    },
    {
     "name": "stderr",
     "output_type": "stream",
     "text": [
      "Training:  10%|██████████▎                                                                                           | 1685/16700 [00:12<01:53, 132.56it/s, epoch=5, loss=[0.6472885448061777, 0.5939538593063812]]"
     ]
    },
    {
     "name": "stdout",
     "output_type": "stream",
     "text": [
      "0.005301\n"
     ]
    },
    {
     "name": "stderr",
     "output_type": "stream",
     "text": [
      "Training:  12%|████████████▎                                                                                         | 2021/16700 [00:15<01:51, 131.80it/s, epoch=6, loss=[0.6447499458661335, 0.5831884756059704]]"
     ]
    },
    {
     "name": "stdout",
     "output_type": "stream",
     "text": [
      "0.005301\n"
     ]
    },
    {
     "name": "stderr",
     "output_type": "stream",
     "text": [
      "Training:  14%|██████████████▎                                                                                       | 2353/16700 [00:18<01:49, 131.33it/s, epoch=7, loss=[0.6425517754640404, 0.5735106689487389]]"
     ]
    },
    {
     "name": "stdout",
     "output_type": "stream",
     "text": [
      "0.005301\n"
     ]
    },
    {
     "name": "stderr",
     "output_type": "stream",
     "text": [
      "Training:  16%|████████████████▍                                                                                     | 2687/16700 [00:20<01:49, 128.32it/s, epoch=8, loss=[0.6415336285522599, 0.5653525965656347]]"
     ]
    },
    {
     "name": "stdout",
     "output_type": "stream",
     "text": [
      "0.005301\n"
     ]
    },
    {
     "name": "stderr",
     "output_type": "stream",
     "text": [
      "Training:  18%|██████████████████▋                                                                                    | 3029/16700 [00:23<01:45, 130.09it/s, epoch=9, loss=[0.6399980537191835, 0.558470349825785]]"
     ]
    },
    {
     "name": "stdout",
     "output_type": "stream",
     "text": [
      "0.005301\n"
     ]
    },
    {
     "name": "stderr",
     "output_type": "stream",
     "text": [
      "Training:  20%|████████████████████▌                                                                                 | 3358/16700 [00:25<01:42, 129.82it/s, epoch=10, loss=[0.6390039239101066, 0.553329496683475]]"
     ]
    },
    {
     "name": "stdout",
     "output_type": "stream",
     "text": [
      "0.005301\n"
     ]
    },
    {
     "name": "stderr",
     "output_type": "stream",
     "text": [
      "Training:  22%|██████████████████████▎                                                                              | 3698/16700 [00:28<01:41, 127.83it/s, epoch=11, loss=[0.6374757429082949, 0.5470326525008606]]"
     ]
    },
    {
     "name": "stdout",
     "output_type": "stream",
     "text": [
      "0.005301\n"
     ]
    },
    {
     "name": "stderr",
     "output_type": "stream",
     "text": [
      "Training:  24%|████████████████████████▌                                                                             | 4026/16700 [00:31<01:38, 128.19it/s, epoch=12, loss=[0.636211675441194, 0.5420342894371398]]"
     ]
    },
    {
     "name": "stdout",
     "output_type": "stream",
     "text": [
      "0.005301\n"
     ]
    },
    {
     "name": "stderr",
     "output_type": "stream",
     "text": [
      "Training:  26%|██████████████████████████▎                                                                          | 4355/16700 [00:33<01:34, 130.05it/s, epoch=13, loss=[0.6350663018797688, 0.5371026962460155]]"
     ]
    },
    {
     "name": "stdout",
     "output_type": "stream",
     "text": [
      "0.005301\n"
     ]
    },
    {
     "name": "stderr",
     "output_type": "stream",
     "text": [
      "Training:  28%|████████████████████████████▍                                                                        | 4693/16700 [00:36<01:31, 131.65it/s, epoch=14, loss=[0.6349635898710012, 0.5351567518211413]]"
     ]
    },
    {
     "name": "stdout",
     "output_type": "stream",
     "text": [
      "0.005301\n"
     ]
    },
    {
     "name": "stderr",
     "output_type": "stream",
     "text": [
      "Training:  30%|██████████████████████████████▍                                                                      | 5028/16700 [00:38<01:31, 127.53it/s, epoch=15, loss=[0.6335327214823515, 0.5296875959384945]]"
     ]
    },
    {
     "name": "stdout",
     "output_type": "stream",
     "text": [
      "0.005301\n"
     ]
    },
    {
     "name": "stderr",
     "output_type": "stream",
     "text": [
      "Training:  32%|████████████████████████████████▍                                                                    | 5369/16700 [00:41<01:26, 130.61it/s, epoch=16, loss=[0.6328091467925885, 0.5269423694667701]]"
     ]
    },
    {
     "name": "stdout",
     "output_type": "stream",
     "text": [
      "0.006516\n"
     ]
    },
    {
     "name": "stderr",
     "output_type": "stream",
     "text": [
      "Training:  34%|██████████████████████████████████▍                                                                  | 5694/16700 [00:44<01:24, 130.43it/s, epoch=17, loss=[0.6321939765336272, 0.5235605732409537]]"
     ]
    },
    {
     "name": "stdout",
     "output_type": "stream",
     "text": [
      "0.006516\n"
     ]
    },
    {
     "name": "stderr",
     "output_type": "stream",
     "text": [
      "Training:  36%|████████████████████████████████████▍                                                                | 6028/16700 [00:46<01:22, 128.97it/s, epoch=18, loss=[0.6311156735448782, 0.5207673835897157]]"
     ]
    },
    {
     "name": "stdout",
     "output_type": "stream",
     "text": [
      "0.006516\n"
     ]
    },
    {
     "name": "stderr",
     "output_type": "stream",
     "text": [
      "Training:  38%|██████████████████████████████████████▉                                                               | 6370/16700 [00:49<01:20, 127.91it/s, epoch=19, loss=[0.630114470770259, 0.5171569398420303]]"
     ]
    },
    {
     "name": "stdout",
     "output_type": "stream",
     "text": [
      "0.006516\n"
     ]
    },
    {
     "name": "stderr",
     "output_type": "stream",
     "text": [
      "Training:  40%|████████████████████████████████████████▌                                                            | 6703/16700 [00:51<01:16, 129.90it/s, epoch=20, loss=[0.6293359209677414, 0.5146022456848696]]"
     ]
    },
    {
     "name": "stdout",
     "output_type": "stream",
     "text": [
      "0.006516\n"
     ]
    },
    {
     "name": "stderr",
     "output_type": "stream",
     "text": [
      "Training:  42%|██████████████████████████████████████████▌                                                          | 7037/16700 [00:54<01:13, 130.86it/s, epoch=21, loss=[0.6287721045716794, 0.5122160254838224]]"
     ]
    },
    {
     "name": "stdout",
     "output_type": "stream",
     "text": [
      "0.006516\n"
     ]
    },
    {
     "name": "stderr",
     "output_type": "stream",
     "text": [
      "Training:  44%|█████████████████████████████████████████████                                                         | 7369/16700 [00:57<01:12, 129.47it/s, epoch=22, loss=[0.6285708411011157, 0.511559714814146]]"
     ]
    },
    {
     "name": "stdout",
     "output_type": "stream",
     "text": [
      "0.006516\n"
     ]
    },
    {
     "name": "stderr",
     "output_type": "stream",
     "text": [
      "Training:  46%|██████████████████████████████████████████████▌                                                      | 7698/16700 [00:59<01:10, 128.45it/s, epoch=23, loss=[0.6270743786931752, 0.5069504662188226]]"
     ]
    },
    {
     "name": "stdout",
     "output_type": "stream",
     "text": [
      "0.006516\n"
     ]
    },
    {
     "name": "stderr",
     "output_type": "stream",
     "text": [
      "Training:  48%|████████████████████████████████████████████████▌                                                    | 8037/16700 [01:02<01:07, 128.14it/s, epoch=24, loss=[0.6266927151622887, 0.5055628256526536]]"
     ]
    },
    {
     "name": "stdout",
     "output_type": "stream",
     "text": [
      "0.006516\n"
     ]
    },
    {
     "name": "stderr",
     "output_type": "stream",
     "text": [
      "Training:  50%|██████████████████████████████████████████████████▌                                                  | 8366/16700 [01:04<01:05, 127.65it/s, epoch=25, loss=[0.6262412888561182, 0.5040527182424853]]"
     ]
    },
    {
     "name": "stdout",
     "output_type": "stream",
     "text": [
      "0.006516\n"
     ]
    },
    {
     "name": "stderr",
     "output_type": "stream",
     "text": [
      "Training:  52%|████████████████████████████████████████████████████▋                                                | 8710/16700 [01:07<01:01, 129.41it/s, epoch=26, loss=[0.6259146421969294, 0.5022917978777857]]"
     ]
    },
    {
     "name": "stdout",
     "output_type": "stream",
     "text": [
      "0.006516\n"
     ]
    },
    {
     "name": "stderr",
     "output_type": "stream",
     "text": [
      "Training:  54%|███████████████████████████████████████████████████████▏                                              | 9036/16700 [01:10<01:00, 126.83it/s, epoch=27, loss=[0.6261409153481444, 0.502805144487027]]"
     ]
    },
    {
     "name": "stdout",
     "output_type": "stream",
     "text": [
      "0.006516\n"
     ]
    },
    {
     "name": "stderr",
     "output_type": "stream",
     "text": [
      "Training:  56%|████████████████████████████████████████████████████████▋                                            | 9367/16700 [01:12<00:56, 130.46it/s, epoch=28, loss=[0.6255191985718501, 0.5012417771145257]]"
     ]
    },
    {
     "name": "stdout",
     "output_type": "stream",
     "text": [
      "0.006516\n"
     ]
    },
    {
     "name": "stderr",
     "output_type": "stream",
     "text": [
      "Training:  58%|██████████████████████████████████████████████████████████▋                                          | 9701/16700 [01:15<00:53, 131.20it/s, epoch=29, loss=[0.6245008357270749, 0.4978140799585218]]"
     ]
    },
    {
     "name": "stdout",
     "output_type": "stream",
     "text": [
      "0.006516\n"
     ]
    },
    {
     "name": "stderr",
     "output_type": "stream",
     "text": [
      "Training:  60%|███████████████████████████████████████████████████████████▍                                       | 10034/16700 [01:17<00:49, 133.35it/s, epoch=30, loss=[0.6241412234163576, 0.49616038834977305]]"
     ]
    },
    {
     "name": "stdout",
     "output_type": "stream",
     "text": [
      "0.006516\n"
     ]
    },
    {
     "name": "stderr",
     "output_type": "stream",
     "text": [
      "Training:  62%|██████████████████████████████████████████████████████████████                                      | 10371/16700 [01:20<00:46, 135.70it/s, epoch=31, loss=[0.6232531566819747, 0.4938448210676274]]"
     ]
    },
    {
     "name": "stdout",
     "output_type": "stream",
     "text": [
      "0.006516\n"
     ]
    },
    {
     "name": "stderr",
     "output_type": "stream",
     "text": [
      "Training:  64%|████████████████████████████████████████████████████████████████▏                                   | 10713/16700 [01:23<00:47, 125.99it/s, epoch=32, loss=[0.6226641282350003, 0.4931190756266701]]"
     ]
    },
    {
     "name": "stdout",
     "output_type": "stream",
     "text": [
      "0.006516\n"
     ]
    },
    {
     "name": "stderr",
     "output_type": "stream",
     "text": [
      "Training:  66%|██████████████████████████████████████████████████████████████████▏                                 | 11044/16700 [01:25<00:44, 128.46it/s, epoch=33, loss=[0.6225786451807994, 0.4926986144688314]]"
     ]
    },
    {
     "name": "stdout",
     "output_type": "stream",
     "text": [
      "0.006516\n"
     ]
    },
    {
     "name": "stderr",
     "output_type": "stream",
     "text": [
      "Training:  68%|███████████████████████████████████████████████████████████████████▍                               | 11375/16700 [01:28<00:41, 129.65it/s, epoch=34, loss=[0.6217761157515517, 0.48982646401056984]]"
     ]
    },
    {
     "name": "stdout",
     "output_type": "stream",
     "text": [
      "0.006516\n"
     ]
    },
    {
     "name": "stderr",
     "output_type": "stream",
     "text": [
      "Training:  70%|██████████████████████████████████████████████████████████████████████▊                              | 11704/16700 [01:30<00:39, 125.89it/s, epoch=35, loss=[0.621793841530463, 0.4889325717252174]]"
     ]
    },
    {
     "name": "stdout",
     "output_type": "stream",
     "text": [
      "0.006516\n"
     ]
    },
    {
     "name": "stderr",
     "output_type": "stream",
     "text": [
      "Training:  72%|███████████████████████████████████████████████████████████████████████▍                           | 12046/16700 [01:33<00:34, 134.15it/s, epoch=36, loss=[0.6219782718641315, 0.48981363455692456]]"
     ]
    },
    {
     "name": "stdout",
     "output_type": "stream",
     "text": [
      "0.006516\n"
     ]
    },
    {
     "name": "stderr",
     "output_type": "stream",
     "text": [
      "Training:  74%|█████████████████████████████████████████████████████████████████████████▎                         | 12377/16700 [01:36<00:33, 130.71it/s, epoch=37, loss=[0.6212320909528676, 0.48650570597477316]]"
     ]
    },
    {
     "name": "stdout",
     "output_type": "stream",
     "text": [
      "0.006516\n"
     ]
    },
    {
     "name": "stderr",
     "output_type": "stream",
     "text": [
      "Training:  76%|████████████████████████████████████████████████████████████████████████████                        | 12710/16700 [01:38<00:31, 128.64it/s, epoch=38, loss=[0.6209973567974066, 0.4862733010403412]]"
     ]
    },
    {
     "name": "stdout",
     "output_type": "stream",
     "text": [
      "0.006516\n"
     ]
    },
    {
     "name": "stderr",
     "output_type": "stream",
     "text": [
      "Training:  78%|██████████████████████████████████████████████████████████████████████████████▏                     | 13050/16700 [01:41<00:28, 126.84it/s, epoch=39, loss=[0.6201648530132046, 0.4840953082381607]]"
     ]
    },
    {
     "name": "stdout",
     "output_type": "stream",
     "text": [
      "0.006516\n"
     ]
    },
    {
     "name": "stderr",
     "output_type": "stream",
     "text": [
      "Training:  80%|█████████████████████████████████████████████████████████████████████████████████▋                    | 13382/16700 [01:43<00:25, 130.10it/s, epoch=40, loss=[0.6196863123042854, 0.48228349407276]]"
     ]
    },
    {
     "name": "stdout",
     "output_type": "stream",
     "text": [
      "0.006516\n"
     ]
    },
    {
     "name": "stderr",
     "output_type": "stream",
     "text": [
      "Training:  82%|█████████████████████████████████████████████████████████████████████████████████▎                 | 13711/16700 [01:46<00:23, 129.59it/s, epoch=41, loss=[0.6194980133793312, 0.48202327571943154]]"
     ]
    },
    {
     "name": "stdout",
     "output_type": "stream",
     "text": [
      "0.006516\n"
     ]
    },
    {
     "name": "stderr",
     "output_type": "stream",
     "text": [
      "Training:  84%|█████████████████████████████████████████████████████████████████████████████████████▊                | 14041/16700 [01:49<00:20, 127.99it/s, epoch=42, loss=[0.619306213127639, 0.480948779218925]]"
     ]
    },
    {
     "name": "stdout",
     "output_type": "stream",
     "text": [
      "0.006516\n"
     ]
    },
    {
     "name": "stderr",
     "output_type": "stream",
     "text": [
      "Training:  86%|██████████████████████████████████████████████████████████████████████████████████████▏             | 14383/16700 [01:51<00:18, 128.32it/s, epoch=43, loss=[0.6187396424259254, 0.4792161680267242]]"
     ]
    },
    {
     "name": "stdout",
     "output_type": "stream",
     "text": [
      "0.006516\n"
     ]
    },
    {
     "name": "stderr",
     "output_type": "stream",
     "text": [
      "Training:  88%|████████████████████████████████████████████████████████████████████████████████████████▏           | 14722/16700 [01:54<00:15, 131.82it/s, epoch=44, loss=[0.6190550295178762, 0.4793828998854063]]"
     ]
    },
    {
     "name": "stdout",
     "output_type": "stream",
     "text": [
      "0.006516\n"
     ]
    },
    {
     "name": "stderr",
     "output_type": "stream",
     "text": [
      "Training:  90%|██████████████████████████████████████████████████████████████████████████████████████████▏         | 15052/16700 [01:56<00:12, 129.14it/s, epoch=45, loss=[0.6184065441885397, 0.4767531840030303]]"
     ]
    },
    {
     "name": "stdout",
     "output_type": "stream",
     "text": [
      "0.006516\n"
     ]
    },
    {
     "name": "stderr",
     "output_type": "stream",
     "text": [
      "Training:  92%|████████████████████████████████████████████████████████████████████████████████████████████        | 15381/16700 [01:59<00:10, 127.99it/s, epoch=46, loss=[0.6177072086020142, 0.4746717928412433]]"
     ]
    },
    {
     "name": "stdout",
     "output_type": "stream",
     "text": [
      "0.006516\n"
     ]
    },
    {
     "name": "stderr",
     "output_type": "stream",
     "text": [
      "Training:  94%|██████████████████████████████████████████████████████████████████████████████████████████████      | 15713/16700 [02:02<00:07, 128.12it/s, epoch=47, loss=[0.6181459983665787, 0.4759002827598661]]"
     ]
    },
    {
     "name": "stdout",
     "output_type": "stream",
     "text": [
      "0.006516\n"
     ]
    },
    {
     "name": "stderr",
     "output_type": "stream",
     "text": [
      "Training:  96%|███████████████████████████████████████████████████████████████████████████████████████████████▏   | 16047/16700 [02:04<00:05, 128.70it/s, epoch=48, loss=[0.6171310672503032, 0.47343650014100663]]"
     ]
    },
    {
     "name": "stdout",
     "output_type": "stream",
     "text": [
      "0.006516\n"
     ]
    },
    {
     "name": "stderr",
     "output_type": "stream",
     "text": [
      "Training:  98%|█████████████████████████████████████████████████████████████████████████████████████████████████  | 16382/16700 [02:07<00:02, 132.32it/s, epoch=49, loss=[0.6168900945943273, 0.47215251133827396]]"
     ]
    },
    {
     "name": "stdout",
     "output_type": "stream",
     "text": [
      "0.006516\n"
     ]
    },
    {
     "name": "stderr",
     "output_type": "stream",
     "text": [
      "Training: 100%|████████████████████████████████████████████████████████████████████████████████████████████████████| 16700/16700 [02:09<00:00, 128.73it/s, epoch=50, loss=[0.6166918074299477, 0.4718825724310502]]\n"
     ]
    },
    {
     "name": "stdout",
     "output_type": "stream",
     "text": [
      "0.006516\n",
      "Training Accuracy: 95.29345584099006%\n",
      "Testing Accuracy: 32.458770614692654%\n",
      "Top 5 Training Accuracy: 99.69998124882805%\n",
      "Top 5 Testing Accuracy: 55.99700149925037%\n",
      "Test to train ratio:  0.3\n",
      "Train Loader: 146\n",
      "Test Loader: 63\n",
      "Network Size: 2048\n",
      "Initialization 1 / 2\n",
      "Complete\n",
      "\n",
      "Initialization 2 / 2\n",
      "Complete\n",
      "\n"
     ]
    },
    {
     "name": "stderr",
     "output_type": "stream",
     "text": [
      "Training:   2%|██▏                                                                                                     | 314/14600 [00:02<01:51, 128.07it/s, epoch=1, loss=[0.687040522898713, 0.6931602832389202]]"
     ]
    },
    {
     "name": "stdout",
     "output_type": "stream",
     "text": [
      "0.005232\n"
     ]
    },
    {
     "name": "stderr",
     "output_type": "stream",
     "text": [
      "Training:   4%|████▎                                                                                                   | 606/14600 [00:04<01:48, 129.17it/s, epoch=2, loss=[0.661350328628331, 0.6598028458961069]]"
     ]
    },
    {
     "name": "stdout",
     "output_type": "stream",
     "text": [
      "0.005301\n"
     ]
    },
    {
     "name": "stderr",
     "output_type": "stream",
     "text": [
      "Training:   6%|██████▎                                                                                                | 892/14600 [00:06<01:44, 131.57it/s, epoch=3, loss=[0.6552803765421045, 0.6303385765585179]]"
     ]
    },
    {
     "name": "stdout",
     "output_type": "stream",
     "text": [
      "0.005301\n"
     ]
    },
    {
     "name": "stderr",
     "output_type": "stream",
     "text": [
      "Training:   8%|████████▎                                                                                              | 1187/14600 [00:09<01:44, 128.94it/s, epoch=4, loss=[0.6505477334538553, 0.611846185710332]]"
     ]
    },
    {
     "name": "stdout",
     "output_type": "stream",
     "text": [
      "0.005301\n"
     ]
    },
    {
     "name": "stderr",
     "output_type": "stream",
     "text": [
      "Training:  10%|██████████▎                                                                                           | 1478/14600 [00:11<01:40, 130.45it/s, epoch=5, loss=[0.6465181418477677, 0.5968285999069474]]"
     ]
    },
    {
     "name": "stdout",
     "output_type": "stream",
     "text": [
      "0.005301\n"
     ]
    },
    {
     "name": "stderr",
     "output_type": "stream",
     "text": [
      "Training:  12%|████████████▍                                                                                          | 1769/14600 [00:13<01:41, 127.02it/s, epoch=6, loss=[0.6443190280705281, 0.584988284192673]]"
     ]
    },
    {
     "name": "stdout",
     "output_type": "stream",
     "text": [
      "0.005301\n"
     ]
    },
    {
     "name": "stderr",
     "output_type": "stream",
     "text": [
      "Training:  14%|██████████████▍                                                                                       | 2069/14600 [00:16<01:39, 126.37it/s, epoch=7, loss=[0.6422947453309412, 0.5751744525073325]]"
     ]
    },
    {
     "name": "stdout",
     "output_type": "stream",
     "text": [
      "0.005301\n"
     ]
    },
    {
     "name": "stderr",
     "output_type": "stream",
     "text": [
      "Training:  16%|████████████████▍                                                                                     | 2360/14600 [00:18<01:34, 129.39it/s, epoch=8, loss=[0.6409623761699623, 0.5667837347886336]]"
     ]
    },
    {
     "name": "stdout",
     "output_type": "stream",
     "text": [
      "0.005639\n"
     ]
    },
    {
     "name": "stderr",
     "output_type": "stream",
     "text": [
      "Training:  18%|██████████████████▍                                                                                   | 2644/14600 [00:20<01:33, 128.22it/s, epoch=9, loss=[0.6395116444319896, 0.5594954951985243]]"
     ]
    },
    {
     "name": "stdout",
     "output_type": "stream",
     "text": [
      "0.005639\n"
     ]
    },
    {
     "name": "stderr",
     "output_type": "stream",
     "text": [
      "Training:  20%|████████████████████▌                                                                                 | 2945/14600 [00:22<01:31, 127.65it/s, epoch=10, loss=[0.637182986083096, 0.5518284223667564]]"
     ]
    },
    {
     "name": "stdout",
     "output_type": "stream",
     "text": [
      "0.005639\n"
     ]
    },
    {
     "name": "stderr",
     "output_type": "stream",
     "text": [
      "Training:  22%|██████████████████████▎                                                                              | 3229/14600 [00:25<01:26, 131.65it/s, epoch=11, loss=[0.6359315739102556, 0.5452882288253471]]"
     ]
    },
    {
     "name": "stdout",
     "output_type": "stream",
     "text": [
      "0.005639\n"
     ]
    },
    {
     "name": "stderr",
     "output_type": "stream",
     "text": [
      "Training:  24%|████████████████████████▍                                                                            | 3525/14600 [00:27<01:28, 125.32it/s, epoch=12, loss=[0.6347889700164528, 0.5402342917984481]]"
     ]
    },
    {
     "name": "stdout",
     "output_type": "stream",
     "text": [
      "0.005639\n"
     ]
    },
    {
     "name": "stderr",
     "output_type": "stream",
     "text": [
      "Training:  26%|██████████████████████████▍                                                                          | 3818/14600 [00:29<01:24, 127.56it/s, epoch=13, loss=[0.6336790474310317, 0.5355841248002771]]"
     ]
    },
    {
     "name": "stdout",
     "output_type": "stream",
     "text": [
      "0.006653\n"
     ]
    },
    {
     "name": "stderr",
     "output_type": "stream",
     "text": [
      "Training:  28%|████████████████████████████▋                                                                         | 4104/14600 [00:32<01:22, 127.93it/s, epoch=14, loss=[0.6330241703823821, 0.531673402002413]]"
     ]
    },
    {
     "name": "stdout",
     "output_type": "stream",
     "text": [
      "0.006653\n"
     ]
    },
    {
     "name": "stderr",
     "output_type": "stream",
     "text": [
      "Training:  30%|██████████████████████████████▋                                                                       | 4397/14600 [00:34<01:19, 128.20it/s, epoch=15, loss=[0.6320236259943824, 0.527747675980607]]"
     ]
    },
    {
     "name": "stdout",
     "output_type": "stream",
     "text": [
      "0.006653\n"
     ]
    },
    {
     "name": "stderr",
     "output_type": "stream",
     "text": [
      "Training:  32%|████████████████████████████████▍                                                                    | 4697/14600 [00:36<01:17, 127.95it/s, epoch=16, loss=[0.6308561751287274, 0.5233800358151734]]"
     ]
    },
    {
     "name": "stdout",
     "output_type": "stream",
     "text": [
      "0.006653\n"
     ]
    },
    {
     "name": "stderr",
     "output_type": "stream",
     "text": [
      "Training:  34%|██████████████████████████████████▍                                                                  | 4983/14600 [00:38<01:15, 127.38it/s, epoch=17, loss=[0.6300735596108108, 0.5198424640175412]]"
     ]
    },
    {
     "name": "stdout",
     "output_type": "stream",
     "text": [
      "0.006653\n"
     ]
    },
    {
     "name": "stderr",
     "output_type": "stream",
     "text": [
      "Training:  36%|████████████████████████████████████▍                                                                | 5272/14600 [00:41<01:11, 129.96it/s, epoch=18, loss=[0.6288555925839571, 0.5166369715373811]]"
     ]
    },
    {
     "name": "stdout",
     "output_type": "stream",
     "text": [
      "0.006653\n"
     ]
    },
    {
     "name": "stderr",
     "output_type": "stream",
     "text": [
      "Training:  38%|███████████████████████████████████████▎                                                               | 5572/14600 [00:43<01:10, 128.90it/s, epoch=19, loss=[0.62790880587003, 0.5131272479687649]]"
     ]
    },
    {
     "name": "stdout",
     "output_type": "stream",
     "text": [
      "0.006653\n"
     ]
    },
    {
     "name": "stderr",
     "output_type": "stream",
     "text": [
      "Training:  40%|████████████████████████████████████████▌                                                            | 5859/14600 [00:45<01:09, 125.58it/s, epoch=20, loss=[0.6274095777779409, 0.5109509942058014]]"
     ]
    },
    {
     "name": "stdout",
     "output_type": "stream",
     "text": [
      "0.006653\n"
     ]
    },
    {
     "name": "stderr",
     "output_type": "stream",
     "text": [
      "Training:  42%|██████████████████████████████████████████▉                                                           | 6153/14600 [00:48<01:05, 128.08it/s, epoch=21, loss=[0.6260570442839842, 0.507640842297306]]"
     ]
    },
    {
     "name": "stdout",
     "output_type": "stream",
     "text": [
      "0.006653\n"
     ]
    },
    {
     "name": "stderr",
     "output_type": "stream",
     "text": [
      "Training:  44%|████████████████████████████████████████████▌                                                        | 6437/14600 [00:50<01:03, 128.11it/s, epoch=22, loss=[0.6256456109758927, 0.5049647423502516]]"
     ]
    },
    {
     "name": "stdout",
     "output_type": "stream",
     "text": [
      "0.006653\n"
     ]
    },
    {
     "name": "stderr",
     "output_type": "stream",
     "text": [
      "Training:  46%|██████████████████████████████████████████████▌                                                      | 6732/14600 [00:52<01:02, 125.16it/s, epoch=23, loss=[0.6251104919061269, 0.5033751881285891]]"
     ]
    },
    {
     "name": "stdout",
     "output_type": "stream",
     "text": [
      "0.006653\n"
     ]
    },
    {
     "name": "stderr",
     "output_type": "stream",
     "text": [
      "Training:  48%|████████████████████████████████████████████████▌                                                    | 7024/14600 [00:54<00:59, 127.76it/s, epoch=24, loss=[0.6246355629130588, 0.5007800194498611]]"
     ]
    },
    {
     "name": "stdout",
     "output_type": "stream",
     "text": [
      "0.006653\n"
     ]
    },
    {
     "name": "stderr",
     "output_type": "stream",
     "text": [
      "Training:  50%|███████████████████████████████████████████████████▏                                                  | 7325/14600 [00:57<00:57, 126.32it/s, epoch=25, loss=[0.62409279321971, 0.49901416387460024]]"
     ]
    },
    {
     "name": "stdout",
     "output_type": "stream",
     "text": [
      "0.006653\n"
     ]
    },
    {
     "name": "stderr",
     "output_type": "stream",
     "text": [
      "Training:  52%|████████████████████████████████████████████████████▋                                                | 7612/14600 [00:59<00:54, 129.23it/s, epoch=26, loss=[0.6232948674731057, 0.4968270747220683]]"
     ]
    },
    {
     "name": "stdout",
     "output_type": "stream",
     "text": [
      "0.006653\n"
     ]
    },
    {
     "name": "stderr",
     "output_type": "stream",
     "text": [
      "Training:  54%|██████████████████████████████████████████████████████▋                                              | 7904/14600 [01:01<00:52, 127.67it/s, epoch=27, loss=[0.6224705797352202, 0.4943744807618939]]"
     ]
    },
    {
     "name": "stdout",
     "output_type": "stream",
     "text": [
      "0.006653\n"
     ]
    },
    {
     "name": "stderr",
     "output_type": "stream",
     "text": [
      "Training:  56%|████████████████████████████████████████████████████████▋                                            | 8197/14600 [01:03<00:48, 130.81it/s, epoch=28, loss=[0.6220493553435968, 0.4923989897313182]]"
     ]
    },
    {
     "name": "stdout",
     "output_type": "stream",
     "text": [
      "0.006653\n"
     ]
    },
    {
     "name": "stderr",
     "output_type": "stream",
     "text": [
      "Training:  58%|██████████████████████████████████████████████████████████▋                                          | 8485/14600 [01:06<00:47, 128.03it/s, epoch=29, loss=[0.6213065067382707, 0.4899727971586462]]"
     ]
    },
    {
     "name": "stdout",
     "output_type": "stream",
     "text": [
      "0.006653\n"
     ]
    },
    {
     "name": "stderr",
     "output_type": "stream",
     "text": [
      "Training:  60%|████████████████████████████████████████████████████████████▊                                        | 8785/14600 [01:08<00:44, 129.55it/s, epoch=30, loss=[0.6208113701376194, 0.4888590925360381]]"
     ]
    },
    {
     "name": "stdout",
     "output_type": "stream",
     "text": [
      "0.006653\n"
     ]
    },
    {
     "name": "stderr",
     "output_type": "stream",
     "text": [
      "Training:  62%|███████████████████████████████████████████████████████████████▎                                      | 9065/14600 [01:10<00:43, 128.45it/s, epoch=31, loss=[0.6202900654649083, 0.487024324397518]]"
     ]
    },
    {
     "name": "stdout",
     "output_type": "stream",
     "text": [
      "0.006653\n"
     ]
    },
    {
     "name": "stderr",
     "output_type": "stream",
     "text": [
      "Training:  64%|████████████████████████████████████████████████████████████████                                    | 9360/14600 [01:12<00:40, 129.79it/s, epoch=32, loss=[0.6202345441465509, 0.48604371776319544]]"
     ]
    },
    {
     "name": "stdout",
     "output_type": "stream",
     "text": [
      "0.006653\n"
     ]
    },
    {
     "name": "stderr",
     "output_type": "stream",
     "text": [
      "Training:  66%|██████████████████████████████████████████████████████████████████                                  | 9650/14600 [01:15<00:38, 127.66it/s, epoch=33, loss=[0.6193164934034215, 0.48297444577902965]]"
     ]
    },
    {
     "name": "stdout",
     "output_type": "stream",
     "text": [
      "0.006653\n"
     ]
    },
    {
     "name": "stderr",
     "output_type": "stream",
     "text": [
      "Training:  68%|█████████████████████████████████████████████████████████████████████▌                                | 9953/14600 [01:17<00:35, 131.61it/s, epoch=34, loss=[0.618947773763578, 0.4828105838331456]]"
     ]
    },
    {
     "name": "stdout",
     "output_type": "stream",
     "text": [
      "0.006653\n"
     ]
    },
    {
     "name": "stderr",
     "output_type": "stream",
     "text": [
      "Training:  70%|██████████████████████████████████████████████████████████████████████                              | 10236/14600 [01:19<00:34, 127.52it/s, epoch=35, loss=[0.6186142931245779, 0.4819994003397146]]"
     ]
    },
    {
     "name": "stdout",
     "output_type": "stream",
     "text": [
      "0.006653\n"
     ]
    },
    {
     "name": "stderr",
     "output_type": "stream",
     "text": [
      "Training:  72%|███████████████████████████████████████████████████████████████████████▎                           | 10524/14600 [01:21<00:31, 130.54it/s, epoch=36, loss=[0.6181376629496275, 0.48027692694370056]]"
     ]
    },
    {
     "name": "stdout",
     "output_type": "stream",
     "text": [
      "0.006653\n"
     ]
    },
    {
     "name": "stderr",
     "output_type": "stream",
     "text": [
      "Training:  74%|██████████████████████████████████████████████████████████████████████████                          | 10820/14600 [01:24<00:29, 128.94it/s, epoch=37, loss=[0.6177780922145061, 0.4786942825741964]]"
     ]
    },
    {
     "name": "stdout",
     "output_type": "stream",
     "text": [
      "0.006658\n"
     ]
    },
    {
     "name": "stderr",
     "output_type": "stream",
     "text": [
      "Training:  76%|███████████████████████████████████████████████████████████████████████████▍                       | 11121/14600 [01:26<00:27, 127.81it/s, epoch=38, loss=[0.6170491870135477, 0.47692835718801563]]"
     ]
    },
    {
     "name": "stdout",
     "output_type": "stream",
     "text": [
      "0.006658\n"
     ]
    },
    {
     "name": "stderr",
     "output_type": "stream",
     "text": [
      "Training:  78%|█████████████████████████████████████████████████████████████████████████████▍                     | 11411/14600 [01:28<00:24, 128.09it/s, epoch=39, loss=[0.6166788441677618, 0.47481207222971183]]"
     ]
    },
    {
     "name": "stdout",
     "output_type": "stream",
     "text": [
      "0.006658\n"
     ]
    },
    {
     "name": "stderr",
     "output_type": "stream",
     "text": [
      "Training:  80%|████████████████████████████████████████████████████████████████████████████████▏                   | 11699/14600 [01:31<00:22, 127.44it/s, epoch=40, loss=[0.6159577075749226, 0.4734830495021116]]"
     ]
    },
    {
     "name": "stdout",
     "output_type": "stream",
     "text": [
      "0.006658\n"
     ]
    },
    {
     "name": "stderr",
     "output_type": "stream",
     "text": [
      "Training:  82%|█████████████████████████████████████████████████████████████████████████████████▎                 | 11992/14600 [01:33<00:20, 130.23it/s, epoch=41, loss=[0.6155460313574905, 0.47192054517465093]]"
     ]
    },
    {
     "name": "stdout",
     "output_type": "stream",
     "text": [
      "0.006658\n"
     ]
    },
    {
     "name": "stderr",
     "output_type": "stream",
     "text": [
      "Training:  84%|████████████████████████████████████████████████████████████████████████████████████▏               | 12283/14600 [01:35<00:18, 128.08it/s, epoch=42, loss=[0.6154693524314929, 0.4714277458109266]]"
     ]
    },
    {
     "name": "stdout",
     "output_type": "stream",
     "text": [
      "0.006658\n"
     ]
    },
    {
     "name": "stderr",
     "output_type": "stream",
     "text": [
      "Training:  86%|█████████████████████████████████████████████████████████████████████████████████████▎             | 12574/14600 [01:37<00:15, 129.36it/s, epoch=43, loss=[0.6156392224030954, 0.47231415444857444]]"
     ]
    },
    {
     "name": "stdout",
     "output_type": "stream",
     "text": [
      "0.006658\n"
     ]
    },
    {
     "name": "stderr",
     "output_type": "stream",
     "text": [
      "Training:  88%|████████████████████████████████████████████████████████████████████████████████████████▉            | 12862/14600 [01:40<00:13, 127.43it/s, epoch=44, loss=[0.614491632131681, 0.4694035490081734]]"
     ]
    },
    {
     "name": "stdout",
     "output_type": "stream",
     "text": [
      "0.006658\n"
     ]
    },
    {
     "name": "stderr",
     "output_type": "stream",
     "text": [
      "Training:  90%|██████████████████████████████████████████████████████████████████████████████████████████▏         | 13161/14600 [01:42<00:11, 130.71it/s, epoch=45, loss=[0.6138100379133876, 0.4669372596561094]]"
     ]
    },
    {
     "name": "stdout",
     "output_type": "stream",
     "text": [
      "0.006658\n"
     ]
    },
    {
     "name": "stderr",
     "output_type": "stream",
     "text": [
      "Training:  92%|████████████████████████████████████████████████████████████████████████████████████████████▏       | 13458/14600 [01:44<00:08, 129.01it/s, epoch=46, loss=[0.6134766495391113, 0.4659910477595789]]"
     ]
    },
    {
     "name": "stdout",
     "output_type": "stream",
     "text": [
      "0.006658\n"
     ]
    },
    {
     "name": "stderr",
     "output_type": "stream",
     "text": [
      "Training:  94%|██████████████████████████████████████████████████████████████████████████████████████████████      | 13738/14600 [01:47<00:06, 127.22it/s, epoch=47, loss=[0.613762237846035, 0.46674653561147933]]"
     ]
    },
    {
     "name": "stdout",
     "output_type": "stream",
     "text": [
      "0.006658\n"
     ]
    },
    {
     "name": "stderr",
     "output_type": "stream",
     "text": [
      "Training:  96%|████████████████████████████████████████████████████████████████████████████████████████████████▏   | 14039/14600 [01:49<00:04, 130.48it/s, epoch=48, loss=[0.6133488192133709, 0.4648259894488608]]"
     ]
    },
    {
     "name": "stdout",
     "output_type": "stream",
     "text": [
      "0.007459\n"
     ]
    },
    {
     "name": "stderr",
     "output_type": "stream",
     "text": [
      "Training:  98%|█████████████████████████████████████████████████████████████████████████████████████████████████  | 14322/14600 [01:51<00:02, 128.81it/s, epoch=49, loss=[0.6132095117275032, 0.46347771707462937]]"
     ]
    },
    {
     "name": "stdout",
     "output_type": "stream",
     "text": [
      "0.007459\n"
     ]
    },
    {
     "name": "stderr",
     "output_type": "stream",
     "text": [
      "Training: 100%|████████████████████████████████████████████████████████████████████████████████████████████████████| 14600/14600 [01:53<00:00, 128.35it/s, epoch=50, loss=[0.6132451516308197, 0.4627997436343806]]\n"
     ]
    },
    {
     "name": "stdout",
     "output_type": "stream",
     "text": [
      "0.007459\n",
      "Training Accuracy: 96.80668666952423%\n",
      "Testing Accuracy: 30.784607696151923%\n",
      "Top 5 Training Accuracy: 99.93570510072868%\n",
      "Top 5 Testing Accuracy: 55.42228885557221%\n",
      "Test to train ratio:  0.4\n",
      "Train Loader: 125\n",
      "Test Loader: 84\n",
      "Network Size: 2048\n",
      "Initialization 1 / 2\n",
      "Complete\n",
      "\n",
      "Initialization 2 / 2\n",
      "Complete\n",
      "\n"
     ]
    },
    {
     "name": "stderr",
     "output_type": "stream",
     "text": [
      "Training:   2%|██▏                                                                                                    | 268/12500 [00:02<01:52, 108.89it/s, epoch=1, loss=[0.6891189708709716, 0.6936771216392514]]"
     ]
    },
    {
     "name": "stdout",
     "output_type": "stream",
     "text": [
      "0.005173\n"
     ]
    },
    {
     "name": "stderr",
     "output_type": "stream",
     "text": [
      "Training:   4%|████▎                                                                                                  | 521/12500 [00:04<01:47, 111.58it/s, epoch=2, loss=[0.6641385650634765, 0.6674777984619141]]"
     ]
    },
    {
     "name": "stdout",
     "output_type": "stream",
     "text": [
      "0.005173\n"
     ]
    },
    {
     "name": "stderr",
     "output_type": "stream",
     "text": [
      "Training:   6%|██████▎                                                                                                | 765/12500 [00:06<01:47, 109.08it/s, epoch=3, loss=[0.6570329699516296, 0.6359924979209899]]"
     ]
    },
    {
     "name": "stdout",
     "output_type": "stream",
     "text": [
      "0.005173\n"
     ]
    },
    {
     "name": "stderr",
     "output_type": "stream",
     "text": [
      "Training:   8%|████████▎                                                                                             | 1022/12500 [00:09<01:45, 108.89it/s, epoch=4, loss=[0.6535556874275206, 0.6180080204010011]]"
     ]
    },
    {
     "name": "stdout",
     "output_type": "stream",
     "text": [
      "0.008057\n"
     ]
    },
    {
     "name": "stderr",
     "output_type": "stream",
     "text": [
      "Training:  10%|██████████▎                                                                                           | 1267/12500 [00:11<01:43, 109.05it/s, epoch=5, loss=[0.6498197193145753, 0.6032023053169249]]"
     ]
    },
    {
     "name": "stdout",
     "output_type": "stream",
     "text": [
      "0.008057\n"
     ]
    },
    {
     "name": "stderr",
     "output_type": "stream",
     "text": [
      "Training:  12%|████████████▎                                                                                         | 1513/12500 [00:13<01:41, 108.66it/s, epoch=6, loss=[0.6466616220474246, 0.5898694777488707]]"
     ]
    },
    {
     "name": "stdout",
     "output_type": "stream",
     "text": [
      "0.008057\n"
     ]
    },
    {
     "name": "stderr",
     "output_type": "stream",
     "text": [
      "Training:  14%|██████████████▍                                                                                       | 1771/12500 [00:16<01:38, 108.97it/s, epoch=7, loss=[0.6442297396659854, 0.5803694238662721]]"
     ]
    },
    {
     "name": "stdout",
     "output_type": "stream",
     "text": [
      "0.008057\n"
     ]
    },
    {
     "name": "stderr",
     "output_type": "stream",
     "text": [
      "Training:  16%|████████████████▍                                                                                     | 2018/12500 [00:18<01:36, 108.76it/s, epoch=8, loss=[0.6421430239677426, 0.5711958971023561]]"
     ]
    },
    {
     "name": "stdout",
     "output_type": "stream",
     "text": [
      "0.008057\n"
     ]
    },
    {
     "name": "stderr",
     "output_type": "stream",
     "text": [
      "Training:  18%|██████████████████▌                                                                                   | 2268/12500 [00:20<01:33, 109.15it/s, epoch=9, loss=[0.6406932888031006, 0.5638340086936953]]"
     ]
    },
    {
     "name": "stdout",
     "output_type": "stream",
     "text": [
      "0.008057\n"
     ]
    },
    {
     "name": "stderr",
     "output_type": "stream",
     "text": [
      "Training:  20%|████████████████████▎                                                                                | 2518/12500 [00:23<01:31, 108.75it/s, epoch=10, loss=[0.6387385735511778, 0.5563638935089109]]"
     ]
    },
    {
     "name": "stdout",
     "output_type": "stream",
     "text": [
      "0.008057\n"
     ]
    },
    {
     "name": "stderr",
     "output_type": "stream",
     "text": [
      "Training:  22%|██████████████████████▎                                                                              | 2765/12500 [00:25<01:29, 109.23it/s, epoch=11, loss=[0.6371122698783879, 0.5502002015113829]]"
     ]
    },
    {
     "name": "stdout",
     "output_type": "stream",
     "text": [
      "0.008057\n"
     ]
    },
    {
     "name": "stderr",
     "output_type": "stream",
     "text": [
      "Training:  24%|████████████████████████▎                                                                            | 3015/12500 [00:27<01:25, 110.73it/s, epoch=12, loss=[0.6356084904670715, 0.5434886002540589]]"
     ]
    },
    {
     "name": "stdout",
     "output_type": "stream",
     "text": [
      "0.008057\n"
     ]
    },
    {
     "name": "stderr",
     "output_type": "stream",
     "text": [
      "Training:  26%|██████████████████████████▋                                                                           | 3263/12500 [00:29<01:25, 108.47it/s, epoch=13, loss=[0.6347340307235718, 0.539086480140686]]"
     ]
    },
    {
     "name": "stdout",
     "output_type": "stream",
     "text": [
      "0.008057\n"
     ]
    },
    {
     "name": "stderr",
     "output_type": "stream",
     "text": [
      "Training:  28%|████████████████████████████▍                                                                        | 3521/12500 [00:32<01:22, 109.27it/s, epoch=14, loss=[0.6340266323089601, 0.5348838911056519]]"
     ]
    },
    {
     "name": "stdout",
     "output_type": "stream",
     "text": [
      "0.008057\n"
     ]
    },
    {
     "name": "stderr",
     "output_type": "stream",
     "text": [
      "Training:  30%|██████████████████████████████▍                                                                      | 3767/12500 [00:34<01:20, 108.32it/s, epoch=15, loss=[0.6331556582450865, 0.5308123025894165]]"
     ]
    },
    {
     "name": "stdout",
     "output_type": "stream",
     "text": [
      "0.008057\n"
     ]
    },
    {
     "name": "stderr",
     "output_type": "stream",
     "text": [
      "Training:  32%|████████████████████████████████▊                                                                     | 4015/12500 [00:36<01:16, 111.06it/s, epoch=16, loss=[0.6323325181007386, 0.527543514728546]]"
     ]
    },
    {
     "name": "stdout",
     "output_type": "stream",
     "text": [
      "0.008057\n"
     ]
    },
    {
     "name": "stderr",
     "output_type": "stream",
     "text": [
      "Training:  34%|██████████████████████████████████▌                                                                  | 4272/12500 [00:39<01:15, 109.60it/s, epoch=17, loss=[0.6318113903999328, 0.5245077536106112]]"
     ]
    },
    {
     "name": "stdout",
     "output_type": "stream",
     "text": [
      "0.008057\n"
     ]
    },
    {
     "name": "stderr",
     "output_type": "stream",
     "text": [
      "Training:  36%|████████████████████████████████████▍                                                                | 4516/12500 [00:41<01:15, 105.83it/s, epoch=18, loss=[0.6302533636093142, 0.5198227355480194]]"
     ]
    },
    {
     "name": "stdout",
     "output_type": "stream",
     "text": [
      "0.008057\n"
     ]
    },
    {
     "name": "stderr",
     "output_type": "stream",
     "text": [
      "Training:  38%|██████████████████████████████████████▍                                                              | 4760/12500 [00:43<01:12, 107.10it/s, epoch=19, loss=[0.6293496494293213, 0.5172111144065856]]"
     ]
    },
    {
     "name": "stdout",
     "output_type": "stream",
     "text": [
      "0.008057\n"
     ]
    },
    {
     "name": "stderr",
     "output_type": "stream",
     "text": [
      "Training:  40%|████████████████████████████████████████▉                                                             | 5018/12500 [00:45<01:09, 107.08it/s, epoch=20, loss=[0.628555048942566, 0.5135502293109896]]"
     ]
    },
    {
     "name": "stdout",
     "output_type": "stream",
     "text": [
      "0.008057\n"
     ]
    },
    {
     "name": "stderr",
     "output_type": "stream",
     "text": [
      "Training:  42%|██████████████████████████████████████████▌                                                          | 5265/12500 [00:48<01:06, 108.92it/s, epoch=21, loss=[0.6275035400390623, 0.5098579299449922]]"
     ]
    },
    {
     "name": "stdout",
     "output_type": "stream",
     "text": [
      "0.008057\n"
     ]
    },
    {
     "name": "stderr",
     "output_type": "stream",
     "text": [
      "Training:  44%|████████████████████████████████████████████▌                                                        | 5511/12500 [00:50<01:04, 108.20it/s, epoch=22, loss=[0.6269514193534852, 0.5070543236732484]]"
     ]
    },
    {
     "name": "stdout",
     "output_type": "stream",
     "text": [
      "0.008057\n"
     ]
    },
    {
     "name": "stderr",
     "output_type": "stream",
     "text": [
      "Training:  46%|███████████████████████████████████████████████                                                       | 5771/12500 [00:52<01:00, 111.38it/s, epoch=23, loss=[0.6261979656219481, 0.504960640668869]]"
     ]
    },
    {
     "name": "stdout",
     "output_type": "stream",
     "text": [
      "0.008057\n"
     ]
    },
    {
     "name": "stderr",
     "output_type": "stream",
     "text": [
      "Training:  48%|████████████████████████████████████████████████▋                                                    | 6020/12500 [00:55<00:59, 109.59it/s, epoch=24, loss=[0.6261559438705444, 0.5038420119285583]]"
     ]
    },
    {
     "name": "stdout",
     "output_type": "stream",
     "text": [
      "0.008057\n"
     ]
    },
    {
     "name": "stderr",
     "output_type": "stream",
     "text": [
      "Training:  50%|███████████████████████████████████████████████████▏                                                  | 6269/12500 [00:57<00:56, 109.87it/s, epoch=25, loss=[0.625072156906128, 0.5001519663333892]]"
     ]
    },
    {
     "name": "stdout",
     "output_type": "stream",
     "text": [
      "0.008057\n"
     ]
    },
    {
     "name": "stderr",
     "output_type": "stream",
     "text": [
      "Training:  52%|█████████████████████████████████████████████████████▏                                                | 6513/12500 [00:59<00:54, 109.04it/s, epoch=26, loss=[0.6247252287864685, 0.499034831285477]]"
     ]
    },
    {
     "name": "stdout",
     "output_type": "stream",
     "text": [
      "0.008057\n"
     ]
    },
    {
     "name": "stderr",
     "output_type": "stream",
     "text": [
      "Training:  54%|██████████████████████████████████████████████████████▋                                              | 6763/12500 [01:01<00:51, 110.57it/s, epoch=27, loss=[0.6237743134498599, 0.4961852021217344]]"
     ]
    },
    {
     "name": "stdout",
     "output_type": "stream",
     "text": [
      "0.008057\n"
     ]
    },
    {
     "name": "stderr",
     "output_type": "stream",
     "text": [
      "Training:  56%|████████████████████████████████████████████████████████▋                                            | 7011/12500 [01:04<00:50, 109.30it/s, epoch=28, loss=[0.6232292423248291, 0.4939521691799164]]"
     ]
    },
    {
     "name": "stdout",
     "output_type": "stream",
     "text": [
      "0.008057\n"
     ]
    },
    {
     "name": "stderr",
     "output_type": "stream",
     "text": [
      "Training:  58%|██████████████████████████████████████████████████████████▋                                          | 7262/12500 [01:06<00:47, 111.10it/s, epoch=29, loss=[0.6229212417602542, 0.4924287986755371]]"
     ]
    },
    {
     "name": "stdout",
     "output_type": "stream",
     "text": [
      "0.008057\n"
     ]
    },
    {
     "name": "stderr",
     "output_type": "stream",
     "text": [
      "Training:  60%|█████████████████████████████████████████████████████████████▎                                        | 7512/12500 [01:08<00:45, 110.49it/s, epoch=30, loss=[0.622045344352722, 0.4898015594482425]]"
     ]
    },
    {
     "name": "stdout",
     "output_type": "stream",
     "text": [
      "0.008057\n"
     ]
    },
    {
     "name": "stderr",
     "output_type": "stream",
     "text": [
      "Training:  62%|██████████████████████████████████████████████████████████████▋                                      | 7764/12500 [01:11<00:42, 111.50it/s, epoch=31, loss=[0.6220522465705873, 0.4893174328804016]]"
     ]
    },
    {
     "name": "stdout",
     "output_type": "stream",
     "text": [
      "0.008057\n"
     ]
    },
    {
     "name": "stderr",
     "output_type": "stream",
     "text": [
      "Training:  64%|████████████████████████████████████████████████████████████████▊                                    | 8014/12500 [01:13<00:40, 109.67it/s, epoch=32, loss=[0.621886832714081, 0.48899153232574466]]"
     ]
    },
    {
     "name": "stdout",
     "output_type": "stream",
     "text": [
      "0.008057\n"
     ]
    },
    {
     "name": "stderr",
     "output_type": "stream",
     "text": [
      "Training:  66%|██████████████████████████████████████████████████████████████████▊                                  | 8265/12500 [01:15<00:37, 111.75it/s, epoch=33, loss=[0.6211899671554567, 0.4867503125667571]]"
     ]
    },
    {
     "name": "stdout",
     "output_type": "stream",
     "text": [
      "0.008057\n"
     ]
    },
    {
     "name": "stderr",
     "output_type": "stream",
     "text": [
      "Training:  68%|████████████████████████████████████████████████████████████████████                                | 8513/12500 [01:17<00:36, 109.41it/s, epoch=34, loss=[0.6206632776260378, 0.48478749394416804]]"
     ]
    },
    {
     "name": "stdout",
     "output_type": "stream",
     "text": [
      "0.008057\n"
     ]
    },
    {
     "name": "stderr",
     "output_type": "stream",
     "text": [
      "Training:  70%|██████████████████████████████████████████████████████████████████████▏                             | 8770/12500 [01:20<00:34, 108.88it/s, epoch=35, loss=[0.6201343579292296, 0.48374447154998795]]"
     ]
    },
    {
     "name": "stdout",
     "output_type": "stream",
     "text": [
      "0.008057\n"
     ]
    },
    {
     "name": "stderr",
     "output_type": "stream",
     "text": [
      "Training:  72%|████████████████████████████████████████████████████████████████████████▊                            | 9019/12500 [01:22<00:31, 108.89it/s, epoch=36, loss=[0.6205546288490297, 0.4843497698307038]]"
     ]
    },
    {
     "name": "stdout",
     "output_type": "stream",
     "text": [
      "0.008057\n"
     ]
    },
    {
     "name": "stderr",
     "output_type": "stream",
     "text": [
      "Training:  74%|██████████████████████████████████████████████████████████████████████████▊                          | 9265/12500 [01:24<00:29, 109.17it/s, epoch=37, loss=[0.6201951713562013, 0.4830386641025543]]"
     ]
    },
    {
     "name": "stdout",
     "output_type": "stream",
     "text": [
      "0.008057\n"
     ]
    },
    {
     "name": "stderr",
     "output_type": "stream",
     "text": [
      "Training:  76%|████████████████████████████████████████████████████████████████████████████▏                       | 9522/12500 [01:27<00:27, 109.44it/s, epoch=38, loss=[0.6192859892845156, 0.48005725860595705]]"
     ]
    },
    {
     "name": "stdout",
     "output_type": "stream",
     "text": [
      "0.008265\n"
     ]
    },
    {
     "name": "stderr",
     "output_type": "stream",
     "text": [
      "Training:  78%|██████████████████████████████████████████████████████████████████████████████▏                     | 9768/12500 [01:29<00:25, 108.94it/s, epoch=39, loss=[0.6188152236938478, 0.47840058231353744]]"
     ]
    },
    {
     "name": "stdout",
     "output_type": "stream",
     "text": [
      "0.008265\n"
     ]
    },
    {
     "name": "stderr",
     "output_type": "stream",
     "text": [
      "Training:  80%|███████████████████████████████████████████████████████████████████████████████▎                   | 10013/12500 [01:31<00:22, 108.55it/s, epoch=40, loss=[0.6182522425651549, 0.47676170158386233]]"
     ]
    },
    {
     "name": "stdout",
     "output_type": "stream",
     "text": [
      "0.008265\n"
     ]
    },
    {
     "name": "stderr",
     "output_type": "stream",
     "text": [
      "Training:  82%|██████████████████████████████████████████████████████████████████████████████████▏                 | 10269/12500 [01:33<00:20, 109.23it/s, epoch=41, loss=[0.6181504354476931, 0.4772996299266816]]"
     ]
    },
    {
     "name": "stdout",
     "output_type": "stream",
     "text": [
      "0.008265\n"
     ]
    },
    {
     "name": "stderr",
     "output_type": "stream",
     "text": [
      "Training:  84%|███████████████████████████████████████████████████████████████████████████████████▎               | 10517/12500 [01:36<00:18, 109.38it/s, epoch=42, loss=[0.6174085173606875, 0.47451462936401345]]"
     ]
    },
    {
     "name": "stdout",
     "output_type": "stream",
     "text": [
      "0.008265\n"
     ]
    },
    {
     "name": "stderr",
     "output_type": "stream",
     "text": [
      "Training:  86%|██████████████████████████████████████████████████████████████████████████████████████              | 10765/12500 [01:38<00:15, 109.10it/s, epoch=43, loss=[0.6174049825668333, 0.4742633342742919]]"
     ]
    },
    {
     "name": "stdout",
     "output_type": "stream",
     "text": [
      "0.008265\n"
     ]
    },
    {
     "name": "stderr",
     "output_type": "stream",
     "text": [
      "Training:  88%|████████████████████████████████████████████████████████████████████████████████████████▏           | 11021/12500 [01:40<00:13, 109.43it/s, epoch=44, loss=[0.6167109022140506, 0.4717632846832275]]"
     ]
    },
    {
     "name": "stdout",
     "output_type": "stream",
     "text": [
      "0.008265\n"
     ]
    },
    {
     "name": "stderr",
     "output_type": "stream",
     "text": [
      "Training:  90%|█████████████████████████████████████████████████████████████████████████████████████████▎         | 11269/12500 [01:43<00:11, 109.45it/s, epoch=45, loss=[0.6161121468544006, 0.47042191290855384]]"
     ]
    },
    {
     "name": "stdout",
     "output_type": "stream",
     "text": [
      "0.008265\n"
     ]
    },
    {
     "name": "stderr",
     "output_type": "stream",
     "text": [
      "Training:  92%|████████████████████████████████████████████████████████████████████████████████████████████▏       | 11521/12500 [01:45<00:08, 109.41it/s, epoch=46, loss=[0.6154684538841247, 0.4691432938575745]]"
     ]
    },
    {
     "name": "stdout",
     "output_type": "stream",
     "text": [
      "0.008265\n"
     ]
    },
    {
     "name": "stderr",
     "output_type": "stream",
     "text": [
      "Training:  94%|███████████████████████████████████████████████████████████████████████████████████████████████      | 11766/12500 [01:47<00:06, 109.42it/s, epoch=47, loss=[0.6153881044387814, 0.468834698677063]]"
     ]
    },
    {
     "name": "stdout",
     "output_type": "stream",
     "text": [
      "0.008265\n"
     ]
    },
    {
     "name": "stderr",
     "output_type": "stream",
     "text": [
      "Training:  96%|█████████████████████████████████████████████████████████████████████████████████████████████████    | 12014/12500 [01:49<00:04, 110.00it/s, epoch=48, loss=[0.6148899264335632, 0.467221621990204]]"
     ]
    },
    {
     "name": "stdout",
     "output_type": "stream",
     "text": [
      "0.008265\n"
     ]
    },
    {
     "name": "stderr",
     "output_type": "stream",
     "text": [
      "Training:  98%|██████████████████████████████████████████████████████████████████████████████████████████████████▏ | 12269/12500 [01:52<00:02, 108.98it/s, epoch=49, loss=[0.6149867987632752, 0.4664108200073243]]"
     ]
    },
    {
     "name": "stdout",
     "output_type": "stream",
     "text": [
      "0.008265\n"
     ]
    },
    {
     "name": "stderr",
     "output_type": "stream",
     "text": [
      "Training: 100%|████████████████████████████████████████████████████████████████████████████████████████████████████| 12500/12500 [01:54<00:00, 109.32it/s, epoch=50, loss=[0.6146413764953615, 0.4648157768249512]]\n"
     ]
    },
    {
     "name": "stdout",
     "output_type": "stream",
     "text": [
      "0.008265\n",
      "Training Accuracy: 97.5%\n",
      "Testing Accuracy: 29.58380202474691%\n",
      "Top 5 Training Accuracy: 99.95%\n",
      "Top 5 Testing Accuracy: 53.318335208098986%\n",
      "Test to train ratio:  0.5\n",
      "Train Loader: 105\n",
      "Test Loader: 105\n",
      "Network Size: 2048\n",
      "Initialization 1 / 2\n",
      "Complete\n",
      "\n",
      "Initialization 2 / 2\n",
      "Complete\n",
      "\n"
     ]
    },
    {
     "name": "stderr",
     "output_type": "stream",
     "text": [
      "Training:   3%|██▋                                                                                                    | 268/10500 [00:00<00:30, 332.24it/s, epoch=1, loss=[0.6902013386998855, 0.6936304200263249]]"
     ]
    },
    {
     "name": "stdout",
     "output_type": "stream",
     "text": [
      "0.00535\n"
     ]
    },
    {
     "name": "stderr",
     "output_type": "stream",
     "text": [
      "Training:   4%|████▋                                                                                                  | 472/10500 [00:01<00:30, 331.80it/s, epoch=2, loss=[0.6669007114001679, 0.6761511649404256]]"
     ]
    },
    {
     "name": "stdout",
     "output_type": "stream",
     "text": [
      "0.00535\n"
     ]
    },
    {
     "name": "stderr",
     "output_type": "stream",
     "text": [
      "Training:   6%|██████▋                                                                                                | 681/10500 [00:02<00:28, 340.32it/s, epoch=3, loss=[0.6605297928764705, 0.6464548604828972]]"
     ]
    },
    {
     "name": "stdout",
     "output_type": "stream",
     "text": [
      "0.00535\n"
     ]
    },
    {
     "name": "stderr",
     "output_type": "stream",
     "text": [
      "Training:   8%|████████▋                                                                                              | 891/10500 [00:02<00:28, 339.03it/s, epoch=4, loss=[0.6563228096280779, 0.6274449592544916]]"
     ]
    },
    {
     "name": "stdout",
     "output_type": "stream",
     "text": [
      "0.00535\n"
     ]
    },
    {
     "name": "stderr",
     "output_type": "stream",
     "text": [
      "Training:  10%|██████████▊                                                                                            | 1100/10500 [00:03<00:28, 334.32it/s, epoch=5, loss=[0.652742637906756, 0.6136910659926277]]"
     ]
    },
    {
     "name": "stdout",
     "output_type": "stream",
     "text": [
      "0.00535\n"
     ]
    },
    {
     "name": "stderr",
     "output_type": "stream",
     "text": [
      "Training:  12%|████████████▋                                                                                         | 1305/10500 [00:03<00:27, 335.75it/s, epoch=6, loss=[0.6488728330248881, 0.6002027551333113]]"
     ]
    },
    {
     "name": "stdout",
     "output_type": "stream",
     "text": [
      "0.007857\n"
     ]
    },
    {
     "name": "stderr",
     "output_type": "stream",
     "text": [
      "Training:  14%|██████████████▋                                                                                       | 1510/10500 [00:04<00:27, 329.98it/s, epoch=7, loss=[0.6468549331029257, 0.5894331733385723]]"
     ]
    },
    {
     "name": "stdout",
     "output_type": "stream",
     "text": [
      "0.007857\n"
     ]
    },
    {
     "name": "stderr",
     "output_type": "stream",
     "text": [
      "Training:  16%|████████████████▊                                                                                      | 1712/10500 [00:05<00:27, 318.26it/s, epoch=8, loss=[0.644690377939315, 0.5800186690830048]]"
     ]
    },
    {
     "name": "stdout",
     "output_type": "stream",
     "text": [
      "0.007857\n"
     ]
    },
    {
     "name": "stderr",
     "output_type": "stream",
     "text": [
      "Training:  19%|██████████████████▉                                                                                   | 1945/10500 [00:05<00:26, 322.75it/s, epoch=9, loss=[0.6433885580017452, 0.5720505271639142]]"
     ]
    },
    {
     "name": "stdout",
     "output_type": "stream",
     "text": [
      "0.008436\n"
     ]
    },
    {
     "name": "stderr",
     "output_type": "stream",
     "text": [
      "Training:  20%|████████████████████▌                                                                                | 2142/10500 [00:06<00:25, 324.68it/s, epoch=10, loss=[0.6420129486492702, 0.5650859248070491]]"
     ]
    },
    {
     "name": "stdout",
     "output_type": "stream",
     "text": [
      "0.008436\n"
     ]
    },
    {
     "name": "stderr",
     "output_type": "stream",
     "text": [
      "Training:  22%|██████████████████████▌                                                                              | 2350/10500 [00:07<00:23, 339.59it/s, epoch=11, loss=[0.6407532584099541, 0.5571422940208799]]"
     ]
    },
    {
     "name": "stdout",
     "output_type": "stream",
     "text": [
      "0.008436\n"
     ]
    },
    {
     "name": "stderr",
     "output_type": "stream",
     "text": [
      "Training:  24%|████████████████████████▌                                                                            | 2560/10500 [00:07<00:23, 340.78it/s, epoch=12, loss=[0.6392168124516806, 0.5507997944241478]]"
     ]
    },
    {
     "name": "stdout",
     "output_type": "stream",
     "text": [
      "0.008436\n"
     ]
    },
    {
     "name": "stderr",
     "output_type": "stream",
     "text": [
      "Training:  26%|██████████████████████████▋                                                                          | 2772/10500 [00:08<00:22, 347.58it/s, epoch=13, loss=[0.6377684911092123, 0.5440930650347756]]"
     ]
    },
    {
     "name": "stdout",
     "output_type": "stream",
     "text": [
      "0.008436\n"
     ]
    },
    {
     "name": "stderr",
     "output_type": "stream",
     "text": [
      "Training:  28%|████████████████████████████▋                                                                        | 2981/10500 [00:08<00:22, 338.43it/s, epoch=14, loss=[0.6363970512435552, 0.5380414315632414]]"
     ]
    },
    {
     "name": "stdout",
     "output_type": "stream",
     "text": [
      "0.008436\n"
     ]
    },
    {
     "name": "stderr",
     "output_type": "stream",
     "text": [
      "Training:  30%|██████████████████████████████▉                                                                       | 3188/10500 [00:09<00:21, 343.34it/s, epoch=15, loss=[0.635641842796689, 0.5336240297272091]]"
     ]
    },
    {
     "name": "stdout",
     "output_type": "stream",
     "text": [
      "0.008436\n"
     ]
    },
    {
     "name": "stderr",
     "output_type": "stream",
     "text": [
      "Training:  32%|████████████████████████████████▌                                                                    | 3390/10500 [00:10<00:22, 313.09it/s, epoch=16, loss=[0.6355667880603246, 0.5312023878097534]]"
     ]
    },
    {
     "name": "stdout",
     "output_type": "stream",
     "text": [
      "0.008436\n"
     ]
    },
    {
     "name": "stderr",
     "output_type": "stream",
     "text": [
      "Training:  34%|██████████████████████████████████▊                                                                  | 3619/10500 [00:10<00:21, 323.52it/s, epoch=17, loss=[0.6344144645191374, 0.5265664157413298]]"
     ]
    },
    {
     "name": "stdout",
     "output_type": "stream",
     "text": [
      "0.008436\n"
     ]
    },
    {
     "name": "stderr",
     "output_type": "stream",
     "text": [
      "Training:  36%|█████████████████████████████████████                                                                 | 3817/10500 [00:11<00:20, 327.25it/s, epoch=18, loss=[0.6336234098389033, 0.524389287687483]]"
     ]
    },
    {
     "name": "stdout",
     "output_type": "stream",
     "text": [
      "0.008436\n"
     ]
    },
    {
     "name": "stderr",
     "output_type": "stream",
     "text": [
      "Training:  38%|██████████████████████████████████████▋                                                              | 4020/10500 [00:12<00:19, 324.09it/s, epoch=19, loss=[0.6336147223200116, 0.5229422262736731]]"
     ]
    },
    {
     "name": "stdout",
     "output_type": "stream",
     "text": [
      "0.008436\n"
     ]
    },
    {
     "name": "stderr",
     "output_type": "stream",
     "text": [
      "Training:  40%|████████████████████████████████████████▊                                                            | 4248/10500 [00:12<00:19, 317.58it/s, epoch=20, loss=[0.6328971749260315, 0.5191825966040292]]"
     ]
    },
    {
     "name": "stdout",
     "output_type": "stream",
     "text": [
      "0.008436\n"
     ]
    },
    {
     "name": "stderr",
     "output_type": "stream",
     "text": [
      "Training:  42%|██████████████████████████████████████████▊                                                          | 4449/10500 [00:13<00:18, 330.94it/s, epoch=21, loss=[0.6316259043557304, 0.5144785758994873]]"
     ]
    },
    {
     "name": "stdout",
     "output_type": "stream",
     "text": [
      "0.008436\n"
     ]
    },
    {
     "name": "stderr",
     "output_type": "stream",
     "text": [
      "Training:  44%|█████████████████████████████████████████████▎                                                        | 4660/10500 [00:14<00:16, 346.24it/s, epoch=22, loss=[0.630354405017126, 0.5102833796115148]]"
     ]
    },
    {
     "name": "stdout",
     "output_type": "stream",
     "text": [
      "0.008436\n"
     ]
    },
    {
     "name": "stderr",
     "output_type": "stream",
     "text": [
      "Training:  46%|███████████████████████████████████████████████▎                                                      | 4869/10500 [00:14<00:16, 341.94it/s, epoch=23, loss=[0.6307248796735494, 0.510083432424636]]"
     ]
    },
    {
     "name": "stdout",
     "output_type": "stream",
     "text": [
      "0.008436\n"
     ]
    },
    {
     "name": "stderr",
     "output_type": "stream",
     "text": [
      "Training:  48%|█████████████████████████████████████████████████▎                                                    | 5079/10500 [00:15<00:16, 329.12it/s, epoch=24, loss=[0.6299566019149054, 0.508198423896517]]"
     ]
    },
    {
     "name": "stdout",
     "output_type": "stream",
     "text": [
      "0.008436\n"
     ]
    },
    {
     "name": "stderr",
     "output_type": "stream",
     "text": [
      "Training:  50%|██████████████████████████████████████████████████▊                                                  | 5284/10500 [00:15<00:15, 329.96it/s, epoch=25, loss=[0.6292391226405187, 0.5052881663753872]]"
     ]
    },
    {
     "name": "stdout",
     "output_type": "stream",
     "text": [
      "0.008436\n"
     ]
    },
    {
     "name": "stderr",
     "output_type": "stream",
     "text": [
      "Training:  52%|████████████████████████████████████████████████████▊                                                | 5493/10500 [00:16<00:14, 339.38it/s, epoch=26, loss=[0.6293282474790298, 0.5040996866566795]]"
     ]
    },
    {
     "name": "stdout",
     "output_type": "stream",
     "text": [
      "0.008436\n"
     ]
    },
    {
     "name": "stderr",
     "output_type": "stream",
     "text": [
      "Training:  55%|███████████████████████████████████████████████████████▏                                             | 5732/10500 [00:17<00:14, 326.12it/s, epoch=27, loss=[0.6288569126810345, 0.5022227846440817]]"
     ]
    },
    {
     "name": "stdout",
     "output_type": "stream",
     "text": [
      "0.008436\n"
     ]
    },
    {
     "name": "stderr",
     "output_type": "stream",
     "text": [
      "Training:  56%|████████████████████████████████████████████████████████▍                                           | 5927/10500 [00:17<00:14, 311.52it/s, epoch=28, loss=[0.6272898878370012, 0.49899265737760623]]"
     ]
    },
    {
     "name": "stdout",
     "output_type": "stream",
     "text": [
      "0.008436\n"
     ]
    },
    {
     "name": "stderr",
     "output_type": "stream",
     "text": [
      "Training:  58%|██████████████████████████████████████████████████████████▉                                          | 6128/10500 [00:18<00:13, 334.43it/s, epoch=29, loss=[0.6271994885944184, 0.4978829466161275]]"
     ]
    },
    {
     "name": "stdout",
     "output_type": "stream",
     "text": [
      "0.008436\n"
     ]
    },
    {
     "name": "stderr",
     "output_type": "stream",
     "text": [
      "Training:  60%|█████████████████████████████████████████████████████████████▌                                        | 6335/10500 [00:19<00:12, 343.03it/s, epoch=30, loss=[0.626945416132609, 0.4972182813144864]]"
     ]
    },
    {
     "name": "stdout",
     "output_type": "stream",
     "text": [
      "0.008436\n"
     ]
    },
    {
     "name": "stderr",
     "output_type": "stream",
     "text": [
      "Training:  62%|██████████████████████████████████████████████████████████████▎                                     | 6545/10500 [00:19<00:11, 342.43it/s, epoch=31, loss=[0.6271437514395941, 0.49652689212844503]]"
     ]
    },
    {
     "name": "stdout",
     "output_type": "stream",
     "text": [
      "0.008436\n"
     ]
    },
    {
     "name": "stderr",
     "output_type": "stream",
     "text": [
      "Training:  64%|████████████████████████████████████████████████████████████████▉                                    | 6754/10500 [00:20<00:11, 323.84it/s, epoch=32, loss=[0.6267958215304782, 0.4945526753153121]]"
     ]
    },
    {
     "name": "stdout",
     "output_type": "stream",
     "text": [
      "0.008436\n"
     ]
    },
    {
     "name": "stderr",
     "output_type": "stream",
     "text": [
      "Training:  67%|███████████████████████████████████████████████████████████████████▏                                 | 6989/10500 [00:21<00:10, 331.69it/s, epoch=33, loss=[0.6278648910068333, 0.4976656470979963]]"
     ]
    },
    {
     "name": "stdout",
     "output_type": "stream",
     "text": [
      "0.008436\n"
     ]
    },
    {
     "name": "stderr",
     "output_type": "stream",
     "text": [
      "Training:  69%|████████████████████████████████████████████████████████████████████▌                               | 7201/10500 [00:21<00:09, 343.43it/s, epoch=34, loss=[0.6264314668519155, 0.49276850791204546]]"
     ]
    },
    {
     "name": "stdout",
     "output_type": "stream",
     "text": [
      "0.008436\n"
     ]
    },
    {
     "name": "stderr",
     "output_type": "stream",
     "text": [
      "Training:  71%|██████████████████████████████████████████████████████████████████████▌                             | 7413/10500 [00:22<00:08, 343.26it/s, epoch=35, loss=[0.6256378207887919, 0.48975795961561674]]"
     ]
    },
    {
     "name": "stdout",
     "output_type": "stream",
     "text": [
      "0.008436\n"
     ]
    },
    {
     "name": "stderr",
     "output_type": "stream",
     "text": [
      "Training:  73%|██████████████████████████████████████████████████████████████████████████                            | 7620/10500 [00:23<00:08, 337.92it/s, epoch=36, loss=[0.6250239321163722, 0.489014233010156]]"
     ]
    },
    {
     "name": "stdout",
     "output_type": "stream",
     "text": [
      "0.008436\n"
     ]
    },
    {
     "name": "stderr",
     "output_type": "stream",
     "text": [
      "Training:  75%|██████████████████████████████████████████████████████████████████████████▌                         | 7830/10500 [00:23<00:07, 338.40it/s, epoch=37, loss=[0.6246965164229982, 0.48783223941212606]]"
     ]
    },
    {
     "name": "stdout",
     "output_type": "stream",
     "text": [
      "0.008436\n"
     ]
    },
    {
     "name": "stderr",
     "output_type": "stream",
     "text": [
      "Training:  77%|████████████████████████████████████████████████████████████████████████████▌                       | 8036/10500 [00:24<00:07, 335.97it/s, epoch=38, loss=[0.6249230328060333, 0.48793929162479577]]"
     ]
    },
    {
     "name": "stdout",
     "output_type": "stream",
     "text": [
      "0.008436\n"
     ]
    },
    {
     "name": "stderr",
     "output_type": "stream",
     "text": [
      "Training:  78%|███████████████████████████████████████████████████████████████████████████████▎                     | 8241/10500 [00:24<00:06, 336.14it/s, epoch=39, loss=[0.6237113543919155, 0.4834780545461744]]"
     ]
    },
    {
     "name": "stdout",
     "output_type": "stream",
     "text": [
      "0.008436\n"
     ]
    },
    {
     "name": "stderr",
     "output_type": "stream",
     "text": [
      "Training:  80%|██████████████████████████████████████████████████████████████████████████████████                    | 8446/10500 [00:25<00:06, 329.65it/s, epoch=40, loss=[0.622989661352975, 0.4820597009999413]]"
     ]
    },
    {
     "name": "stdout",
     "output_type": "stream",
     "text": [
      "0.008436\n"
     ]
    },
    {
     "name": "stderr",
     "output_type": "stream",
     "text": [
      "Training:  82%|██████████████████████████████████████████████████████████████████████████████████▍                 | 8653/10500 [00:26<00:05, 334.14it/s, epoch=41, loss=[0.6228648815836222, 0.48037272606577197]]"
     ]
    },
    {
     "name": "stdout",
     "output_type": "stream",
     "text": [
      "0.008436\n"
     ]
    },
    {
     "name": "stderr",
     "output_type": "stream",
     "text": [
      "Training:  84%|████████████████████████████████████████████████████████████████████████████████████▎               | 8859/10500 [00:26<00:04, 337.75it/s, epoch=42, loss=[0.6228554719970336, 0.48076631256512226]]"
     ]
    },
    {
     "name": "stdout",
     "output_type": "stream",
     "text": [
      "0.008436\n"
     ]
    },
    {
     "name": "stderr",
     "output_type": "stream",
     "text": [
      "Training:  86%|██████████████████████████████████████████████████████████████████████████████████████▎             | 9068/10500 [00:27<00:04, 338.02it/s, epoch=43, loss=[0.6222159561656775, 0.47951119031224915]]"
     ]
    },
    {
     "name": "stdout",
     "output_type": "stream",
     "text": [
      "0.008436\n"
     ]
    },
    {
     "name": "stderr",
     "output_type": "stream",
     "text": [
      "Training:  88%|█████████████████████████████████████████████████████████████████████████████████████████▏           | 9274/10500 [00:27<00:03, 332.97it/s, epoch=44, loss=[0.6225869297981264, 0.4802542811348325]]"
     ]
    },
    {
     "name": "stdout",
     "output_type": "stream",
     "text": [
      "0.008436\n"
     ]
    },
    {
     "name": "stderr",
     "output_type": "stream",
     "text": [
      "Training:  91%|████████████████████████████████████████████████████████████████████████████████████████████▍         | 9516/10500 [00:28<00:02, 336.62it/s, epoch=45, loss=[0.62266575665701, 0.47957378455570776]]"
     ]
    },
    {
     "name": "stdout",
     "output_type": "stream",
     "text": [
      "0.008436\n"
     ]
    },
    {
     "name": "stderr",
     "output_type": "stream",
     "text": [
      "Training:  93%|██████████████████████████████████████████████████████████████████████████████████████████████▍       | 9723/10500 [00:29<00:02, 341.13it/s, epoch=46, loss=[0.621993502548763, 0.4774618026756105]]"
     ]
    },
    {
     "name": "stdout",
     "output_type": "stream",
     "text": [
      "0.008436\n"
     ]
    },
    {
     "name": "stderr",
     "output_type": "stream",
     "text": [
      "Training:  95%|███████████████████████████████████████████████████████████████████████████████████████████████▍     | 9928/10500 [00:29<00:01, 330.58it/s, epoch=47, loss=[0.6208965437752856, 0.4744898026897794]]"
     ]
    },
    {
     "name": "stdout",
     "output_type": "stream",
     "text": [
      "0.008436\n"
     ]
    },
    {
     "name": "stderr",
     "output_type": "stream",
     "text": [
      "Training:  96%|████████████████████████████████████████████████████████████████████████████████████████████████▍   | 10132/10500 [00:30<00:01, 335.20it/s, epoch=48, loss=[0.6205843715440663, 0.4734991513547442]]"
     ]
    },
    {
     "name": "stdout",
     "output_type": "stream",
     "text": [
      "0.008436\n"
     ]
    },
    {
     "name": "stderr",
     "output_type": "stream",
     "text": [
      "Training:  98%|█████████████████████████████████████████████████████████████████████████████████████████████████▍ | 10335/10500 [00:31<00:00, 328.94it/s, epoch=49, loss=[0.6199755345072065, 0.47177832978112366]]"
     ]
    },
    {
     "name": "stdout",
     "output_type": "stream",
     "text": [
      "0.008436\n"
     ]
    },
    {
     "name": "stderr",
     "output_type": "stream",
     "text": [
      "Training: 100%|███████████████████████████████████████████████████████████████████████████████████████████████████| 10500/10500 [00:31<00:00, 331.99it/s, epoch=50, loss=[0.6191381800742376, 0.46910616641952885]]\n"
     ]
    },
    {
     "name": "stdout",
     "output_type": "stream",
     "text": [
      "0.008436\n",
      "Training Accuracy: 96.03960396039604%\n",
      "Testing Accuracy: 25.044991001799637%\n",
      "Top 5 Training Accuracy: 99.81998199819982%\n",
      "Top 5 Testing Accuracy: 48.620275944811034%\n",
      "Test to train ratio:  0.6\n",
      "Train Loader: 84\n",
      "Test Loader: 126\n",
      "Network Size: 2048\n",
      "Initialization 1 / 2\n",
      "Complete\n",
      "\n",
      "Initialization 2 / 2\n",
      "Complete\n",
      "\n"
     ]
    },
    {
     "name": "stderr",
     "output_type": "stream",
     "text": [
      "Training:   2%|██                                                                                                      | 168/8400 [00:00<00:09, 849.08it/s, epoch=1, loss=[0.6902454552196324, 0.6937659404107505]]"
     ]
    },
    {
     "name": "stdout",
     "output_type": "stream",
     "text": [
      "0.005114\n"
     ]
    },
    {
     "name": "stderr",
     "output_type": "stream",
     "text": [
      "Training:   4%|████▏                                                                                                   | 336/8400 [00:00<00:09, 865.95it/s, epoch=2, loss=[0.6688756162212011, 0.6809606282483962]]"
     ]
    },
    {
     "name": "stdout",
     "output_type": "stream",
     "text": [
      "0.005114\n"
     ]
    },
    {
     "name": "stderr",
     "output_type": "stream",
     "text": [
      "Training:   6%|██████▏                                                                                                 | 504/8400 [00:00<00:09, 865.67it/s, epoch=3, loss=[0.6575512360958826, 0.6529465395779839]]"
     ]
    },
    {
     "name": "stdout",
     "output_type": "stream",
     "text": [
      "0.005114\n"
     ]
    },
    {
     "name": "stderr",
     "output_type": "stream",
     "text": [
      "Training:   8%|████████▎                                                                                               | 672/8400 [00:00<00:08, 867.65it/s, epoch=4, loss=[0.6521316092638741, 0.6323542914220266]]"
     ]
    },
    {
     "name": "stdout",
     "output_type": "stream",
     "text": [
      "0.005114\n"
     ]
    },
    {
     "name": "stderr",
     "output_type": "stream",
     "text": [
      "Training:  10%|██████████▌                                                                                              | 840/8400 [00:00<00:08, 866.12it/s, epoch=5, loss=[0.648327976465225, 0.6168586760759354]]"
     ]
    },
    {
     "name": "stdout",
     "output_type": "stream",
     "text": [
      "0.005114\n"
     ]
    },
    {
     "name": "stderr",
     "output_type": "stream",
     "text": [
      "Training:  12%|████████████▍                                                                                           | 1008/8400 [00:01<00:08, 866.42it/s, epoch=6, loss=[0.6443997209980376, 0.602489241531917]]"
     ]
    },
    {
     "name": "stdout",
     "output_type": "stream",
     "text": [
      "0.005114\n"
     ]
    },
    {
     "name": "stderr",
     "output_type": "stream",
     "text": [
      "Training:  14%|██████████████▍                                                                                        | 1176/8400 [00:01<00:08, 867.54it/s, epoch=7, loss=[0.6421960776760464, 0.5902088731527328]]"
     ]
    },
    {
     "name": "stdout",
     "output_type": "stream",
     "text": [
      "0.007993\n"
     ]
    },
    {
     "name": "stderr",
     "output_type": "stream",
     "text": [
      "Training:  16%|████████████████▋                                                                                       | 1344/8400 [00:01<00:08, 865.84it/s, epoch=8, loss=[0.639670247123355, 0.5783940383366177]]"
     ]
    },
    {
     "name": "stdout",
     "output_type": "stream",
     "text": [
      "0.007993\n"
     ]
    },
    {
     "name": "stderr",
     "output_type": "stream",
     "text": [
      "Training:  18%|██████████████████▌                                                                                    | 1512/8400 [00:01<00:07, 867.74it/s, epoch=9, loss=[0.6382442492814293, 0.5694008072217304]]"
     ]
    },
    {
     "name": "stdout",
     "output_type": "stream",
     "text": [
      "0.007993\n"
     ]
    },
    {
     "name": "stderr",
     "output_type": "stream",
     "text": [
      "Training:  20%|████████████████████▍                                                                                 | 1680/8400 [00:01<00:07, 863.64it/s, epoch=10, loss=[0.6370185805218559, 0.5609161924748194]]"
     ]
    },
    {
     "name": "stdout",
     "output_type": "stream",
     "text": [
      "0.007993\n"
     ]
    },
    {
     "name": "stderr",
     "output_type": "stream",
     "text": [
      "Training:  22%|██████████████████████▍                                                                               | 1848/8400 [00:02<00:07, 865.09it/s, epoch=11, loss=[0.6361806534585499, 0.5536603338661646]]"
     ]
    },
    {
     "name": "stdout",
     "output_type": "stream",
     "text": [
      "0.007993\n"
     ]
    },
    {
     "name": "stderr",
     "output_type": "stream",
     "text": [
      "Training:  24%|████████████████████████▋                                                                              | 2016/8400 [00:02<00:07, 866.76it/s, epoch=12, loss=[0.634859200744402, 0.5467556565999985]]"
     ]
    },
    {
     "name": "stdout",
     "output_type": "stream",
     "text": [
      "0.007993\n"
     ]
    },
    {
     "name": "stderr",
     "output_type": "stream",
     "text": [
      "Training:  26%|██████████████████████████▌                                                                           | 2184/8400 [00:02<00:07, 868.89it/s, epoch=13, loss=[0.6334875254403977, 0.5399501628818967]]"
     ]
    },
    {
     "name": "stdout",
     "output_type": "stream",
     "text": [
      "0.007993\n"
     ]
    },
    {
     "name": "stderr",
     "output_type": "stream",
     "text": [
      "Training:  28%|████████████████████████████▌                                                                         | 2355/8400 [00:02<00:06, 869.10it/s, epoch=14, loss=[0.6317695485694068, 0.5331099317187357]]"
     ]
    },
    {
     "name": "stdout",
     "output_type": "stream",
     "text": [
      "0.007993\n"
     ]
    },
    {
     "name": "stderr",
     "output_type": "stream",
     "text": [
      "Training:  30%|██████████████████████████████▌                                                                       | 2520/8400 [00:02<00:06, 868.65it/s, epoch=15, loss=[0.6298474712031228, 0.5266459868067788]]"
     ]
    },
    {
     "name": "stdout",
     "output_type": "stream",
     "text": [
      "0.007993\n"
     ]
    },
    {
     "name": "stderr",
     "output_type": "stream",
     "text": [
      "Training:  32%|████████████████████████████████▋                                                                     | 2688/8400 [00:03<00:06, 866.48it/s, epoch=16, loss=[0.6286878309079578, 0.5201729915681339]]"
     ]
    },
    {
     "name": "stdout",
     "output_type": "stream",
     "text": [
      "0.007993\n"
     ]
    },
    {
     "name": "stderr",
     "output_type": "stream",
     "text": [
      "Training:  34%|██████████████████████████████████▋                                                                   | 2856/8400 [00:03<00:06, 867.88it/s, epoch=17, loss=[0.6277573683432168, 0.5158722514197942]]"
     ]
    },
    {
     "name": "stdout",
     "output_type": "stream",
     "text": [
      "0.007993\n"
     ]
    },
    {
     "name": "stderr",
     "output_type": "stream",
     "text": [
      "Training:  36%|████████████████████████████████████▋                                                                 | 3024/8400 [00:03<00:06, 867.65it/s, epoch=18, loss=[0.6266336852595917, 0.5105763006777988]]"
     ]
    },
    {
     "name": "stdout",
     "output_type": "stream",
     "text": [
      "0.007993\n"
     ]
    },
    {
     "name": "stderr",
     "output_type": "stream",
     "text": [
      "Training:  38%|██████████████████████████████████████▊                                                               | 3192/8400 [00:03<00:05, 868.63it/s, epoch=19, loss=[0.6268541195562904, 0.5101282898159254]]"
     ]
    },
    {
     "name": "stdout",
     "output_type": "stream",
     "text": [
      "0.007993\n"
     ]
    },
    {
     "name": "stderr",
     "output_type": "stream",
     "text": [
      "Training:  40%|████████████████████████████████████████▊                                                             | 3360/8400 [00:03<00:05, 868.71it/s, epoch=20, loss=[0.6255369193497157, 0.5047883213985536]]"
     ]
    },
    {
     "name": "stdout",
     "output_type": "stream",
     "text": [
      "0.007993\n"
     ]
    },
    {
     "name": "stderr",
     "output_type": "stream",
     "text": [
      "Training:  42%|███████████████████████████████████████████▎                                                           | 3528/8400 [00:04<00:05, 867.52it/s, epoch=21, loss=[0.6244149349984672, 0.500429803771632]]"
     ]
    },
    {
     "name": "stdout",
     "output_type": "stream",
     "text": [
      "0.007993\n"
     ]
    },
    {
     "name": "stderr",
     "output_type": "stream",
     "text": [
      "Training:  44%|████████████████████████████████████████████▉                                                         | 3696/8400 [00:04<00:05, 878.60it/s, epoch=22, loss=[0.6239091732672284, 0.4975398665382748]]"
     ]
    },
    {
     "name": "stdout",
     "output_type": "stream",
     "text": [
      "0.00802\n"
     ]
    },
    {
     "name": "stderr",
     "output_type": "stream",
     "text": [
      "Training:  46%|██████████████████████████████████████████████▍                                                      | 3864/8400 [00:04<00:05, 875.94it/s, epoch=23, loss=[0.6233381550936475, 0.49464719387747014]]"
     ]
    },
    {
     "name": "stdout",
     "output_type": "stream",
     "text": [
      "0.00802\n"
     ]
    },
    {
     "name": "stderr",
     "output_type": "stream",
     "text": [
      "Training:  48%|█████████████████████████████████████████████████▍                                                     | 4032/8400 [00:04<00:04, 880.13it/s, epoch=24, loss=[0.622811787894794, 0.4931011487330709]]"
     ]
    },
    {
     "name": "stdout",
     "output_type": "stream",
     "text": [
      "0.00802\n"
     ]
    },
    {
     "name": "stderr",
     "output_type": "stream",
     "text": [
      "Training:  50%|███████████████████████████████████████████████████                                                   | 4200/8400 [00:04<00:04, 874.83it/s, epoch=25, loss=[0.6218344810463132, 0.4893935361788387]]"
     ]
    },
    {
     "name": "stdout",
     "output_type": "stream",
     "text": [
      "0.00802\n"
     ]
    },
    {
     "name": "stderr",
     "output_type": "stream",
     "text": [
      "Training:  52%|████████████████████████████████████████████████████▌                                                | 4368/8400 [00:05<00:04, 870.03it/s, epoch=26, loss=[0.6210415001426424, 0.48618234126340776]]"
     ]
    },
    {
     "name": "stdout",
     "output_type": "stream",
     "text": [
      "0.00802\n"
     ]
    },
    {
     "name": "stderr",
     "output_type": "stream",
     "text": [
      "Training:  54%|██████████████████████████████████████████████████████▌                                              | 4536/8400 [00:05<00:04, 868.81it/s, epoch=27, loss=[0.6203034555628185, 0.48410470287005114]]"
     ]
    },
    {
     "name": "stdout",
     "output_type": "stream",
     "text": [
      "0.00802\n"
     ]
    },
    {
     "name": "stderr",
     "output_type": "stream",
     "text": [
      "Training:  56%|████████████████████████████████████████████████████████▌                                            | 4704/8400 [00:05<00:04, 868.31it/s, epoch=28, loss=[0.6191455728950956, 0.48039401748350685]]"
     ]
    },
    {
     "name": "stdout",
     "output_type": "stream",
     "text": [
      "0.00802\n"
     ]
    },
    {
     "name": "stderr",
     "output_type": "stream",
     "text": [
      "Training:  58%|██████████████████████████████████████████████████████████▌                                          | 4872/8400 [00:05<00:04, 869.14it/s, epoch=29, loss=[0.6192336359194346, 0.47976349365143545]]"
     ]
    },
    {
     "name": "stdout",
     "output_type": "stream",
     "text": [
      "0.008218\n"
     ]
    },
    {
     "name": "stderr",
     "output_type": "stream",
     "text": [
      "Training:  60%|████████████████████████████████████████████████████████████▌                                        | 5040/8400 [00:05<00:03, 868.24it/s, epoch=30, loss=[0.6188932451463879, 0.47774681590852286]]"
     ]
    },
    {
     "name": "stdout",
     "output_type": "stream",
     "text": [
      "0.008218\n"
     ]
    },
    {
     "name": "stderr",
     "output_type": "stream",
     "text": [
      "Training:  62%|█████████████████████████████████████████████████████████████████                                        | 5208/8400 [00:06<00:03, 864.55it/s, epoch=31, loss=[0.617372854834511, 0.47308611869812]]"
     ]
    },
    {
     "name": "stdout",
     "output_type": "stream",
     "text": [
      "0.008218\n"
     ]
    },
    {
     "name": "stderr",
     "output_type": "stream",
     "text": [
      "Training:  64%|█████████████████████████████████████████████████████████████████▉                                     | 5376/8400 [00:06<00:03, 866.13it/s, epoch=32, loss=[0.617206598321597, 0.4725215885610807]]"
     ]
    },
    {
     "name": "stdout",
     "output_type": "stream",
     "text": [
      "0.008218\n"
     ]
    },
    {
     "name": "stderr",
     "output_type": "stream",
     "text": [
      "Training:  66%|███████████████████████████████████████████████████████████████████▎                                  | 5544/8400 [00:06<00:03, 865.91it/s, epoch=33, loss=[0.6168871614195051, 0.4716291310531751]]"
     ]
    },
    {
     "name": "stdout",
     "output_type": "stream",
     "text": [
      "0.008218\n"
     ]
    },
    {
     "name": "stderr",
     "output_type": "stream",
     "text": [
      "Training:  68%|█████████████████████████████████████████████████████████████████████▎                                | 5712/8400 [00:06<00:03, 866.65it/s, epoch=34, loss=[0.6165408484992525, 0.4698201786904109]]"
     ]
    },
    {
     "name": "stdout",
     "output_type": "stream",
     "text": [
      "0.008218\n"
     ]
    },
    {
     "name": "stderr",
     "output_type": "stream",
     "text": [
      "Training:  70%|██████████████████████████████████████████████████████████████████████▋                              | 5880/8400 [00:06<00:02, 866.13it/s, epoch=35, loss=[0.6161664695966813, 0.46908202909287966]]"
     ]
    },
    {
     "name": "stdout",
     "output_type": "stream",
     "text": [
      "0.008218\n"
     ]
    },
    {
     "name": "stderr",
     "output_type": "stream",
     "text": [
      "Training:  72%|████████████████████████████████████████████████████████████████████████▋                            | 6048/8400 [00:06<00:02, 862.39it/s, epoch=36, loss=[0.6157262580735343, 0.46747631082932156]]"
     ]
    },
    {
     "name": "stdout",
     "output_type": "stream",
     "text": [
      "0.008218\n"
     ]
    },
    {
     "name": "stderr",
     "output_type": "stream",
     "text": [
      "Training:  74%|██████████████████████████████████████████████████████████████████████████▋                          | 6216/8400 [00:07<00:02, 864.00it/s, epoch=37, loss=[0.6145421188502087, 0.46319329880532756]]"
     ]
    },
    {
     "name": "stdout",
     "output_type": "stream",
     "text": [
      "0.008218\n"
     ]
    },
    {
     "name": "stderr",
     "output_type": "stream",
     "text": [
      "Training:  76%|████████████████████████████████████████████████████████████████████████████▊                        | 6384/8400 [00:07<00:02, 865.27it/s, epoch=38, loss=[0.6145477890968323, 0.46276547121150147]]"
     ]
    },
    {
     "name": "stdout",
     "output_type": "stream",
     "text": [
      "0.008218\n"
     ]
    },
    {
     "name": "stderr",
     "output_type": "stream",
     "text": [
      "Training:  78%|███████████████████████████████████████████████████████████████████████████████▌                      | 6553/8400 [00:07<00:02, 865.61it/s, epoch=39, loss=[0.6145974106731867, 0.4620687166849773]]"
     ]
    },
    {
     "name": "stdout",
     "output_type": "stream",
     "text": [
      "0.008218\n"
     ]
    },
    {
     "name": "stderr",
     "output_type": "stream",
     "text": [
      "Training:  80%|████████████████████████████████████████████████████████████████████████████████▊                    | 6720/8400 [00:07<00:01, 867.04it/s, epoch=40, loss=[0.6139940491744451, 0.46048460226683396]]"
     ]
    },
    {
     "name": "stdout",
     "output_type": "stream",
     "text": [
      "0.008218\n"
     ]
    },
    {
     "name": "stderr",
     "output_type": "stream",
     "text": [
      "Training:  82%|███████████████████████████████████████████████████████████████████████████████████▋                  | 6888/8400 [00:07<00:01, 867.36it/s, epoch=41, loss=[0.6133889648176377, 0.4593511071233523]]"
     ]
    },
    {
     "name": "stdout",
     "output_type": "stream",
     "text": [
      "0.008218\n"
     ]
    },
    {
     "name": "stderr",
     "output_type": "stream",
     "text": [
      "Training:  84%|█████████████████████████████████████████████████████████████████████████████████████▋                | 7056/8400 [00:08<00:01, 863.35it/s, epoch=42, loss=[0.613582342863083, 0.45923281780311026]]"
     ]
    },
    {
     "name": "stdout",
     "output_type": "stream",
     "text": [
      "0.008218\n"
     ]
    },
    {
     "name": "stderr",
     "output_type": "stream",
     "text": [
      "Training:  86%|██████████████████████████████████████████████████████████████████████████████████████▊              | 7224/8400 [00:08<00:01, 866.61it/s, epoch=43, loss=[0.6134954882519587, 0.45913279269422813]]"
     ]
    },
    {
     "name": "stdout",
     "output_type": "stream",
     "text": [
      "0.008218\n"
     ]
    },
    {
     "name": "stderr",
     "output_type": "stream",
     "text": [
      "Training:  88%|█████████████████████████████████████████████████████████████████████████████████████████▊            | 7392/8400 [00:08<00:01, 865.95it/s, epoch=44, loss=[0.6130826615151903, 0.4580139351033027]]"
     ]
    },
    {
     "name": "stdout",
     "output_type": "stream",
     "text": [
      "0.008218\n"
     ]
    },
    {
     "name": "stderr",
     "output_type": "stream",
     "text": [
      "Training:  90%|███████████████████████████████████████████████████████████████████████████████████████████▊          | 7560/8400 [00:08<00:00, 866.19it/s, epoch=45, loss=[0.613613144982429, 0.45820647832893185]]"
     ]
    },
    {
     "name": "stdout",
     "output_type": "stream",
     "text": [
      "0.008218\n"
     ]
    },
    {
     "name": "stderr",
     "output_type": "stream",
     "text": [
      "Training:  92%|██████████████████████████████████████████████████████████████████████████████████████████████▊        | 7728/8400 [00:08<00:00, 864.22it/s, epoch=46, loss=[0.613326452317692, 0.4569312756260235]]"
     ]
    },
    {
     "name": "stdout",
     "output_type": "stream",
     "text": [
      "0.008218\n"
     ]
    },
    {
     "name": "stderr",
     "output_type": "stream",
     "text": [
      "Training:  94%|████████████████████████████████████████████████████████████████████████████████████████████████▊      | 7896/8400 [00:09<00:00, 859.92it/s, epoch=47, loss=[0.612334092458089, 0.4542045380387987]]"
     ]
    },
    {
     "name": "stdout",
     "output_type": "stream",
     "text": [
      "0.008218\n"
     ]
    },
    {
     "name": "stderr",
     "output_type": "stream",
     "text": [
      "Training:  96%|█████████████████████████████████████████████████████████████████████████████████████████████████▉    | 8064/8400 [00:09<00:00, 865.96it/s, epoch=48, loss=[0.6116397111188799, 0.4515056315632094]]"
     ]
    },
    {
     "name": "stdout",
     "output_type": "stream",
     "text": [
      "0.008218\n"
     ]
    },
    {
     "name": "stderr",
     "output_type": "stream",
     "text": [
      "Training:  98%|██████████████████████████████████████████████████████████████████████████████████████████████████▉  | 8232/8400 [00:09<00:00, 867.28it/s, epoch=49, loss=[0.6112842566910243, 0.45030044196617025]]"
     ]
    },
    {
     "name": "stdout",
     "output_type": "stream",
     "text": [
      "0.008218\n"
     ]
    },
    {
     "name": "stderr",
     "output_type": "stream",
     "text": [
      "Training: 100%|█████████████████████████████████████████████████████████████████████████████████████████████████████| 8400/8400 [00:09<00:00, 866.86it/s, epoch=50, loss=[0.6109443512700856, 0.44954147651081977]]\n"
     ]
    },
    {
     "name": "stdout",
     "output_type": "stream",
     "text": [
      "0.008218\n",
      "Training Accuracy: 99.02475618904725%\n",
      "Testing Accuracy: 24.418895276180955%\n",
      "Top 5 Training Accuracy: 99.96249062265566%\n",
      "Top 5 Testing Accuracy: 46.73831542114472%\n",
      "Test to train ratio:  0.7\n",
      "Train Loader: 63\n",
      "Test Loader: 146\n",
      "Network Size: 2048\n",
      "Initialization 1 / 2\n",
      "Complete\n",
      "\n",
      "Initialization 2 / 2\n",
      "Complete\n",
      "\n"
     ]
    },
    {
     "name": "stderr",
     "output_type": "stream",
     "text": [
      "Training:   2%|██                                                                                                      | 126/6300 [00:00<00:07, 876.20it/s, epoch=1, loss=[0.6909314545374066, 0.6937632693184744]]"
     ]
    },
    {
     "name": "stdout",
     "output_type": "stream",
     "text": [
      "0.005409\n"
     ]
    },
    {
     "name": "stderr",
     "output_type": "stream",
     "text": [
      "Training:   4%|████▎                                                                                                   | 264/6300 [00:00<00:06, 863.85it/s, epoch=2, loss=[0.6747067097633603, 0.6871670787296599]]"
     ]
    },
    {
     "name": "stdout",
     "output_type": "stream",
     "text": [
      "0.005409\n"
     ]
    },
    {
     "name": "stderr",
     "output_type": "stream",
     "text": [
      "Training:   8%|████████▍                                                                                               | 514/6300 [00:00<00:07, 744.06it/s, epoch=4, loss=[0.6488222867723494, 0.6416060073035104]]"
     ]
    },
    {
     "name": "stdout",
     "output_type": "stream",
     "text": [
      "0.005409\n",
      "0.005409\n"
     ]
    },
    {
     "name": "stderr",
     "output_type": "stream",
     "text": [
      "Training:  12%|████████████▊                                                                                           | 777/6300 [00:00<00:06, 827.50it/s, epoch=6, loss=[0.6434010153725034, 0.6076339511644272]]"
     ]
    },
    {
     "name": "stdout",
     "output_type": "stream",
     "text": [
      "0.005409\n",
      "0.005409\n"
     ]
    },
    {
     "name": "stderr",
     "output_type": "stream",
     "text": [
      "Training:  17%|█████████████████                                                                                      | 1040/6300 [00:01<00:06, 859.59it/s, epoch=8, loss=[0.6391062168847945, 0.5826896107386029]]"
     ]
    },
    {
     "name": "stdout",
     "output_type": "stream",
     "text": [
      "0.007932\n",
      "0.007932\n"
     ]
    },
    {
     "name": "stderr",
     "output_type": "stream",
     "text": [
      "Training:  21%|█████████████████████▏                                                                                | 1308/6300 [00:01<00:05, 881.85it/s, epoch=10, loss=[0.6344158375073992, 0.5605135030216644]]"
     ]
    },
    {
     "name": "stdout",
     "output_type": "stream",
     "text": [
      "0.007932\n",
      "0.007932\n"
     ]
    },
    {
     "name": "stderr",
     "output_type": "stream",
     "text": [
      "Training:  24%|████████████████████████▍                                                                             | 1512/6300 [00:01<00:05, 893.46it/s, epoch=12, loss=[0.6303667605869352, 0.5405086004544817]]"
     ]
    },
    {
     "name": "stdout",
     "output_type": "stream",
     "text": [
      "0.007932\n",
      "0.007932\n"
     ]
    },
    {
     "name": "stderr",
     "output_type": "stream",
     "text": [
      "Training:  28%|████████████████████████████▌                                                                         | 1764/6300 [00:02<00:05, 888.69it/s, epoch=14, loss=[0.6259685716931783, 0.5233820000338174]]"
     ]
    },
    {
     "name": "stdout",
     "output_type": "stream",
     "text": [
      "0.007932\n",
      "0.007932\n"
     ]
    },
    {
     "name": "stderr",
     "output_type": "stream",
     "text": [
      "Training:  32%|████████████████████████████████▊                                                                     | 2027/6300 [00:02<00:04, 874.65it/s, epoch=16, loss=[0.6236405817289203, 0.5108709411015585]]"
     ]
    },
    {
     "name": "stdout",
     "output_type": "stream",
     "text": [
      "0.007932\n",
      "0.007932\n"
     ]
    },
    {
     "name": "stderr",
     "output_type": "stream",
     "text": [
      "Training:  36%|█████████████████████████████████████                                                                 | 2293/6300 [00:02<00:04, 876.22it/s, epoch=18, loss=[0.6225625522552974, 0.5035359154617975]]"
     ]
    },
    {
     "name": "stdout",
     "output_type": "stream",
     "text": [
      "0.007932\n",
      "0.007932\n"
     ]
    },
    {
     "name": "stderr",
     "output_type": "stream",
     "text": [
      "Training:  41%|█████████████████████████████████████████▍                                                            | 2559/6300 [00:03<00:04, 872.99it/s, epoch=20, loss=[0.6203656007373142, 0.4928839760167259]]"
     ]
    },
    {
     "name": "stdout",
     "output_type": "stream",
     "text": [
      "0.007932\n",
      "0.007932\n"
     ]
    },
    {
     "name": "stderr",
     "output_type": "stream",
     "text": [
      "Training:  44%|████████████████████████████████████████████▍                                                        | 2772/6300 [00:03<00:04, 873.00it/s, epoch=22, loss=[0.6183100106224181, 0.48347660709941204]]"
     ]
    },
    {
     "name": "stdout",
     "output_type": "stream",
     "text": [
      "0.007932\n",
      "0.007932\n"
     ]
    },
    {
     "name": "stderr",
     "output_type": "stream",
     "text": [
      "Training:  48%|████████████████████████████████████████████████▉                                                     | 3024/6300 [00:03<00:03, 867.81it/s, epoch=24, loss=[0.6173750975775341, 0.4782020884846883]]"
     ]
    },
    {
     "name": "stdout",
     "output_type": "stream",
     "text": [
      "0.007932\n",
      "0.007932\n"
     ]
    },
    {
     "name": "stderr",
     "output_type": "stream",
     "text": [
      "Training:  52%|████████████████████████████████████████████████████▌                                                | 3276/6300 [00:03<00:03, 891.35it/s, epoch=26, loss=[0.6153297121562655, 0.47049047171123437]]"
     ]
    },
    {
     "name": "stdout",
     "output_type": "stream",
     "text": [
      "0.007932\n",
      "0.007932\n"
     ]
    },
    {
     "name": "stderr",
     "output_type": "stream",
     "text": [
      "Training:  56%|████████████████████████████████████████████████████████▊                                            | 3543/6300 [00:04<00:03, 885.84it/s, epoch=28, loss=[0.6135539043517342, 0.46353085268111455]]"
     ]
    },
    {
     "name": "stdout",
     "output_type": "stream",
     "text": [
      "0.007932\n",
      "0.007932\n"
     ]
    },
    {
     "name": "stderr",
     "output_type": "stream",
     "text": [
      "Training:  60%|█████████████████████████████████████████████████████████████                                        | 3811/6300 [00:04<00:02, 884.01it/s, epoch=30, loss=[0.6126954243296667, 0.45952043599552583]]"
     ]
    },
    {
     "name": "stdout",
     "output_type": "stream",
     "text": [
      "0.007932\n",
      "0.007932\n"
     ]
    },
    {
     "name": "stderr",
     "output_type": "stream",
     "text": [
      "Training:  65%|█████████████████████████████████████████████████████████████████▍                                   | 4084/6300 [00:04<00:02, 892.23it/s, epoch=32, loss=[0.6111176193706572, 0.45361868776972325]]"
     ]
    },
    {
     "name": "stdout",
     "output_type": "stream",
     "text": [
      "0.007932\n",
      "0.007932\n"
     ]
    },
    {
     "name": "stderr",
     "output_type": "stream",
     "text": [
      "Training:  68%|████████████████████████████████████████████████████████████████████▋                                | 4284/6300 [00:04<00:02, 896.46it/s, epoch=34, loss=[0.6100729845819017, 0.44942852287065427]]"
     ]
    },
    {
     "name": "stdout",
     "output_type": "stream",
     "text": [
      "0.007932\n",
      "0.007932\n"
     ]
    },
    {
     "name": "stderr",
     "output_type": "stream",
     "text": [
      "Training:  72%|█████████████████████████████████████████████████████████████████████████▍                            | 4537/6300 [00:05<00:01, 890.02it/s, epoch=36, loss=[0.6091536964688979, 0.4458921376674896]]"
     ]
    },
    {
     "name": "stdout",
     "output_type": "stream",
     "text": [
      "0.007932\n",
      "0.007932\n"
     ]
    },
    {
     "name": "stderr",
     "output_type": "stream",
     "text": [
      "Training:  76%|█████████████████████████████████████████████████████████████████████████████                        | 4805/6300 [00:05<00:01, 879.27it/s, epoch=38, loss=[0.6087231049461972, 0.44409734105306947]]"
     ]
    },
    {
     "name": "stdout",
     "output_type": "stream",
     "text": [
      "0.007932\n",
      "0.007932\n"
     ]
    },
    {
     "name": "stderr",
     "output_type": "stream",
     "text": [
      "Training:  81%|█████████████████████████████████████████████████████████████████████████████████▍                   | 5076/6300 [00:05<00:01, 892.81it/s, epoch=40, loss=[0.6081465842231871, 0.44087117579248225]]"
     ]
    },
    {
     "name": "stdout",
     "output_type": "stream",
     "text": [
      "0.007932\n",
      "0.007932\n"
     ]
    },
    {
     "name": "stderr",
     "output_type": "stream",
     "text": [
      "Training:  84%|████████████████████████████████████████████████████████████████████████████████████▊                | 5292/6300 [00:06<00:01, 904.93it/s, epoch=42, loss=[0.6075445054069399, 0.43717785155962396]]"
     ]
    },
    {
     "name": "stdout",
     "output_type": "stream",
     "text": [
      "0.007932\n",
      "0.007932\n"
     ]
    },
    {
     "name": "stderr",
     "output_type": "stream",
     "text": [
      "Training:  88%|█████████████████████████████████████████████████████████████████████████████████████████▊            | 5544/6300 [00:06<00:00, 892.85it/s, epoch=44, loss=[0.6072555118136936, 0.4361956758158548]]"
     ]
    },
    {
     "name": "stdout",
     "output_type": "stream",
     "text": [
      "0.007932\n",
      "0.007932\n"
     ]
    },
    {
     "name": "stderr",
     "output_type": "stream",
     "text": [
      "Training:  92%|██████████████████████████████████████████████████████████████████████████████████████████████▊        | 5802/6300 [00:06<00:00, 883.64it/s, epoch=46, loss=[0.606720313193306, 0.4336372703786881]]"
     ]
    },
    {
     "name": "stdout",
     "output_type": "stream",
     "text": [
      "0.007932\n",
      "0.007932\n"
     ]
    },
    {
     "name": "stderr",
     "output_type": "stream",
     "text": [
      "Training:  96%|█████████████████████████████████████████████████████████████████████████████████████████████████▎   | 6071/6300 [00:06<00:00, 886.94it/s, epoch=48, loss=[0.6054583929833912, 0.42846801072832125]]"
     ]
    },
    {
     "name": "stdout",
     "output_type": "stream",
     "text": [
      "0.007932\n",
      "0.007932\n"
     ]
    },
    {
     "name": "stderr",
     "output_type": "stream",
     "text": [
      "Training: 100%|██████████████████████████████████████████████████████████████████████████████████████████████████████| 6300/6300 [00:07<00:00, 872.47it/s, epoch=50, loss=[0.6045162620998565, 0.4265552404380979]]\n"
     ]
    },
    {
     "name": "stdout",
     "output_type": "stream",
     "text": [
      "0.007932\n",
      "0.007932\n",
      "Training Accuracy: 100.0%\n",
      "Testing Accuracy: 23.076923076923077%\n",
      "Top 5 Training Accuracy: 100.0%\n",
      "Top 5 Testing Accuracy: 44.80394257553032%\n",
      "Test to train ratio:  0.8\n",
      "Train Loader: 42\n",
      "Test Loader: 167\n",
      "Network Size: 2048\n",
      "Initialization 1 / 2\n",
      "Complete\n",
      "\n",
      "Initialization 2 / 2\n",
      "Complete\n",
      "\n"
     ]
    },
    {
     "name": "stderr",
     "output_type": "stream",
     "text": [
      "Training:   2%|██                                                                                                       | 84/4200 [00:00<00:06, 684.59it/s, epoch=1, loss=[0.6923440382594155, 0.6936827571619124]]"
     ]
    },
    {
     "name": "stdout",
     "output_type": "stream",
     "text": [
      "0.005822\n"
     ]
    },
    {
     "name": "stderr",
     "output_type": "stream",
     "text": [
      "Training:   6%|██████▏                                                                                                 | 252/4200 [00:00<00:04, 847.26it/s, epoch=3, loss=[0.6596324472200302, 0.6817104333922975]]"
     ]
    },
    {
     "name": "stdout",
     "output_type": "stream",
     "text": [
      "0.0079\n",
      "0.0079\n"
     ]
    },
    {
     "name": "stderr",
     "output_type": "stream",
     "text": [
      "Training:   8%|████████▍                                                                                               | 340/4200 [00:00<00:04, 868.83it/s, epoch=4, loss=[0.6483806953543708, 0.6612039520626977]]"
     ]
    },
    {
     "name": "stdout",
     "output_type": "stream",
     "text": [
      "0.0079\n"
     ]
    },
    {
     "name": "stderr",
     "output_type": "stream",
     "text": [
      "Training:  12%|████████████▍                                                                                           | 504/4200 [00:00<00:04, 872.61it/s, epoch=6, loss=[0.6369063612960635, 0.6181403951985494]]"
     ]
    },
    {
     "name": "stdout",
     "output_type": "stream",
     "text": [
      "0.0079\n",
      "0.0079\n"
     ]
    },
    {
     "name": "stderr",
     "output_type": "stream",
     "text": [
      "Training:  14%|██████████████▌                                                                                         | 588/4200 [00:00<00:04, 882.78it/s, epoch=7, loss=[0.6321829273587181, 0.6002312245823088]]"
     ]
    },
    {
     "name": "stdout",
     "output_type": "stream",
     "text": [
      "0.007983\n"
     ]
    },
    {
     "name": "stderr",
     "output_type": "stream",
     "text": [
      "Training:  18%|██████████████████▉                                                                                      | 756/4200 [00:00<00:03, 894.80it/s, epoch=9, loss=[0.6261990751538958, 0.571010077283496]]"
     ]
    },
    {
     "name": "stdout",
     "output_type": "stream",
     "text": [
      "0.007983\n",
      "0.007983\n"
     ]
    },
    {
     "name": "stderr",
     "output_type": "stream",
     "text": [
      "Training:  20%|████████████████████▌                                                                                  | 840/4200 [00:00<00:03, 898.59it/s, epoch=10, loss=[0.6244731133892423, 0.5592064374969119]]"
     ]
    },
    {
     "name": "stdout",
     "output_type": "stream",
     "text": [
      "0.007983\n"
     ]
    },
    {
     "name": "stderr",
     "output_type": "stream",
     "text": [
      "Training:  24%|████████████████████████▍                                                                             | 1008/4200 [00:01<00:03, 904.94it/s, epoch=12, loss=[0.6197567312490372, 0.5381709933280944]]"
     ]
    },
    {
     "name": "stdout",
     "output_type": "stream",
     "text": [
      "0.007983\n",
      "0.007983\n"
     ]
    },
    {
     "name": "stderr",
     "output_type": "stream",
     "text": [
      "Training:  26%|██████████████████████████▊                                                                            | 1092/4200 [00:01<00:03, 907.15it/s, epoch=13, loss=[0.6180815398693084, 0.527144819498062]]"
     ]
    },
    {
     "name": "stdout",
     "output_type": "stream",
     "text": [
      "0.007983\n"
     ]
    },
    {
     "name": "stderr",
     "output_type": "stream",
     "text": [
      "Training:  30%|██████████████████████████████▌                                                                       | 1260/4200 [00:01<00:03, 905.87it/s, epoch=15, loss=[0.6146807486102694, 0.5087339111736843]]"
     ]
    },
    {
     "name": "stdout",
     "output_type": "stream",
     "text": [
      "0.007983\n",
      "0.007983\n"
     ]
    },
    {
     "name": "stderr",
     "output_type": "stream",
     "text": [
      "Training:  32%|████████████████████████████████▋                                                                     | 1344/4200 [00:01<00:03, 906.46it/s, epoch=16, loss=[0.6130519935062956, 0.5002377764100121]]"
     ]
    },
    {
     "name": "stdout",
     "output_type": "stream",
     "text": [
      "0.007983\n"
     ]
    },
    {
     "name": "stderr",
     "output_type": "stream",
     "text": [
      "Training:  36%|████████████████████████████████████▎                                                                | 1512/4200 [00:01<00:02, 900.77it/s, epoch=18, loss=[0.6100080453214191, 0.48674762816656203]]"
     ]
    },
    {
     "name": "stdout",
     "output_type": "stream",
     "text": [
      "0.007993\n",
      "0.007993\n"
     ]
    },
    {
     "name": "stderr",
     "output_type": "stream",
     "text": [
      "Training:  38%|██████████████████████████████████████▍                                                              | 1596/4200 [00:01<00:02, 903.60it/s, epoch=19, loss=[0.6084432474204471, 0.47804226477940875]]"
     ]
    },
    {
     "name": "stdout",
     "output_type": "stream",
     "text": [
      "0.007993\n"
     ]
    },
    {
     "name": "stderr",
     "output_type": "stream",
     "text": [
      "Training:  42%|██████████████████████████████████████████▊                                                           | 1764/4200 [00:01<00:02, 898.95it/s, epoch=21, loss=[0.6067546378998531, 0.4685256573415938]]"
     ]
    },
    {
     "name": "stdout",
     "output_type": "stream",
     "text": [
      "0.007993\n",
      "0.007993\n"
     ]
    },
    {
     "name": "stderr",
     "output_type": "stream",
     "text": [
      "Training:  44%|████████████████████████████████████████████▍                                                        | 1848/4200 [00:02<00:02, 890.01it/s, epoch=22, loss=[0.6052724704855964, 0.46271951851390664]]"
     ]
    },
    {
     "name": "stdout",
     "output_type": "stream",
     "text": [
      "0.007993\n"
     ]
    },
    {
     "name": "stderr",
     "output_type": "stream",
     "text": [
      "Training:  48%|████████████████████████████████████████████████▍                                                    | 2016/4200 [00:02<00:02, 875.53it/s, epoch=24, loss=[0.6033834318319959, 0.45217247804005956]]"
     ]
    },
    {
     "name": "stdout",
     "output_type": "stream",
     "text": [
      "0.007993\n",
      "0.007993\n"
     ]
    },
    {
     "name": "stderr",
     "output_type": "stream",
     "text": [
      "Training:  50%|███████████████████████████████████████████████████▌                                                   | 2100/4200 [00:02<00:02, 871.87it/s, epoch=25, loss=[0.6018399738130116, 0.447527309968358]]"
     ]
    },
    {
     "name": "stdout",
     "output_type": "stream",
     "text": [
      "0.007993\n"
     ]
    },
    {
     "name": "stderr",
     "output_type": "stream",
     "text": [
      "Training:  54%|███████████████████████████████████████████████████████                                               | 2268/4200 [00:02<00:02, 878.16it/s, epoch=27, loss=[0.6008823741049995, 0.4415974574429648]]"
     ]
    },
    {
     "name": "stdout",
     "output_type": "stream",
     "text": [
      "0.007993\n",
      "0.007993\n"
     ]
    },
    {
     "name": "stderr",
     "output_type": "stream",
     "text": [
      "Training:  56%|█████████████████████████████████████████████████████████                                             | 2352/4200 [00:02<00:02, 877.82it/s, epoch=28, loss=[0.5996332111812773, 0.4357008785009383]]"
     ]
    },
    {
     "name": "stdout",
     "output_type": "stream",
     "text": [
      "0.007993\n"
     ]
    },
    {
     "name": "stderr",
     "output_type": "stream",
     "text": [
      "Training:  60%|█████████████████████████████████████████████████████████████▏                                        | 2520/4200 [00:02<00:01, 880.55it/s, epoch=30, loss=[0.5989516150383721, 0.4316931920392172]]"
     ]
    },
    {
     "name": "stdout",
     "output_type": "stream",
     "text": [
      "0.007993\n",
      "0.007993\n"
     ]
    },
    {
     "name": "stderr",
     "output_type": "stream",
     "text": [
      "Training:  62%|████████████████████████████████████████████████████████████████▍                                       | 2604/4200 [00:02<00:01, 875.92it/s, epoch=31, loss=[0.59841706213497, 0.4293291597139268]]"
     ]
    },
    {
     "name": "stdout",
     "output_type": "stream",
     "text": [
      "0.007993\n"
     ]
    },
    {
     "name": "stderr",
     "output_type": "stream",
     "text": [
      "Training:  66%|███████████████████████████████████████████████████████████████████▎                                  | 2773/4200 [00:03<00:01, 880.58it/s, epoch=33, loss=[0.5966575060571943, 0.4225761429184961]]"
     ]
    },
    {
     "name": "stdout",
     "output_type": "stream",
     "text": [
      "0.008148\n",
      "0.008148\n"
     ]
    },
    {
     "name": "stderr",
     "output_type": "stream",
     "text": [
      "Training:  68%|█████████████████████████████████████████████████████████████████████▎                                | 2856/4200 [00:03<00:01, 880.58it/s, epoch=34, loss=[0.5959953367710115, 0.4194028931004661]]"
     ]
    },
    {
     "name": "stdout",
     "output_type": "stream",
     "text": [
      "0.008148\n"
     ]
    },
    {
     "name": "stderr",
     "output_type": "stream",
     "text": [
      "Training:  72%|█████████████████████████████████████████████████████████████████████████▍                            | 3024/4200 [00:03<00:01, 870.26it/s, epoch=36, loss=[0.5951023130189804, 0.4158523565246946]]"
     ]
    },
    {
     "name": "stdout",
     "output_type": "stream",
     "text": [
      "0.008148\n",
      "0.008148\n"
     ]
    },
    {
     "name": "stderr",
     "output_type": "stream",
     "text": [
      "Training:  74%|██████████████████████████████████████████████████████████████████████████▋                          | 3108/4200 [00:03<00:01, 881.07it/s, epoch=37, loss=[0.5951748036202932, 0.41548078684579776]]"
     ]
    },
    {
     "name": "stdout",
     "output_type": "stream",
     "text": [
      "0.008148\n"
     ]
    },
    {
     "name": "stderr",
     "output_type": "stream",
     "text": [
      "Training:  78%|███████████████████████████████████████████████████████████████████████████████▌                      | 3276/4200 [00:03<00:01, 892.04it/s, epoch=39, loss=[0.593511748881567, 0.40802104274431855]]"
     ]
    },
    {
     "name": "stdout",
     "output_type": "stream",
     "text": [
      "0.008148\n",
      "0.008148\n"
     ]
    },
    {
     "name": "stderr",
     "output_type": "stream",
     "text": [
      "Training:  80%|██████████████████████████████████████████████████████████████████████████████████▍                    | 3360/4200 [00:03<00:00, 884.61it/s, epoch=40, loss=[0.592653771241506, 0.4047746686708359]]"
     ]
    },
    {
     "name": "stdout",
     "output_type": "stream",
     "text": [
      "0.008148\n"
     ]
    },
    {
     "name": "stderr",
     "output_type": "stream",
     "text": [
      "Training:  84%|█████████████████████████████████████████████████████████████████████████████████████▋                | 3528/4200 [00:03<00:00, 884.24it/s, epoch=42, loss=[0.5926185633455003, 0.4034622517370043]]"
     ]
    },
    {
     "name": "stdout",
     "output_type": "stream",
     "text": [
      "0.008148\n",
      "0.008148\n"
     ]
    },
    {
     "name": "stderr",
     "output_type": "stream",
     "text": [
      "Training:  86%|███████████████████████████████████████████████████████████████████████████████████████▋              | 3612/4200 [00:04<00:00, 884.87it/s, epoch=43, loss=[0.5918146598906746, 0.4012412322419029]]"
     ]
    },
    {
     "name": "stdout",
     "output_type": "stream",
     "text": [
      "0.008148\n"
     ]
    },
    {
     "name": "stderr",
     "output_type": "stream",
     "text": [
      "Training:  90%|██████████████████████████████████████████████████████████████████████████████████████████▍          | 3763/4200 [00:04<00:00, 893.25it/s, epoch=44, loss=[0.5914048978260587, 0.39882417945634746]]"
     ]
    },
    {
     "name": "stdout",
     "output_type": "stream",
     "text": [
      "0.008148\n"
     ]
    },
    {
     "name": "stderr",
     "output_type": "stream",
     "text": [
      "Training:  90%|███████████████████████████████████████████████████████████████████████████████████████████▊          | 3780/4200 [00:04<00:00, 893.25it/s, epoch=45, loss=[0.5913701412223635, 0.3982354118710473]]"
     ]
    },
    {
     "name": "stdout",
     "output_type": "stream",
     "text": [
      "0.008148\n"
     ]
    },
    {
     "name": "stderr",
     "output_type": "stream",
     "text": [
      "Training:  92%|████████████████████████████████████████████████████████████████████████████████████████████▉        | 3864/4200 [00:04<00:00, 797.03it/s, epoch=46, loss=[0.5901930814697629, 0.39510717988014227]]"
     ]
    },
    {
     "name": "stdout",
     "output_type": "stream",
     "text": [
      "0.008148\n"
     ]
    },
    {
     "name": "stderr",
     "output_type": "stream",
     "text": [
      "Training:  96%|█████████████████████████████████████████████████████████████████████████████████████████████████▉    | 4033/4200 [00:04<00:00, 842.64it/s, epoch=48, loss=[0.5895014050460997, 0.3916885164521989]]"
     ]
    },
    {
     "name": "stdout",
     "output_type": "stream",
     "text": [
      "0.008148\n",
      "0.008148\n"
     ]
    },
    {
     "name": "stderr",
     "output_type": "stream",
     "text": [
      "Training:  98%|██████████████████████████████████████████████████████████████████████████████████████████████████████  | 4120/4200 [00:04<00:00, 847.63it/s, epoch=49, loss=[0.589500912598201, 0.391286245414189]]"
     ]
    },
    {
     "name": "stdout",
     "output_type": "stream",
     "text": [
      "0.008148\n"
     ]
    },
    {
     "name": "stderr",
     "output_type": "stream",
     "text": [
      "Training: 100%|██████████████████████████████████████████████████████████████████████████████████████████████████████| 4200/4200 [00:04<00:00, 876.14it/s, epoch=50, loss=[0.5890768695445285, 0.3892141133546828]]\n"
     ]
    },
    {
     "name": "stdout",
     "output_type": "stream",
     "text": [
      "0.008148\n",
      "Training Accuracy: 100.0%\n",
      "Testing Accuracy: 19.59130108736408%\n",
      "Top 5 Training Accuracy: 100.0%\n",
      "Top 5 Testing Accuracy: 40.28871391076115%\n",
      "Test to train ratio:  0.9\n",
      "Train Loader: 21\n",
      "Test Loader: 188\n",
      "Network Size: 2048\n",
      "Initialization 1 / 2\n",
      "Complete\n",
      "\n",
      "Initialization 2 / 2\n",
      "Complete\n",
      "\n"
     ]
    },
    {
     "name": "stderr",
     "output_type": "stream",
     "text": [
      "Training:   8%|████████▎                                                                                               | 168/2100 [00:00<00:02, 875.58it/s, epoch=4, loss=[0.6492013789358593, 0.6783886324791681]]"
     ]
    },
    {
     "name": "stdout",
     "output_type": "stream",
     "text": [
      "0.005232\n",
      "0.005232\n",
      "0.005232\n",
      "0.005232\n"
     ]
    },
    {
     "name": "stderr",
     "output_type": "stream",
     "text": [
      "Training:  10%|██████████▌                                                                                              | 210/2100 [00:00<00:02, 862.18it/s, epoch=5, loss=[0.6329916744005111, 0.666492189679827]]"
     ]
    },
    {
     "name": "stdout",
     "output_type": "stream",
     "text": [
      "0.005232\n"
     ]
    },
    {
     "name": "stderr",
     "output_type": "stream",
     "text": [
      "Training:  18%|██████████████████▉                                                                                      | 378/2100 [00:00<00:02, 846.74it/s, epoch=9, loss=[0.607360507760729, 0.5807193716367086]]"
     ]
    },
    {
     "name": "stdout",
     "output_type": "stream",
     "text": [
      "0.005232\n",
      "0.005232\n",
      "0.005232\n",
      "0.005232\n"
     ]
    },
    {
     "name": "stderr",
     "output_type": "stream",
     "text": [
      "Training:  20%|████████████████████▌                                                                                  | 420/2100 [00:00<00:01, 846.74it/s, epoch=10, loss=[0.6039194776898339, 0.5623272487095424]]"
     ]
    },
    {
     "name": "stdout",
     "output_type": "stream",
     "text": [
      "0.006455\n"
     ]
    },
    {
     "name": "stderr",
     "output_type": "stream",
     "text": [
      "Training:  28%|█████████████████████████████                                                                           | 588/2100 [00:00<00:01, 847.09it/s, epoch=14, loss=[0.5924954357601347, 0.503429285117558]]"
     ]
    },
    {
     "name": "stdout",
     "output_type": "stream",
     "text": [
      "0.007283\n",
      "0.007283\n",
      "0.007283\n",
      "0.007283\n"
     ]
    },
    {
     "name": "stderr",
     "output_type": "stream",
     "text": [
      "Training:  30%|██████████████████████████████▌                                                                       | 630/2100 [00:00<00:01, 847.49it/s, epoch=15, loss=[0.5892214633169628, 0.48934385748136616]]"
     ]
    },
    {
     "name": "stdout",
     "output_type": "stream",
     "text": [
      "0.007283\n"
     ]
    },
    {
     "name": "stderr",
     "output_type": "stream",
     "text": [
      "Training:  38%|███████████████████████████████████████▌                                                                | 798/2100 [00:00<00:01, 850.27it/s, epoch=19, loss=[0.5824611357280185, 0.450643811907087]]"
     ]
    },
    {
     "name": "stdout",
     "output_type": "stream",
     "text": [
      "0.007283\n",
      "0.007283\n",
      "0.007283\n",
      "0.007283\n"
     ]
    },
    {
     "name": "stderr",
     "output_type": "stream",
     "text": [
      "Training:  40%|█████████████████████████████████████████▏                                                             | 840/2100 [00:00<00:01, 850.27it/s, epoch=20, loss=[0.580495760554359, 0.44132636416526067]]"
     ]
    },
    {
     "name": "stdout",
     "output_type": "stream",
     "text": [
      "0.007283\n"
     ]
    },
    {
     "name": "stderr",
     "output_type": "stream",
     "text": [
      "Training:  48%|█████████████████████████████████████████████████▍                                                     | 1008/2100 [00:01<00:01, 852.77it/s, epoch=24, loss=[0.5751610369909378, 0.412546531075523]]"
     ]
    },
    {
     "name": "stdout",
     "output_type": "stream",
     "text": [
      "0.007283\n",
      "0.007283\n",
      "0.007283\n",
      "0.007283\n"
     ]
    },
    {
     "name": "stderr",
     "output_type": "stream",
     "text": [
      "Training:  50%|██████████████████████████████████████████████████▌                                                  | 1050/2100 [00:01<00:01, 852.19it/s, epoch=25, loss=[0.5735937300182525, 0.40658059574308847]]"
     ]
    },
    {
     "name": "stdout",
     "output_type": "stream",
     "text": [
      "0.007283\n"
     ]
    },
    {
     "name": "stderr",
     "output_type": "stream",
     "text": [
      "Training:  58%|██████████████████████████████████████████████████████████▌                                          | 1218/2100 [00:01<00:01, 853.09it/s, epoch=29, loss=[0.5694911252884638, 0.38784399344807585]]"
     ]
    },
    {
     "name": "stdout",
     "output_type": "stream",
     "text": [
      "0.007283\n",
      "0.007283\n",
      "0.007283\n",
      "0.007283\n"
     ]
    },
    {
     "name": "stderr",
     "output_type": "stream",
     "text": [
      "Training:  60%|█████████████████████████████████████████████████████████████▏                                        | 1260/2100 [00:01<00:00, 853.09it/s, epoch=30, loss=[0.5678545009522212, 0.3809740585940225]]"
     ]
    },
    {
     "name": "stdout",
     "output_type": "stream",
     "text": [
      "0.007283\n"
     ]
    },
    {
     "name": "stderr",
     "output_type": "stream",
     "text": [
      "Training:  68%|█████████████████████████████████████████████████████████████████████▎                                | 1428/2100 [00:01<00:00, 851.18it/s, epoch=34, loss=[0.5660206278165182, 0.3681430390902927]]"
     ]
    },
    {
     "name": "stdout",
     "output_type": "stream",
     "text": [
      "0.007283\n",
      "0.007283\n",
      "0.007283\n",
      "0.007283\n"
     ]
    },
    {
     "name": "stderr",
     "output_type": "stream",
     "text": [
      "Training:  70%|███████████████████████████████████████████████████████████████████████▍                              | 1470/2100 [00:01<00:00, 854.90it/s, epoch=35, loss=[0.5655993052891324, 0.3660254535220918]]"
     ]
    },
    {
     "name": "stdout",
     "output_type": "stream",
     "text": [
      "0.007283\n"
     ]
    },
    {
     "name": "stderr",
     "output_type": "stream",
     "text": [
      "Training:  78%|███████████████████████████████████████████████████████████████████████████████▋                      | 1641/2100 [00:01<00:00, 862.10it/s, epoch=39, loss=[0.5617293772243317, 0.3507939562911079]]"
     ]
    },
    {
     "name": "stdout",
     "output_type": "stream",
     "text": [
      "0.007283\n",
      "0.007283\n",
      "0.007283\n",
      "0.007283\n"
     ]
    },
    {
     "name": "stderr",
     "output_type": "stream",
     "text": [
      "Training:  80%|█████████████████████████████████████████████████████████████████████████████████▌                    | 1680/2100 [00:01<00:00, 862.10it/s, epoch=40, loss=[0.5610944571949186, 0.3485730588436127]]"
     ]
    },
    {
     "name": "stdout",
     "output_type": "stream",
     "text": [
      "0.008109\n"
     ]
    },
    {
     "name": "stderr",
     "output_type": "stream",
     "text": [
      "Training:  88%|█████████████████████████████████████████████████████████████████████████████████████████▊            | 1848/2100 [00:02<00:00, 882.36it/s, epoch=44, loss=[0.5598422572726295, 0.3417004616487594]]"
     ]
    },
    {
     "name": "stdout",
     "output_type": "stream",
     "text": [
      "0.008162\n",
      "0.008162\n",
      "0.008162\n",
      "0.008162\n"
     ]
    },
    {
     "name": "stderr",
     "output_type": "stream",
     "text": [
      "Training:  90%|██████████████████████████████████████████████████████████████████████████████████████████▉          | 1890/2100 [00:02<00:00, 882.36it/s, epoch=45, loss=[0.5596533900215511, 0.34127304099854966]]"
     ]
    },
    {
     "name": "stdout",
     "output_type": "stream",
     "text": [
      "0.008162\n"
     ]
    },
    {
     "name": "stderr",
     "output_type": "stream",
     "text": [
      "Training:  98%|███████████████████████████████████████████████████████████████████████████████████████████████████▉  | 2058/2100 [00:02<00:00, 891.24it/s, epoch=49, loss=[0.5574133594830831, 0.3329746879282452]]"
     ]
    },
    {
     "name": "stdout",
     "output_type": "stream",
     "text": [
      "0.008162\n",
      "0.008162\n",
      "0.008162\n",
      "0.008162\n"
     ]
    },
    {
     "name": "stderr",
     "output_type": "stream",
     "text": [
      "Training: 100%|█████████████████████████████████████████████████████████████████████████████████████████████████████| 2100/2100 [00:02<00:00, 861.59it/s, epoch=50, loss=[0.5572634736696879, 0.33295544414293204]]\n"
     ]
    },
    {
     "name": "stdout",
     "output_type": "stream",
     "text": [
      "0.008162\n",
      "Training Accuracy: 100.0%\n",
      "Testing Accuracy: 14.814197633727714%\n",
      "Top 5 Training Accuracy: 100.0%\n",
      "Top 5 Testing Accuracy: 31.19480086652225%\n",
      "Test to train ratio:  0.95\n",
      "Train Loader: 11\n",
      "Test Loader: 198\n",
      "Network Size: 2048\n",
      "Initialization 1 / 2\n",
      "Complete\n",
      "\n",
      "Initialization 2 / 2\n",
      "Complete\n",
      "\n"
     ]
    },
    {
     "name": "stderr",
     "output_type": "stream",
     "text": [
      "Training:  14%|██████████████▌                                                                                         | 154/1100 [00:00<00:01, 782.70it/s, epoch=7, loss=[0.6017726226286454, 0.6489331234585155]]"
     ]
    },
    {
     "name": "stdout",
     "output_type": "stream",
     "text": [
      "0.00568\n",
      "0.00568\n",
      "0.00568\n",
      "0.00568\n",
      "0.00568\n",
      "0.00568\n",
      "0.00568\n"
     ]
    },
    {
     "name": "stderr",
     "output_type": "stream",
     "text": [
      "Training:  16%|████████████████▋                                                                                       | 176/1100 [00:00<00:01, 819.23it/s, epoch=8, loss=[0.5885603915561328, 0.6283798109401356]]"
     ]
    },
    {
     "name": "stdout",
     "output_type": "stream",
     "text": [
      "0.00568\n"
     ]
    },
    {
     "name": "stderr",
     "output_type": "stream",
     "text": [
      "Training:  30%|███████████████████████████████▏                                                                       | 333/1100 [00:00<00:00, 829.51it/s, epoch=15, loss=[0.5458941893144088, 0.4900575334375555]]"
     ]
    },
    {
     "name": "stdout",
     "output_type": "stream",
     "text": [
      "0.007303\n",
      "0.007303\n",
      "0.007303\n",
      "0.007303\n",
      "0.007303\n",
      "0.007303\n",
      "0.007303\n"
     ]
    },
    {
     "name": "stderr",
     "output_type": "stream",
     "text": [
      "Training:  32%|████████████████████████████████▋                                                                     | 352/1100 [00:00<00:00, 829.51it/s, epoch=16, loss=[0.5418128967285157, 0.47571638497439306]]"
     ]
    },
    {
     "name": "stdout",
     "output_type": "stream",
     "text": [
      "0.008075\n"
     ]
    },
    {
     "name": "stderr",
     "output_type": "stream",
     "text": [
      "Training:  46%|███████████████████████████████████████████████▍                                                       | 506/1100 [00:00<00:00, 835.56it/s, epoch=23, loss=[0.5202079306949269, 0.4028659435835751]]"
     ]
    },
    {
     "name": "stdout",
     "output_type": "stream",
     "text": [
      "0.008075\n",
      "0.008075\n",
      "0.008075\n",
      "0.008075\n",
      "0.008075\n",
      "0.008075\n",
      "0.008075\n"
     ]
    },
    {
     "name": "stderr",
     "output_type": "stream",
     "text": [
      "Training:  48%|████████████████████████████████████████████████▉                                                     | 528/1100 [00:00<00:00, 835.56it/s, epoch=24, loss=[0.5187118161808361, 0.39698148857463494]]"
     ]
    },
    {
     "name": "stdout",
     "output_type": "stream",
     "text": [
      "0.008075\n"
     ]
    },
    {
     "name": "stderr",
     "output_type": "stream",
     "text": [
      "Training:  60%|█████████████████████████████████████████████████████████████▏                                        | 660/1100 [00:00<00:00, 839.60it/s, epoch=30, loss=[0.5085187716917557, 0.36407015269452875]]"
     ]
    },
    {
     "name": "stdout",
     "output_type": "stream",
     "text": [
      "0.008075\n",
      "0.008075\n",
      "0.008075\n",
      "0.008075\n",
      "0.008075\n",
      "0.008075\n"
     ]
    },
    {
     "name": "stderr",
     "output_type": "stream",
     "text": [
      "Training:  62%|███████████████████████████████████████████████████████████████▊                                       | 682/1100 [00:00<00:00, 756.64it/s, epoch=31, loss=[0.5072899731722744, 0.3594965609637174]]"
     ]
    },
    {
     "name": "stdout",
     "output_type": "stream",
     "text": [
      "0.008075\n"
     ]
    },
    {
     "name": "stderr",
     "output_type": "stream",
     "text": [
      "Training:  76%|█████████████████████████████████████████████████████████████████████████████▊                        | 839/1100 [00:01<00:00, 794.00it/s, epoch=38, loss=[0.5015489133921537, 0.33881721984256397]]"
     ]
    },
    {
     "name": "stdout",
     "output_type": "stream",
     "text": [
      "0.008075\n",
      "0.008075\n",
      "0.008075\n",
      "0.008075\n",
      "0.008075\n",
      "0.008075\n",
      "0.008075\n"
     ]
    },
    {
     "name": "stderr",
     "output_type": "stream",
     "text": [
      "Training:  78%|████████████████████████████████████████████████████████████████████████████████▎                      | 858/1100 [00:01<00:00, 794.00it/s, epoch=39, loss=[0.5002537938681516, 0.3360332115129991]]"
     ]
    },
    {
     "name": "stdout",
     "output_type": "stream",
     "text": [
      "0.008075\n"
     ]
    },
    {
     "name": "stderr",
     "output_type": "stream",
     "text": [
      "Training:  92%|████████████████████████████████████████████████████████████████████████████████████████████▉        | 1012/1100 [00:01<00:00, 824.49it/s, epoch=46, loss=[0.4970061101696708, 0.32284661585634405]]"
     ]
    },
    {
     "name": "stdout",
     "output_type": "stream",
     "text": [
      "0.008075\n",
      "0.008075\n",
      "0.008075\n",
      "0.008075\n",
      "0.008075\n",
      "0.008075\n",
      "0.008075\n"
     ]
    },
    {
     "name": "stderr",
     "output_type": "stream",
     "text": [
      "Training:  94%|██████████████████████████████████████████████████████████████████████████████████████████████      | 1034/1100 [00:01<00:00, 824.49it/s, epoch=47, loss=[0.49641867117448285, 0.32061500170014123]]"
     ]
    },
    {
     "name": "stdout",
     "output_type": "stream",
     "text": [
      "0.008075\n"
     ]
    },
    {
     "name": "stderr",
     "output_type": "stream",
     "text": [
      "Training: 100%|█████████████████████████████████████████████████████████████████████████████████████████████████████| 1100/1100 [00:01<00:00, 812.72it/s, epoch=50, loss=[0.4953028613870794, 0.31735350868918677]]\n"
     ]
    },
    {
     "name": "stdout",
     "output_type": "stream",
     "text": [
      "0.008075\n",
      "0.008075\n",
      "0.008075\n",
      "Training Accuracy: 100.0%\n",
      "Testing Accuracy: 11.240922008209662%\n",
      "Top 5 Training Accuracy: 100.0%\n",
      "Top 5 Testing Accuracy: 25.528891695610987%\n",
      "Test to train ratio:  0.99\n",
      "Train Loader: 3\n",
      "Test Loader: 207\n",
      "Network Size: 2048\n",
      "Initialization 1 / 2\n",
      "Complete\n",
      "\n",
      "Initialization 2 / 2\n",
      "Complete\n",
      "\n"
     ]
    },
    {
     "name": "stderr",
     "output_type": "stream",
     "text": [
      "Training:  58%|███████████████████████████████████████████████████████████▋                                           | 174/300 [00:00<00:00, 886.83it/s, epoch=29, loss=[0.47295166055361426, 0.5168081521987915]]"
     ]
    },
    {
     "name": "stdout",
     "output_type": "stream",
     "text": [
      "0.005844\n",
      "0.005844\n",
      "0.005844\n",
      "0.005844\n",
      "0.005844\n",
      "0.005844\n",
      "0.005844\n",
      "0.005844\n",
      "0.005844\n",
      "0.005844\n",
      "0.005844\n",
      "0.005844\n",
      "0.005844\n",
      "0.005844\n",
      "0.005844\n",
      "0.005844\n",
      "0.005844\n",
      "0.005844\n",
      "0.005844\n",
      "0.005844\n",
      "0.005844\n",
      "0.005844\n",
      "0.005844\n",
      "0.005844\n",
      "0.005844\n",
      "0.005844\n",
      "0.005844\n",
      "0.005844\n",
      "0.005844\n"
     ]
    },
    {
     "name": "stderr",
     "output_type": "stream",
     "text": [
      "Training:  60%|█████████████████████████████████████████████████████████████▏                                        | 180/300 [00:00<00:00, 878.17it/s, epoch=30, loss=[0.46262196699778235, 0.48524601260821026]]"
     ]
    },
    {
     "name": "stdout",
     "output_type": "stream",
     "text": [
      "0.007851\n"
     ]
    },
    {
     "name": "stderr",
     "output_type": "stream",
     "text": [
      "Training: 100%|███████████████████████████████████████████████████████████████████████████████████████████████████████| 300/300 [00:00<00:00, 910.01it/s, epoch=50, loss=[0.42511813839276635, 0.3861829340457916]]\n"
     ]
    },
    {
     "name": "stdout",
     "output_type": "stream",
     "text": [
      "0.007851\n",
      "0.007851\n",
      "0.007851\n",
      "0.007851\n",
      "0.007851\n",
      "0.007851\n",
      "0.007851\n",
      "0.007851\n",
      "0.007851\n",
      "0.007851\n",
      "0.007851\n",
      "0.007851\n",
      "0.007851\n",
      "0.007851\n",
      "0.007851\n",
      "0.007851\n",
      "0.007851\n",
      "0.007851\n",
      "0.007851\n",
      "0.007851\n",
      "Training Accuracy: 100.0%\n",
      "Testing Accuracy: 5.302226935312832%\n",
      "Top 5 Training Accuracy: 100.0%\n",
      "Top 5 Testing Accuracy: 14.891683078321465%\n",
      "Dataset: food101\n",
      "Test to train ratio:  0.1\n",
      "Train Loader: 188\n",
      "Test Loader: 21\n",
      "Network Size: 2048\n",
      "Initialization 1 / 2\n",
      "Complete\n",
      "\n",
      "Initialization 2 / 2\n",
      "Complete\n",
      "\n"
     ]
    },
    {
     "name": "stderr",
     "output_type": "stream",
     "text": [
      "Training:   3%|██▊                                                                                                    | 515/18800 [00:00<00:21, 857.42it/s, epoch=1, loss=[0.6827461500751211, 0.6891502573135051]]"
     ]
    },
    {
     "name": "stdout",
     "output_type": "stream",
     "text": [
      "0.005468\n"
     ]
    },
    {
     "name": "stderr",
     "output_type": "stream",
     "text": [
      "Training:   5%|████▋                                                                                                  | 866/18800 [00:01<00:20, 876.20it/s, epoch=2, loss=[0.6624132940109738, 0.6487496089428024]]"
     ]
    },
    {
     "name": "stdout",
     "output_type": "stream",
     "text": [
      "0.005468\n"
     ]
    },
    {
     "name": "stderr",
     "output_type": "stream",
     "text": [
      "Training:   7%|██████▋                                                                                               | 1231/18800 [00:01<00:19, 891.19it/s, epoch=3, loss=[0.6553167558096822, 0.6231839983387198]]"
     ]
    },
    {
     "name": "stdout",
     "output_type": "stream",
     "text": [
      "0.008057\n"
     ]
    },
    {
     "name": "stderr",
     "output_type": "stream",
     "text": [
      "Training:   8%|████████▋                                                                                             | 1595/18800 [00:01<00:19, 899.97it/s, epoch=4, loss=[0.6517630171902632, 0.6073000326435615]]"
     ]
    },
    {
     "name": "stdout",
     "output_type": "stream",
     "text": [
      "0.008057\n"
     ]
    },
    {
     "name": "stderr",
     "output_type": "stream",
     "text": [
      "Training:  11%|███████████▎                                                                                           | 2054/18800 [00:02<00:18, 894.26it/s, epoch=5, loss=[0.647955519721863, 0.5937807385591748]]"
     ]
    },
    {
     "name": "stdout",
     "output_type": "stream",
     "text": [
      "0.008057\n"
     ]
    },
    {
     "name": "stderr",
     "output_type": "stream",
     "text": [
      "Training:  13%|█████████████                                                                                         | 2416/18800 [00:02<00:18, 879.27it/s, epoch=6, loss=[0.6451235229664661, 0.5828735761820008]]"
     ]
    },
    {
     "name": "stdout",
     "output_type": "stream",
     "text": [
      "0.008057\n"
     ]
    },
    {
     "name": "stderr",
     "output_type": "stream",
     "text": [
      "Training:  15%|███████████████▏                                                                                       | 2771/18800 [00:03<00:18, 883.03it/s, epoch=7, loss=[0.643695898829623, 0.5746989659172422]]"
     ]
    },
    {
     "name": "stdout",
     "output_type": "stream",
     "text": [
      "0.008057\n"
     ]
    },
    {
     "name": "stderr",
     "output_type": "stream",
     "text": [
      "Training:  17%|████████████████▉                                                                                     | 3129/18800 [00:03<00:17, 886.92it/s, epoch=8, loss=[0.6416119739730302, 0.5657307870210486]]"
     ]
    },
    {
     "name": "stdout",
     "output_type": "stream",
     "text": [
      "0.008057\n"
     ]
    },
    {
     "name": "stderr",
     "output_type": "stream",
     "text": [
      "Training:  19%|██████████████████▉                                                                                   | 3483/18800 [00:03<00:17, 875.66it/s, epoch=9, loss=[0.6408769218845574, 0.5597320449479081]]"
     ]
    },
    {
     "name": "stdout",
     "output_type": "stream",
     "text": [
      "0.008057\n"
     ]
    },
    {
     "name": "stderr",
     "output_type": "stream",
     "text": [
      "Training:  21%|█████████████████████                                                                                | 3925/18800 [00:04<00:16, 877.10it/s, epoch=10, loss=[0.6396977676356093, 0.5544011979661086]]"
     ]
    },
    {
     "name": "stdout",
     "output_type": "stream",
     "text": [
      "0.008057\n"
     ]
    },
    {
     "name": "stderr",
     "output_type": "stream",
     "text": [
      "Training:  23%|██████████████████████▉                                                                              | 4277/18800 [00:04<00:16, 874.75it/s, epoch=11, loss=[0.6380604188492959, 0.5483390096020189]]"
     ]
    },
    {
     "name": "stdout",
     "output_type": "stream",
     "text": [
      "0.008057\n"
     ]
    },
    {
     "name": "stderr",
     "output_type": "stream",
     "text": [
      "Training:  25%|████████████████████████▊                                                                            | 4624/18800 [00:05<00:17, 788.33it/s, epoch=12, loss=[0.6373547803848346, 0.5440899450728233]]"
     ]
    },
    {
     "name": "stdout",
     "output_type": "stream",
     "text": [
      "0.008057\n"
     ]
    },
    {
     "name": "stderr",
     "output_type": "stream",
     "text": [
      "Training:  27%|██████████████████████████▊                                                                          | 4985/18800 [00:05<00:15, 869.76it/s, epoch=13, loss=[0.6357172997073927, 0.5394430728034771]]"
     ]
    },
    {
     "name": "stdout",
     "output_type": "stream",
     "text": [
      "0.008057\n"
     ]
    },
    {
     "name": "stderr",
     "output_type": "stream",
     "text": [
      "Training:  29%|█████████████████████████████▏                                                                       | 5437/18800 [00:06<00:14, 896.36it/s, epoch=14, loss=[0.6348783075809479, 0.5353019865269356]]"
     ]
    },
    {
     "name": "stdout",
     "output_type": "stream",
     "text": [
      "0.008057\n"
     ]
    },
    {
     "name": "stderr",
     "output_type": "stream",
     "text": [
      "Training:  31%|███████████████████████████████▏                                                                     | 5801/18800 [00:06<00:14, 902.44it/s, epoch=15, loss=[0.6334834679010065, 0.5305681254001376]]"
     ]
    },
    {
     "name": "stdout",
     "output_type": "stream",
     "text": [
      "0.008057\n"
     ]
    },
    {
     "name": "stderr",
     "output_type": "stream",
     "text": [
      "Training:  33%|█████████████████████████████████                                                                    | 6163/18800 [00:07<00:14, 882.53it/s, epoch=16, loss=[0.6328148822835152, 0.5277874797899671]]"
     ]
    },
    {
     "name": "stdout",
     "output_type": "stream",
     "text": [
      "0.008057\n"
     ]
    },
    {
     "name": "stderr",
     "output_type": "stream",
     "text": [
      "Training:  35%|███████████████████████████████████                                                                  | 6524/18800 [00:07<00:13, 895.75it/s, epoch=17, loss=[0.6324409744206893, 0.5257385671138767]]"
     ]
    },
    {
     "name": "stdout",
     "output_type": "stream",
     "text": [
      "0.008057\n"
     ]
    },
    {
     "name": "stderr",
     "output_type": "stream",
     "text": [
      "Training:  37%|████████████████████████████████████▉                                                                | 6887/18800 [00:07<00:13, 899.30it/s, epoch=18, loss=[0.6317583947105612, 0.5236918052777331]]"
     ]
    },
    {
     "name": "stdout",
     "output_type": "stream",
     "text": [
      "0.008057\n"
     ]
    },
    {
     "name": "stderr",
     "output_type": "stream",
     "text": [
      "Training:  39%|███████████████████████████████████████▎                                                              | 7250/18800 [00:08<00:12, 896.17it/s, epoch=19, loss=[0.6307826222891507, 0.520191009057329]]"
     ]
    },
    {
     "name": "stdout",
     "output_type": "stream",
     "text": [
      "0.008057\n"
     ]
    },
    {
     "name": "stderr",
     "output_type": "stream",
     "text": [
      "Training:  41%|████████████████████████████████████████▉                                                            | 7615/18800 [00:08<00:12, 904.01it/s, epoch=20, loss=[0.6301443316835044, 0.5178843348267228]]"
     ]
    },
    {
     "name": "stdout",
     "output_type": "stream",
     "text": [
      "0.008057\n"
     ]
    },
    {
     "name": "stderr",
     "output_type": "stream",
     "text": [
      "Training:  43%|███████████████████████████████████████████▎                                                         | 8066/18800 [00:09<00:12, 884.60it/s, epoch=21, loss=[0.6296283792942127, 0.5159177589923781]]"
     ]
    },
    {
     "name": "stdout",
     "output_type": "stream",
     "text": [
      "0.008116\n"
     ]
    },
    {
     "name": "stderr",
     "output_type": "stream",
     "text": [
      "Training:  45%|█████████████████████████████████████████████▎                                                       | 8431/18800 [00:09<00:11, 896.64it/s, epoch=22, loss=[0.6285503392523905, 0.5133606715405239]]"
     ]
    },
    {
     "name": "stdout",
     "output_type": "stream",
     "text": [
      "0.008116\n"
     ]
    },
    {
     "name": "stderr",
     "output_type": "stream",
     "text": [
      "Training:  47%|███████████████████████████████████████████████▏                                                     | 8792/18800 [00:09<00:11, 885.34it/s, epoch=23, loss=[0.6278853685931957, 0.5108787756651005]]"
     ]
    },
    {
     "name": "stdout",
     "output_type": "stream",
     "text": [
      "0.008116\n"
     ]
    },
    {
     "name": "stderr",
     "output_type": "stream",
     "text": [
      "Training:  49%|█████████████████████████████████████████████████▏                                                   | 9146/18800 [00:10<00:11, 872.06it/s, epoch=24, loss=[0.6271421700081924, 0.5088005302117224]]"
     ]
    },
    {
     "name": "stdout",
     "output_type": "stream",
     "text": [
      "0.008116\n"
     ]
    },
    {
     "name": "stderr",
     "output_type": "stream",
     "text": [
      "Training:  51%|███████████████████████████████████████████████████                                                  | 9497/18800 [00:10<00:10, 864.57it/s, epoch=25, loss=[0.6258648580059094, 0.5056097713556695]]"
     ]
    },
    {
     "name": "stdout",
     "output_type": "stream",
     "text": [
      "0.008116\n"
     ]
    },
    {
     "name": "stderr",
     "output_type": "stream",
     "text": [
      "Training:  53%|█████████████████████████████████████████████████████▉                                                | 9933/18800 [00:11<00:10, 853.92it/s, epoch=26, loss=[0.6255731817255628, 0.504216765786739]]"
     ]
    },
    {
     "name": "stdout",
     "output_type": "stream",
     "text": [
      "0.008116\n"
     ]
    },
    {
     "name": "stderr",
     "output_type": "stream",
     "text": [
      "Training:  55%|██████████████████████████████████████████████████████▋                                             | 10284/18800 [00:11<00:09, 869.61it/s, epoch=27, loss=[0.6251336513681613, 0.5036329807753258]]"
     ]
    },
    {
     "name": "stdout",
     "output_type": "stream",
     "text": [
      "0.008116\n"
     ]
    },
    {
     "name": "stderr",
     "output_type": "stream",
     "text": [
      "Training:  57%|████████████████████████████████████████████████████████▌                                           | 10637/18800 [00:12<00:09, 871.46it/s, epoch=28, loss=[0.6244936471289778, 0.5009414311102092]]"
     ]
    },
    {
     "name": "stdout",
     "output_type": "stream",
     "text": [
      "0.008324\n"
     ]
    },
    {
     "name": "stderr",
     "output_type": "stream",
     "text": [
      "Training:  58%|█████████████████████████████████████████████████████████▉                                         | 10992/18800 [00:12<00:08, 876.38it/s, epoch=29, loss=[0.6235720635728633, 0.49876938459086956]]"
     ]
    },
    {
     "name": "stdout",
     "output_type": "stream",
     "text": [
      "0.008324\n"
     ]
    },
    {
     "name": "stderr",
     "output_type": "stream",
     "text": [
      "Training:  61%|████████████████████████████████████████████████████████████▊                                       | 11432/18800 [00:13<00:08, 872.60it/s, epoch=30, loss=[0.6232693062183701, 0.4977337874947709]]"
     ]
    },
    {
     "name": "stdout",
     "output_type": "stream",
     "text": [
      "0.008324\n"
     ]
    },
    {
     "name": "stderr",
     "output_type": "stream",
     "text": [
      "Training:  63%|██████████████████████████████████████████████████████████████▋                                     | 11787/18800 [00:13<00:07, 881.81it/s, epoch=31, loss=[0.6230620228229684, 0.4966645779761862]]"
     ]
    },
    {
     "name": "stdout",
     "output_type": "stream",
     "text": [
      "0.008324\n"
     ]
    },
    {
     "name": "stderr",
     "output_type": "stream",
     "text": [
      "Training:  65%|████████████████████████████████████████████████████████████████▌                                   | 12142/18800 [00:13<00:07, 877.12it/s, epoch=32, loss=[0.6228713659529995, 0.4957455872221193]]"
     ]
    },
    {
     "name": "stdout",
     "output_type": "stream",
     "text": [
      "0.008324\n"
     ]
    },
    {
     "name": "stderr",
     "output_type": "stream",
     "text": [
      "Training:  67%|██████████████████████████████████████████████████████████████████▎                                | 12585/18800 [00:14<00:07, 881.08it/s, epoch=33, loss=[0.6221348380154752, 0.49338111693554737]]"
     ]
    },
    {
     "name": "stdout",
     "output_type": "stream",
     "text": [
      "0.008324\n"
     ]
    },
    {
     "name": "stderr",
     "output_type": "stream",
     "text": [
      "Training:  69%|█████████████████████████████████████████████████████████████████████▌                               | 12948/18800 [00:14<00:06, 892.71it/s, epoch=34, loss=[0.6210188767377366, 0.490968994320707]]"
     ]
    },
    {
     "name": "stdout",
     "output_type": "stream",
     "text": [
      "0.008324\n"
     ]
    },
    {
     "name": "stderr",
     "output_type": "stream",
     "text": [
      "Training:  71%|██████████████████████████████████████████████████████████████████████▊                             | 13305/18800 [00:15<00:06, 882.91it/s, epoch=35, loss=[0.6200846424128147, 0.4881855587058881]]"
     ]
    },
    {
     "name": "stdout",
     "output_type": "stream",
     "text": [
      "0.008324\n"
     ]
    },
    {
     "name": "stderr",
     "output_type": "stream",
     "text": [
      "Training:  73%|████████████████████████████████████████████████████████████████████████▋                           | 13661/18800 [00:15<00:05, 881.61it/s, epoch=36, loss=[0.6195911549507304, 0.4867416138344624]]"
     ]
    },
    {
     "name": "stdout",
     "output_type": "stream",
     "text": [
      "0.008324\n"
     ]
    },
    {
     "name": "stderr",
     "output_type": "stream",
     "text": [
      "Training:  75%|███████████████████████████████████████████████████████████████████████████▎                         | 14015/18800 [00:15<00:05, 871.52it/s, epoch=37, loss=[0.6193757653236392, 0.485242747404474]]"
     ]
    },
    {
     "name": "stdout",
     "output_type": "stream",
     "text": [
      "0.008324\n"
     ]
    },
    {
     "name": "stderr",
     "output_type": "stream",
     "text": [
      "Training:  77%|████████████████████████████████████████████████████████████████████████████▉                       | 14465/18800 [00:16<00:04, 896.30it/s, epoch=38, loss=[0.6190595649024269, 0.4842585548758505]]"
     ]
    },
    {
     "name": "stdout",
     "output_type": "stream",
     "text": [
      "0.008324\n"
     ]
    },
    {
     "name": "stderr",
     "output_type": "stream",
     "text": [
      "Training:  79%|██████████████████████████████████████████████████████████████████████████████▊                     | 14827/18800 [00:16<00:04, 885.27it/s, epoch=39, loss=[0.6188896767636556, 0.4838088731816475]]"
     ]
    },
    {
     "name": "stdout",
     "output_type": "stream",
     "text": [
      "0.008324\n"
     ]
    },
    {
     "name": "stderr",
     "output_type": "stream",
     "text": [
      "Training:  81%|████████████████████████████████████████████████████████████████████████████████▊                   | 15189/18800 [00:17<00:04, 900.23it/s, epoch=40, loss=[0.6182444377782496, 0.4815696910657783]]"
     ]
    },
    {
     "name": "stdout",
     "output_type": "stream",
     "text": [
      "0.008324\n"
     ]
    },
    {
     "name": "stderr",
     "output_type": "stream",
     "text": [
      "Training:  83%|██████████████████████████████████████████████████████████████████████████████████▋                 | 15554/18800 [00:17<00:03, 888.60it/s, epoch=41, loss=[0.6184983852695912, 0.4814482486628475]]"
     ]
    },
    {
     "name": "stdout",
     "output_type": "stream",
     "text": [
      "0.008324\n"
     ]
    },
    {
     "name": "stderr",
     "output_type": "stream",
     "text": [
      "Training:  85%|████████████████████████████████████████████████████████████████████████████████████▋               | 15911/18800 [00:18<00:03, 874.84it/s, epoch=42, loss=[0.618386529861613, 0.48162909454487707]]"
     ]
    },
    {
     "name": "stdout",
     "output_type": "stream",
     "text": [
      "0.008324\n"
     ]
    },
    {
     "name": "stderr",
     "output_type": "stream",
     "text": [
      "Training:  87%|██████████████████████████████████████████████████████████████████████████████████████▌             | 16264/18800 [00:18<00:02, 874.76it/s, epoch=43, loss=[0.6175460764702333, 0.4788054497318065]]"
     ]
    },
    {
     "name": "stdout",
     "output_type": "stream",
     "text": [
      "0.008324\n"
     ]
    },
    {
     "name": "stderr",
     "output_type": "stream",
     "text": [
      "Training:  89%|████████████████████████████████████████████████████████████████████████████████████████▉           | 16718/18800 [00:18<00:02, 901.21it/s, epoch=44, loss=[0.6170591103269697, 0.4770713354995909]]"
     ]
    },
    {
     "name": "stdout",
     "output_type": "stream",
     "text": [
      "0.008324\n"
     ]
    },
    {
     "name": "stderr",
     "output_type": "stream",
     "text": [
      "Training:  91%|███████████████████████████████████████████████████████████████████████████████████████████▊         | 17085/18800 [00:19<00:01, 909.04it/s, epoch=45, loss=[0.616526152859343, 0.4759787187931387]]"
     ]
    },
    {
     "name": "stdout",
     "output_type": "stream",
     "text": [
      "0.008324\n"
     ]
    },
    {
     "name": "stderr",
     "output_type": "stream",
     "text": [
      "Training:  93%|█████████████████████████████████████████████████████████████████████████████████████████████▋       | 17450/18800 [00:19<00:01, 892.53it/s, epoch=46, loss=[0.6161691039166548, 0.474037879324974]]"
     ]
    },
    {
     "name": "stdout",
     "output_type": "stream",
     "text": [
      "0.008324\n"
     ]
    },
    {
     "name": "stderr",
     "output_type": "stream",
     "text": [
      "Training:  95%|██████████████████████████████████████████████████████████████████████████████████████████████▊     | 17815/18800 [00:20<00:01, 904.22it/s, epoch=47, loss=[0.6157987491881595, 0.4728736425650881]]"
     ]
    },
    {
     "name": "stdout",
     "output_type": "stream",
     "text": [
      "0.008324\n"
     ]
    },
    {
     "name": "stderr",
     "output_type": "stream",
     "text": [
      "Training:  97%|████████████████████████████████████████████████████████████████████████████████████████████████▋   | 18179/18800 [00:20<00:00, 900.98it/s, epoch=48, loss=[0.6158945791898889, 0.4730307391666352]]"
     ]
    },
    {
     "name": "stdout",
     "output_type": "stream",
     "text": [
      "0.008324\n"
     ]
    },
    {
     "name": "stderr",
     "output_type": "stream",
     "text": [
      "Training:  99%|██████████████████████████████████████████████████████████████████████████████████████████████████▌ | 18538/18800 [00:21<00:00, 884.54it/s, epoch=49, loss=[0.6158329023325697, 0.4728122068212384]]"
     ]
    },
    {
     "name": "stdout",
     "output_type": "stream",
     "text": [
      "0.008324\n"
     ]
    },
    {
     "name": "stderr",
     "output_type": "stream",
     "text": [
      "Training: 100%|████████████████████████████████████████████████████████████████████████████████████████████████████| 18800/18800 [00:21<00:00, 882.25it/s, epoch=50, loss=[0.6160000616565663, 0.4729022128467863]]\n"
     ]
    },
    {
     "name": "stdout",
     "output_type": "stream",
     "text": [
      "0.008324\n",
      "Training Accuracy: 93.98333333333333%\n",
      "Testing Accuracy: 29.985007496251875%\n",
      "Top 5 Training Accuracy: 99.55000000000001%\n",
      "Top 5 Testing Accuracy: 56.8215892053973%\n",
      "Test to train ratio:  0.2\n",
      "Train Loader: 167\n",
      "Test Loader: 42\n",
      "Network Size: 2048\n",
      "Initialization 1 / 2\n",
      "Complete\n",
      "\n",
      "Initialization 2 / 2\n",
      "Complete\n",
      "\n"
     ]
    },
    {
     "name": "stderr",
     "output_type": "stream",
     "text": [
      "Training:   3%|██▋                                                                                                    | 432/16700 [00:00<00:18, 858.30it/s, epoch=1, loss=[0.6837739002204939, 0.6902938927718975]]"
     ]
    },
    {
     "name": "stdout",
     "output_type": "stream",
     "text": [
      "0.005385\n"
     ]
    },
    {
     "name": "stderr",
     "output_type": "stream",
     "text": [
      "Training:   5%|████▊                                                                                                  | 785/16700 [00:00<00:20, 791.98it/s, epoch=2, loss=[0.6618019613677155, 0.6507803851258969]]"
     ]
    },
    {
     "name": "stdout",
     "output_type": "stream",
     "text": [
      "0.005385\n"
     ]
    },
    {
     "name": "stderr",
     "output_type": "stream",
     "text": [
      "Training:   7%|███████                                                                                               | 1149/16700 [00:01<00:17, 877.53it/s, epoch=3, loss=[0.6566752698607072, 0.6243223058963252]]"
     ]
    },
    {
     "name": "stdout",
     "output_type": "stream",
     "text": [
      "0.008084\n"
     ]
    },
    {
     "name": "stderr",
     "output_type": "stream",
     "text": [
      "Training:   9%|█████████▍                                                                                               | 1510/16700 [00:01<00:17, 892.46it/s, epoch=4, loss=[0.6530346335051304, 0.6086162046758]]"
     ]
    },
    {
     "name": "stdout",
     "output_type": "stream",
     "text": [
      "0.008223\n"
     ]
    },
    {
     "name": "stderr",
     "output_type": "stream",
     "text": [
      "Training:  11%|██████████▉                                                                                           | 1781/16700 [00:02<00:16, 889.58it/s, epoch=5, loss=[0.6497453408326924, 0.5954275595213842]]"
     ]
    },
    {
     "name": "stdout",
     "output_type": "stream",
     "text": [
      "0.008223\n"
     ]
    },
    {
     "name": "stderr",
     "output_type": "stream",
     "text": [
      "Training:  13%|█████████████                                                                                         | 2141/16700 [00:02<00:16, 872.11it/s, epoch=6, loss=[0.6469504290712095, 0.5834388004805516]]"
     ]
    },
    {
     "name": "stdout",
     "output_type": "stream",
     "text": [
      "0.008223\n"
     ]
    },
    {
     "name": "stderr",
     "output_type": "stream",
     "text": [
      "Training:  15%|███████████████▎                                                                                      | 2502/16700 [00:02<00:15, 894.81it/s, epoch=7, loss=[0.6458790056005921, 0.5755125169982455]]"
     ]
    },
    {
     "name": "stdout",
     "output_type": "stream",
     "text": [
      "0.008223\n"
     ]
    },
    {
     "name": "stderr",
     "output_type": "stream",
     "text": [
      "Training:  17%|█████████████████▎                                                                                      | 2775/16700 [00:03<00:15, 893.77it/s, epoch=8, loss=[0.64386746697797, 0.5674795801054217]]"
     ]
    },
    {
     "name": "stdout",
     "output_type": "stream",
     "text": [
      "0.008223\n"
     ]
    },
    {
     "name": "stderr",
     "output_type": "stream",
     "text": [
      "Training:  19%|███████████████████▏                                                                                  | 3137/16700 [00:03<00:15, 869.70it/s, epoch=9, loss=[0.6424401181186742, 0.5605900380425827]]"
     ]
    },
    {
     "name": "stdout",
     "output_type": "stream",
     "text": [
      "0.008223\n"
     ]
    },
    {
     "name": "stderr",
     "output_type": "stream",
     "text": [
      "Training:  21%|█████████████████████▌                                                                                 | 3491/16700 [00:04<00:15, 876.80it/s, epoch=10, loss=[0.64116977610274, 0.5543155866468737]]"
     ]
    },
    {
     "name": "stdout",
     "output_type": "stream",
     "text": [
      "0.008223\n"
     ]
    },
    {
     "name": "stderr",
     "output_type": "stream",
     "text": [
      "Training:  23%|███████████████████████▎                                                                             | 3847/16700 [00:04<00:14, 869.89it/s, epoch=11, loss=[0.6393561509554971, 0.5474036364498254]]"
     ]
    },
    {
     "name": "stdout",
     "output_type": "stream",
     "text": [
      "0.008223\n"
     ]
    },
    {
     "name": "stderr",
     "output_type": "stream",
     "text": [
      "Training:  25%|████████████████████████▊                                                                            | 4111/16700 [00:04<00:14, 871.28it/s, epoch=12, loss=[0.6384275030947016, 0.5427182552343356]]"
     ]
    },
    {
     "name": "stdout",
     "output_type": "stream",
     "text": [
      "0.008223\n"
     ]
    },
    {
     "name": "stderr",
     "output_type": "stream",
     "text": [
      "Training:  27%|███████████████████████████                                                                          | 4466/16700 [00:05<00:13, 876.86it/s, epoch=13, loss=[0.6377956513873114, 0.5400477044596643]]"
     ]
    },
    {
     "name": "stdout",
     "output_type": "stream",
     "text": [
      "0.008223\n"
     ]
    },
    {
     "name": "stderr",
     "output_type": "stream",
     "text": [
      "Training:  29%|█████████████████████████████▏                                                                       | 4831/16700 [00:05<00:13, 895.35it/s, epoch=14, loss=[0.6365432692858987, 0.5350006426165919]]"
     ]
    },
    {
     "name": "stdout",
     "output_type": "stream",
     "text": [
      "0.008223\n"
     ]
    },
    {
     "name": "stderr",
     "output_type": "stream",
     "text": [
      "Training:  31%|██████████████████████████████▊                                                                      | 5103/16700 [00:05<00:13, 889.40it/s, epoch=15, loss=[0.6358401011564059, 0.5324096454831652]]"
     ]
    },
    {
     "name": "stdout",
     "output_type": "stream",
     "text": [
      "0.008223\n"
     ]
    },
    {
     "name": "stderr",
     "output_type": "stream",
     "text": [
      "Training:  33%|█████████████████████████████████                                                                    | 5465/16700 [00:06<00:12, 896.38it/s, epoch=16, loss=[0.6352475710257801, 0.5296593756375917]]"
     ]
    },
    {
     "name": "stdout",
     "output_type": "stream",
     "text": [
      "0.008223\n"
     ]
    },
    {
     "name": "stderr",
     "output_type": "stream",
     "text": [
      "Training:  35%|███████████████████████████████████▌                                                                  | 5828/16700 [00:06<00:12, 890.49it/s, epoch=17, loss=[0.634384327662919, 0.5263665959149777]]"
     ]
    },
    {
     "name": "stdout",
     "output_type": "stream",
     "text": [
      "0.008223\n"
     ]
    },
    {
     "name": "stderr",
     "output_type": "stream",
     "text": [
      "Training:  37%|█████████████████████████████████████▍                                                               | 6185/16700 [00:07<00:11, 880.71it/s, epoch=18, loss=[0.6332887478931223, 0.5233662374719178]]"
     ]
    },
    {
     "name": "stdout",
     "output_type": "stream",
     "text": [
      "0.008223\n"
     ]
    },
    {
     "name": "stderr",
     "output_type": "stream",
     "text": [
      "Training:  39%|███████████████████████████████████████                                                              | 6451/16700 [00:07<00:11, 875.08it/s, epoch=19, loss=[0.6325251160267589, 0.5203380393767782]]"
     ]
    },
    {
     "name": "stdout",
     "output_type": "stream",
     "text": [
      "0.008223\n"
     ]
    },
    {
     "name": "stderr",
     "output_type": "stream",
     "text": [
      "Training:  41%|█████████████████████████████████████████▏                                                           | 6811/16700 [00:07<00:11, 876.39it/s, epoch=20, loss=[0.6322520967729076, 0.5185034010938541]]"
     ]
    },
    {
     "name": "stdout",
     "output_type": "stream",
     "text": [
      "0.008223\n"
     ]
    },
    {
     "name": "stderr",
     "output_type": "stream",
     "text": [
      "Training:  43%|███████████████████████████████████████████▎                                                         | 7164/16700 [00:08<00:10, 875.93it/s, epoch=21, loss=[0.6312196804377846, 0.5158057095047957]]"
     ]
    },
    {
     "name": "stdout",
     "output_type": "stream",
     "text": [
      "0.008223\n"
     ]
    },
    {
     "name": "stderr",
     "output_type": "stream",
     "text": [
      "Training:  45%|█████████████████████████████████████████████▍                                                       | 7515/16700 [00:08<00:10, 868.86it/s, epoch=22, loss=[0.6311665630626107, 0.5150886140540686]]"
     ]
    },
    {
     "name": "stdout",
     "output_type": "stream",
     "text": [
      "0.008223\n"
     ]
    },
    {
     "name": "stderr",
     "output_type": "stream",
     "text": [
      "Training:  47%|███████████████████████████████████████████████                                                      | 7780/16700 [00:08<00:10, 875.25it/s, epoch=23, loss=[0.6304087703099504, 0.5124398166547992]]"
     ]
    },
    {
     "name": "stdout",
     "output_type": "stream",
     "text": [
      "0.008223\n"
     ]
    },
    {
     "name": "stderr",
     "output_type": "stream",
     "text": [
      "Training:  49%|█████████████████████████████████████████████████▏                                                   | 8135/16700 [00:09<00:09, 879.71it/s, epoch=24, loss=[0.6296055388307853, 0.5101438969552159]]"
     ]
    },
    {
     "name": "stdout",
     "output_type": "stream",
     "text": [
      "0.008223\n"
     ]
    },
    {
     "name": "stderr",
     "output_type": "stream",
     "text": [
      "Training:  51%|███████████████████████████████████████████████████▎                                                 | 8486/16700 [00:09<00:09, 867.25it/s, epoch=25, loss=[0.6287899095855071, 0.5080075131918856]]"
     ]
    },
    {
     "name": "stdout",
     "output_type": "stream",
     "text": [
      "0.008223\n"
     ]
    },
    {
     "name": "stderr",
     "output_type": "stream",
     "text": [
      "Training:  53%|█████████████████████████████████████████████████████▍                                               | 8840/16700 [00:10<00:08, 877.10it/s, epoch=26, loss=[0.6285054605164212, 0.5070210622099347]]"
     ]
    },
    {
     "name": "stdout",
     "output_type": "stream",
     "text": [
      "0.008223\n"
     ]
    },
    {
     "name": "stderr",
     "output_type": "stream",
     "text": [
      "Training:  55%|███████████████████████████████████████████████████████                                              | 9108/16700 [00:10<00:08, 885.13it/s, epoch=27, loss=[0.6281004994215362, 0.5048212039613437]]"
     ]
    },
    {
     "name": "stdout",
     "output_type": "stream",
     "text": [
      "0.008223\n"
     ]
    },
    {
     "name": "stderr",
     "output_type": "stream",
     "text": [
      "Training:  57%|█████████████████████████████████████████████████████████▊                                            | 9466/16700 [00:10<00:08, 886.36it/s, epoch=28, loss=[0.627399126212754, 0.5031123172023336]]"
     ]
    },
    {
     "name": "stdout",
     "output_type": "stream",
     "text": [
      "0.008223\n"
     ]
    },
    {
     "name": "stderr",
     "output_type": "stream",
     "text": [
      "Training:  59%|███████████████████████████████████████████████████████████▍                                         | 9831/16700 [00:11<00:07, 904.42it/s, epoch=29, loss=[0.6265796947622012, 0.5002201379773147]]"
     ]
    },
    {
     "name": "stdout",
     "output_type": "stream",
     "text": [
      "0.008223\n"
     ]
    },
    {
     "name": "stderr",
     "output_type": "stream",
     "text": [
      "Training:  61%|███████████████████████████████████████████████████████████▉                                       | 10105/16700 [00:11<00:07, 899.91it/s, epoch=30, loss=[0.6265249787690397, 0.49986106746211023]]"
     ]
    },
    {
     "name": "stdout",
     "output_type": "stream",
     "text": [
      "0.008223\n"
     ]
    },
    {
     "name": "stderr",
     "output_type": "stream",
     "text": [
      "Training:  63%|███████████████████████████████████████████████████████████████▎                                     | 10466/16700 [00:11<00:06, 892.70it/s, epoch=31, loss=[0.625787295267254, 0.4980578424330956]]"
     ]
    },
    {
     "name": "stdout",
     "output_type": "stream",
     "text": [
      "0.008223\n"
     ]
    },
    {
     "name": "stderr",
     "output_type": "stream",
     "text": [
      "Training:  65%|████████████████████████████████████████████████████████████████▊                                   | 10826/16700 [00:12<00:06, 889.15it/s, epoch=32, loss=[0.6245944524953466, 0.4941233567848888]]"
     ]
    },
    {
     "name": "stdout",
     "output_type": "stream",
     "text": [
      "0.008223\n"
     ]
    },
    {
     "name": "stderr",
     "output_type": "stream",
     "text": [
      "Training:  67%|███████████████████████████████████████████████████████████████████▋                                 | 11182/16700 [00:12<00:06, 885.51it/s, epoch=33, loss=[0.624188192590268, 0.4931583936342937]]"
     ]
    },
    {
     "name": "stdout",
     "output_type": "stream",
     "text": [
      "0.008223\n"
     ]
    },
    {
     "name": "stderr",
     "output_type": "stream",
     "text": [
      "Training:  69%|████████████████████████████████████████████████████████████████████▌                               | 11452/16700 [00:13<00:05, 896.34it/s, epoch=34, loss=[0.6237453886134896, 0.4918996295529212]]"
     ]
    },
    {
     "name": "stdout",
     "output_type": "stream",
     "text": [
      "0.008223\n"
     ]
    },
    {
     "name": "stderr",
     "output_type": "stream",
     "text": [
      "Training:  71%|██████████████████████████████████████████████████████████████████████▋                             | 11811/16700 [00:13<00:05, 883.16it/s, epoch=35, loss=[0.6235562991239353, 0.4910913671918971]]"
     ]
    },
    {
     "name": "stdout",
     "output_type": "stream",
     "text": [
      "0.008223\n"
     ]
    },
    {
     "name": "stderr",
     "output_type": "stream",
     "text": [
      "Training:  73%|████████████████████████████████████████████████████████████████████████▉                           | 12173/16700 [00:13<00:05, 895.52it/s, epoch=36, loss=[0.6234707746677055, 0.4904012333847088]]"
     ]
    },
    {
     "name": "stdout",
     "output_type": "stream",
     "text": [
      "0.008223\n"
     ]
    },
    {
     "name": "stderr",
     "output_type": "stream",
     "text": [
      "Training:  75%|███████████████████████████████████████████████████████████████████████████                         | 12531/16700 [00:14<00:04, 882.59it/s, epoch=37, loss=[0.6240760184333708, 0.4920025482149181]]"
     ]
    },
    {
     "name": "stdout",
     "output_type": "stream",
     "text": [
      "0.008223\n"
     ]
    },
    {
     "name": "stderr",
     "output_type": "stream",
     "text": [
      "Training:  77%|█████████████████████████████████████████████████████████████████████████████▍                       | 12797/16700 [00:14<00:04, 866.11it/s, epoch=38, loss=[0.623699863156873, 0.4894577154142414]]"
     ]
    },
    {
     "name": "stdout",
     "output_type": "stream",
     "text": [
      "0.008223\n"
     ]
    },
    {
     "name": "stderr",
     "output_type": "stream",
     "text": [
      "Training:  79%|█████████████████████████████████████████████████████████████████████████████▉                     | 13154/16700 [00:14<00:04, 874.20it/s, epoch=39, loss=[0.6222342584661386, 0.48590257995856717]]"
     ]
    },
    {
     "name": "stdout",
     "output_type": "stream",
     "text": [
      "0.008223\n"
     ]
    },
    {
     "name": "stderr",
     "output_type": "stream",
     "text": [
      "Training:  81%|████████████████████████████████████████████████████████████████████████████████▉                   | 13512/16700 [00:15<00:03, 874.34it/s, epoch=40, loss=[0.6216688473781428, 0.4846370973272954]]"
     ]
    },
    {
     "name": "stdout",
     "output_type": "stream",
     "text": [
      "0.008223\n"
     ]
    },
    {
     "name": "stderr",
     "output_type": "stream",
     "text": [
      "Training:  83%|██████████████████████████████████████████████████████████████████████████████████▏                | 13867/16700 [00:15<00:03, 880.52it/s, epoch=41, loss=[0.6215716054339606, 0.48445625415819143]]"
     ]
    },
    {
     "name": "stdout",
     "output_type": "stream",
     "text": [
      "0.008223\n"
     ]
    },
    {
     "name": "stderr",
     "output_type": "stream",
     "text": [
      "Training:  85%|███████████████████████████████████████████████████████████████████████████████████▊               | 14139/16700 [00:16<00:02, 895.74it/s, epoch=42, loss=[0.6223774934243299, 0.48582860666834676]]"
     ]
    },
    {
     "name": "stdout",
     "output_type": "stream",
     "text": [
      "0.008223\n"
     ]
    },
    {
     "name": "stderr",
     "output_type": "stream",
     "text": [
      "Training:  87%|█████████████████████████████████████████████████████████████████████████████████████▉             | 14504/16700 [00:16<00:02, 881.44it/s, epoch=43, loss=[0.6215116610070187, 0.48279812503717623]]"
     ]
    },
    {
     "name": "stdout",
     "output_type": "stream",
     "text": [
      "0.008223\n"
     ]
    },
    {
     "name": "stderr",
     "output_type": "stream",
     "text": [
      "Training:  89%|█████████████████████████████████████████████████████████████████████████████████████████           | 14868/16700 [00:16<00:02, 900.59it/s, epoch=44, loss=[0.6209300899220086, 0.4807853823650383]]"
     ]
    },
    {
     "name": "stdout",
     "output_type": "stream",
     "text": [
      "0.008223\n"
     ]
    },
    {
     "name": "stderr",
     "output_type": "stream",
     "text": [
      "Training:  91%|██████████████████████████████████████████████████████████████████████████████████████████▋         | 15143/16700 [00:17<00:01, 907.32it/s, epoch=45, loss=[0.6199156495625384, 0.4776474630047462]]"
     ]
    },
    {
     "name": "stdout",
     "output_type": "stream",
     "text": [
      "0.008223\n"
     ]
    },
    {
     "name": "stderr",
     "output_type": "stream",
     "text": [
      "Training:  93%|████████████████████████████████████████████████████████████████████████████████████████████▊       | 15505/16700 [00:17<00:01, 886.54it/s, epoch=46, loss=[0.6194867659471706, 0.4767968456545275]]"
     ]
    },
    {
     "name": "stdout",
     "output_type": "stream",
     "text": [
      "0.008223\n"
     ]
    },
    {
     "name": "stderr",
     "output_type": "stream",
     "text": [
      "Training:  95%|██████████████████████████████████████████████████████████████████████████████████████████████▉     | 15862/16700 [00:18<00:00, 880.69it/s, epoch=47, loss=[0.6192003870438674, 0.4747357432713766]]"
     ]
    },
    {
     "name": "stdout",
     "output_type": "stream",
     "text": [
      "0.008223\n"
     ]
    },
    {
     "name": "stderr",
     "output_type": "stream",
     "text": [
      "Training:  97%|███████████████████████████████████████████████████████████████████████████████████████████████▌   | 16127/16700 [00:18<00:00, 875.40it/s, epoch=48, loss=[0.6191007894670177, 0.47476704677421916]]"
     ]
    },
    {
     "name": "stdout",
     "output_type": "stream",
     "text": [
      "0.008223\n"
     ]
    },
    {
     "name": "stderr",
     "output_type": "stream",
     "text": [
      "Training:  99%|██████████████████████████████████████████████████████████████████████████████████████████████████▋ | 16479/16700 [00:18<00:00, 869.90it/s, epoch=49, loss=[0.6184641283429314, 0.4724282956051973]]"
     ]
    },
    {
     "name": "stdout",
     "output_type": "stream",
     "text": [
      "0.008223\n"
     ]
    },
    {
     "name": "stderr",
     "output_type": "stream",
     "text": [
      "Training: 100%|████████████████████████████████████████████████████████████████████████████████████████████████████| 16700/16700 [00:18<00:00, 880.70it/s, epoch=50, loss=[0.6185321493776973, 0.4721237719058992]]\n"
     ]
    },
    {
     "name": "stdout",
     "output_type": "stream",
     "text": [
      "0.008223\n",
      "Training Accuracy: 93.64335270954435%\n",
      "Testing Accuracy: 31.859070464767612%\n",
      "Top 5 Training Accuracy: 99.60622538908682%\n",
      "Top 5 Testing Accuracy: 57.721139430284865%\n",
      "Test to train ratio:  0.3\n",
      "Train Loader: 146\n",
      "Test Loader: 63\n",
      "Network Size: 2048\n",
      "Initialization 1 / 2\n",
      "Complete\n",
      "\n",
      "Initialization 2 / 2\n",
      "Complete\n",
      "\n"
     ]
    },
    {
     "name": "stderr",
     "output_type": "stream",
     "text": [
      "Training:   3%|███▏                                                                                                   | 451/14600 [00:00<00:15, 900.07it/s, epoch=1, loss=[0.6864614531601945, 0.6930574015395284]]"
     ]
    },
    {
     "name": "stdout",
     "output_type": "stream",
     "text": [
      "0.005409\n"
     ]
    },
    {
     "name": "stderr",
     "output_type": "stream",
     "text": [
      "Training:   5%|█████▏                                                                                                   | 725/14600 [00:00<00:15, 904.59it/s, epoch=2, loss=[0.6617639146439016, 0.65917712245902]]"
     ]
    },
    {
     "name": "stdout",
     "output_type": "stream",
     "text": [
      "0.005409\n"
     ]
    },
    {
     "name": "stderr",
     "output_type": "stream",
     "text": [
      "Training:   7%|██████▉                                                                                               | 1000/14600 [00:01<00:14, 907.95it/s, epoch=3, loss=[0.6560471417152716, 0.6302072079214329]]"
     ]
    },
    {
     "name": "stdout",
     "output_type": "stream",
     "text": [
      "0.005409\n"
     ]
    },
    {
     "name": "stderr",
     "output_type": "stream",
     "text": [
      "Training:   9%|████████▉                                                                                             | 1274/14600 [00:01<00:14, 905.35it/s, epoch=4, loss=[0.6520780173883046, 0.6118923854337979]]"
     ]
    },
    {
     "name": "stdout",
     "output_type": "stream",
     "text": [
      "0.007288\n"
     ]
    },
    {
     "name": "stderr",
     "output_type": "stream",
     "text": [
      "Training:  11%|███████████▌                                                                                           | 1640/14600 [00:01<00:14, 902.50it/s, epoch=5, loss=[0.648915803595765, 0.5987956813753467]]"
     ]
    },
    {
     "name": "stdout",
     "output_type": "stream",
     "text": [
      "0.007288\n"
     ]
    },
    {
     "name": "stderr",
     "output_type": "stream",
     "text": [
      "Training:  13%|█████████████▎                                                                                        | 1914/14600 [00:02<00:14, 897.91it/s, epoch=6, loss=[0.6457788058339736, 0.5864954280526671]]"
     ]
    },
    {
     "name": "stdout",
     "output_type": "stream",
     "text": [
      "0.007288\n"
     ]
    },
    {
     "name": "stderr",
     "output_type": "stream",
     "text": [
      "Training:  15%|███████████████▍                                                                                       | 2189/14600 [00:02<00:13, 907.81it/s, epoch=7, loss=[0.643613304993878, 0.5773321700422731]]"
     ]
    },
    {
     "name": "stdout",
     "output_type": "stream",
     "text": [
      "0.007288\n"
     ]
    },
    {
     "name": "stderr",
     "output_type": "stream",
     "text": [
      "Training:  17%|█████████████████▏                                                                                    | 2464/14600 [00:02<00:13, 910.05it/s, epoch=8, loss=[0.6416881913191652, 0.5687872873593683]]"
     ]
    },
    {
     "name": "stdout",
     "output_type": "stream",
     "text": [
      "0.007288\n"
     ]
    },
    {
     "name": "stderr",
     "output_type": "stream",
     "text": [
      "Training:  19%|███████████████████▏                                                                                  | 2739/14600 [00:03<00:13, 897.91it/s, epoch=9, loss=[0.6396711966762801, 0.5605933621321639]]"
     ]
    },
    {
     "name": "stdout",
     "output_type": "stream",
     "text": [
      "0.007288\n"
     ]
    },
    {
     "name": "stderr",
     "output_type": "stream",
     "text": [
      "Training:  21%|████████████████████▊                                                                                | 3013/14600 [00:03<00:12, 904.87it/s, epoch=10, loss=[0.6383263852498304, 0.5543462883119712]]"
     ]
    },
    {
     "name": "stdout",
     "output_type": "stream",
     "text": [
      "0.007288\n"
     ]
    },
    {
     "name": "stderr",
     "output_type": "stream",
     "text": [
      "Training:  23%|███████████████████████▍                                                                             | 3381/14600 [00:03<00:12, 911.59it/s, epoch=11, loss=[0.6372692152245404, 0.5487393226525556]]"
     ]
    },
    {
     "name": "stdout",
     "output_type": "stream",
     "text": [
      "0.007288\n"
     ]
    },
    {
     "name": "stderr",
     "output_type": "stream",
     "text": [
      "Training:  25%|█████████████████████████▎                                                                           | 3657/14600 [00:04<00:12, 910.33it/s, epoch=12, loss=[0.6359653995461666, 0.5431788310612716]]"
     ]
    },
    {
     "name": "stdout",
     "output_type": "stream",
     "text": [
      "0.007288\n"
     ]
    },
    {
     "name": "stderr",
     "output_type": "stream",
     "text": [
      "Training:  27%|███████████████████████████▍                                                                          | 3932/14600 [00:04<00:11, 909.02it/s, epoch=13, loss=[0.634963010271934, 0.5379460796917955]]"
     ]
    },
    {
     "name": "stdout",
     "output_type": "stream",
     "text": [
      "0.007288\n"
     ]
    },
    {
     "name": "stderr",
     "output_type": "stream",
     "text": [
      "Training:  29%|█████████████████████████████                                                                        | 4207/14600 [00:04<00:11, 909.67it/s, epoch=14, loss=[0.6338487332814359, 0.5334274231979289]]"
     ]
    },
    {
     "name": "stdout",
     "output_type": "stream",
     "text": [
      "0.007288\n"
     ]
    },
    {
     "name": "stderr",
     "output_type": "stream",
     "text": [
      "Training:  31%|███████████████████████████████                                                                      | 4483/14600 [00:04<00:11, 910.60it/s, epoch=15, loss=[0.6332784915623595, 0.5307147833582473]]"
     ]
    },
    {
     "name": "stdout",
     "output_type": "stream",
     "text": [
      "0.007288\n"
     ]
    },
    {
     "name": "stderr",
     "output_type": "stream",
     "text": [
      "Training:  33%|█████████████████████████████████▌                                                                   | 4850/14600 [00:05<00:10, 904.79it/s, epoch=16, loss=[0.6320719118804146, 0.5257880030429525]]"
     ]
    },
    {
     "name": "stdout",
     "output_type": "stream",
     "text": [
      "0.007288\n"
     ]
    },
    {
     "name": "stderr",
     "output_type": "stream",
     "text": [
      "Training:  35%|███████████████████████████████████▍                                                                 | 5124/14600 [00:05<00:10, 894.36it/s, epoch=17, loss=[0.6313501090219577, 0.5229800635412949]]"
     ]
    },
    {
     "name": "stdout",
     "output_type": "stream",
     "text": [
      "0.007288\n"
     ]
    },
    {
     "name": "stderr",
     "output_type": "stream",
     "text": [
      "Training:  37%|█████████████████████████████████████▎                                                               | 5393/14600 [00:05<00:10, 886.04it/s, epoch=18, loss=[0.6303376824888461, 0.5193008878459667]]"
     ]
    },
    {
     "name": "stdout",
     "output_type": "stream",
     "text": [
      "0.007288\n"
     ]
    },
    {
     "name": "stderr",
     "output_type": "stream",
     "text": [
      "Training:  39%|███████████████████████████████████████▏                                                             | 5659/14600 [00:06<00:10, 871.95it/s, epoch=19, loss=[0.6299973616044814, 0.5180591800033227]]"
     ]
    },
    {
     "name": "stdout",
     "output_type": "stream",
     "text": [
      "0.007288\n"
     ]
    },
    {
     "name": "stderr",
     "output_type": "stream",
     "text": [
      "Training:  41%|█████████████████████████████████████████▌                                                           | 6008/14600 [00:06<00:09, 865.30it/s, epoch=20, loss=[0.6288983205409896, 0.5138441216047498]]"
     ]
    },
    {
     "name": "stdout",
     "output_type": "stream",
     "text": [
      "0.008324\n"
     ]
    },
    {
     "name": "stderr",
     "output_type": "stream",
     "text": [
      "Training:  43%|███████████████████████████████████████████▎                                                         | 6269/14600 [00:06<00:09, 866.08it/s, epoch=21, loss=[0.6288373017147795, 0.5128649336426226]]"
     ]
    },
    {
     "name": "stdout",
     "output_type": "stream",
     "text": [
      "0.008324\n"
     ]
    },
    {
     "name": "stderr",
     "output_type": "stream",
     "text": [
      "Training:  45%|█████████████████████████████████████████████▏                                                       | 6530/14600 [00:07<00:09, 861.35it/s, epoch=22, loss=[0.6279969235805615, 0.5096832807749916]]"
     ]
    },
    {
     "name": "stdout",
     "output_type": "stream",
     "text": [
      "0.008324\n"
     ]
    },
    {
     "name": "stderr",
     "output_type": "stream",
     "text": [
      "Training:  47%|███████████████████████████████████████████████▌                                                     | 6879/14600 [00:07<00:08, 866.10it/s, epoch=23, loss=[0.6278639660306176, 0.5086790737632207]]"
     ]
    },
    {
     "name": "stdout",
     "output_type": "stream",
     "text": [
      "0.008324\n"
     ]
    },
    {
     "name": "stderr",
     "output_type": "stream",
     "text": [
      "Training:  49%|█████████████████████████████████████████████████▍                                                   | 7141/14600 [00:07<00:08, 866.77it/s, epoch=24, loss=[0.6273064739900095, 0.5058984597251843]]"
     ]
    },
    {
     "name": "stdout",
     "output_type": "stream",
     "text": [
      "0.008324\n"
     ]
    },
    {
     "name": "stderr",
     "output_type": "stream",
     "text": [
      "Training:  51%|███████████████████████████████████████████████████▏                                                 | 7402/14600 [00:08<00:08, 863.53it/s, epoch=25, loss=[0.6267311736328961, 0.5040256197321905]]"
     ]
    },
    {
     "name": "stdout",
     "output_type": "stream",
     "text": [
      "0.008324\n"
     ]
    },
    {
     "name": "stderr",
     "output_type": "stream",
     "text": [
      "Training:  53%|██████████████████████████████████████████████████████▏                                               | 7751/14600 [00:08<00:07, 864.45it/s, epoch=26, loss=[0.625585137573007, 0.5007384729711977]]"
     ]
    },
    {
     "name": "stdout",
     "output_type": "stream",
     "text": [
      "0.008324\n"
     ]
    },
    {
     "name": "stderr",
     "output_type": "stream",
     "text": [
      "Training:  55%|██████████████████████████████████████████████████████▉                                             | 8013/14600 [00:09<00:07, 865.58it/s, epoch=27, loss=[0.6253488578208506, 0.49963110481223005]]"
     ]
    },
    {
     "name": "stdout",
     "output_type": "stream",
     "text": [
      "0.008324\n"
     ]
    },
    {
     "name": "stderr",
     "output_type": "stream",
     "text": [
      "Training:  57%|█████████████████████████████████████████████████████████▏                                           | 8274/14600 [00:09<00:07, 862.37it/s, epoch=28, loss=[0.6244718893750073, 0.4970588998435296]]"
     ]
    },
    {
     "name": "stdout",
     "output_type": "stream",
     "text": [
      "0.008324\n"
     ]
    },
    {
     "name": "stderr",
     "output_type": "stream",
     "text": [
      "Training:  59%|███████████████████████████████████████████████████████████▏                                        | 8637/14600 [00:09<00:06, 895.80it/s, epoch=29, loss=[0.6241589168163197, 0.49592490535076356]]"
     ]
    },
    {
     "name": "stdout",
     "output_type": "stream",
     "text": [
      "0.008324\n"
     ]
    },
    {
     "name": "stderr",
     "output_type": "stream",
     "text": [
      "Training:  61%|██████████████████████████████████████████████████████████████▏                                       | 8910/14600 [00:10<00:06, 899.96it/s, epoch=30, loss=[0.6234378039020383, 0.493860618708885]]"
     ]
    },
    {
     "name": "stdout",
     "output_type": "stream",
     "text": [
      "0.008324\n"
     ]
    },
    {
     "name": "stderr",
     "output_type": "stream",
     "text": [
      "Training:  63%|████████████████████████████████████████████████████████████████▏                                     | 9179/14600 [00:10<00:06, 888.63it/s, epoch=31, loss=[0.62364154890792, 0.49461139126183234]]"
     ]
    },
    {
     "name": "stdout",
     "output_type": "stream",
     "text": [
      "0.008324\n"
     ]
    },
    {
     "name": "stderr",
     "output_type": "stream",
     "text": [
      "Training:  65%|████████████████████████████████████████████████████████████████▋                                   | 9446/14600 [00:10<00:05, 877.72it/s, epoch=32, loss=[0.6222423584493875, 0.49036927541641345]]"
     ]
    },
    {
     "name": "stdout",
     "output_type": "stream",
     "text": [
      "0.008324\n"
     ]
    },
    {
     "name": "stderr",
     "output_type": "stream",
     "text": [
      "Training:  67%|█████████████████████████████████████████████████████████████████████                                  | 9798/14600 [00:11<00:05, 869.32it/s, epoch=33, loss=[0.6216328278796314, 0.48902825643755]]"
     ]
    },
    {
     "name": "stdout",
     "output_type": "stream",
     "text": [
      "0.008324\n"
     ]
    },
    {
     "name": "stderr",
     "output_type": "stream",
     "text": [
      "Training:  69%|████████████████████████████████████████████████████████████████████▏                              | 10059/14600 [00:11<00:05, 862.71it/s, epoch=34, loss=[0.6210572784894138, 0.48733380579785135]]"
     ]
    },
    {
     "name": "stdout",
     "output_type": "stream",
     "text": [
      "0.008324\n"
     ]
    },
    {
     "name": "stderr",
     "output_type": "stream",
     "text": [
      "Training:  71%|█████████████████████████████████████████████████████████████████████▉                             | 10320/14600 [00:11<00:04, 864.08it/s, epoch=35, loss=[0.6209267328863272, 0.48581311004619054]]"
     ]
    },
    {
     "name": "stdout",
     "output_type": "stream",
     "text": [
      "0.008324\n"
     ]
    },
    {
     "name": "stderr",
     "output_type": "stream",
     "text": [
      "Training:  73%|█████████████████████████████████████████████████████████████████████████                           | 10668/14600 [00:12<00:04, 863.71it/s, epoch=36, loss=[0.6205500123435501, 0.4847401768377384]]"
     ]
    },
    {
     "name": "stdout",
     "output_type": "stream",
     "text": [
      "0.008324\n"
     ]
    },
    {
     "name": "stderr",
     "output_type": "stream",
     "text": [
      "Training:  75%|██████████████████████████████████████████████████████████████████████████▊                         | 10929/14600 [00:12<00:04, 855.93it/s, epoch=37, loss=[0.6201721229781842, 0.4835046615502605]]"
     ]
    },
    {
     "name": "stdout",
     "output_type": "stream",
     "text": [
      "0.008324\n"
     ]
    },
    {
     "name": "stderr",
     "output_type": "stream",
     "text": [
      "Training:  77%|████████████████████████████████████████████████████████████████████████████▋                       | 11190/14600 [00:12<00:03, 859.69it/s, epoch=38, loss=[0.6203568826799524, 0.4836103409936985]]"
     ]
    },
    {
     "name": "stdout",
     "output_type": "stream",
     "text": [
      "0.008324\n"
     ]
    },
    {
     "name": "stderr",
     "output_type": "stream",
     "text": [
      "Training:  79%|███████████████████████████████████████████████████████████████████████████████                     | 11537/14600 [00:13<00:03, 853.13it/s, epoch=39, loss=[0.6198559403419497, 0.4825285958917176]]"
     ]
    },
    {
     "name": "stdout",
     "output_type": "stream",
     "text": [
      "0.008324\n"
     ]
    },
    {
     "name": "stderr",
     "output_type": "stream",
     "text": [
      "Training:  81%|███████████████████████████████████████████████████████████████████████████████▉                   | 11796/14600 [00:13<00:03, 859.82it/s, epoch=40, loss=[0.6197987913268886, 0.48163779957653724]]"
     ]
    },
    {
     "name": "stdout",
     "output_type": "stream",
     "text": [
      "0.008324\n"
     ]
    },
    {
     "name": "stderr",
     "output_type": "stream",
     "text": [
      "Training:  83%|███████████████████████████████████████████████████████████████████████████████████▏                | 12143/14600 [00:13<00:02, 863.66it/s, epoch=41, loss=[0.6192904649532006, 0.4803335333931934]]"
     ]
    },
    {
     "name": "stdout",
     "output_type": "stream",
     "text": [
      "0.008324\n"
     ]
    },
    {
     "name": "stderr",
     "output_type": "stream",
     "text": [
      "Training:  85%|████████████████████████████████████████████████████████████████████████████████████▉               | 12404/14600 [00:14<00:02, 860.26it/s, epoch=42, loss=[0.6190742654343174, 0.4792760733055741]]"
     ]
    },
    {
     "name": "stdout",
     "output_type": "stream",
     "text": [
      "0.008324\n"
     ]
    },
    {
     "name": "stderr",
     "output_type": "stream",
     "text": [
      "Training:  87%|██████████████████████████████████████████████████████████████████████████████████████▋             | 12664/14600 [00:14<00:02, 858.64it/s, epoch=43, loss=[0.6182426891914784, 0.4765789663954956]]"
     ]
    },
    {
     "name": "stdout",
     "output_type": "stream",
     "text": [
      "0.008324\n"
     ]
    },
    {
     "name": "stderr",
     "output_type": "stream",
     "text": [
      "Training:  89%|███████████████████████████████████████████████████████████████████████████████████████▋           | 12925/14600 [00:14<00:01, 858.37it/s, epoch=44, loss=[0.6174743216331688, 0.47412084614577354]]"
     ]
    },
    {
     "name": "stdout",
     "output_type": "stream",
     "text": [
      "0.008324\n"
     ]
    },
    {
     "name": "stderr",
     "output_type": "stream",
     "text": [
      "Training:  91%|█████████████████████████████████████████████████████████████████████████████████████████▉         | 13269/14600 [00:15<00:01, 817.52it/s, epoch=45, loss=[0.6165480723936262, 0.47214093253220596]]"
     ]
    },
    {
     "name": "stdout",
     "output_type": "stream",
     "text": [
      "0.008324\n"
     ]
    },
    {
     "name": "stderr",
     "output_type": "stream",
     "text": [
      "Training:  93%|████████████████████████████████████████████████████████████████████████████████████████████▋       | 13533/14600 [00:15<00:01, 855.86it/s, epoch=46, loss=[0.6163877228351488, 0.4712459457247224]]"
     ]
    },
    {
     "name": "stdout",
     "output_type": "stream",
     "text": [
      "0.008324\n"
     ]
    },
    {
     "name": "stderr",
     "output_type": "stream",
     "text": [
      "Training:  95%|███████████████████████████████████████████████████████████████████████████████████████████████     | 13885/14600 [00:15<00:00, 871.68it/s, epoch=47, loss=[0.6159887236275087, 0.4696177656519905]]"
     ]
    },
    {
     "name": "stdout",
     "output_type": "stream",
     "text": [
      "0.008324\n"
     ]
    },
    {
     "name": "stderr",
     "output_type": "stream",
     "text": [
      "Training:  97%|████████████████████████████████████████████████████████████████████████████████████████████████▉   | 14150/14600 [00:16<00:00, 870.17it/s, epoch=48, loss=[0.6155629423383164, 0.4684683117147995]]"
     ]
    },
    {
     "name": "stdout",
     "output_type": "stream",
     "text": [
      "0.008324\n"
     ]
    },
    {
     "name": "stderr",
     "output_type": "stream",
     "text": [
      "Training:  99%|███████████████████████████████████████████████████████████████████████████████████████████████████▋ | 14412/14600 [00:16<00:00, 865.21it/s, epoch=49, loss=[0.615035810290951, 0.4667272330963448]]"
     ]
    },
    {
     "name": "stdout",
     "output_type": "stream",
     "text": [
      "0.008324\n"
     ]
    },
    {
     "name": "stderr",
     "output_type": "stream",
     "text": [
      "Training: 100%|███████████████████████████████████████████████████████████████████████████████████████████████████| 14600/14600 [00:16<00:00, 876.98it/s, epoch=50, loss=[0.6148672883641226, 0.46637990213420316]]\n"
     ]
    },
    {
     "name": "stdout",
     "output_type": "stream",
     "text": [
      "0.008324\n",
      "Training Accuracy: 97.10672953279041%\n",
      "Testing Accuracy: 30.634682658670663%\n",
      "Top 5 Training Accuracy: 99.82854693527646%\n",
      "Top 5 Testing Accuracy: 56.97151424287856%\n",
      "Test to train ratio:  0.4\n",
      "Train Loader: 125\n",
      "Test Loader: 84\n",
      "Network Size: 2048\n",
      "Initialization 1 / 2\n",
      "Complete\n",
      "\n",
      "Initialization 2 / 2\n",
      "Complete\n",
      "\n"
     ]
    },
    {
     "name": "stderr",
     "output_type": "stream",
     "text": [
      "Training:   3%|██▊                                                                                                    | 344/12500 [00:00<00:14, 856.41it/s, epoch=1, loss=[0.6883691697120666, 0.6937124991416931]]"
     ]
    },
    {
     "name": "stdout",
     "output_type": "stream",
     "text": [
      "0.005173\n"
     ]
    },
    {
     "name": "stderr",
     "output_type": "stream",
     "text": [
      "Training:   5%|████▉                                                                                                  | 604/12500 [00:00<00:13, 856.01it/s, epoch=2, loss=[0.6626096787452699, 0.6654873161315917]]"
     ]
    },
    {
     "name": "stdout",
     "output_type": "stream",
     "text": [
      "0.005173\n"
     ]
    },
    {
     "name": "stderr",
     "output_type": "stream",
     "text": [
      "Training:   7%|███████▏                                                                                               | 867/12500 [00:01<00:13, 865.75it/s, epoch=3, loss=[0.6573504018783569, 0.6358761606216431]]"
     ]
    },
    {
     "name": "stdout",
     "output_type": "stream",
     "text": [
      "0.005173\n"
     ]
    },
    {
     "name": "stderr",
     "output_type": "stream",
     "text": [
      "Training:   9%|█████████▎                                                                                             | 1129/12500 [00:01<00:13, 867.33it/s, epoch=4, loss=[0.6528580675125122, 0.617531109333038]]"
     ]
    },
    {
     "name": "stdout",
     "output_type": "stream",
     "text": [
      "0.007977\n"
     ]
    },
    {
     "name": "stderr",
     "output_type": "stream",
     "text": [
      "Training:  11%|███████████▌                                                                                           | 1402/12500 [00:01<00:12, 895.66it/s, epoch=5, loss=[0.6496510171890257, 0.603075891494751]]"
     ]
    },
    {
     "name": "stdout",
     "output_type": "stream",
     "text": [
      "0.007977\n"
     ]
    },
    {
     "name": "stderr",
     "output_type": "stream",
     "text": [
      "Training:  13%|█████████████▋                                                                                        | 1677/12500 [00:01<00:12, 894.37it/s, epoch=6, loss=[0.6477010865211487, 0.5920741014480589]]"
     ]
    },
    {
     "name": "stdout",
     "output_type": "stream",
     "text": [
      "0.007977\n"
     ]
    },
    {
     "name": "stderr",
     "output_type": "stream",
     "text": [
      "Training:  15%|███████████████▏                                                                                      | 1856/12500 [00:02<00:12, 884.30it/s, epoch=7, loss=[0.6444099106788636, 0.5803787608146667]]"
     ]
    },
    {
     "name": "stdout",
     "output_type": "stream",
     "text": [
      "0.007977\n"
     ]
    },
    {
     "name": "stderr",
     "output_type": "stream",
     "text": [
      "Training:  17%|█████████████████▎                                                                                    | 2123/12500 [00:02<00:11, 882.75it/s, epoch=8, loss=[0.6425801725387574, 0.5713565764427189]]"
     ]
    },
    {
     "name": "stdout",
     "output_type": "stream",
     "text": [
      "0.007977\n"
     ]
    },
    {
     "name": "stderr",
     "output_type": "stream",
     "text": [
      "Training:  19%|███████████████████▋                                                                                   | 2391/12500 [00:02<00:11, 886.01it/s, epoch=9, loss=[0.6408512225151062, 0.562925154685974]]"
     ]
    },
    {
     "name": "stdout",
     "output_type": "stream",
     "text": [
      "0.007977\n"
     ]
    },
    {
     "name": "stderr",
     "output_type": "stream",
     "text": [
      "Training:  21%|█████████████████████▌                                                                               | 2661/12500 [00:03<00:11, 886.17it/s, epoch=10, loss=[0.6392899613380434, 0.5561509466171267]]"
     ]
    },
    {
     "name": "stdout",
     "output_type": "stream",
     "text": [
      "0.007977\n"
     ]
    },
    {
     "name": "stderr",
     "output_type": "stream",
     "text": [
      "Training:  23%|██████████████████████▉                                                                              | 2839/12500 [00:03<00:11, 876.93it/s, epoch=11, loss=[0.6378743433952333, 0.5501958384513856]]"
     ]
    },
    {
     "name": "stdout",
     "output_type": "stream",
     "text": [
      "0.007977\n"
     ]
    },
    {
     "name": "stderr",
     "output_type": "stream",
     "text": [
      "Training:  25%|█████████████████████████▏                                                                           | 3112/12500 [00:03<00:10, 896.44it/s, epoch=12, loss=[0.6372901401519777, 0.5447993464469907]]"
     ]
    },
    {
     "name": "stdout",
     "output_type": "stream",
     "text": [
      "0.007977\n"
     ]
    },
    {
     "name": "stderr",
     "output_type": "stream",
     "text": [
      "Training:  27%|███████████████████████████▍                                                                         | 3388/12500 [00:03<00:10, 908.58it/s, epoch=13, loss=[0.6357692623138425, 0.5388814835548401]]"
     ]
    },
    {
     "name": "stdout",
     "output_type": "stream",
     "text": [
      "0.007977\n"
     ]
    },
    {
     "name": "stderr",
     "output_type": "stream",
     "text": [
      "Training:  29%|█████████████████████████████▌                                                                       | 3661/12500 [00:04<00:09, 901.84it/s, epoch=14, loss=[0.6346305894851684, 0.5337120709419252]]"
     ]
    },
    {
     "name": "stdout",
     "output_type": "stream",
     "text": [
      "0.007977\n"
     ]
    },
    {
     "name": "stderr",
     "output_type": "stream",
     "text": [
      "Training:  31%|███████████████████████████████                                                                      | 3843/12500 [00:04<00:09, 898.53it/s, epoch=15, loss=[0.6338615283966067, 0.5307287948131559]]"
     ]
    },
    {
     "name": "stdout",
     "output_type": "stream",
     "text": [
      "0.007977\n"
     ]
    },
    {
     "name": "stderr",
     "output_type": "stream",
     "text": [
      "Training:  33%|█████████████████████████████████▎                                                                   | 4116/12500 [00:04<00:09, 902.78it/s, epoch=16, loss=[0.6331766724586487, 0.5274261465072632]]"
     ]
    },
    {
     "name": "stdout",
     "output_type": "stream",
     "text": [
      "0.007977\n"
     ]
    },
    {
     "name": "stderr",
     "output_type": "stream",
     "text": [
      "Training:  35%|███████████████████████████████████▍                                                                 | 4389/12500 [00:04<00:08, 904.51it/s, epoch=17, loss=[0.6320451235771178, 0.5229220330715179]]"
     ]
    },
    {
     "name": "stdout",
     "output_type": "stream",
     "text": [
      "0.007977\n"
     ]
    },
    {
     "name": "stderr",
     "output_type": "stream",
     "text": [
      "Training:  37%|██████████████████████████████████████▍                                                                | 4663/12500 [00:05<00:08, 901.48it/s, epoch=18, loss=[0.6311626958847044, 0.51990913939476]]"
     ]
    },
    {
     "name": "stdout",
     "output_type": "stream",
     "text": [
      "0.008057\n"
     ]
    },
    {
     "name": "stderr",
     "output_type": "stream",
     "text": [
      "Training:  39%|███████████████████████████████████████▏                                                             | 4846/12500 [00:05<00:08, 905.38it/s, epoch=19, loss=[0.6302876396179196, 0.5161755254268648]]"
     ]
    },
    {
     "name": "stdout",
     "output_type": "stream",
     "text": [
      "0.008057\n"
     ]
    },
    {
     "name": "stderr",
     "output_type": "stream",
     "text": [
      "Training:  41%|█████████████████████████████████████████▍                                                           | 5123/12500 [00:05<00:08, 912.75it/s, epoch=20, loss=[0.6296598224639893, 0.5141743462085727]]"
     ]
    },
    {
     "name": "stdout",
     "output_type": "stream",
     "text": [
      "0.008057\n"
     ]
    },
    {
     "name": "stderr",
     "output_type": "stream",
     "text": [
      "Training:  43%|███████████████████████████████████████████▌                                                         | 5398/12500 [00:06<00:07, 909.10it/s, epoch=21, loss=[0.6289902338981631, 0.5109348649978639]]"
     ]
    },
    {
     "name": "stdout",
     "output_type": "stream",
     "text": [
      "0.008057\n"
     ]
    },
    {
     "name": "stderr",
     "output_type": "stream",
     "text": [
      "Training:  45%|█████████████████████████████████████████████▊                                                       | 5670/12500 [00:06<00:07, 893.83it/s, epoch=22, loss=[0.6288760614395141, 0.5096812176704405]]"
     ]
    },
    {
     "name": "stdout",
     "output_type": "stream",
     "text": [
      "0.008057\n"
     ]
    },
    {
     "name": "stderr",
     "output_type": "stream",
     "text": [
      "Training:  47%|███████████████████████████████████████████████▎                                                     | 5849/12500 [00:06<00:07, 885.61it/s, epoch=23, loss=[0.6283523421287536, 0.5080828316211701]]"
     ]
    },
    {
     "name": "stdout",
     "output_type": "stream",
     "text": [
      "0.008057\n"
     ]
    },
    {
     "name": "stderr",
     "output_type": "stream",
     "text": [
      "Training:  49%|█████████████████████████████████████████████████▍                                                   | 6115/12500 [00:06<00:07, 875.19it/s, epoch=24, loss=[0.6277693343162535, 0.5057032411098483]]"
     ]
    },
    {
     "name": "stdout",
     "output_type": "stream",
     "text": [
      "0.008057\n"
     ]
    },
    {
     "name": "stderr",
     "output_type": "stream",
     "text": [
      "Training:  51%|████████████████████████████████████████████████████                                                  | 6378/12500 [00:07<00:07, 863.71it/s, epoch=25, loss=[0.6264915390014649, 0.501490529060364]]"
     ]
    },
    {
     "name": "stdout",
     "output_type": "stream",
     "text": [
      "0.008057\n"
     ]
    },
    {
     "name": "stderr",
     "output_type": "stream",
     "text": [
      "Training:  53%|█████████████████████████████████████████████████████▏                                              | 6642/12500 [00:07<00:06, 867.25it/s, epoch=26, loss=[0.6255614004135133, 0.49866895270347616]]"
     ]
    },
    {
     "name": "stdout",
     "output_type": "stream",
     "text": [
      "0.008057\n"
     ]
    },
    {
     "name": "stderr",
     "output_type": "stream",
     "text": [
      "Training:  55%|███████████████████████████████████████████████████████▊                                             | 6908/12500 [00:07<00:06, 870.66it/s, epoch=27, loss=[0.625051687717438, 0.49780547857284557]]"
     ]
    },
    {
     "name": "stdout",
     "output_type": "stream",
     "text": [
      "0.008057\n"
     ]
    },
    {
     "name": "stderr",
     "output_type": "stream",
     "text": [
      "Training:  57%|█████████████████████████████████████████████████████████▎                                          | 7170/12500 [00:08<00:06, 865.90it/s, epoch=28, loss=[0.6243845214843753, 0.49522472429275516]]"
     ]
    },
    {
     "name": "stdout",
     "output_type": "stream",
     "text": [
      "0.008202\n"
     ]
    },
    {
     "name": "stderr",
     "output_type": "stream",
     "text": [
      "Training:  59%|██████████████████████████████████████████████████████████▊                                         | 7349/12500 [00:08<00:05, 876.89it/s, epoch=29, loss=[0.6243923392295839, 0.49480831146240245]]"
     ]
    },
    {
     "name": "stdout",
     "output_type": "stream",
     "text": [
      "0.008202\n"
     ]
    },
    {
     "name": "stderr",
     "output_type": "stream",
     "text": [
      "Training:  61%|█████████████████████████████████████████████████████████████▌                                       | 7615/12500 [00:08<00:05, 868.13it/s, epoch=30, loss=[0.6236882157325744, 0.4928180277347563]]"
     ]
    },
    {
     "name": "stdout",
     "output_type": "stream",
     "text": [
      "0.008202\n"
     ]
    },
    {
     "name": "stderr",
     "output_type": "stream",
     "text": [
      "Training:  63%|███████████████████████████████████████████████████████████████                                     | 7876/12500 [00:08<00:05, 865.11it/s, epoch=31, loss=[0.6234144334793092, 0.49120421743392934]]"
     ]
    },
    {
     "name": "stdout",
     "output_type": "stream",
     "text": [
      "0.008202\n"
     ]
    },
    {
     "name": "stderr",
     "output_type": "stream",
     "text": [
      "Training:  65%|██████████████████████████████████████████████████████████████████▍                                   | 8137/12500 [00:09<00:05, 860.23it/s, epoch=32, loss=[0.6228737134933471, 0.490088959693909]]"
     ]
    },
    {
     "name": "stdout",
     "output_type": "stream",
     "text": [
      "0.008202\n"
     ]
    },
    {
     "name": "stderr",
     "output_type": "stream",
     "text": [
      "Training:  67%|███████████████████████████████████████████████████████████████████▏                                | 8398/12500 [00:09<00:04, 860.73it/s, epoch=33, loss=[0.6223137831687925, 0.48795434784889236]]"
     ]
    },
    {
     "name": "stdout",
     "output_type": "stream",
     "text": [
      "0.008202\n"
     ]
    },
    {
     "name": "stderr",
     "output_type": "stream",
     "text": [
      "Training:  69%|█████████████████████████████████████████████████████████████████████▉                               | 8659/12500 [00:09<00:04, 861.34it/s, epoch=34, loss=[0.621680556297302, 0.48603634905815124]]"
     ]
    },
    {
     "name": "stdout",
     "output_type": "stream",
     "text": [
      "0.008202\n"
     ]
    },
    {
     "name": "stderr",
     "output_type": "stream",
     "text": [
      "Training:  71%|████████████████████████████████████████████████████████████████████████                             | 8919/12500 [00:10<00:04, 856.10it/s, epoch=35, loss=[0.6208876218795776, 0.4841804201602937]]"
     ]
    },
    {
     "name": "stdout",
     "output_type": "stream",
     "text": [
      "0.008202\n"
     ]
    },
    {
     "name": "stderr",
     "output_type": "stream",
     "text": [
      "Training:  73%|████████████████████████████████████████████████████████████████████████▋                           | 9092/12500 [00:10<00:03, 856.88it/s, epoch=36, loss=[0.6206483964920042, 0.48366761779785145]]"
     ]
    },
    {
     "name": "stdout",
     "output_type": "stream",
     "text": [
      "0.008202\n"
     ]
    },
    {
     "name": "stderr",
     "output_type": "stream",
     "text": [
      "Training:  75%|███████████████████████████████████████████████████████████████████████████▌                         | 9351/12500 [00:10<00:03, 859.55it/s, epoch=37, loss=[0.6196711139678959, 0.4798169670104979]]"
     ]
    },
    {
     "name": "stdout",
     "output_type": "stream",
     "text": [
      "0.008202\n"
     ]
    },
    {
     "name": "stderr",
     "output_type": "stream",
     "text": [
      "Training:  77%|████████████████████████████████████████████████████████████████████████████▉                       | 9610/12500 [00:10<00:03, 859.05it/s, epoch=38, loss=[0.6200199251174928, 0.48045248746871966]]"
     ]
    },
    {
     "name": "stdout",
     "output_type": "stream",
     "text": [
      "0.008202\n"
     ]
    },
    {
     "name": "stderr",
     "output_type": "stream",
     "text": [
      "Training:  79%|██████████████████████████████████████████████████████████████████████████████▉                     | 9871/12500 [00:11<00:03, 802.97it/s, epoch=39, loss=[0.6192142348289492, 0.47760874366760264]]"
     ]
    },
    {
     "name": "stdout",
     "output_type": "stream",
     "text": [
      "0.008202\n"
     ]
    },
    {
     "name": "stderr",
     "output_type": "stream",
     "text": [
      "Training:  81%|█████████████████████████████████████████████████████████████████████████████████                   | 10128/12500 [00:11<00:02, 838.55it/s, epoch=40, loss=[0.6186515274047851, 0.4761786005496979]]"
     ]
    },
    {
     "name": "stdout",
     "output_type": "stream",
     "text": [
      "0.008202\n"
     ]
    },
    {
     "name": "stderr",
     "output_type": "stream",
     "text": [
      "Training:  83%|██████████████████████████████████████████████████████████████████████████████████▎                | 10394/12500 [00:11<00:02, 866.50it/s, epoch=41, loss=[0.6177988748550415, 0.47334269642829924]]"
     ]
    },
    {
     "name": "stdout",
     "output_type": "stream",
     "text": [
      "0.008202\n"
     ]
    },
    {
     "name": "stderr",
     "output_type": "stream",
     "text": [
      "Training:  85%|██████████████████████████████████████████████████████████████████████████████████████               | 10659/12500 [00:12<00:02, 860.98it/s, epoch=42, loss=[0.6178155002593998, 0.473856267929077]]"
     ]
    },
    {
     "name": "stdout",
     "output_type": "stream",
     "text": [
      "0.008202\n"
     ]
    },
    {
     "name": "stderr",
     "output_type": "stream",
     "text": [
      "Training:  87%|██████████████████████████████████████████████████████████████████████████████████████▋             | 10834/12500 [00:12<00:01, 860.68it/s, epoch=43, loss=[0.6181024394035338, 0.4747342271804808]]"
     ]
    },
    {
     "name": "stdout",
     "output_type": "stream",
     "text": [
      "0.008202\n"
     ]
    },
    {
     "name": "stderr",
     "output_type": "stream",
     "text": [
      "Training:  89%|████████████████████████████████████████████████████████████████████████████████████████▊           | 11094/12500 [00:12<00:01, 855.71it/s, epoch=44, loss=[0.6184551572799681, 0.4757072916030886]]"
     ]
    },
    {
     "name": "stdout",
     "output_type": "stream",
     "text": [
      "0.008202\n"
     ]
    },
    {
     "name": "stderr",
     "output_type": "stream",
     "text": [
      "Training:  91%|███████████████████████████████████████████████████████████████████████████████████████████▊         | 11361/12500 [00:13<00:01, 869.60it/s, epoch=45, loss=[0.618071226119995, 0.4743687036037445]]"
     ]
    },
    {
     "name": "stdout",
     "output_type": "stream",
     "text": [
      "0.008202\n"
     ]
    },
    {
     "name": "stderr",
     "output_type": "stream",
     "text": [
      "Training:  93%|████████████████████████████████████████████████████████████████████████████████████████████▉       | 11624/12500 [00:13<00:01, 868.67it/s, epoch=46, loss=[0.6174453010559081, 0.4721793177127835]]"
     ]
    },
    {
     "name": "stdout",
     "output_type": "stream",
     "text": [
      "0.008202\n"
     ]
    },
    {
     "name": "stderr",
     "output_type": "stream",
     "text": [
      "Training:  95%|████████████████████████████████████████████████████████████████████████████████████████████████     | 11889/12500 [00:13<00:00, 875.99it/s, epoch=47, loss=[0.617777415752411, 0.4718543038368224]]"
     ]
    },
    {
     "name": "stdout",
     "output_type": "stream",
     "text": [
      "0.008202\n"
     ]
    },
    {
     "name": "stderr",
     "output_type": "stream",
     "text": [
      "Training:  97%|████████████████████████████████████████████████████████████████████████████████████████████████▎  | 12155/12500 [00:13<00:00, 877.41it/s, epoch=48, loss=[0.6172897934913634, 0.47012535834312447]]"
     ]
    },
    {
     "name": "stdout",
     "output_type": "stream",
     "text": [
      "0.008202\n"
     ]
    },
    {
     "name": "stderr",
     "output_type": "stream",
     "text": [
      "Training:  99%|████████████████████████████████████████████████████████████████████████████████████████████████████▎| 12419/12500 [00:14<00:00, 868.56it/s, epoch=49, loss=[0.6171205682754519, 0.470842250108719]]"
     ]
    },
    {
     "name": "stdout",
     "output_type": "stream",
     "text": [
      "0.008202\n"
     ]
    },
    {
     "name": "stderr",
     "output_type": "stream",
     "text": [
      "Training: 100%|████████████████████████████████████████████████████████████████████████████████████████████████████| 12500/12500 [00:14<00:00, 872.94it/s, epoch=50, loss=[0.6165511913299563, 0.4688577189445496]]\n"
     ]
    },
    {
     "name": "stdout",
     "output_type": "stream",
     "text": [
      "0.008202\n",
      "Training Accuracy: 96.8%\n",
      "Testing Accuracy: 28.758905136857894%\n",
      "Top 5 Training Accuracy: 99.9%\n",
      "Top 5 Testing Accuracy: 52.23097112860893%\n",
      "Test to train ratio:  0.5\n",
      "Train Loader: 105\n",
      "Test Loader: 105\n",
      "Network Size: 2048\n",
      "Initialization 1 / 2\n",
      "Complete\n",
      "\n",
      "Initialization 2 / 2\n",
      "Complete\n",
      "\n"
     ]
    },
    {
     "name": "stderr",
     "output_type": "stream",
     "text": [
      "Training:   3%|███▍                                                                                                   | 350/10500 [00:00<00:11, 870.20it/s, epoch=1, loss=[0.6892796516418457, 0.6933728399730864]]"
     ]
    },
    {
     "name": "stdout",
     "output_type": "stream",
     "text": [
      "0.005267\n"
     ]
    },
    {
     "name": "stderr",
     "output_type": "stream",
     "text": [
      "Training:   5%|█████▏                                                                                                 | 525/10500 [00:00<00:11, 858.54it/s, epoch=2, loss=[0.6651671494756427, 0.6749743081274486]]"
     ]
    },
    {
     "name": "stdout",
     "output_type": "stream",
     "text": [
      "0.005267\n"
     ]
    },
    {
     "name": "stderr",
     "output_type": "stream",
     "text": [
      "Training:   8%|███████▋                                                                                               | 789/10500 [00:00<00:11, 871.41it/s, epoch=3, loss=[0.6558532255036491, 0.6436167887278965]]"
     ]
    },
    {
     "name": "stdout",
     "output_type": "stream",
     "text": [
      "0.005267\n"
     ]
    },
    {
     "name": "stderr",
     "output_type": "stream",
     "text": [
      "Training:   9%|█████████▌                                                                                             | 969/10500 [00:01<00:10, 870.34it/s, epoch=4, loss=[0.6523793305669511, 0.6256314504714241]]"
     ]
    },
    {
     "name": "stdout",
     "output_type": "stream",
     "text": [
      "0.005267\n"
     ]
    },
    {
     "name": "stderr",
     "output_type": "stream",
     "text": [
      "Training:  11%|███████████▏                                                                                          | 1150/10500 [00:01<00:10, 888.12it/s, epoch=5, loss=[0.6480502264840264, 0.6092829919996715]]"
     ]
    },
    {
     "name": "stdout",
     "output_type": "stream",
     "text": [
      "0.008321\n"
     ]
    },
    {
     "name": "stderr",
     "output_type": "stream",
     "text": [
      "Training:  14%|█████████████▊                                                                                        | 1425/10500 [00:01<00:10, 897.49it/s, epoch=6, loss=[0.6461462327412197, 0.5978817167736233]]"
     ]
    },
    {
     "name": "stdout",
     "output_type": "stream",
     "text": [
      "0.008321\n"
     ]
    },
    {
     "name": "stderr",
     "output_type": "stream",
     "text": [
      "Training:  15%|███████████████▋                                                                                      | 1611/10500 [00:01<00:09, 909.64it/s, epoch=7, loss=[0.6423392954326812, 0.5846620298567271]]"
     ]
    },
    {
     "name": "stdout",
     "output_type": "stream",
     "text": [
      "0.008321\n"
     ]
    },
    {
     "name": "stderr",
     "output_type": "stream",
     "text": [
      "Training:  17%|█████████████████▍                                                                                    | 1795/10500 [00:02<00:09, 899.65it/s, epoch=8, loss=[0.6397752046585083, 0.5733282827195667]]"
     ]
    },
    {
     "name": "stdout",
     "output_type": "stream",
     "text": [
      "0.008321\n"
     ]
    },
    {
     "name": "stderr",
     "output_type": "stream",
     "text": [
      "Training:  19%|███████████████████▍                                                                                   | 1976/10500 [00:02<00:09, 892.92it/s, epoch=9, loss=[0.6382251921154205, 0.565274467354729]]"
     ]
    },
    {
     "name": "stdout",
     "output_type": "stream",
     "text": [
      "0.008321\n"
     ]
    },
    {
     "name": "stderr",
     "output_type": "stream",
     "text": [
      "Training:  21%|█████████████████████▌                                                                               | 2246/10500 [00:02<00:09, 882.11it/s, epoch=10, loss=[0.6370964334124607, 0.5578363702410744]]"
     ]
    },
    {
     "name": "stdout",
     "output_type": "stream",
     "text": [
      "0.008321\n"
     ]
    },
    {
     "name": "stderr",
     "output_type": "stream",
     "text": [
      "Training:  23%|███████████████████████▎                                                                             | 2423/10500 [00:02<00:09, 873.96it/s, epoch=11, loss=[0.6349887569745382, 0.5506155678204127]]"
     ]
    },
    {
     "name": "stdout",
     "output_type": "stream",
     "text": [
      "0.008321\n"
     ]
    },
    {
     "name": "stderr",
     "output_type": "stream",
     "text": [
      "Training:  26%|█████████████████████████▉                                                                           | 2692/10500 [00:03<00:08, 888.04it/s, epoch=12, loss=[0.6331424117088312, 0.5426437701497762]]"
     ]
    },
    {
     "name": "stdout",
     "output_type": "stream",
     "text": [
      "0.008321\n"
     ]
    },
    {
     "name": "stderr",
     "output_type": "stream",
     "text": [
      "Training:  27%|███████████████████████████▋                                                                         | 2875/10500 [00:03<00:08, 900.11it/s, epoch=13, loss=[0.6326065971737818, 0.5377972966148741]]"
     ]
    },
    {
     "name": "stdout",
     "output_type": "stream",
     "text": [
      "0.008321\n"
     ]
    },
    {
     "name": "stderr",
     "output_type": "stream",
     "text": [
      "Training:  29%|█████████████████████████████▍                                                                       | 3059/10500 [00:03<00:08, 907.33it/s, epoch=14, loss=[0.6312765995661419, 0.5314082494803837]]"
     ]
    },
    {
     "name": "stdout",
     "output_type": "stream",
     "text": [
      "0.008321\n"
     ]
    },
    {
     "name": "stderr",
     "output_type": "stream",
     "text": [
      "Training:  31%|███████████████████████████████▍                                                                      | 3240/10500 [00:03<00:08, 884.41it/s, epoch=15, loss=[0.630684769153595, 0.5270853394553773]]"
     ]
    },
    {
     "name": "stdout",
     "output_type": "stream",
     "text": [
      "0.008321\n"
     ]
    },
    {
     "name": "stderr",
     "output_type": "stream",
     "text": [
      "Training:  33%|█████████████████████████████████▋                                                                   | 3507/10500 [00:03<00:08, 872.91it/s, epoch=16, loss=[0.6291482942444937, 0.5228747492744807]]"
     ]
    },
    {
     "name": "stdout",
     "output_type": "stream",
     "text": [
      "0.008321\n"
     ]
    },
    {
     "name": "stderr",
     "output_type": "stream",
     "text": [
      "Training:  35%|███████████████████████████████████▍                                                                 | 3685/10500 [00:04<00:07, 878.41it/s, epoch=17, loss=[0.6281441955339344, 0.5184405077071419]]"
     ]
    },
    {
     "name": "stdout",
     "output_type": "stream",
     "text": [
      "0.008321\n"
     ]
    },
    {
     "name": "stderr",
     "output_type": "stream",
     "text": [
      "Training:  38%|██████████████████████████████████████                                                               | 3954/10500 [00:04<00:07, 884.13it/s, epoch=18, loss=[0.6273049405642916, 0.5143992966129668]]"
     ]
    },
    {
     "name": "stdout",
     "output_type": "stream",
     "text": [
      "0.008321\n"
     ]
    },
    {
     "name": "stderr",
     "output_type": "stream",
     "text": [
      "Training:  39%|███████████████████████████████████████▊                                                             | 4133/10500 [00:04<00:07, 886.62it/s, epoch=19, loss=[0.6267647987320312, 0.5117662001223788]]"
     ]
    },
    {
     "name": "stdout",
     "output_type": "stream",
     "text": [
      "0.008321\n"
     ]
    },
    {
     "name": "stderr",
     "output_type": "stream",
     "text": [
      "Training:  41%|█████████████████████████████████████████▍                                                           | 4310/10500 [00:04<00:07, 873.77it/s, epoch=20, loss=[0.6259983051390875, 0.5090170522530874]]"
     ]
    },
    {
     "name": "stdout",
     "output_type": "stream",
     "text": [
      "0.008321\n"
     ]
    },
    {
     "name": "stderr",
     "output_type": "stream",
     "text": [
      "Training:  44%|███████████████████████████████████████████▉                                                         | 4573/10500 [00:05<00:06, 869.14it/s, epoch=21, loss=[0.6247699987320675, 0.5044513336249757]]"
     ]
    },
    {
     "name": "stdout",
     "output_type": "stream",
     "text": [
      "0.008321\n"
     ]
    },
    {
     "name": "stderr",
     "output_type": "stream",
     "text": [
      "Training:  45%|█████████████████████████████████████████████▋                                                       | 4748/10500 [00:05<00:06, 869.10it/s, epoch=22, loss=[0.6242220532326472, 0.5018928513640448]]"
     ]
    },
    {
     "name": "stdout",
     "output_type": "stream",
     "text": [
      "0.008321\n"
     ]
    },
    {
     "name": "stderr",
     "output_type": "stream",
     "text": [
      "Training:  47%|███████████████████████████████████████████████▎                                                     | 4923/10500 [00:05<00:06, 869.39it/s, epoch=23, loss=[0.6241320104826064, 0.5011151120776225]]"
     ]
    },
    {
     "name": "stdout",
     "output_type": "stream",
     "text": [
      "0.008321\n"
     ]
    },
    {
     "name": "stderr",
     "output_type": "stream",
     "text": [
      "Training:  49%|█████████████████████████████████████████████████▎                                                  | 5184/10500 [00:05<00:06, 865.59it/s, epoch=24, loss=[0.6242624146597725, 0.49938314386776517]]"
     ]
    },
    {
     "name": "stdout",
     "output_type": "stream",
     "text": [
      "0.008321\n"
     ]
    },
    {
     "name": "stderr",
     "output_type": "stream",
     "text": [
      "Training:  51%|███████████████████████████████████████████████████▌                                                 | 5358/10500 [00:06<00:05, 864.23it/s, epoch=25, loss=[0.6238696717080616, 0.4977349806399572]]"
     ]
    },
    {
     "name": "stdout",
     "output_type": "stream",
     "text": [
      "0.008321\n"
     ]
    },
    {
     "name": "stderr",
     "output_type": "stream",
     "text": [
      "Training:  54%|██████████████████████████████████████████████████████▌                                               | 5621/10500 [00:06<00:05, 867.83it/s, epoch=26, loss=[0.6233446314221337, 0.495624936194647]]"
     ]
    },
    {
     "name": "stdout",
     "output_type": "stream",
     "text": [
      "0.008321\n"
     ]
    },
    {
     "name": "stderr",
     "output_type": "stream",
     "text": [
      "Training:  55%|███████████████████████████████████████████████████████▏                                            | 5795/10500 [00:06<00:05, 866.60it/s, epoch=27, loss=[0.6236127813657124, 0.49500983272280014]]"
     ]
    },
    {
     "name": "stdout",
     "output_type": "stream",
     "text": [
      "0.008321\n"
     ]
    },
    {
     "name": "stderr",
     "output_type": "stream",
     "text": [
      "Training:  57%|█████████████████████████████████████████████████████████▍                                           | 5969/10500 [00:06<00:05, 864.89it/s, epoch=28, loss=[0.6227232723009015, 0.4911980345135642]]"
     ]
    },
    {
     "name": "stdout",
     "output_type": "stream",
     "text": [
      "0.008321\n"
     ]
    },
    {
     "name": "stderr",
     "output_type": "stream",
     "text": [
      "Training:  59%|███████████████████████████████████████████████████████████▎                                        | 6230/10500 [00:07<00:04, 866.15it/s, epoch=29, loss=[0.6214523673057558, 0.48789772675150916]]"
     ]
    },
    {
     "name": "stdout",
     "output_type": "stream",
     "text": [
      "0.008321\n"
     ]
    },
    {
     "name": "stderr",
     "output_type": "stream",
     "text": [
      "Training:  61%|█████████████████████████████████████████████████████████████▌                                       | 6405/10500 [00:07<00:04, 867.33it/s, epoch=30, loss=[0.622341648169926, 0.49061867481186255]]"
     ]
    },
    {
     "name": "stdout",
     "output_type": "stream",
     "text": [
      "0.008321\n"
     ]
    },
    {
     "name": "stderr",
     "output_type": "stream",
     "text": [
      "Training:  63%|████████████████████████████████████████████████████████████████▏                                    | 6667/10500 [00:07<00:04, 867.25it/s, epoch=31, loss=[0.6213476266179768, 0.4870071033636729]]"
     ]
    },
    {
     "name": "stdout",
     "output_type": "stream",
     "text": [
      "0.008321\n"
     ]
    },
    {
     "name": "stderr",
     "output_type": "stream",
     "text": [
      "Training:  65%|█████████████████████████████████████████████████████████████████▏                                  | 6847/10500 [00:07<00:04, 877.06it/s, epoch=32, loss=[0.6207193346250625, 0.48462749804769256]]"
     ]
    },
    {
     "name": "stdout",
     "output_type": "stream",
     "text": [
      "0.008321\n"
     ]
    },
    {
     "name": "stderr",
     "output_type": "stream",
     "text": [
      "Training:  67%|██████████████████████████████████████████████████████████████████▉                                 | 7028/10500 [00:08<00:03, 884.55it/s, epoch=33, loss=[0.6206707574072339, 0.48416127136775433]]"
     ]
    },
    {
     "name": "stdout",
     "output_type": "stream",
     "text": [
      "0.008321\n"
     ]
    },
    {
     "name": "stderr",
     "output_type": "stream",
     "text": [
      "Training:  70%|██████████████████████████████████████████████████████████████████████▏                              | 7298/10500 [00:08<00:03, 892.84it/s, epoch=34, loss=[0.6203762758345833, 0.4827067238943917]]"
     ]
    },
    {
     "name": "stdout",
     "output_type": "stream",
     "text": [
      "0.008321\n"
     ]
    },
    {
     "name": "stderr",
     "output_type": "stream",
     "text": [
      "Training:  71%|███████████████████████████████████████████████████████████████████████▏                            | 7477/10500 [00:08<00:03, 879.33it/s, epoch=35, loss=[0.6196281989415485, 0.48004049091112067]]"
     ]
    },
    {
     "name": "stdout",
     "output_type": "stream",
     "text": [
      "0.008321\n"
     ]
    },
    {
     "name": "stderr",
     "output_type": "stream",
     "text": [
      "Training:  73%|█████████████████████████████████████████████████████████████████████████▌                           | 7653/10500 [00:08<00:03, 871.23it/s, epoch=36, loss=[0.6193468201728092, 0.4802301063424064]]"
     ]
    },
    {
     "name": "stdout",
     "output_type": "stream",
     "text": [
      "0.008321\n"
     ]
    },
    {
     "name": "stderr",
     "output_type": "stream",
     "text": [
      "Training:  75%|██████████████████████████████████████████████████████████████████████████▌                         | 7829/10500 [00:08<00:03, 870.72it/s, epoch=37, loss=[0.6179828263464429, 0.47491785117558066]]"
     ]
    },
    {
     "name": "stdout",
     "output_type": "stream",
     "text": [
      "0.008321\n"
     ]
    },
    {
     "name": "stderr",
     "output_type": "stream",
     "text": [
      "Training:  77%|█████████████████████████████████████████████████████████████████████████████▊                       | 8084/10500 [00:09<00:03, 795.87it/s, epoch=38, loss=[0.6176587065060933, 0.4740006736346653]]"
     ]
    },
    {
     "name": "stdout",
     "output_type": "stream",
     "text": [
      "0.008321\n"
     ]
    },
    {
     "name": "stderr",
     "output_type": "stream",
     "text": [
      "Training:  80%|█████████████████████████████████████████████████████████████████████████████████                     | 8351/10500 [00:09<00:02, 850.35it/s, epoch=39, loss=[0.6170545805068243, 0.472358974672499]]"
     ]
    },
    {
     "name": "stdout",
     "output_type": "stream",
     "text": [
      "0.008321\n"
     ]
    },
    {
     "name": "stderr",
     "output_type": "stream",
     "text": [
      "Training:  81%|██████████████████████████████████████████████████████████████████████████████████                   | 8526/10500 [00:09<00:02, 858.26it/s, epoch=40, loss=[0.6174862980842589, 0.4721347726526715]]"
     ]
    },
    {
     "name": "stdout",
     "output_type": "stream",
     "text": [
      "0.008321\n"
     ]
    },
    {
     "name": "stderr",
     "output_type": "stream",
     "text": [
      "Training:  83%|██████████████████████████████████████████████████████████████████████████████████▊                 | 8700/10500 [00:09<00:02, 863.31it/s, epoch=41, loss=[0.6178995189212617, 0.47252548791113336]]"
     ]
    },
    {
     "name": "stdout",
     "output_type": "stream",
     "text": [
      "0.008321\n"
     ]
    },
    {
     "name": "stderr",
     "output_type": "stream",
     "text": [
      "Training:  85%|██████████████████████████████████████████████████████████████████████████████████████▎              | 8969/10500 [00:10<00:01, 882.23it/s, epoch=42, loss=[0.6171047977038793, 0.4714723152773721]]"
     ]
    },
    {
     "name": "stdout",
     "output_type": "stream",
     "text": [
      "0.008321\n"
     ]
    },
    {
     "name": "stderr",
     "output_type": "stream",
     "text": [
      "Training:  87%|███████████████████████████████████████████████████████████████████████████████████████▉             | 9147/10500 [00:10<00:01, 879.65it/s, epoch=43, loss=[0.6169972402708871, 0.4708074700264704]]"
     ]
    },
    {
     "name": "stdout",
     "output_type": "stream",
     "text": [
      "0.008321\n"
     ]
    },
    {
     "name": "stderr",
     "output_type": "stream",
     "text": [
      "Training:  90%|██████████████████████████████████████████████████████████████████████████████████████████▌          | 9414/10500 [00:10<00:01, 877.75it/s, epoch=44, loss=[0.6169978090694973, 0.4698798486164638]]"
     ]
    },
    {
     "name": "stdout",
     "output_type": "stream",
     "text": [
      "0.008321\n"
     ]
    },
    {
     "name": "stderr",
     "output_type": "stream",
     "text": [
      "Training:  91%|████████████████████████████████████████████████████████████████████████████████████████████▎        | 9594/10500 [00:10<00:01, 887.28it/s, epoch=45, loss=[0.6157324728511627, 0.4659719177654813]]"
     ]
    },
    {
     "name": "stdout",
     "output_type": "stream",
     "text": [
      "0.008321\n"
     ]
    },
    {
     "name": "stderr",
     "output_type": "stream",
     "text": [
      "Training:  93%|█████████████████████████████████████████████████████████████████████████████████████████████       | 9775/10500 [00:11<00:00, 895.81it/s, epoch=46, loss=[0.6157889241263981, 0.46482511560122197]]"
     ]
    },
    {
     "name": "stdout",
     "output_type": "stream",
     "text": [
      "0.008321\n"
     ]
    },
    {
     "name": "stderr",
     "output_type": "stream",
     "text": [
      "Training:  96%|██████████████████████████████████████████████████████████████████████████████████████████████▊    | 10050/10500 [00:11<00:00, 907.26it/s, epoch=47, loss=[0.6155462361517409, 0.46484208106994634]]"
     ]
    },
    {
     "name": "stdout",
     "output_type": "stream",
     "text": [
      "0.008321\n"
     ]
    },
    {
     "name": "stderr",
     "output_type": "stream",
     "text": [
      "Training:  97%|████████████████████████████████████████████████████████████████████████████████████████████████▍  | 10233/10500 [00:11<00:00, 908.09it/s, epoch=48, loss=[0.6168660544213794, 0.46909170150756846]]"
     ]
    },
    {
     "name": "stdout",
     "output_type": "stream",
     "text": [
      "0.008321\n"
     ]
    },
    {
     "name": "stderr",
     "output_type": "stream",
     "text": [
      "Training:  99%|██████████████████████████████████████████████████████████████████████████████████████████████████▏| 10415/10500 [00:11<00:00, 907.35it/s, epoch=49, loss=[0.6162513908885774, 0.46650618626957846]]"
     ]
    },
    {
     "name": "stdout",
     "output_type": "stream",
     "text": [
      "0.008321\n"
     ]
    },
    {
     "name": "stderr",
     "output_type": "stream",
     "text": [
      "Training: 100%|███████████████████████████████████████████████████████████████████████████████████████████████████| 10500/10500 [00:12<00:00, 874.96it/s, epoch=50, loss=[0.6158151944478351, 0.46491102150508334]]\n"
     ]
    },
    {
     "name": "stdout",
     "output_type": "stream",
     "text": [
      "0.008321\n",
      "Training Accuracy: 97.71977197719772%\n",
      "Testing Accuracy: 25.404919016196757%\n",
      "Top 5 Training Accuracy: 100.0%\n",
      "Top 5 Testing Accuracy: 49.880023995200965%\n",
      "Test to train ratio:  0.6\n",
      "Train Loader: 84\n",
      "Test Loader: 126\n",
      "Network Size: 2048\n",
      "Initialization 1 / 2\n",
      "Complete\n",
      "\n",
      "Initialization 2 / 2\n",
      "Complete\n",
      "\n"
     ]
    },
    {
     "name": "stderr",
     "output_type": "stream",
     "text": [
      "Training:   2%|██                                                                                                      | 168/8400 [00:00<00:09, 875.22it/s, epoch=1, loss=[0.6898063492207298, 0.6939263783750079]]"
     ]
    },
    {
     "name": "stdout",
     "output_type": "stream",
     "text": [
      "0.005208\n"
     ]
    },
    {
     "name": "stderr",
     "output_type": "stream",
     "text": [
      "Training:   4%|████▏                                                                                                    | 336/8400 [00:00<00:09, 873.64it/s, epoch=2, loss=[0.6676147196974072, 0.681005142983936]]"
     ]
    },
    {
     "name": "stdout",
     "output_type": "stream",
     "text": [
      "0.005208\n"
     ]
    },
    {
     "name": "stderr",
     "output_type": "stream",
     "text": [
      "Training:   6%|██████▏                                                                                                 | 504/8400 [00:00<00:09, 875.89it/s, epoch=3, loss=[0.6550648453689759, 0.6504350701967874]]"
     ]
    },
    {
     "name": "stdout",
     "output_type": "stream",
     "text": [
      "0.005208\n"
     ]
    },
    {
     "name": "stderr",
     "output_type": "stream",
     "text": [
      "Training:   8%|████████▎                                                                                               | 672/8400 [00:00<00:08, 882.51it/s, epoch=4, loss=[0.6492018713837576, 0.6287099946112863]]"
     ]
    },
    {
     "name": "stdout",
     "output_type": "stream",
     "text": [
      "0.005208\n"
     ]
    },
    {
     "name": "stderr",
     "output_type": "stream",
     "text": [
      "Training:  10%|██████████▍                                                                                             | 840/8400 [00:00<00:08, 879.93it/s, epoch=5, loss=[0.6462733156624293, 0.6134971805981227]]"
     ]
    },
    {
     "name": "stdout",
     "output_type": "stream",
     "text": [
      "0.006456\n"
     ]
    },
    {
     "name": "stderr",
     "output_type": "stream",
     "text": [
      "Training:  12%|████████████▍                                                                                           | 1008/8400 [00:01<00:08, 879.96it/s, epoch=6, loss=[0.6434842092650276, 0.600899067663011]]"
     ]
    },
    {
     "name": "stdout",
     "output_type": "stream",
     "text": [
      "0.007221\n"
     ]
    },
    {
     "name": "stderr",
     "output_type": "stream",
     "text": [
      "Training:  14%|██████████████▍                                                                                        | 1176/8400 [00:01<00:08, 880.31it/s, epoch=7, loss=[0.6407897266603653, 0.5878183139222011]]"
     ]
    },
    {
     "name": "stdout",
     "output_type": "stream",
     "text": [
      "0.007221\n"
     ]
    },
    {
     "name": "stderr",
     "output_type": "stream",
     "text": [
      "Training:  16%|████████████████▋                                                                                       | 1344/8400 [00:01<00:08, 881.69it/s, epoch=8, loss=[0.638124834923517, 0.5767110962243308]]"
     ]
    },
    {
     "name": "stdout",
     "output_type": "stream",
     "text": [
      "0.00818\n"
     ]
    },
    {
     "name": "stderr",
     "output_type": "stream",
     "text": [
      "Training:  18%|██████████████████▌                                                                                    | 1512/8400 [00:01<00:07, 885.28it/s, epoch=9, loss=[0.6367648435490473, 0.5672599410726911]]"
     ]
    },
    {
     "name": "stdout",
     "output_type": "stream",
     "text": [
      "0.00818\n"
     ]
    },
    {
     "name": "stderr",
     "output_type": "stream",
     "text": [
      "Training:  20%|████████████████████▌                                                                                  | 1680/8400 [00:01<00:07, 872.26it/s, epoch=10, loss=[0.6351896049011319, 0.558884287873904]]"
     ]
    },
    {
     "name": "stdout",
     "output_type": "stream",
     "text": [
      "0.00818\n"
     ]
    },
    {
     "name": "stderr",
     "output_type": "stream",
     "text": [
      "Training:  22%|██████████████████████▍                                                                               | 1848/8400 [00:02<00:07, 871.09it/s, epoch=11, loss=[0.6335598840599969, 0.5504365634350549]]"
     ]
    },
    {
     "name": "stdout",
     "output_type": "stream",
     "text": [
      "0.00818\n"
     ]
    },
    {
     "name": "stderr",
     "output_type": "stream",
     "text": [
      "Training:  24%|████████████████████████▍                                                                             | 2016/8400 [00:02<00:07, 870.36it/s, epoch=12, loss=[0.6325601020029613, 0.5431236830495656]]"
     ]
    },
    {
     "name": "stdout",
     "output_type": "stream",
     "text": [
      "0.00818\n"
     ]
    },
    {
     "name": "stderr",
     "output_type": "stream",
     "text": [
      "Training:  26%|██████████████████████████▊                                                                            | 2184/8400 [00:02<00:07, 869.64it/s, epoch=13, loss=[0.631249889731407, 0.5356393009424208]]"
     ]
    },
    {
     "name": "stdout",
     "output_type": "stream",
     "text": [
      "0.00818\n"
     ]
    },
    {
     "name": "stderr",
     "output_type": "stream",
     "text": [
      "Training:  28%|████████████████████████████▊                                                                          | 2352/8400 [00:02<00:06, 871.96it/s, epoch=14, loss=[0.630034617015294, 0.5303295723029546]]"
     ]
    },
    {
     "name": "stdout",
     "output_type": "stream",
     "text": [
      "0.00818\n"
     ]
    },
    {
     "name": "stderr",
     "output_type": "stream",
     "text": [
      "Training:  30%|██████████████████████████████▉                                                                        | 2520/8400 [00:02<00:06, 866.66it/s, epoch=15, loss=[0.628640253629003, 0.5240031558842887]]"
     ]
    },
    {
     "name": "stdout",
     "output_type": "stream",
     "text": [
      "0.00818\n"
     ]
    },
    {
     "name": "stderr",
     "output_type": "stream",
     "text": [
      "Training:  32%|████████████████████████████████▋                                                                     | 2688/8400 [00:03<00:06, 864.87it/s, epoch=16, loss=[0.6277577742224649, 0.5196052871289707]]"
     ]
    },
    {
     "name": "stdout",
     "output_type": "stream",
     "text": [
      "0.00818\n"
     ]
    },
    {
     "name": "stderr",
     "output_type": "stream",
     "text": [
      "Training:  34%|██████████████████████████████████▋                                                                   | 2856/8400 [00:03<00:06, 863.53it/s, epoch=17, loss=[0.6272266649064565, 0.5153769942976182]]"
     ]
    },
    {
     "name": "stdout",
     "output_type": "stream",
     "text": [
      "0.00818\n"
     ]
    },
    {
     "name": "stderr",
     "output_type": "stream",
     "text": [
      "Training:  36%|████████████████████████████████████▋                                                                 | 3024/8400 [00:03<00:06, 880.88it/s, epoch=18, loss=[0.6257298496507461, 0.5086396900670869]]"
     ]
    },
    {
     "name": "stdout",
     "output_type": "stream",
     "text": [
      "0.00818\n"
     ]
    },
    {
     "name": "stderr",
     "output_type": "stream",
     "text": [
      "Training:  38%|██████████████████████████████████████▊                                                               | 3192/8400 [00:03<00:05, 877.24it/s, epoch=19, loss=[0.6249072608493625, 0.5053575982650121]]"
     ]
    },
    {
     "name": "stdout",
     "output_type": "stream",
     "text": [
      "0.00818\n"
     ]
    },
    {
     "name": "stderr",
     "output_type": "stream",
     "text": [
      "Training:  40%|████████████████████████████████████████▊                                                             | 3360/8400 [00:03<00:05, 872.03it/s, epoch=20, loss=[0.6244521183626993, 0.5030086796198574]]"
     ]
    },
    {
     "name": "stdout",
     "output_type": "stream",
     "text": [
      "0.00818\n"
     ]
    },
    {
     "name": "stderr",
     "output_type": "stream",
     "text": [
      "Training:  42%|██████████████████████████████████████████▊                                                           | 3528/8400 [00:04<00:05, 868.85it/s, epoch=21, loss=[0.6233646152984531, 0.4988015024434953]]"
     ]
    },
    {
     "name": "stdout",
     "output_type": "stream",
     "text": [
      "0.00818\n"
     ]
    },
    {
     "name": "stderr",
     "output_type": "stream",
     "text": [
      "Training:  44%|████████████████████████████████████████████▉                                                         | 3696/8400 [00:04<00:05, 868.70it/s, epoch=22, loss=[0.6231570456709181, 0.4964803599175954]]"
     ]
    },
    {
     "name": "stdout",
     "output_type": "stream",
     "text": [
      "0.00818\n"
     ]
    },
    {
     "name": "stderr",
     "output_type": "stream",
     "text": [
      "Training:  46%|██████████████████████████████████████████████▉                                                       | 3864/8400 [00:04<00:05, 860.39it/s, epoch=23, loss=[0.6233408557517188, 0.4956490755790755]]"
     ]
    },
    {
     "name": "stdout",
     "output_type": "stream",
     "text": [
      "0.008199\n"
     ]
    },
    {
     "name": "stderr",
     "output_type": "stream",
     "text": [
      "Training:  48%|████████████████████████████████████████████████▍                                                    | 4032/8400 [00:04<00:05, 862.38it/s, epoch=24, loss=[0.6220108703488398, 0.49108345771119727]]"
     ]
    },
    {
     "name": "stdout",
     "output_type": "stream",
     "text": [
      "0.008199\n"
     ]
    },
    {
     "name": "stderr",
     "output_type": "stream",
     "text": [
      "Training:  50%|███████████████████████████████████████████████████                                                   | 4200/8400 [00:04<00:04, 864.42it/s, epoch=25, loss=[0.621507411201795, 0.48890762989010134]]"
     ]
    },
    {
     "name": "stdout",
     "output_type": "stream",
     "text": [
      "0.008199\n"
     ]
    },
    {
     "name": "stderr",
     "output_type": "stream",
     "text": [
      "Training:  52%|█████████████████████████████████████████████████████                                                 | 4368/8400 [00:05<00:04, 865.02it/s, epoch=26, loss=[0.6206698353801453, 0.4856462407679784]]"
     ]
    },
    {
     "name": "stdout",
     "output_type": "stream",
     "text": [
      "0.008199\n"
     ]
    },
    {
     "name": "stderr",
     "output_type": "stream",
     "text": [
      "Training:  54%|██████████████████████████████████████████████████████▌                                              | 4536/8400 [00:05<00:04, 878.30it/s, epoch=27, loss=[0.6198563866672063, 0.48270758241415035]]"
     ]
    },
    {
     "name": "stdout",
     "output_type": "stream",
     "text": [
      "0.008199\n"
     ]
    },
    {
     "name": "stderr",
     "output_type": "stream",
     "text": [
      "Training:  56%|█████████████████████████████████████████████████████████                                             | 4704/8400 [00:05<00:04, 871.24it/s, epoch=28, loss=[0.6196316012314388, 0.4815672437349955]]"
     ]
    },
    {
     "name": "stdout",
     "output_type": "stream",
     "text": [
      "0.008199\n"
     ]
    },
    {
     "name": "stderr",
     "output_type": "stream",
     "text": [
      "Training:  58%|██████████████████████████████████████████████████████████▌                                          | 4872/8400 [00:05<00:04, 868.74it/s, epoch=29, loss=[0.6193863011541819, 0.48013510625986827]]"
     ]
    },
    {
     "name": "stdout",
     "output_type": "stream",
     "text": [
      "0.008199\n"
     ]
    },
    {
     "name": "stderr",
     "output_type": "stream",
     "text": [
      "Training:  60%|████████████████████████████████████████████████████████████▌                                        | 5040/8400 [00:05<00:03, 866.28it/s, epoch=30, loss=[0.6195346642108189, 0.48026405132952193]]"
     ]
    },
    {
     "name": "stdout",
     "output_type": "stream",
     "text": [
      "0.008199\n"
     ]
    },
    {
     "name": "stderr",
     "output_type": "stream",
     "text": [
      "Training:  62%|██████████████████████████████████████████████████████████████▌                                      | 5208/8400 [00:05<00:03, 886.24it/s, epoch=31, loss=[0.6192515527918223, 0.47808385746819626]]"
     ]
    },
    {
     "name": "stdout",
     "output_type": "stream",
     "text": [
      "0.008199\n"
     ]
    },
    {
     "name": "stderr",
     "output_type": "stream",
     "text": [
      "Training:  64%|█████████████████████████████████████████████████████████████████▉                                     | 5376/8400 [00:06<00:03, 884.41it/s, epoch=32, loss=[0.619147804521379, 0.4771015608594532]]"
     ]
    },
    {
     "name": "stdout",
     "output_type": "stream",
     "text": [
      "0.008199\n"
     ]
    },
    {
     "name": "stderr",
     "output_type": "stream",
     "text": [
      "Training:  66%|██████████████████████████████████████████████████████████████████▋                                  | 5544/8400 [00:06<00:03, 874.90it/s, epoch=33, loss=[0.6180407085588998, 0.47378926085574286]]"
     ]
    },
    {
     "name": "stdout",
     "output_type": "stream",
     "text": [
      "0.008199\n"
     ]
    },
    {
     "name": "stderr",
     "output_type": "stream",
     "text": [
      "Training:  68%|████████████████████████████████████████████████████████████████████▋                                | 5712/8400 [00:06<00:03, 869.20it/s, epoch=34, loss=[0.6176835823626746, 0.47283774756249897]]"
     ]
    },
    {
     "name": "stdout",
     "output_type": "stream",
     "text": [
      "0.008199\n"
     ]
    },
    {
     "name": "stderr",
     "output_type": "stream",
     "text": [
      "Training:  70%|███████████████████████████████████████████████████████████████████████▍                              | 5880/8400 [00:06<00:02, 868.96it/s, epoch=35, loss=[0.6173047955547061, 0.4705456168878648]]"
     ]
    },
    {
     "name": "stdout",
     "output_type": "stream",
     "text": [
      "0.008199\n"
     ]
    },
    {
     "name": "stderr",
     "output_type": "stream",
     "text": [
      "Training:  72%|████████████████████████████████████████████████████████████████████████▋                            | 6048/8400 [00:06<00:02, 864.67it/s, epoch=36, loss=[0.6168656100829444, 0.46866217397508175]]"
     ]
    },
    {
     "name": "stdout",
     "output_type": "stream",
     "text": [
      "0.008199\n"
     ]
    },
    {
     "name": "stderr",
     "output_type": "stream",
     "text": [
      "Training:  74%|██████████████████████████████████████████████████████████████████████████▋                          | 6216/8400 [00:07<00:02, 863.14it/s, epoch=37, loss=[0.6168816550856546, 0.46874243624153605]]"
     ]
    },
    {
     "name": "stdout",
     "output_type": "stream",
     "text": [
      "0.008199\n"
     ]
    },
    {
     "name": "stderr",
     "output_type": "stream",
     "text": [
      "Training:  76%|████████████████████████████████████████████████████████████████████████████▊                        | 6384/8400 [00:07<00:02, 863.20it/s, epoch=38, loss=[0.6170098710627786, 0.46814398503019694]]"
     ]
    },
    {
     "name": "stdout",
     "output_type": "stream",
     "text": [
      "0.008199\n"
     ]
    },
    {
     "name": "stderr",
     "output_type": "stream",
     "text": [
      "Training:  80%|█████████████████████████████████████████████████████████████████████████████████▌                    | 6720/8400 [00:07<00:01, 848.68it/s, epoch=40, loss=[0.6161532607816517, 0.4640877207829841]]"
     ]
    },
    {
     "name": "stdout",
     "output_type": "stream",
     "text": [
      "0.008199\n",
      "0.008199\n"
     ]
    },
    {
     "name": "stderr",
     "output_type": "stream",
     "text": [
      "Training:  84%|████████████████████████████████████████████████████████████████████████████████████▊                | 7056/8400 [00:08<00:01, 864.17it/s, epoch=42, loss=[0.6155666432210378, 0.46270134051640827]]"
     ]
    },
    {
     "name": "stdout",
     "output_type": "stream",
     "text": [
      "0.008199\n",
      "0.008199\n"
     ]
    },
    {
     "name": "stderr",
     "output_type": "stream",
     "text": [
      "Training:  88%|█████████████████████████████████████████████████████████████████████████████████████████▊            | 7395/8400 [00:08<00:01, 864.52it/s, epoch=44, loss=[0.6152252611659822, 0.4592015714872452]]"
     ]
    },
    {
     "name": "stdout",
     "output_type": "stream",
     "text": [
      "0.008199\n",
      "0.008199\n"
     ]
    },
    {
     "name": "stderr",
     "output_type": "stream",
     "text": [
      "Training:  92%|████████████████████████████████████████████████████████████████████████████████████████████▉        | 7728/8400 [00:08<00:00, 862.16it/s, epoch=46, loss=[0.6145969423509777, 0.45879657460110523]]"
     ]
    },
    {
     "name": "stdout",
     "output_type": "stream",
     "text": [
      "0.008199\n",
      "0.008199\n"
     ]
    },
    {
     "name": "stderr",
     "output_type": "stream",
     "text": [
      "Training:  96%|████████████████████████████████████████████████████████████████████████████████████████████████▉    | 8064/8400 [00:09<00:00, 860.80it/s, epoch=48, loss=[0.6134584773154487, 0.45347253658941805]]"
     ]
    },
    {
     "name": "stdout",
     "output_type": "stream",
     "text": [
      "0.008199\n",
      "0.008199\n"
     ]
    },
    {
     "name": "stderr",
     "output_type": "stream",
     "text": [
      "Training: 100%|██████████████████████████████████████████████████████████████████████████████████████████████████████| 8400/8400 [00:09<00:00, 866.77it/s, epoch=50, loss=[0.6119307868537447, 0.4496879616663571]]\n"
     ]
    },
    {
     "name": "stdout",
     "output_type": "stream",
     "text": [
      "0.008199\n",
      "0.008199\n",
      "Training Accuracy: 99.17479369842461%\n",
      "Testing Accuracy: 24.868782804298924%\n",
      "Top 5 Training Accuracy: 100.0%\n",
      "Top 5 Testing Accuracy: 48.23794051487128%\n",
      "Test to train ratio:  0.7\n",
      "Train Loader: 63\n",
      "Test Loader: 146\n",
      "Network Size: 2048\n",
      "Initialization 1 / 2\n",
      "Complete\n",
      "\n",
      "Initialization 2 / 2\n",
      "Complete\n",
      "\n"
     ]
    },
    {
     "name": "stderr",
     "output_type": "stream",
     "text": [
      "Training:   2%|██                                                                                                      | 126/6300 [00:00<00:06, 883.42it/s, epoch=1, loss=[0.6914359813644769, 0.6940153165469094]]"
     ]
    },
    {
     "name": "stdout",
     "output_type": "stream",
     "text": [
      "0.005444\n"
     ]
    },
    {
     "name": "stderr",
     "output_type": "stream",
     "text": [
      "Training:   4%|████▍                                                                                                    | 265/6300 [00:00<00:07, 861.15it/s, epoch=2, loss=[0.6745953947778733, 0.687322694157797]]"
     ]
    },
    {
     "name": "stdout",
     "output_type": "stream",
     "text": [
      "0.005444\n"
     ]
    },
    {
     "name": "stderr",
     "output_type": "stream",
     "text": [
      "Training:   6%|██████▏                                                                                                 | 378/6300 [00:00<00:06, 859.45it/s, epoch=3, loss=[0.6565990826440237, 0.6665240876258369]]"
     ]
    },
    {
     "name": "stdout",
     "output_type": "stream",
     "text": [
      "0.007972\n"
     ]
    },
    {
     "name": "stderr",
     "output_type": "stream",
     "text": [
      "Training:   8%|████████▋                                                                                               | 524/6300 [00:00<00:06, 852.91it/s, epoch=4, loss=[0.6504997232603649, 0.6409577973305234]]"
     ]
    },
    {
     "name": "stdout",
     "output_type": "stream",
     "text": [
      "0.007972\n"
     ]
    },
    {
     "name": "stderr",
     "output_type": "stream",
     "text": [
      "Training:  10%|██████████▍                                                                                             | 630/6300 [00:00<00:06, 852.14it/s, epoch=5, loss=[0.6468448837598165, 0.6229269182871259]]"
     ]
    },
    {
     "name": "stdout",
     "output_type": "stream",
     "text": [
      "0.007972\n"
     ]
    },
    {
     "name": "stderr",
     "output_type": "stream",
     "text": [
      "Training:  12%|█████████████▏                                                                                            | 785/6300 [00:00<00:06, 860.32it/s, epoch=6, loss=[0.643433566131289, 0.608903569834573]]"
     ]
    },
    {
     "name": "stdout",
     "output_type": "stream",
     "text": [
      "0.008121\n"
     ]
    },
    {
     "name": "stderr",
     "output_type": "stream",
     "text": [
      "Training:  14%|██████████████▌                                                                                         | 882/6300 [00:01<00:06, 867.75it/s, epoch=7, loss=[0.6407496020907445, 0.5944553027077327]]"
     ]
    },
    {
     "name": "stdout",
     "output_type": "stream",
     "text": [
      "0.008121\n"
     ]
    },
    {
     "name": "stderr",
     "output_type": "stream",
     "text": [
      "Training:  17%|█████████████████▏                                                                                     | 1048/6300 [00:01<00:06, 862.58it/s, epoch=8, loss=[0.6368230146075049, 0.5798728626871867]]"
     ]
    },
    {
     "name": "stdout",
     "output_type": "stream",
     "text": [
      "0.008121\n"
     ]
    },
    {
     "name": "stderr",
     "output_type": "stream",
     "text": [
      "Training:  18%|██████████████████▌                                                                                    | 1136/6300 [00:01<00:05, 866.24it/s, epoch=9, loss=[0.6346057265523878, 0.5689294896428547]]"
     ]
    },
    {
     "name": "stdout",
     "output_type": "stream",
     "text": [
      "0.008121\n"
     ]
    },
    {
     "name": "stderr",
     "output_type": "stream",
     "text": [
      "Training:  20%|████████████████████▍                                                                                 | 1260/6300 [00:01<00:05, 871.58it/s, epoch=10, loss=[0.6321971161024912, 0.5579085662251428]]"
     ]
    },
    {
     "name": "stdout",
     "output_type": "stream",
     "text": [
      "0.008121\n"
     ]
    },
    {
     "name": "stderr",
     "output_type": "stream",
     "text": [
      "Training:  22%|██████████████████████▋                                                                               | 1402/6300 [00:01<00:05, 875.45it/s, epoch=11, loss=[0.6314023988587516, 0.5507757190674071]]"
     ]
    },
    {
     "name": "stdout",
     "output_type": "stream",
     "text": [
      "0.008121\n"
     ]
    },
    {
     "name": "stderr",
     "output_type": "stream",
     "text": [
      "Training:  24%|████████████████████████▍                                                                             | 1512/6300 [00:01<00:05, 876.92it/s, epoch=12, loss=[0.6292653178411817, 0.5401252952833024]]"
     ]
    },
    {
     "name": "stdout",
     "output_type": "stream",
     "text": [
      "0.008121\n"
     ]
    },
    {
     "name": "stderr",
     "output_type": "stream",
     "text": [
      "Training:  26%|██████████████████████████▉                                                                           | 1667/6300 [00:01<00:05, 868.73it/s, epoch=13, loss=[0.6280343050048466, 0.5335390217720517]]"
     ]
    },
    {
     "name": "stdout",
     "output_type": "stream",
     "text": [
      "0.008121\n"
     ]
    },
    {
     "name": "stderr",
     "output_type": "stream",
     "text": [
      "Training:  28%|████████████████████████████▊                                                                          | 1764/6300 [00:02<00:05, 871.24it/s, epoch=14, loss=[0.627542631966727, 0.5283078494526092]]"
     ]
    },
    {
     "name": "stdout",
     "output_type": "stream",
     "text": [
      "0.008121\n"
     ]
    },
    {
     "name": "stderr",
     "output_type": "stream",
     "text": [
      "Training:  31%|███████████████████████████████▏                                                                      | 1930/6300 [00:02<00:05, 866.98it/s, epoch=15, loss=[0.6259775246892654, 0.5207029155322485]]"
     ]
    },
    {
     "name": "stdout",
     "output_type": "stream",
     "text": [
      "0.008277\n"
     ]
    },
    {
     "name": "stderr",
     "output_type": "stream",
     "text": [
      "Training:  32%|████████████████████████████████▋                                                                     | 2018/6300 [00:02<00:04, 869.89it/s, epoch=16, loss=[0.6250002535562666, 0.5159193731489635]]"
     ]
    },
    {
     "name": "stdout",
     "output_type": "stream",
     "text": [
      "0.008277\n"
     ]
    },
    {
     "name": "stderr",
     "output_type": "stream",
     "text": [
      "Training:  34%|██████████████████████████████████▋                                                                   | 2142/6300 [00:02<00:04, 869.66it/s, epoch=17, loss=[0.6238597849058727, 0.5082055751293425]]"
     ]
    },
    {
     "name": "stdout",
     "output_type": "stream",
     "text": [
      "0.008277\n"
     ]
    },
    {
     "name": "stderr",
     "output_type": "stream",
     "text": [
      "Training:  36%|████████████████████████████████████▉                                                                 | 2280/6300 [00:02<00:04, 870.72it/s, epoch=18, loss=[0.6237938706837004, 0.5056945851870948]]"
     ]
    },
    {
     "name": "stdout",
     "output_type": "stream",
     "text": [
      "0.008277\n"
     ]
    },
    {
     "name": "stderr",
     "output_type": "stream",
     "text": [
      "Training:  38%|██████████████████████████████████████▊                                                               | 2394/6300 [00:02<00:04, 872.28it/s, epoch=19, loss=[0.6224140061272514, 0.4996437174933297]]"
     ]
    },
    {
     "name": "stdout",
     "output_type": "stream",
     "text": [
      "0.008277\n"
     ]
    },
    {
     "name": "stderr",
     "output_type": "stream",
     "text": [
      "Training:  40%|█████████████████████████████████████████▏                                                            | 2545/6300 [00:02<00:04, 874.86it/s, epoch=20, loss=[0.6213684148258634, 0.4950703032433042]]"
     ]
    },
    {
     "name": "stdout",
     "output_type": "stream",
     "text": [
      "0.008277\n"
     ]
    },
    {
     "name": "stderr",
     "output_type": "stream",
     "text": [
      "Training:  42%|██████████████████████████████████████████▊                                                           | 2646/6300 [00:03<00:04, 877.17it/s, epoch=21, loss=[0.6199957964912292, 0.4893372692759075]]"
     ]
    },
    {
     "name": "stdout",
     "output_type": "stream",
     "text": [
      "0.008277\n"
     ]
    },
    {
     "name": "stderr",
     "output_type": "stream",
     "text": [
      "Training:  45%|█████████████████████████████████████████████                                                        | 2810/6300 [00:03<00:04, 866.10it/s, epoch=22, loss=[0.6194101941017873, 0.48682263777369544]]"
     ]
    },
    {
     "name": "stdout",
     "output_type": "stream",
     "text": [
      "0.008277\n"
     ]
    },
    {
     "name": "stderr",
     "output_type": "stream",
     "text": [
      "Training:  46%|██████████████████████████████████████████████▍                                                      | 2898/6300 [00:03<00:03, 865.23it/s, epoch=23, loss=[0.6184665835092937, 0.48344437375901234]]"
     ]
    },
    {
     "name": "stdout",
     "output_type": "stream",
     "text": [
      "0.008277\n"
     ]
    },
    {
     "name": "stderr",
     "output_type": "stream",
     "text": [
      "Training:  49%|█████████████████████████████████████████████████▋                                                    | 3072/6300 [00:03<00:03, 866.70it/s, epoch=24, loss=[0.6179737912284006, 0.4808955869031332]]"
     ]
    },
    {
     "name": "stdout",
     "output_type": "stream",
     "text": [
      "0.008277\n"
     ]
    },
    {
     "name": "stderr",
     "output_type": "stream",
     "text": [
      "Training:  50%|██████████████████████████████████████████████████▋                                                  | 3159/6300 [00:03<00:03, 867.14it/s, epoch=25, loss=[0.6169257154540411, 0.47626961176357574]]"
     ]
    },
    {
     "name": "stdout",
     "output_type": "stream",
     "text": [
      "0.008277\n"
     ]
    },
    {
     "name": "stderr",
     "output_type": "stream",
     "text": [
      "Training:  52%|█████████████████████████████████████████████████████                                                 | 3276/6300 [00:03<00:03, 868.88it/s, epoch=26, loss=[0.6163649180578805, 0.4741459739586665]]"
     ]
    },
    {
     "name": "stdout",
     "output_type": "stream",
     "text": [
      "0.008277\n"
     ]
    },
    {
     "name": "stderr",
     "output_type": "stream",
     "text": [
      "Training:  54%|██████████████████████████████████████████████████████▉                                              | 3424/6300 [00:03<00:03, 874.10it/s, epoch=27, loss=[0.6158888917120676, 0.47232682269717025]]"
     ]
    },
    {
     "name": "stdout",
     "output_type": "stream",
     "text": [
      "0.008277\n"
     ]
    },
    {
     "name": "stderr",
     "output_type": "stream",
     "text": [
      "Training:  56%|████████████████████████████████████████████████████████▌                                            | 3528/6300 [00:04<00:03, 876.27it/s, epoch=28, loss=[0.6150757396031938, 0.46826138572087356]]"
     ]
    },
    {
     "name": "stdout",
     "output_type": "stream",
     "text": [
      "0.008277\n"
     ]
    },
    {
     "name": "stderr",
     "output_type": "stream",
     "text": [
      "Training:  59%|███████████████████████████████████████████████████████████▋                                          | 3689/6300 [00:04<00:02, 873.97it/s, epoch=29, loss=[0.6146203506560555, 0.4660293521389129]]"
     ]
    },
    {
     "name": "stdout",
     "output_type": "stream",
     "text": [
      "0.008277\n"
     ]
    },
    {
     "name": "stderr",
     "output_type": "stream",
     "text": [
      "Training:  60%|█████████████████████████████████████████████████████████████▏                                        | 3780/6300 [00:04<00:02, 877.04it/s, epoch=30, loss=[0.6137382142127507, 0.4632568293147616]]"
     ]
    },
    {
     "name": "stdout",
     "output_type": "stream",
     "text": [
      "0.008277\n"
     ]
    },
    {
     "name": "stderr",
     "output_type": "stream",
     "text": [
      "Training:  63%|████████████████████████████████████████████████████████████████                                      | 3954/6300 [00:04<00:02, 875.91it/s, epoch=31, loss=[0.6129925099630205, 0.4596620897452038]]"
     ]
    },
    {
     "name": "stdout",
     "output_type": "stream",
     "text": [
      "0.008277\n"
     ]
    },
    {
     "name": "stderr",
     "output_type": "stream",
     "text": [
      "Training:  64%|████████████████████████████████████████████████████████████████▊                                    | 4043/6300 [00:04<00:02, 877.88it/s, epoch=32, loss=[0.6126903361744351, 0.45878806095274693]]"
     ]
    },
    {
     "name": "stdout",
     "output_type": "stream",
     "text": [
      "0.008277\n"
     ]
    },
    {
     "name": "stderr",
     "output_type": "stream",
     "text": [
      "Training:  66%|███████████████████████████████████████████████████████████████████▎                                  | 4158/6300 [00:04<00:02, 878.17it/s, epoch=33, loss=[0.6125252644220986, 0.4574148825236731]]"
     ]
    },
    {
     "name": "stdout",
     "output_type": "stream",
     "text": [
      "0.008277\n"
     ]
    },
    {
     "name": "stderr",
     "output_type": "stream",
     "text": [
      "Training:  68%|█████████████████████████████████████████████████████████████████████                                | 4308/6300 [00:04<00:02, 881.05it/s, epoch=34, loss=[0.6123080717192756, 0.45657491542044126]]"
     ]
    },
    {
     "name": "stdout",
     "output_type": "stream",
     "text": [
      "0.008277\n"
     ]
    },
    {
     "name": "stderr",
     "output_type": "stream",
     "text": [
      "Training:  70%|███████████████████████████████████████████████████████████████████████▍                              | 4410/6300 [00:05<00:02, 882.61it/s, epoch=35, loss=[0.6107405897170777, 0.4513685462020691]]"
     ]
    },
    {
     "name": "stdout",
     "output_type": "stream",
     "text": [
      "0.008277\n"
     ]
    },
    {
     "name": "stderr",
     "output_type": "stream",
     "text": [
      "Training:  73%|██████████████████████████████████████████████████████████████████████████                            | 4574/6300 [00:05<00:01, 868.72it/s, epoch=36, loss=[0.6107519145995851, 0.4513192739751604]]"
     ]
    },
    {
     "name": "stdout",
     "output_type": "stream",
     "text": [
      "0.008277\n"
     ]
    },
    {
     "name": "stderr",
     "output_type": "stream",
     "text": [
      "Training:  74%|███████████████████████████████████████████████████████████████████████████▍                          | 4662/6300 [00:05<00:01, 869.02it/s, epoch=37, loss=[0.6110014451874628, 0.4515075759282188]]"
     ]
    },
    {
     "name": "stdout",
     "output_type": "stream",
     "text": [
      "0.008277\n"
     ]
    },
    {
     "name": "stderr",
     "output_type": "stream",
     "text": [
      "Training:  76%|██████████████████████████████████████████████████████████████████████████████▎                        | 4788/6300 [00:05<00:01, 870.06it/s, epoch=38, loss=[0.611331476105584, 0.4523041962631166]]"
     ]
    },
    {
     "name": "stdout",
     "output_type": "stream",
     "text": [
      "0.008277\n"
     ]
    },
    {
     "name": "stderr",
     "output_type": "stream",
     "text": [
      "Training:  78%|████████████████████████████████████████████████████████████████████████████████▌                      | 4926/6300 [00:05<00:01, 871.53it/s, epoch=39, loss=[0.6108042720764402, 0.449046085751246]]"
     ]
    },
    {
     "name": "stdout",
     "output_type": "stream",
     "text": [
      "0.008277\n"
     ]
    },
    {
     "name": "stderr",
     "output_type": "stream",
     "text": [
      "Training:  80%|████████████████████████████████████████████████████████████████████████████████▊                    | 5040/6300 [00:05<00:01, 873.00it/s, epoch=40, loss=[0.6102224843842642, 0.44715809538250867]]"
     ]
    },
    {
     "name": "stdout",
     "output_type": "stream",
     "text": [
      "0.008277\n"
     ]
    },
    {
     "name": "stderr",
     "output_type": "stream",
     "text": [
      "Training:  82%|████████████████████████████████████████████████████████████████████████████████████                  | 5191/6300 [00:05<00:01, 876.41it/s, epoch=41, loss=[0.6105865637461345, 0.4479025687490192]]"
     ]
    },
    {
     "name": "stdout",
     "output_type": "stream",
     "text": [
      "0.008277\n"
     ]
    },
    {
     "name": "stderr",
     "output_type": "stream",
     "text": [
      "Training:  84%|████████████████████████████████████████████████████████████████████████████████████▊                | 5292/6300 [00:06<00:01, 878.39it/s, epoch=42, loss=[0.6100477699249508, 0.44595658826449563]]"
     ]
    },
    {
     "name": "stdout",
     "output_type": "stream",
     "text": [
      "0.008277\n"
     ]
    },
    {
     "name": "stderr",
     "output_type": "stream",
     "text": [
      "Training:  87%|███████████████████████████████████████████████████████████████████████████████████████▍             | 5456/6300 [00:06<00:00, 872.93it/s, epoch=43, loss=[0.6089279112361725, 0.44169981801320635]]"
     ]
    },
    {
     "name": "stdout",
     "output_type": "stream",
     "text": [
      "0.008277\n"
     ]
    },
    {
     "name": "stderr",
     "output_type": "stream",
     "text": [
      "Training:  88%|█████████████████████████████████████████████████████████████████████████████████████████▊            | 5545/6300 [00:06<00:00, 875.45it/s, epoch=44, loss=[0.6082650006763518, 0.4397971228001609]]"
     ]
    },
    {
     "name": "stdout",
     "output_type": "stream",
     "text": [
      "0.008277\n"
     ]
    },
    {
     "name": "stderr",
     "output_type": "stream",
     "text": [
      "Training:  90%|██████████████████████████████████████████████████████████████████████████████████████████▉          | 5670/6300 [00:06<00:00, 875.04it/s, epoch=45, loss=[0.6081950948351905, 0.43963344702644963]]"
     ]
    },
    {
     "name": "stdout",
     "output_type": "stream",
     "text": [
      "0.008277\n"
     ]
    },
    {
     "name": "stderr",
     "output_type": "stream",
     "text": [
      "Training:  92%|██████████████████████████████████████████████████████████████████████████████████████████████        | 5809/6300 [00:06<00:00, 785.94it/s, epoch=46, loss=[0.6079171933825054, 0.4389741117992098]]"
     ]
    },
    {
     "name": "stdout",
     "output_type": "stream",
     "text": [
      "0.008277\n"
     ]
    },
    {
     "name": "stderr",
     "output_type": "stream",
     "text": [
      "Training:  94%|███████████████████████████████████████████████████████████████████████████████████████████████▉      | 5922/6300 [00:06<00:00, 820.43it/s, epoch=47, loss=[0.6078583617059014, 0.4382949580275824]]"
     ]
    },
    {
     "name": "stdout",
     "output_type": "stream",
     "text": [
      "0.008277\n"
     ]
    },
    {
     "name": "stderr",
     "output_type": "stream",
     "text": [
      "Training:  96%|██████████████████████████████████████████████████████████████████████████████████████████████████▍   | 6077/6300 [00:07<00:00, 851.92it/s, epoch=48, loss=[0.6071882891276525, 0.4356591308873799]]"
     ]
    },
    {
     "name": "stdout",
     "output_type": "stream",
     "text": [
      "0.008277\n"
     ]
    },
    {
     "name": "stderr",
     "output_type": "stream",
     "text": [
      "Training:  98%|███████████████████████████████████████████████████████████████████████████████████████████████████▉  | 6174/6300 [00:07<00:00, 867.60it/s, epoch=49, loss=[0.6065235979973324, 0.4325635480502295]]"
     ]
    },
    {
     "name": "stdout",
     "output_type": "stream",
     "text": [
      "0.008277\n"
     ]
    },
    {
     "name": "stderr",
     "output_type": "stream",
     "text": [
      "Training: 100%|██████████████████████████████████████████████████████████████████████████████████████████████████████| 6300/6300 [00:07<00:00, 865.29it/s, epoch=50, loss=[0.6069858575624132, 0.4346699771426974]]\n"
     ]
    },
    {
     "name": "stdout",
     "output_type": "stream",
     "text": [
      "0.008277\n",
      "Training Accuracy: 99.65%\n",
      "Testing Accuracy: 22.048425112491966%\n",
      "Top 5 Training Accuracy: 100.0%\n",
      "Top 5 Testing Accuracy: 42.361259910006424%\n",
      "Test to train ratio:  0.8\n",
      "Train Loader: 42\n",
      "Test Loader: 167\n",
      "Network Size: 2048\n",
      "Initialization 1 / 2\n",
      "Complete\n",
      "\n",
      "Initialization 2 / 2\n",
      "Complete\n",
      "\n"
     ]
    },
    {
     "name": "stderr",
     "output_type": "stream",
     "text": [
      "Training:   4%|████▏                                                                                                   | 168/4200 [00:00<00:04, 852.76it/s, epoch=2, loss=[0.6791677843956718, 0.6870562405813307]]"
     ]
    },
    {
     "name": "stdout",
     "output_type": "stream",
     "text": [
      "0.005371\n",
      "0.005371\n"
     ]
    },
    {
     "name": "stderr",
     "output_type": "stream",
     "text": [
      "Training:   6%|██████▏                                                                                                 | 252/4200 [00:00<00:04, 871.50it/s, epoch=3, loss=[0.6582770787534259, 0.6790284840833574]]"
     ]
    },
    {
     "name": "stdout",
     "output_type": "stream",
     "text": [
      "0.005371\n"
     ]
    },
    {
     "name": "stderr",
     "output_type": "stream",
     "text": [
      "Training:  10%|██████████▍                                                                                             | 420/4200 [00:00<00:04, 871.89it/s, epoch=5, loss=[0.6422785307679857, 0.6352158926782154]]"
     ]
    },
    {
     "name": "stdout",
     "output_type": "stream",
     "text": [
      "0.007921\n",
      "0.007921\n"
     ]
    },
    {
     "name": "stderr",
     "output_type": "stream",
     "text": [
      "Training:  12%|████████████▍                                                                                           | 504/4200 [00:00<00:04, 879.76it/s, epoch=6, loss=[0.6384848015648978, 0.6167678492409842]]"
     ]
    },
    {
     "name": "stdout",
     "output_type": "stream",
     "text": [
      "0.007921\n"
     ]
    },
    {
     "name": "stderr",
     "output_type": "stream",
     "text": [
      "Training:  16%|████████████████▋                                                                                       | 672/4200 [00:00<00:04, 879.42it/s, epoch=8, loss=[0.6334571299098787, 0.5878385617619469]]"
     ]
    },
    {
     "name": "stdout",
     "output_type": "stream",
     "text": [
      "0.00826\n",
      "0.00826\n"
     ]
    },
    {
     "name": "stderr",
     "output_type": "stream",
     "text": [
      "Training:  18%|██████████████████▋                                                                                     | 756/4200 [00:00<00:03, 872.99it/s, epoch=9, loss=[0.6293539986723945, 0.5731533850942341]]"
     ]
    },
    {
     "name": "stdout",
     "output_type": "stream",
     "text": [
      "0.00826\n"
     ]
    },
    {
     "name": "stderr",
     "output_type": "stream",
     "text": [
      "Training:  22%|██████████████████████▋                                                                                | 924/4200 [00:01<00:03, 869.22it/s, epoch=11, loss=[0.6249516421840307, 0.5499167839686074]]"
     ]
    },
    {
     "name": "stdout",
     "output_type": "stream",
     "text": [
      "0.00826\n",
      "0.00826\n"
     ]
    },
    {
     "name": "stderr",
     "output_type": "stream",
     "text": [
      "Training:  24%|████████████████████████▍                                                                             | 1008/4200 [00:01<00:03, 859.74it/s, epoch=12, loss=[0.6230821538539161, 0.5405723991848175]]"
     ]
    },
    {
     "name": "stdout",
     "output_type": "stream",
     "text": [
      "0.00826\n"
     ]
    },
    {
     "name": "stderr",
     "output_type": "stream",
     "text": [
      "Training:  28%|████████████████████████████▊                                                                          | 1176/4200 [00:01<00:03, 855.08it/s, epoch=14, loss=[0.619222601254781, 0.5201338593448912]]"
     ]
    },
    {
     "name": "stdout",
     "output_type": "stream",
     "text": [
      "0.00826\n",
      "0.00826\n"
     ]
    },
    {
     "name": "stderr",
     "output_type": "stream",
     "text": [
      "Training:  30%|██████████████████████████████▌                                                                       | 1260/4200 [00:01<00:03, 859.41it/s, epoch=15, loss=[0.6172047512871879, 0.5108518266961688]]"
     ]
    },
    {
     "name": "stdout",
     "output_type": "stream",
     "text": [
      "0.00826\n"
     ]
    },
    {
     "name": "stderr",
     "output_type": "stream",
     "text": [
      "Training:  34%|██████████████████████████████████▋                                                                   | 1428/4200 [00:01<00:03, 856.89it/s, epoch=17, loss=[0.6149253164018904, 0.4979867573295322]]"
     ]
    },
    {
     "name": "stdout",
     "output_type": "stream",
     "text": [
      "0.00826\n",
      "0.00826\n"
     ]
    },
    {
     "name": "stderr",
     "output_type": "stream",
     "text": [
      "Training:  36%|████████████████████████████████████▎                                                                | 1512/4200 [00:01<00:03, 856.57it/s, epoch=18, loss=[0.6139469501518069, 0.49179074522994803]]"
     ]
    },
    {
     "name": "stdout",
     "output_type": "stream",
     "text": [
      "0.00826\n"
     ]
    },
    {
     "name": "stderr",
     "output_type": "stream",
     "text": [
      "Training:  40%|████████████████████████████████████████▍                                                            | 1680/4200 [00:01<00:02, 859.48it/s, epoch=20, loss=[0.6129415546144756, 0.48238641875130783]]"
     ]
    },
    {
     "name": "stdout",
     "output_type": "stream",
     "text": [
      "0.00826\n",
      "0.00826\n"
     ]
    },
    {
     "name": "stderr",
     "output_type": "stream",
     "text": [
      "Training:  42%|██████████████████████████████████████████▊                                                           | 1764/4200 [00:02<00:02, 858.53it/s, epoch=21, loss=[0.6122784543605078, 0.4779641997246516]]"
     ]
    },
    {
     "name": "stdout",
     "output_type": "stream",
     "text": [
      "0.00826\n"
     ]
    },
    {
     "name": "stderr",
     "output_type": "stream",
     "text": [
      "Training:  46%|██████████████████████████████████████████████▍                                                      | 1932/4200 [00:02<00:02, 860.21it/s, epoch=23, loss=[0.6096793086755843, 0.46512396562667113]]"
     ]
    },
    {
     "name": "stdout",
     "output_type": "stream",
     "text": [
      "0.00826\n",
      "0.00826\n"
     ]
    },
    {
     "name": "stderr",
     "output_type": "stream",
     "text": [
      "Training:  48%|████████████████████████████████████████████████▉                                                     | 2016/4200 [00:02<00:02, 864.58it/s, epoch=24, loss=[0.6083417392912367, 0.4595225169545129]]"
     ]
    },
    {
     "name": "stdout",
     "output_type": "stream",
     "text": [
      "0.00826\n"
     ]
    },
    {
     "name": "stderr",
     "output_type": "stream",
     "text": [
      "Training:  52%|████████████████████████████████████████████████████▌                                                | 2184/4200 [00:02<00:02, 854.98it/s, epoch=26, loss=[0.6072759585721151, 0.45405197285470517]]"
     ]
    },
    {
     "name": "stdout",
     "output_type": "stream",
     "text": [
      "0.00826\n",
      "0.00826\n"
     ]
    },
    {
     "name": "stderr",
     "output_type": "stream",
     "text": [
      "Training:  54%|███████████████████████████████████████████████████████▏                                              | 2275/4200 [00:02<00:02, 865.02it/s, epoch=27, loss=[0.6059357736791882, 0.4485763197853451]]"
     ]
    },
    {
     "name": "stdout",
     "output_type": "stream",
     "text": [
      "0.00826\n"
     ]
    },
    {
     "name": "stderr",
     "output_type": "stream",
     "text": [
      "Training:  58%|██████████████████████████████████████████████████████████▌                                          | 2436/4200 [00:02<00:02, 865.86it/s, epoch=29, loss=[0.6047441107886179, 0.44303263723850245]]"
     ]
    },
    {
     "name": "stdout",
     "output_type": "stream",
     "text": [
      "0.00826\n",
      "0.00826\n"
     ]
    },
    {
     "name": "stderr",
     "output_type": "stream",
     "text": [
      "Training:  60%|█████████████████████████████████████████████████████████████▏                                        | 2520/4200 [00:02<00:01, 868.38it/s, epoch=30, loss=[0.6038583091327122, 0.4385384441841217]]"
     ]
    },
    {
     "name": "stdout",
     "output_type": "stream",
     "text": [
      "0.00826\n"
     ]
    },
    {
     "name": "stderr",
     "output_type": "stream",
     "text": [
      "Training:  64%|████████████████████████████████████████████████████████████████▋                                    | 2688/4200 [00:03<00:01, 882.73it/s, epoch=32, loss=[0.6019373890899478, 0.43115566954726275]]"
     ]
    },
    {
     "name": "stdout",
     "output_type": "stream",
     "text": [
      "0.00826\n",
      "0.00826\n"
     ]
    },
    {
     "name": "stderr",
     "output_type": "stream",
     "text": [
      "Training:  66%|███████████████████████████████████████████████████████████████████▎                                  | 2772/4200 [00:03<00:01, 882.06it/s, epoch=33, loss=[0.6016920648870014, 0.4290551656768436]]"
     ]
    },
    {
     "name": "stdout",
     "output_type": "stream",
     "text": [
      "0.00826\n"
     ]
    },
    {
     "name": "stderr",
     "output_type": "stream",
     "text": [
      "Training:  70%|██████████████████████████████████████████████████████████████████████▋                              | 2940/4200 [00:03<00:01, 885.62it/s, epoch=35, loss=[0.6001120734782446, 0.42256102888357067]]"
     ]
    },
    {
     "name": "stdout",
     "output_type": "stream",
     "text": [
      "0.00826\n",
      "0.00826\n"
     ]
    },
    {
     "name": "stderr",
     "output_type": "stream",
     "text": [
      "Training:  72%|████████████████████████████████████████████████████████████████████████▋                            | 3024/4200 [00:03<00:01, 878.87it/s, epoch=36, loss=[0.5994120935599009, 0.42156374667372026]]"
     ]
    },
    {
     "name": "stdout",
     "output_type": "stream",
     "text": [
      "0.00826\n"
     ]
    },
    {
     "name": "stderr",
     "output_type": "stream",
     "text": [
      "Training:  76%|████████████████████████████████████████████████████████████████████████████▊                        | 3192/4200 [00:03<00:01, 877.25it/s, epoch=38, loss=[0.5989373113427843, 0.41897215303920554]]"
     ]
    },
    {
     "name": "stdout",
     "output_type": "stream",
     "text": [
      "0.00826\n",
      "0.00826\n"
     ]
    },
    {
     "name": "stderr",
     "output_type": "stream",
     "text": [
      "Training:  78%|███████████████████████████████████████████████████████████████████████████████▌                      | 3276/4200 [00:03<00:01, 886.92it/s, epoch=39, loss=[0.5986841633206321, 0.4167617509762447]]"
     ]
    },
    {
     "name": "stdout",
     "output_type": "stream",
     "text": [
      "0.00826\n"
     ]
    },
    {
     "name": "stderr",
     "output_type": "stream",
     "text": [
      "Training:  82%|██████████████████████████████████████████████████████████████████████████████████▊                  | 3444/4200 [00:03<00:00, 874.89it/s, epoch=41, loss=[0.5969599513780504, 0.41065982480843854]]"
     ]
    },
    {
     "name": "stdout",
     "output_type": "stream",
     "text": [
      "0.00826\n",
      "0.00826\n"
     ]
    },
    {
     "name": "stderr",
     "output_type": "stream",
     "text": [
      "Training:  84%|██████████████████████████████████████████████████████████████████████████████████████▌                | 3528/4200 [00:04<00:00, 884.05it/s, epoch=42, loss=[0.5966781817731404, 0.409617759642147]]"
     ]
    },
    {
     "name": "stdout",
     "output_type": "stream",
     "text": [
      "0.00826\n"
     ]
    },
    {
     "name": "stderr",
     "output_type": "stream",
     "text": [
      "Training:  88%|████████████████████████████████████████████████████████████████████████████████████████▉            | 3699/4200 [00:04<00:00, 873.65it/s, epoch=44, loss=[0.5959186270123438, 0.40551336322511944]]"
     ]
    },
    {
     "name": "stdout",
     "output_type": "stream",
     "text": [
      "0.00826\n",
      "0.00826\n"
     ]
    },
    {
     "name": "stderr",
     "output_type": "stream",
     "text": [
      "Training:  90%|██████████████████████████████████████████████████████████████████████████████████████████▉          | 3780/4200 [00:04<00:00, 873.65it/s, epoch=45, loss=[0.5951449431124187, 0.40327688483964835]]"
     ]
    },
    {
     "name": "stdout",
     "output_type": "stream",
     "text": [
      "0.00826\n"
     ]
    },
    {
     "name": "stderr",
     "output_type": "stream",
     "text": [
      "Training:  94%|██████████████████████████████████████████████████████████████████████████████████████████████▉      | 3948/4200 [00:04<00:00, 855.75it/s, epoch=47, loss=[0.5945907235145569, 0.40102317858309966]]"
     ]
    },
    {
     "name": "stdout",
     "output_type": "stream",
     "text": [
      "0.00826\n"
     ]
    },
    {
     "name": "stderr",
     "output_type": "stream",
     "text": [
      "Training:  96%|████████████████████████████████████████████████████████████████████████████████████████████████▉    | 4032/4200 [00:04<00:00, 851.87it/s, epoch=48, loss=[0.5940055634294238, 0.39859167379992355]]"
     ]
    },
    {
     "name": "stdout",
     "output_type": "stream",
     "text": [
      "0.00826\n",
      "0.00826\n"
     ]
    },
    {
     "name": "stderr",
     "output_type": "stream",
     "text": [
      "Training:  98%|███████████████████████████████████████████████████████████████████████████████████████████████████▉  | 4116/4200 [00:04<00:00, 852.08it/s, epoch=49, loss=[0.5937723375502086, 0.3967167756387165]]"
     ]
    },
    {
     "name": "stdout",
     "output_type": "stream",
     "text": [
      "0.00826\n"
     ]
    },
    {
     "name": "stderr",
     "output_type": "stream",
     "text": [
      "Training: 100%|██████████████████████████████████████████████████████████████████████████████████████████████████████| 4200/4200 [00:04<00:00, 867.14it/s, epoch=50, loss=[0.5933982091290609, 0.3958968917528788]]\n"
     ]
    },
    {
     "name": "stdout",
     "output_type": "stream",
     "text": [
      "0.00826\n",
      "Training Accuracy: 100.0%\n",
      "Testing Accuracy: 18.935133108361455%\n",
      "Top 5 Training Accuracy: 100.0%\n",
      "Top 5 Testing Accuracy: 37.9265091863517%\n",
      "Test to train ratio:  0.9\n",
      "Train Loader: 21\n",
      "Test Loader: 188\n",
      "Network Size: 2048\n",
      "Initialization 1 / 2\n",
      "Complete\n",
      "\n",
      "Initialization 2 / 2\n",
      "Complete\n",
      "\n"
     ]
    },
    {
     "name": "stderr",
     "output_type": "stream",
     "text": [
      "Training:   8%|████████▎                                                                                               | 168/2100 [00:00<00:02, 864.55it/s, epoch=4, loss=[0.6451872218222846, 0.6769212938490369]]"
     ]
    },
    {
     "name": "stdout",
     "output_type": "stream",
     "text": [
      "0.005326\n",
      "0.005326\n",
      "0.005326\n",
      "0.005326\n"
     ]
    },
    {
     "name": "stderr",
     "output_type": "stream",
     "text": [
      "Training:  16%|█████████████████▏                                                                                      | 346/2100 [00:00<00:02, 756.72it/s, epoch=8, loss=[0.6131796269189743, 0.6006586239451454]]"
     ]
    },
    {
     "name": "stdout",
     "output_type": "stream",
     "text": [
      "0.00562\n",
      "0.00562\n",
      "0.00562\n",
      "0.00562\n"
     ]
    },
    {
     "name": "stderr",
     "output_type": "stream",
     "text": [
      "Training:  26%|██████████████████████████▊                                                                            | 546/2100 [00:00<00:01, 806.88it/s, epoch=13, loss=[0.5904244411559332, 0.5128100031898135]]"
     ]
    },
    {
     "name": "stdout",
     "output_type": "stream",
     "text": [
      "0.00562\n",
      "0.00562\n",
      "0.00562\n",
      "0.00562\n",
      "0.00562\n"
     ]
    },
    {
     "name": "stderr",
     "output_type": "stream",
     "text": [
      "Training:  36%|████████████████████████████████████▋                                                                 | 756/2100 [00:00<00:01, 826.32it/s, epoch=18, loss=[0.5779722872234526, 0.45497119000979847]]"
     ]
    },
    {
     "name": "stdout",
     "output_type": "stream",
     "text": [
      "0.00562\n",
      "0.00562\n",
      "0.00562\n",
      "0.00562\n",
      "0.00562\n"
     ]
    },
    {
     "name": "stderr",
     "output_type": "stream",
     "text": [
      "Training:  46%|██████████████████████████████████████████████▉                                                       | 966/2100 [00:01<00:01, 846.17it/s, epoch=23, loss=[0.5679819129762196, 0.41160457191013167]]"
     ]
    },
    {
     "name": "stdout",
     "output_type": "stream",
     "text": [
      "0.00562\n",
      "0.00562\n",
      "0.00562\n",
      "0.00562\n",
      "0.00562\n"
     ]
    },
    {
     "name": "stderr",
     "output_type": "stream",
     "text": [
      "Training:  56%|████████████████████████████████████████████████████████▌                                            | 1176/2100 [00:01<00:01, 855.68it/s, epoch=28, loss=[0.5610494045984176, 0.38263920233363197]]"
     ]
    },
    {
     "name": "stdout",
     "output_type": "stream",
     "text": [
      "0.00562\n",
      "0.00562\n",
      "0.00562\n",
      "0.00562\n",
      "0.00562\n"
     ]
    },
    {
     "name": "stderr",
     "output_type": "stream",
     "text": [
      "Training:  66%|███████████████████████████████████████████████████████████████████▎                                  | 1386/2100 [00:01<00:00, 861.34it/s, epoch=33, loss=[0.5571159720420837, 0.3637394252277556]]"
     ]
    },
    {
     "name": "stdout",
     "output_type": "stream",
     "text": [
      "0.00562\n",
      "0.00562\n",
      "0.00562\n",
      "0.00562\n",
      "0.00562\n"
     ]
    },
    {
     "name": "stderr",
     "output_type": "stream",
     "text": [
      "Training:  76%|████████████████████████████████████████████████████████████████████████████▊                        | 1596/2100 [00:01<00:00, 863.23it/s, epoch=38, loss=[0.5532533867018564, 0.34890568256378174]]"
     ]
    },
    {
     "name": "stdout",
     "output_type": "stream",
     "text": [
      "0.00562\n",
      "0.00562\n",
      "0.00562\n",
      "0.00562\n",
      "0.00562\n"
     ]
    },
    {
     "name": "stderr",
     "output_type": "stream",
     "text": [
      "Training:  86%|██████████████████████████████████████████████████████████████████████████████████████▊              | 1806/2100 [00:02<00:00, 886.85it/s, epoch=43, loss=[0.5496152781304859, 0.33536114011492046]]"
     ]
    },
    {
     "name": "stdout",
     "output_type": "stream",
     "text": [
      "0.00562\n",
      "0.00562\n",
      "0.00562\n",
      "0.00562\n",
      "0.00562\n"
     ]
    },
    {
     "name": "stderr",
     "output_type": "stream",
     "text": [
      "Training:  96%|█████████████████████████████████████████████████████████████████████████████████████████████████▉    | 2016/2100 [00:02<00:00, 874.44it/s, epoch=48, loss=[0.5475381669544038, 0.3276802443322681]]"
     ]
    },
    {
     "name": "stdout",
     "output_type": "stream",
     "text": [
      "0.00562\n",
      "0.00562\n",
      "0.00562\n",
      "0.00562\n",
      "0.00562\n"
     ]
    },
    {
     "name": "stderr",
     "output_type": "stream",
     "text": [
      "Training: 100%|█████████████████████████████████████████████████████████████████████████████████████████████████████| 2100/2100 [00:02<00:00, 845.81it/s, epoch=50, loss=[0.5469189825512115, 0.32498839497566223]]\n"
     ]
    },
    {
     "name": "stdout",
     "output_type": "stream",
     "text": [
      "0.00811\n",
      "0.00811\n",
      "Training Accuracy: 100.0%\n",
      "Testing Accuracy: 15.530744875854024%\n",
      "Top 5 Training Accuracy: 100.0%\n",
      "Top 5 Testing Accuracy: 32.4112647892018%\n",
      "Test to train ratio:  0.95\n",
      "Train Loader: 11\n",
      "Test Loader: 198\n",
      "Network Size: 2048\n",
      "Initialization 1 / 2\n",
      "Complete\n",
      "\n",
      "Initialization 2 / 2\n",
      "Complete\n",
      "\n"
     ]
    },
    {
     "name": "stderr",
     "output_type": "stream",
     "text": [
      "Training:  16%|████████████████▋                                                                                       | 176/1100 [00:00<00:01, 889.60it/s, epoch=8, loss=[0.5881519480185076, 0.6275218020785939]]"
     ]
    },
    {
     "name": "stdout",
     "output_type": "stream",
     "text": [
      "0.005586\n",
      "0.005586\n",
      "0.005586\n",
      "0.005586\n",
      "0.005586\n",
      "0.005586\n",
      "0.005586\n"
     ]
    },
    {
     "name": "stderr",
     "output_type": "stream",
     "text": [
      "Training:  18%|██████████████████▋                                                                                     | 198/1100 [00:00<00:01, 882.40it/s, epoch=9, loss=[0.5787455873055892, 0.6051599166610023]]"
     ]
    },
    {
     "name": "stdout",
     "output_type": "stream",
     "text": [
      "0.005586\n",
      "0.005586\n"
     ]
    },
    {
     "name": "stderr",
     "output_type": "stream",
     "text": [
      "Training:  30%|██████████████████████████████▌                                                                       | 330/1100 [00:00<00:00, 870.95it/s, epoch=15, loss=[0.5409856709566984, 0.48775737123055896]]"
     ]
    },
    {
     "name": "stdout",
     "output_type": "stream",
     "text": [
      "0.007991\n",
      "0.007991\n",
      "0.007991\n",
      "0.007991\n",
      "0.007991\n",
      "0.007991\n"
     ]
    },
    {
     "name": "stderr",
     "output_type": "stream",
     "text": [
      "Training:  34%|███████████████████████████████████▎                                                                    | 374/1100 [00:00<00:00, 860.15it/s, epoch=17, loss=[0.5320224924521013, 0.459436990998008]]"
     ]
    },
    {
     "name": "stdout",
     "output_type": "stream",
     "text": [
      "0.007991\n",
      "0.007991\n"
     ]
    },
    {
     "name": "stderr",
     "output_type": "stream",
     "text": [
      "Training:  46%|██████████████████████████████████████████████▉                                                       | 506/1100 [00:00<00:00, 855.82it/s, epoch=23, loss=[0.5149846889755944, 0.40125468373298645]]"
     ]
    },
    {
     "name": "stdout",
     "output_type": "stream",
     "text": [
      "0.007991\n",
      "0.007991\n",
      "0.007991\n",
      "0.007991\n",
      "0.007991\n",
      "0.007991\n"
     ]
    },
    {
     "name": "stderr",
     "output_type": "stream",
     "text": [
      "Training:  50%|████████████████████████████████████████████████████                                                    | 550/1100 [00:00<00:00, 855.46it/s, epoch=25, loss=[0.510617272420363, 0.3874924237077886]]"
     ]
    },
    {
     "name": "stdout",
     "output_type": "stream",
     "text": [
      "0.007991\n",
      "0.007991\n"
     ]
    },
    {
     "name": "stderr",
     "output_type": "stream",
     "text": [
      "Training:  62%|███████████████████████████████████████████████████████████████▏                                      | 682/1100 [00:00<00:00, 851.01it/s, epoch=31, loss=[0.5027021034197373, 0.35880605470050464]]"
     ]
    },
    {
     "name": "stdout",
     "output_type": "stream",
     "text": [
      "0.007991\n",
      "0.007991\n",
      "0.007991\n",
      "0.007991\n",
      "0.007991\n",
      "0.007991\n"
     ]
    },
    {
     "name": "stderr",
     "output_type": "stream",
     "text": [
      "Training:  66%|███████████████████████████████████████████████████████████████████▉                                   | 726/1100 [00:00<00:00, 850.69it/s, epoch=33, loss=[0.5007183768532494, 0.3515954857522791]]"
     ]
    },
    {
     "name": "stdout",
     "output_type": "stream",
     "text": [
      "0.007991\n",
      "0.007991\n"
     ]
    },
    {
     "name": "stderr",
     "output_type": "stream",
     "text": [
      "Training:  79%|█████████████████████████████████████████████████████████████████████████████████▋                     | 873/1100 [00:01<00:00, 853.14it/s, epoch=39, loss=[0.49524804678830237, 0.333276550878178]]"
     ]
    },
    {
     "name": "stdout",
     "output_type": "stream",
     "text": [
      "0.007991\n",
      "0.007991\n",
      "0.007991\n",
      "0.007991\n",
      "0.007991\n",
      "0.007991\n"
     ]
    },
    {
     "name": "stderr",
     "output_type": "stream",
     "text": [
      "Training:  82%|████████████████████████████████████████████████████████████████████████████████████▍                  | 902/1100 [00:01<00:00, 853.14it/s, epoch=41, loss=[0.4940367503599687, 0.3287517428398132]]"
     ]
    },
    {
     "name": "stdout",
     "output_type": "stream",
     "text": [
      "0.007991\n",
      "0.007991\n"
     ]
    },
    {
     "name": "stderr",
     "output_type": "stream",
     "text": [
      "Training:  92%|████████████████████████████████████████████████████████████████████████████████████████████▉        | 1012/1100 [00:01<00:00, 822.40it/s, epoch=46, loss=[0.49160158905115997, 0.3199829973957755]]"
     ]
    },
    {
     "name": "stdout",
     "output_type": "stream",
     "text": [
      "0.007991\n",
      "0.007991\n",
      "0.007991\n",
      "0.007991\n",
      "0.007991\n"
     ]
    },
    {
     "name": "stderr",
     "output_type": "stream",
     "text": [
      "Training:  96%|████████████████████████████████████████████████████████████████████████████████████████████████▉    | 1056/1100 [00:01<00:00, 784.18it/s, epoch=48, loss=[0.4911320344968275, 0.31772826747460803]]"
     ]
    },
    {
     "name": "stdout",
     "output_type": "stream",
     "text": [
      "0.007991\n",
      "0.007991\n"
     ]
    },
    {
     "name": "stderr",
     "output_type": "stream",
     "text": [
      "Training: 100%|███████████████████████████████████████████████████████████████████████████████████████████████████████| 1100/1100 [00:01<00:00, 834.73it/s, epoch=50, loss=[0.490958267992193, 0.3168412013487382]]\n"
     ]
    },
    {
     "name": "stdout",
     "output_type": "stream",
     "text": [
      "0.007991\n",
      "0.007991\n",
      "Training Accuracy: 100.0%\n",
      "Testing Accuracy: 11.367224502683928%\n",
      "Top 5 Training Accuracy: 100.0%\n",
      "Top 5 Testing Accuracy: 25.607830754657407%\n",
      "Test to train ratio:  0.99\n",
      "Train Loader: 3\n",
      "Test Loader: 207\n",
      "Network Size: 2048\n",
      "Initialization 1 / 2\n",
      "Complete\n",
      "\n",
      "Initialization 2 / 2\n",
      "Complete\n",
      "\n"
     ]
    },
    {
     "name": "stderr",
     "output_type": "stream",
     "text": [
      "Training:  54%|████████████████████████████████████████████████████████▏                                               | 162/300 [00:00<00:00, 828.32it/s, epoch=27, loss=[0.4639719029267629, 0.5020855267842611]]"
     ]
    },
    {
     "name": "stdout",
     "output_type": "stream",
     "text": [
      "0.005409\n",
      "0.005409\n",
      "0.005409\n",
      "0.005409\n",
      "0.005409\n",
      "0.005409\n",
      "0.005409\n",
      "0.005409\n",
      "0.005409\n",
      "0.005409\n",
      "0.005409\n",
      "0.005409\n",
      "0.005409\n",
      "0.005409\n",
      "0.005409\n",
      "0.005409\n",
      "0.005409\n",
      "0.005409\n",
      "0.005409\n",
      "0.005409\n",
      "0.005409\n",
      "0.005409\n",
      "0.005409\n",
      "0.005409\n",
      "0.005409\n",
      "0.005409\n",
      "0.005409\n"
     ]
    },
    {
     "name": "stderr",
     "output_type": "stream",
     "text": [
      "Training:  56%|██████████████████████████████████████████████████████████▏                                             | 168/300 [00:00<00:00, 812.89it/s, epoch=28, loss=[0.4758197863896687, 0.5275979240735372]]"
     ]
    },
    {
     "name": "stdout",
     "output_type": "stream",
     "text": [
      "0.005409\n"
     ]
    },
    {
     "name": "stderr",
     "output_type": "stream",
     "text": [
      "Training: 100%|███████████████████████████████████████████████████████████████████████████████████████████████████████| 300/300 [00:00<00:00, 865.87it/s, epoch=50, loss=[0.4266233046849569, 0.38540170590082806]]\n"
     ]
    },
    {
     "name": "stdout",
     "output_type": "stream",
     "text": [
      "0.005409\n",
      "0.005409\n",
      "0.005409\n",
      "0.005409\n",
      "0.005409\n",
      "0.005409\n",
      "0.005409\n",
      "0.005409\n",
      "0.005409\n",
      "0.005409\n",
      "0.005409\n",
      "0.005409\n",
      "0.005409\n",
      "0.005409\n",
      "0.005409\n",
      "0.005409\n",
      "0.005409\n",
      "0.005409\n",
      "0.005409\n",
      "0.005409\n",
      "0.005409\n",
      "0.005409\n",
      "Training Accuracy: 100.0%\n",
      "Testing Accuracy: 5.211331616421754%\n",
      "Top 5 Training Accuracy: 100.0%\n",
      "Top 5 Testing Accuracy: 14.588698682017876%\n"
     ]
    }
   ],
   "source": [
    "num_runs = 1\n",
    "\n",
    "for run_id in [2, 3, 4]:\n",
    "    for i in range(len(datas_name)):\n",
    "        data = datas[i]\n",
    "        label = labels[i]\n",
    "        print(f\"Dataset: {datas_name[i]}\")\n",
    "        ratios = [0.1, 0.2, 0.3, 0.4, 0.5, 0.6, 0.7, 0.8, 0.9, 0.95, 0.99]\n",
    "        # ratios = [0.99, 0.1]\n",
    "    \n",
    "        initial = None\n",
    "        accuracy_train_list_1, accuracy_train_list_k = [], []\n",
    "        accuracy_test_list_1, accuracy_test_list_k = [], []\n",
    "    \n",
    "        num_classes = len(np.unique(label))\n",
    "        mem_list = []\n",
    "        for r in ratios:\n",
    "            print(\"Test to train ratio: \", r)\n",
    "            test_size = r\n",
    "            batch_size = 32    \n",
    "    \n",
    "            train_data, test_data, train_labels, test_labels = train_test_split(\n",
    "                                                                                    data, \n",
    "                                                                                    label, \n",
    "                                                                                    test_size = test_size, \n",
    "                                                                                    random_state = 100\n",
    "                                                                                )\n",
    "    \n",
    "            train_loader = DataLoader(list(zip(train_data, train_labels)), \n",
    "                                        batch_size = batch_size, shuffle = True, \n",
    "                                        collate_fn = lambda x: tuple(x_.to(device) for x_ in default_collate(x)))\n",
    "    \n",
    "            test_loader = DataLoader(list(zip(test_data, test_labels)), \n",
    "                                        batch_size = batch_size, shuffle = True, \n",
    "                                        collate_fn = lambda x: tuple(x_.to(device) for x_ in default_collate(x)))\n",
    "    \n",
    "            print(f\"Train Loader: {len(train_loader)}\")\n",
    "            print(f\"Test Loader: {len(test_loader)}\")\n",
    "            \n",
    "            print(f\"Network Size: {data.shape[1]}\")\n",
    "            dims_list = [data.shape[1], 1024, 1024]\n",
    "            if num_classes < 50:\n",
    "                dims_list = [data.shape[1], 512, 64]\n",
    "            bias = True\n",
    "            epochs = [50, 50]\n",
    "            lr = 1.0e-3\n",
    "            symmetric_points_list = generate_symm_points(dims_list[1 : ], num_classes)\n",
    "    \n",
    "            net = Net(dims_list, bias, epochs, lr, device, symmetric_points_list).to(device)\n",
    "            \n",
    "            layer_losses = net.train(train_loader)\n",
    "            mem_list.append(net.mem)\n",
    "    \n",
    "            accuracy_train_1 = net.test(train_loader, top_k = 1)\n",
    "            print(f\"Training Accuracy: {accuracy_train_1 * 100}%\")\n",
    "            accuracy_train_list_1.append(accuracy_train_1)\n",
    "            \n",
    "            accuracy_test_1 = net.test(test_loader, top_k = 1)\n",
    "            print(f\"Testing Accuracy: {accuracy_test_1 * 100}%\")\n",
    "            accuracy_test_list_1.append(accuracy_test_1)\n",
    "    \n",
    "            accuracy_train_k = net.test(train_loader, top_k = 5)\n",
    "            print(f\"Top 5 Training Accuracy: {accuracy_train_k * 100}%\")\n",
    "            accuracy_train_list_k.append(accuracy_train_k)\n",
    "            \n",
    "            accuracy_test_k = net.test(test_loader, top_k = 5)\n",
    "            print(f\"Top 5 Testing Accuracy: {accuracy_test_k * 100}%\")\n",
    "            accuracy_test_list_k.append(accuracy_test_k)\n",
    "            # plot_losses(layer_losses)\n",
    "            \n",
    "        # write the losses and accuracies to a file\n",
    "        file_name = f\"./../Results/TL/New/{datas_name[i] + '_' + str(run_id)}\" + remove  + \"_Openloop.txt\"\n",
    "        with open(file_name, 'w') as f:\n",
    "            # write the training and testing accuracies\n",
    "            f.write(\"Top 1: Training Accuracies\\n\")\n",
    "            for acc in accuracy_train_list_1:\n",
    "                f.write(f\"{acc}\\n\")\n",
    "            f.write(\"Top 1: Testing Accuracies\\n\")\n",
    "            for acc in accuracy_test_list_1:\n",
    "                f.write(f\"{acc}\\n\")\n",
    "            \n",
    "            f.write(\"\\nTop 5: Training Accuracies\\n\")\n",
    "            for acc in accuracy_train_list_k:\n",
    "                f.write(f\"{acc}\\n\")\n",
    "            f.write(\"Top 5: Testing Accuracies\\n\")\n",
    "            for acc in accuracy_test_list_k:\n",
    "                f.write(f\"{acc}\\n\")\n",
    "            \n",
    "            # write the losses\n",
    "            f.write(\"\\nLayer Losses\\n\")\n",
    "            for losses in layer_losses:\n",
    "                for loss in losses:\n",
    "                    f.write(f\"{loss}\\n\")\n",
    "                f.write(\"\\n\")\n",
    "    \n",
    "            # write the model summary\n",
    "            f.write(\"Model Summary\\n\")\n",
    "            f.write(str(net))\n",
    "            f.write(\"\\n\")\n",
    "            \n",
    "            # write the model parameters\n",
    "            f.write(\"Model Parameters\\n\")\n",
    "            f.write(f\"Dimensions List: {dims_list}\\n\")\n",
    "            f.write(f\"Bias: {bias}\\n\")\n",
    "            f.write(f\"Epochs: {epochs}\\n\")\n",
    "            f.write(f\"Learning Rate: {lr}\\n\")\n",
    "            f.write(f\"Device: {device}\\n\")\n",
    "            f.write(\"\\n\")\n",
    "\n",
    "            #     # write the memory usage\n",
    "        #     f.write(\"\\nMemory Usage\\n\")\n",
    "        #     for i, mem in enumerate(mem_list):\n",
    "        #         f.write(f\"Ratio: {ratios[i]}\\n\")\n",
    "        #         f.write(f\"{mem} MB\\n\")"
   ]
  }
 ],
 "metadata": {
  "kernelspec": {
   "display_name": "Python 3 (ipykernel)",
   "language": "python",
   "name": "python3"
  },
  "language_info": {
   "codemirror_mode": {
    "name": "ipython",
    "version": 3
   },
   "file_extension": ".py",
   "mimetype": "text/x-python",
   "name": "python",
   "nbconvert_exporter": "python",
   "pygments_lexer": "ipython3",
   "version": "3.10.13"
  }
 },
 "nbformat": 4,
 "nbformat_minor": 4
}
